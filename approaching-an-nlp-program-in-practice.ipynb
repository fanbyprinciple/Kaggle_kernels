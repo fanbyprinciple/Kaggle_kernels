{
 "cells": [
  {
   "cell_type": "code",
   "execution_count": 1,
   "id": "65cb99b6",
   "metadata": {
    "_cell_guid": "b1076dfc-b9ad-4769-8c92-a6c4dae69d19",
    "_uuid": "8f2839f25d086af736a60e9eeb907d3b93b6e0e5",
    "execution": {
     "iopub.execute_input": "2022-01-12T13:02:18.482397Z",
     "iopub.status.busy": "2022-01-12T13:02:18.480562Z",
     "iopub.status.idle": "2022-01-12T13:02:20.328442Z",
     "shell.execute_reply": "2022-01-12T13:02:20.327732Z",
     "shell.execute_reply.started": "2022-01-12T12:30:27.640339Z"
    },
    "papermill": {
     "duration": 1.879281,
     "end_time": "2022-01-12T13:02:20.328614",
     "exception": false,
     "start_time": "2022-01-12T13:02:18.449333",
     "status": "completed"
    },
    "tags": []
   },
   "outputs": [],
   "source": [
    "import pandas as pd\n",
    "import numpy as np\n",
    "import xgboost as xgb\n",
    "from tqdm import tqdm\n",
    "from sklearn.svm import SVC\n",
    "# from keras.models import Sequential\n",
    "# from keras.layers.recurrent import LSTM, GRU\n",
    "# from keras.layers.core import Dense, Activation, Dropout\n",
    "# from keras.layers.embeddings import Embedding\n",
    "# from keras.layers.normalization import BatchNormalization\n",
    "# from keras.utils import np_utils\n",
    "from sklearn import preprocessing, decomposition, model_selection, metrics, pipeline\n",
    "from sklearn.model_selection import GridSearchCV\n",
    "from sklearn.feature_extraction.text import TfidfVectorizer, CountVectorizer\n",
    "from sklearn.decomposition import TruncatedSVD\n",
    "from sklearn.linear_model import LogisticRegression\n",
    "from sklearn.model_selection import train_test_split\n",
    "from sklearn.naive_bayes import MultinomialNB\n",
    "# from keras.layers import GlobalMaxPooling1D, Conv1D, MaxPooling1D, Flatten, Bidirectional, SpatialDropout1D\n",
    "# from keras.preprocessing import sequence, text\n",
    "# from keras.callbacks import EarlyStopping\n",
    "from nltk import word_tokenize\n",
    "from nltk.corpus import stopwords\n",
    "stop_words = stopwords.words('english')"
   ]
  },
  {
   "cell_type": "markdown",
   "id": "8a2a392a",
   "metadata": {
    "papermill": {
     "duration": 0.025102,
     "end_time": "2022-01-12T13:02:20.381384",
     "exception": false,
     "start_time": "2022-01-12T13:02:20.356282",
     "status": "completed"
    },
    "tags": []
   },
   "source": [
    "# Approaching an NLP program - in practice.\n",
    "\n",
    "**WARNING: some of the cells take along time to run so look at their time before starting the execution!\n",
    "**\n",
    "\n",
    "![](https://i.ytimg.com/vi/-BnqU5K9t5M/maxresdefault.jpg)\n",
    "\n",
    "In this I am using guidance from this detailed notebook : https://www.kaggle.com/abhishek/approaching-almost-any-nlp-problem-on-kaggle/data. This notebook is hugely popular but I want to apply it on a custom dataset.\n",
    "\n",
    "## Dataset source\n",
    "\n",
    "We will be trying from https://www.kaggle.com/clmentbisaillon/fake-and-real-news-dataset. I converted the dataset given into what we need using this notebook: https://www.kaggle.com/fanbyprinciple/fake-and-real-dataset.\n"
   ]
  },
  {
   "cell_type": "code",
   "execution_count": 2,
   "id": "14b46c19",
   "metadata": {
    "execution": {
     "iopub.execute_input": "2022-01-12T13:02:20.437926Z",
     "iopub.status.busy": "2022-01-12T13:02:20.437113Z",
     "iopub.status.idle": "2022-01-12T13:02:22.998675Z",
     "shell.execute_reply": "2022-01-12T13:02:22.999172Z",
     "shell.execute_reply.started": "2022-01-12T12:30:27.653680Z"
    },
    "papermill": {
     "duration": 2.592663,
     "end_time": "2022-01-12T13:02:22.999384",
     "exception": false,
     "start_time": "2022-01-12T13:02:20.406721",
     "status": "completed"
    },
    "tags": []
   },
   "outputs": [],
   "source": [
    "train = pd.read_csv('../input/simplified-fake-news-dataset/test.csv')\n",
    "test = pd.read_csv('../input/simplified-fake-news-dataset/train.csv')"
   ]
  },
  {
   "cell_type": "code",
   "execution_count": 3,
   "id": "3b6bf301",
   "metadata": {
    "execution": {
     "iopub.execute_input": "2022-01-12T13:02:23.054333Z",
     "iopub.status.busy": "2022-01-12T13:02:23.053627Z",
     "iopub.status.idle": "2022-01-12T13:02:23.075469Z",
     "shell.execute_reply": "2022-01-12T13:02:23.075974Z",
     "shell.execute_reply.started": "2022-01-12T12:30:29.212866Z"
    },
    "papermill": {
     "duration": 0.050655,
     "end_time": "2022-01-12T13:02:23.076139",
     "exception": false,
     "start_time": "2022-01-12T13:02:23.025484",
     "status": "completed"
    },
    "tags": []
   },
   "outputs": [
    {
     "data": {
      "text/html": [
       "<div>\n",
       "<style scoped>\n",
       "    .dataframe tbody tr th:only-of-type {\n",
       "        vertical-align: middle;\n",
       "    }\n",
       "\n",
       "    .dataframe tbody tr th {\n",
       "        vertical-align: top;\n",
       "    }\n",
       "\n",
       "    .dataframe thead th {\n",
       "        text-align: right;\n",
       "    }\n",
       "</style>\n",
       "<table border=\"1\" class=\"dataframe\">\n",
       "  <thead>\n",
       "    <tr style=\"text-align: right;\">\n",
       "      <th></th>\n",
       "      <th>Unnamed: 0</th>\n",
       "      <th>title</th>\n",
       "      <th>text</th>\n",
       "      <th>subject</th>\n",
       "      <th>date</th>\n",
       "      <th>fake</th>\n",
       "    </tr>\n",
       "  </thead>\n",
       "  <tbody>\n",
       "    <tr>\n",
       "      <th>0</th>\n",
       "      <td>12</td>\n",
       "      <td>Bad News For Trump — Mitch McConnell Says No ...</td>\n",
       "      <td>Republicans have had seven years to come up wi...</td>\n",
       "      <td>News</td>\n",
       "      <td>December 21, 2017</td>\n",
       "      <td>1</td>\n",
       "    </tr>\n",
       "    <tr>\n",
       "      <th>1</th>\n",
       "      <td>17</td>\n",
       "      <td>Mueller Spokesman Just F-cked Up Donald Trump...</td>\n",
       "      <td>Trump supporters and the so-called president s...</td>\n",
       "      <td>News</td>\n",
       "      <td>December 17, 2017</td>\n",
       "      <td>1</td>\n",
       "    </tr>\n",
       "    <tr>\n",
       "      <th>2</th>\n",
       "      <td>18</td>\n",
       "      <td>SNL Hilariously Mocks Accused Child Molester ...</td>\n",
       "      <td>Right now, the whole world is looking at the s...</td>\n",
       "      <td>News</td>\n",
       "      <td>December 17, 2017</td>\n",
       "      <td>1</td>\n",
       "    </tr>\n",
       "    <tr>\n",
       "      <th>3</th>\n",
       "      <td>21</td>\n",
       "      <td>KY GOP State Rep. Commits Suicide Over Allega...</td>\n",
       "      <td>In this #METOO moment, many powerful men are b...</td>\n",
       "      <td>News</td>\n",
       "      <td>December 13, 2017</td>\n",
       "      <td>1</td>\n",
       "    </tr>\n",
       "    <tr>\n",
       "      <th>4</th>\n",
       "      <td>24</td>\n",
       "      <td>White House: It Wasn’t Sexist For Trump To Sl...</td>\n",
       "      <td>A backlash ensued after Donald Trump launched ...</td>\n",
       "      <td>News</td>\n",
       "      <td>December 12, 2017</td>\n",
       "      <td>1</td>\n",
       "    </tr>\n",
       "  </tbody>\n",
       "</table>\n",
       "</div>"
      ],
      "text/plain": [
       "   Unnamed: 0                                              title  \\\n",
       "0          12   Bad News For Trump — Mitch McConnell Says No ...   \n",
       "1          17   Mueller Spokesman Just F-cked Up Donald Trump...   \n",
       "2          18   SNL Hilariously Mocks Accused Child Molester ...   \n",
       "3          21   KY GOP State Rep. Commits Suicide Over Allega...   \n",
       "4          24   White House: It Wasn’t Sexist For Trump To Sl...   \n",
       "\n",
       "                                                text subject  \\\n",
       "0  Republicans have had seven years to come up wi...    News   \n",
       "1  Trump supporters and the so-called president s...    News   \n",
       "2  Right now, the whole world is looking at the s...    News   \n",
       "3  In this #METOO moment, many powerful men are b...    News   \n",
       "4  A backlash ensued after Donald Trump launched ...    News   \n",
       "\n",
       "                date  fake  \n",
       "0  December 21, 2017     1  \n",
       "1  December 17, 2017     1  \n",
       "2  December 17, 2017     1  \n",
       "3  December 13, 2017     1  \n",
       "4  December 12, 2017     1  "
      ]
     },
     "execution_count": 3,
     "metadata": {},
     "output_type": "execute_result"
    }
   ],
   "source": [
    "train.head()"
   ]
  },
  {
   "cell_type": "markdown",
   "id": "e1fedc6b",
   "metadata": {
    "papermill": {
     "duration": 0.025514,
     "end_time": "2022-01-12T13:02:23.127929",
     "exception": false,
     "start_time": "2022-01-12T13:02:23.102415",
     "status": "completed"
    },
    "tags": []
   },
   "source": [
    "### Removing the label\n",
    "\n",
    "In test data we already have the label. So we need to remove it."
   ]
  },
  {
   "cell_type": "code",
   "execution_count": 4,
   "id": "fde89867",
   "metadata": {
    "execution": {
     "iopub.execute_input": "2022-01-12T13:02:23.192095Z",
     "iopub.status.busy": "2022-01-12T13:02:23.191383Z",
     "iopub.status.idle": "2022-01-12T13:02:23.194726Z",
     "shell.execute_reply": "2022-01-12T13:02:23.194208Z",
     "shell.execute_reply.started": "2022-01-12T12:30:29.229850Z"
    },
    "papermill": {
     "duration": 0.040783,
     "end_time": "2022-01-12T13:02:23.194869",
     "exception": false,
     "start_time": "2022-01-12T13:02:23.154086",
     "status": "completed"
    },
    "tags": []
   },
   "outputs": [],
   "source": [
    "test = test.iloc[:, :-1]"
   ]
  },
  {
   "cell_type": "code",
   "execution_count": 5,
   "id": "53ca6de7",
   "metadata": {
    "execution": {
     "iopub.execute_input": "2022-01-12T13:02:23.259233Z",
     "iopub.status.busy": "2022-01-12T13:02:23.258510Z",
     "iopub.status.idle": "2022-01-12T13:02:23.261229Z",
     "shell.execute_reply": "2022-01-12T13:02:23.261750Z",
     "shell.execute_reply.started": "2022-01-12T12:30:29.242812Z"
    },
    "papermill": {
     "duration": 0.040962,
     "end_time": "2022-01-12T13:02:23.261932",
     "exception": false,
     "start_time": "2022-01-12T13:02:23.220970",
     "status": "completed"
    },
    "tags": []
   },
   "outputs": [
    {
     "data": {
      "text/html": [
       "<div>\n",
       "<style scoped>\n",
       "    .dataframe tbody tr th:only-of-type {\n",
       "        vertical-align: middle;\n",
       "    }\n",
       "\n",
       "    .dataframe tbody tr th {\n",
       "        vertical-align: top;\n",
       "    }\n",
       "\n",
       "    .dataframe thead th {\n",
       "        text-align: right;\n",
       "    }\n",
       "</style>\n",
       "<table border=\"1\" class=\"dataframe\">\n",
       "  <thead>\n",
       "    <tr style=\"text-align: right;\">\n",
       "      <th></th>\n",
       "      <th>Unnamed: 0</th>\n",
       "      <th>title</th>\n",
       "      <th>text</th>\n",
       "      <th>subject</th>\n",
       "      <th>date</th>\n",
       "    </tr>\n",
       "  </thead>\n",
       "  <tbody>\n",
       "    <tr>\n",
       "      <th>0</th>\n",
       "      <td>0</td>\n",
       "      <td>Donald Trump Sends Out Embarrassing New Year’...</td>\n",
       "      <td>Donald Trump just couldn t wish all Americans ...</td>\n",
       "      <td>News</td>\n",
       "      <td>December 31, 2017</td>\n",
       "    </tr>\n",
       "    <tr>\n",
       "      <th>1</th>\n",
       "      <td>1</td>\n",
       "      <td>Drunk Bragging Trump Staffer Started Russian ...</td>\n",
       "      <td>House Intelligence Committee Chairman Devin Nu...</td>\n",
       "      <td>News</td>\n",
       "      <td>December 31, 2017</td>\n",
       "    </tr>\n",
       "    <tr>\n",
       "      <th>2</th>\n",
       "      <td>2</td>\n",
       "      <td>Sheriff David Clarke Becomes An Internet Joke...</td>\n",
       "      <td>On Friday, it was revealed that former Milwauk...</td>\n",
       "      <td>News</td>\n",
       "      <td>December 30, 2017</td>\n",
       "    </tr>\n",
       "    <tr>\n",
       "      <th>3</th>\n",
       "      <td>3</td>\n",
       "      <td>Trump Is So Obsessed He Even Has Obama’s Name...</td>\n",
       "      <td>On Christmas day, Donald Trump announced that ...</td>\n",
       "      <td>News</td>\n",
       "      <td>December 29, 2017</td>\n",
       "    </tr>\n",
       "    <tr>\n",
       "      <th>4</th>\n",
       "      <td>4</td>\n",
       "      <td>Pope Francis Just Called Out Donald Trump Dur...</td>\n",
       "      <td>Pope Francis used his annual Christmas Day mes...</td>\n",
       "      <td>News</td>\n",
       "      <td>December 25, 2017</td>\n",
       "    </tr>\n",
       "  </tbody>\n",
       "</table>\n",
       "</div>"
      ],
      "text/plain": [
       "   Unnamed: 0                                              title  \\\n",
       "0           0   Donald Trump Sends Out Embarrassing New Year’...   \n",
       "1           1   Drunk Bragging Trump Staffer Started Russian ...   \n",
       "2           2   Sheriff David Clarke Becomes An Internet Joke...   \n",
       "3           3   Trump Is So Obsessed He Even Has Obama’s Name...   \n",
       "4           4   Pope Francis Just Called Out Donald Trump Dur...   \n",
       "\n",
       "                                                text subject  \\\n",
       "0  Donald Trump just couldn t wish all Americans ...    News   \n",
       "1  House Intelligence Committee Chairman Devin Nu...    News   \n",
       "2  On Friday, it was revealed that former Milwauk...    News   \n",
       "3  On Christmas day, Donald Trump announced that ...    News   \n",
       "4  Pope Francis used his annual Christmas Day mes...    News   \n",
       "\n",
       "                date  \n",
       "0  December 31, 2017  \n",
       "1  December 31, 2017  \n",
       "2  December 30, 2017  \n",
       "3  December 29, 2017  \n",
       "4  December 25, 2017  "
      ]
     },
     "execution_count": 5,
     "metadata": {},
     "output_type": "execute_result"
    }
   ],
   "source": [
    "test.head()"
   ]
  },
  {
   "cell_type": "markdown",
   "id": "37c15d0a",
   "metadata": {
    "papermill": {
     "duration": 0.027287,
     "end_time": "2022-01-12T13:02:23.318267",
     "exception": false,
     "start_time": "2022-01-12T13:02:23.290980",
     "status": "completed"
    },
    "tags": []
   },
   "source": [
    "### Parameter for judgement\n",
    "Lots of time in competettions kaggle implements a metric for judging the results. Think of multiclass logloss as a metric."
   ]
  },
  {
   "cell_type": "code",
   "execution_count": 6,
   "id": "9d0a5477",
   "metadata": {
    "execution": {
     "iopub.execute_input": "2022-01-12T13:02:23.381000Z",
     "iopub.status.busy": "2022-01-12T13:02:23.380219Z",
     "iopub.status.idle": "2022-01-12T13:02:23.382955Z",
     "shell.execute_reply": "2022-01-12T13:02:23.383465Z",
     "shell.execute_reply.started": "2022-01-12T12:30:29.258449Z"
    },
    "papermill": {
     "duration": 0.038843,
     "end_time": "2022-01-12T13:02:23.383664",
     "exception": false,
     "start_time": "2022-01-12T13:02:23.344821",
     "status": "completed"
    },
    "tags": []
   },
   "outputs": [],
   "source": [
    "def multiclass_logloss(actual, predicted, eps=1e-15):\n",
    "    \"\"\"Multi class version of Logarithmic Loss metric.\n",
    "    :param actual: Array containing the actual target classes\n",
    "    :param predicted: Matrix with class predictions, one probability per class\n",
    "    \"\"\"\n",
    "    # Convert 'actual' to a binary array if it's not already:\n",
    "    if len(actual.shape) == 1:\n",
    "        actual2 = np.zeros((actual.shape[0], predicted.shape[1]))\n",
    "        for i, val in enumerate(actual):\n",
    "            actual2[i, val] = 1\n",
    "        actual = actual2\n",
    "\n",
    "    clip = np.clip(predicted, eps, 1 - eps)\n",
    "    rows = actual.shape[0]\n",
    "    vsota = np.sum(actual * np.log(clip))\n",
    "    return -1.0 / rows * vsota"
   ]
  },
  {
   "cell_type": "markdown",
   "id": "0d64fdb7",
   "metadata": {
    "papermill": {
     "duration": 0.026573,
     "end_time": "2022-01-12T13:02:23.437182",
     "exception": false,
     "start_time": "2022-01-12T13:02:23.410609",
     "status": "completed"
    },
    "tags": []
   },
   "source": [
    "## Encoding labels\n",
    "\n",
    "We use the LabelEncoder from scikit-learn to convert text labels to integers, 0, 1 2. In this case its only 0 or 1. But this is an important step."
   ]
  },
  {
   "cell_type": "code",
   "execution_count": 7,
   "id": "e87ebca4",
   "metadata": {
    "execution": {
     "iopub.execute_input": "2022-01-12T13:02:23.498799Z",
     "iopub.status.busy": "2022-01-12T13:02:23.498052Z",
     "iopub.status.idle": "2022-01-12T13:02:23.503726Z",
     "shell.execute_reply": "2022-01-12T13:02:23.504292Z",
     "shell.execute_reply.started": "2022-01-12T12:30:29.270756Z"
    },
    "papermill": {
     "duration": 0.040991,
     "end_time": "2022-01-12T13:02:23.504508",
     "exception": false,
     "start_time": "2022-01-12T13:02:23.463517",
     "status": "completed"
    },
    "tags": []
   },
   "outputs": [
    {
     "data": {
      "text/plain": [
       "array([1, 1, 1, ..., 0, 0, 0])"
      ]
     },
     "execution_count": 7,
     "metadata": {},
     "output_type": "execute_result"
    }
   ],
   "source": [
    "lbl_enc = preprocessing.LabelEncoder()\n",
    "y = lbl_enc.fit_transform(train.fake.values)\n",
    "\n",
    "y"
   ]
  },
  {
   "cell_type": "markdown",
   "id": "bcaa5ed9",
   "metadata": {
    "papermill": {
     "duration": 0.026286,
     "end_time": "2022-01-12T13:02:23.557752",
     "exception": false,
     "start_time": "2022-01-12T13:02:23.531466",
     "status": "completed"
    },
    "tags": []
   },
   "source": [
    "### train_test_split\n",
    "splitting into train, test and validation sets."
   ]
  },
  {
   "cell_type": "code",
   "execution_count": 8,
   "id": "883a429b",
   "metadata": {
    "execution": {
     "iopub.execute_input": "2022-01-12T13:02:23.615458Z",
     "iopub.status.busy": "2022-01-12T13:02:23.614630Z",
     "iopub.status.idle": "2022-01-12T13:02:23.633000Z",
     "shell.execute_reply": "2022-01-12T13:02:23.632394Z",
     "shell.execute_reply.started": "2022-01-12T12:30:29.285406Z"
    },
    "papermill": {
     "duration": 0.048455,
     "end_time": "2022-01-12T13:02:23.633139",
     "exception": false,
     "start_time": "2022-01-12T13:02:23.584684",
     "status": "completed"
    },
    "tags": []
   },
   "outputs": [],
   "source": [
    "xtrain, xvalid, ytrain, yvalid = train_test_split(train.text.values, y, \n",
    "                                                  stratify=y, \n",
    "                                                  random_state=42, \n",
    "                                                  test_size=0.1, shuffle=True)"
   ]
  },
  {
   "cell_type": "code",
   "execution_count": 9,
   "id": "abba2957",
   "metadata": {
    "execution": {
     "iopub.execute_input": "2022-01-12T13:02:23.693265Z",
     "iopub.status.busy": "2022-01-12T13:02:23.692609Z",
     "iopub.status.idle": "2022-01-12T13:02:23.695817Z",
     "shell.execute_reply": "2022-01-12T13:02:23.696814Z",
     "shell.execute_reply.started": "2022-01-12T12:30:29.324868Z"
    },
    "papermill": {
     "duration": 0.036991,
     "end_time": "2022-01-12T13:02:23.697149",
     "exception": false,
     "start_time": "2022-01-12T13:02:23.660158",
     "status": "completed"
    },
    "tags": []
   },
   "outputs": [
    {
     "name": "stdout",
     "output_type": "stream",
     "text": [
      "(9758,)\n",
      "(1085,)\n"
     ]
    }
   ],
   "source": [
    "print (xtrain.shape)\n",
    "print (xvalid.shape)"
   ]
  },
  {
   "cell_type": "markdown",
   "id": "970c22e9",
   "metadata": {
    "papermill": {
     "duration": 0.02804,
     "end_time": "2022-01-12T13:02:23.753331",
     "exception": false,
     "start_time": "2022-01-12T13:02:23.725291",
     "status": "completed"
    },
    "tags": []
   },
   "source": [
    "## Building Basic Models\n",
    "Let's start building our very first model.\n",
    "\n",
    "Our very first model is a simple TF-IDF (Term Frequency - Inverse Document Frequency) followed by a simple Logistic Regression."
   ]
  },
  {
   "cell_type": "code",
   "execution_count": 10,
   "id": "91fd6417",
   "metadata": {
    "execution": {
     "iopub.execute_input": "2022-01-12T13:02:23.816132Z",
     "iopub.status.busy": "2022-01-12T13:02:23.809900Z",
     "iopub.status.idle": "2022-01-12T13:02:55.263464Z",
     "shell.execute_reply": "2022-01-12T13:02:55.262886Z",
     "shell.execute_reply.started": "2022-01-12T12:30:29.333074Z"
    },
    "papermill": {
     "duration": 31.483269,
     "end_time": "2022-01-12T13:02:55.263613",
     "exception": false,
     "start_time": "2022-01-12T13:02:23.780344",
     "status": "completed"
    },
    "tags": []
   },
   "outputs": [
    {
     "name": "stdout",
     "output_type": "stream",
     "text": [
      "CPU times: user 3 µs, sys: 0 ns, total: 3 µs\n",
      "Wall time: 7.39 µs\n"
     ]
    }
   ],
   "source": [
    "%time\n",
    "# Always start with these features. They work (almost) everytime!\n",
    "tfv = TfidfVectorizer(min_df=3,  max_features=None, \n",
    "            strip_accents='unicode', analyzer='word',token_pattern=r'\\w{1,}',\n",
    "            ngram_range=(1, 3), use_idf=1,smooth_idf=1,sublinear_tf=1,\n",
    "            stop_words = 'english')\n",
    "\n",
    "# Fitting TF-IDF to both training and test sets (semi-supervised learning)\n",
    "tfv.fit(list(xtrain) + list(xvalid))\n",
    "xtrain_tfv =  tfv.transform(xtrain) \n",
    "xvalid_tfv = tfv.transform(xvalid)"
   ]
  },
  {
   "cell_type": "code",
   "execution_count": 11,
   "id": "b2479c47",
   "metadata": {
    "execution": {
     "iopub.execute_input": "2022-01-12T13:02:55.322769Z",
     "iopub.status.busy": "2022-01-12T13:02:55.322080Z",
     "iopub.status.idle": "2022-01-12T13:02:55.326850Z",
     "shell.execute_reply": "2022-01-12T13:02:55.327468Z",
     "shell.execute_reply.started": "2022-01-12T12:31:01.850930Z"
    },
    "papermill": {
     "duration": 0.036607,
     "end_time": "2022-01-12T13:02:55.327641",
     "exception": false,
     "start_time": "2022-01-12T13:02:55.291034",
     "status": "completed"
    },
    "tags": []
   },
   "outputs": [
    {
     "data": {
      "text/plain": [
       "<9758x193710 sparse matrix of type '<class 'numpy.float64'>'\n",
       "\twith 2555186 stored elements in Compressed Sparse Row format>"
      ]
     },
     "execution_count": 11,
     "metadata": {},
     "output_type": "execute_result"
    }
   ],
   "source": [
    "xtrain_tfv"
   ]
  },
  {
   "cell_type": "code",
   "execution_count": 12,
   "id": "a45d0746",
   "metadata": {
    "execution": {
     "iopub.execute_input": "2022-01-12T13:02:55.386321Z",
     "iopub.status.busy": "2022-01-12T13:02:55.385700Z",
     "iopub.status.idle": "2022-01-12T13:02:58.955057Z",
     "shell.execute_reply": "2022-01-12T13:02:58.956121Z",
     "shell.execute_reply.started": "2022-01-12T12:31:01.860950Z"
    },
    "papermill": {
     "duration": 3.601145,
     "end_time": "2022-01-12T13:02:58.956430",
     "exception": false,
     "start_time": "2022-01-12T13:02:55.355285",
     "status": "completed"
    },
    "tags": []
   },
   "outputs": [
    {
     "name": "stdout",
     "output_type": "stream",
     "text": [
      "CPU times: user 4 µs, sys: 0 ns, total: 4 µs\n",
      "Wall time: 7.87 µs\n",
      "logloss: 0.163 \n"
     ]
    }
   ],
   "source": [
    "%time\n",
    "\n",
    "# Fitting a simple Logistic Regression on TFIDF\n",
    "clf = LogisticRegression(C=1.0)\n",
    "clf.fit(xtrain_tfv, ytrain)\n",
    "predictions = clf.predict_proba(xvalid_tfv)\n",
    "\n",
    "print (\"logloss: %0.3f \" % multiclass_logloss(yvalid, predictions))"
   ]
  },
  {
   "cell_type": "markdown",
   "id": "9773b13e",
   "metadata": {
    "papermill": {
     "duration": 0.044037,
     "end_time": "2022-01-12T13:02:59.053553",
     "exception": false,
     "start_time": "2022-01-12T13:02:59.009516",
     "status": "completed"
    },
    "tags": []
   },
   "source": [
    "using \n",
    "\n",
    "### count vectoriser next.\n",
    "\n",
    "CountVectorizer is a great tool provided by the scikit-learn library in Python. It is used to transform a given text into a vector on the basis of the frequency (count) of each word that occurs in the entire text."
   ]
  },
  {
   "cell_type": "code",
   "execution_count": 13,
   "id": "d992f1c3",
   "metadata": {
    "execution": {
     "iopub.execute_input": "2022-01-12T13:02:59.117864Z",
     "iopub.status.busy": "2022-01-12T13:02:59.117131Z",
     "iopub.status.idle": "2022-01-12T13:03:49.943555Z",
     "shell.execute_reply": "2022-01-12T13:03:49.942966Z",
     "shell.execute_reply.started": "2022-01-12T12:31:05.145171Z"
    },
    "papermill": {
     "duration": 50.861959,
     "end_time": "2022-01-12T13:03:49.943716",
     "exception": false,
     "start_time": "2022-01-12T13:02:59.081757",
     "status": "completed"
    },
    "tags": []
   },
   "outputs": [
    {
     "name": "stdout",
     "output_type": "stream",
     "text": [
      "CPU times: user 4 µs, sys: 1e+03 ns, total: 5 µs\n",
      "Wall time: 7.15 µs\n"
     ]
    }
   ],
   "source": [
    "%time\n",
    "ctv = CountVectorizer(analyzer='word',token_pattern=r'\\w{1,}',\n",
    "            ngram_range=(1, 3), stop_words = 'english')\n",
    "\n",
    "# Fitting Count Vectorizer to both training and test sets (semi-supervised learning)\n",
    "ctv.fit(list(xtrain) + list(xvalid))\n",
    "xtrain_ctv =  ctv.transform(xtrain) \n",
    "xvalid_ctv = ctv.transform(xvalid)"
   ]
  },
  {
   "cell_type": "code",
   "execution_count": 14,
   "id": "6d02c9e8",
   "metadata": {
    "execution": {
     "iopub.execute_input": "2022-01-12T13:03:50.012430Z",
     "iopub.status.busy": "2022-01-12T13:03:50.011679Z",
     "iopub.status.idle": "2022-01-12T13:05:19.730759Z",
     "shell.execute_reply": "2022-01-12T13:05:19.731620Z",
     "shell.execute_reply.started": "2022-01-12T12:31:54.955713Z"
    },
    "papermill": {
     "duration": 89.758528,
     "end_time": "2022-01-12T13:05:19.731925",
     "exception": false,
     "start_time": "2022-01-12T13:03:49.973397",
     "status": "completed"
    },
    "tags": []
   },
   "outputs": [
    {
     "name": "stdout",
     "output_type": "stream",
     "text": [
      "CPU times: user 3 µs, sys: 1 µs, total: 4 µs\n",
      "Wall time: 7.15 µs\n",
      "logloss: 0.056 \n"
     ]
    }
   ],
   "source": [
    "%time\n",
    "# Fitting a simple Logistic Regression on Counts\n",
    "clf = LogisticRegression(C=1.0)\n",
    "clf.fit(xtrain_ctv, ytrain)\n",
    "predictions = clf.predict_proba(xvalid_ctv)\n",
    "\n",
    "print (\"logloss: %0.3f \" % multiclass_logloss(yvalid, predictions))"
   ]
  },
  {
   "cell_type": "markdown",
   "id": "4e7d4be1",
   "metadata": {
    "papermill": {
     "duration": 0.029429,
     "end_time": "2022-01-12T13:05:19.792001",
     "exception": false,
     "start_time": "2022-01-12T13:05:19.762572",
     "status": "completed"
    },
    "tags": []
   },
   "source": [
    "More improvement!\n",
    "\n",
    "in statistics,\n",
    "\n",
    "### naive Bayes classifiers \n",
    "\n",
    "are a family of simple \"probabilistic classifiers\" based on applying Bayes' theorem with strong (naïve) independence assumptions between the features (see Bayes classifier). They are among the simplest Bayesian network models,[1] but coupled with kernel density estimation, they can achieve higher accuracy levels.\n",
    "\n",
    "Let's see what happens when we use naive bayes on these two datasets:"
   ]
  },
  {
   "cell_type": "code",
   "execution_count": 15,
   "id": "9d51753e",
   "metadata": {
    "execution": {
     "iopub.execute_input": "2022-01-12T13:05:19.856809Z",
     "iopub.status.busy": "2022-01-12T13:05:19.856071Z",
     "iopub.status.idle": "2022-01-12T13:05:19.912579Z",
     "shell.execute_reply": "2022-01-12T13:05:19.913085Z",
     "shell.execute_reply.started": "2022-01-12T12:33:12.439955Z"
    },
    "papermill": {
     "duration": 0.091555,
     "end_time": "2022-01-12T13:05:19.913253",
     "exception": false,
     "start_time": "2022-01-12T13:05:19.821698",
     "status": "completed"
    },
    "tags": []
   },
   "outputs": [
    {
     "name": "stdout",
     "output_type": "stream",
     "text": [
      "CPU times: user 3 µs, sys: 1 µs, total: 4 µs\n",
      "Wall time: 7.39 µs\n",
      "logloss: 0.125 \n"
     ]
    }
   ],
   "source": [
    "%time\n",
    "# Fitting a simple Naive Bayes on TFIDF\n",
    "clf = MultinomialNB()\n",
    "clf.fit(xtrain_tfv, ytrain)\n",
    "predictions = clf.predict_proba(xvalid_tfv)\n",
    "\n",
    "print (\"logloss: %0.3f \" % multiclass_logloss(yvalid, predictions))"
   ]
  },
  {
   "cell_type": "code",
   "execution_count": 16,
   "id": "79539cdc",
   "metadata": {
    "execution": {
     "iopub.execute_input": "2022-01-12T13:05:19.977674Z",
     "iopub.status.busy": "2022-01-12T13:05:19.976681Z",
     "iopub.status.idle": "2022-01-12T13:05:20.327950Z",
     "shell.execute_reply": "2022-01-12T13:05:20.328445Z",
     "shell.execute_reply.started": "2022-01-12T12:33:12.497060Z"
    },
    "papermill": {
     "duration": 0.385085,
     "end_time": "2022-01-12T13:05:20.328625",
     "exception": false,
     "start_time": "2022-01-12T13:05:19.943540",
     "status": "completed"
    },
    "tags": []
   },
   "outputs": [
    {
     "name": "stdout",
     "output_type": "stream",
     "text": [
      "CPU times: user 2 µs, sys: 1e+03 ns, total: 3 µs\n",
      "Wall time: 7.15 µs\n",
      "logloss: 0.866 \n"
     ]
    }
   ],
   "source": [
    "%time\n",
    "# Fitting a simple Naive Bayes on Counts\n",
    "clf = MultinomialNB()\n",
    "clf.fit(xtrain_ctv, ytrain)\n",
    "predictions = clf.predict_proba(xvalid_ctv)\n",
    "\n",
    "print (\"logloss: %0.3f \" % multiclass_logloss(yvalid, predictions))"
   ]
  },
  {
   "cell_type": "markdown",
   "id": "dd1bb867",
   "metadata": {
    "papermill": {
     "duration": 0.030242,
     "end_time": "2022-01-12T13:05:20.389229",
     "exception": false,
     "start_time": "2022-01-12T13:05:20.358987",
     "status": "completed"
    },
    "tags": []
   },
   "source": [
    "\n",
    "One more ancient algorithms in the list is \n",
    "\n",
    "### SVMs.\n",
    "\n",
    "SVMs can efficiently perform a non-linear classification using what is called the kernel trick, implicitly mapping their inputs into high-dimensional feature spaces.\n",
    "\n",
    "Some people \"love\" SVMs. So, we must try SVM on this dataset.\n",
    "\n",
    "Since SVMs take a lot of time, we will reduce the number of features from the TF-IDF using Singular Value Decomposition before applying SVM.\n",
    "\n",
    "Also, note that before applying SVMs, we must standardize the data."
   ]
  },
  {
   "cell_type": "code",
   "execution_count": 17,
   "id": "233e1c67",
   "metadata": {
    "execution": {
     "iopub.execute_input": "2022-01-12T13:05:20.459851Z",
     "iopub.status.busy": "2022-01-12T13:05:20.458796Z",
     "iopub.status.idle": "2022-01-12T13:05:44.787535Z",
     "shell.execute_reply": "2022-01-12T13:05:44.786948Z",
     "shell.execute_reply.started": "2022-01-12T12:33:12.818655Z"
    },
    "papermill": {
     "duration": 24.367888,
     "end_time": "2022-01-12T13:05:44.787689",
     "exception": false,
     "start_time": "2022-01-12T13:05:20.419801",
     "status": "completed"
    },
    "tags": []
   },
   "outputs": [
    {
     "name": "stdout",
     "output_type": "stream",
     "text": [
      "CPU times: user 2 µs, sys: 1e+03 ns, total: 3 µs\n",
      "Wall time: 6.91 µs\n"
     ]
    }
   ],
   "source": [
    "%time\n",
    "# Apply SVD, I chose 120 components. 120-200 components are good enough for SVM model.\n",
    "svd = decomposition.TruncatedSVD(n_components=120)\n",
    "svd.fit(xtrain_tfv)\n",
    "xtrain_svd = svd.transform(xtrain_tfv)\n",
    "xvalid_svd = svd.transform(xvalid_tfv)\n",
    "\n",
    "# Scale the data obtained from SVD. Renaming variable to reuse without scaling.\n",
    "scl = preprocessing.StandardScaler()\n",
    "scl.fit(xtrain_svd)\n",
    "xtrain_svd_scl = scl.transform(xtrain_svd)\n",
    "xvalid_svd_scl = scl.transform(xvalid_svd)"
   ]
  },
  {
   "cell_type": "markdown",
   "id": "14b97e7d",
   "metadata": {
    "papermill": {
     "duration": 0.030452,
     "end_time": "2022-01-12T13:05:44.849343",
     "exception": false,
     "start_time": "2022-01-12T13:05:44.818891",
     "status": "completed"
    },
    "tags": []
   },
   "source": [
    "Now it's time to apply SVM. After running the following cell, feel free to go for a walk or talk to your girlfriend/boyfriend. :P"
   ]
  },
  {
   "cell_type": "code",
   "execution_count": 18,
   "id": "c440893e",
   "metadata": {
    "execution": {
     "iopub.execute_input": "2022-01-12T13:05:44.919550Z",
     "iopub.status.busy": "2022-01-12T13:05:44.918720Z",
     "iopub.status.idle": "2022-01-12T13:06:19.504792Z",
     "shell.execute_reply": "2022-01-12T13:06:19.505673Z",
     "shell.execute_reply.started": "2022-01-12T12:33:33.402031Z"
    },
    "papermill": {
     "duration": 34.625596,
     "end_time": "2022-01-12T13:06:19.506168",
     "exception": false,
     "start_time": "2022-01-12T13:05:44.880572",
     "status": "completed"
    },
    "tags": []
   },
   "outputs": [
    {
     "name": "stdout",
     "output_type": "stream",
     "text": [
      "CPU times: user 2 µs, sys: 1e+03 ns, total: 3 µs\n",
      "Wall time: 7.39 µs\n",
      "logloss: 0.051 \n"
     ]
    }
   ],
   "source": [
    "%time\n",
    "# Fitting a simple SVM\n",
    "clf = SVC(C=1.0, probability=True) # since we need probabilities\n",
    "clf.fit(xtrain_svd_scl, ytrain)\n",
    "predictions = clf.predict_proba(xvalid_svd_scl)\n",
    "\n",
    "print (\"logloss: %0.3f \" % multiclass_logloss(yvalid, predictions))"
   ]
  },
  {
   "cell_type": "markdown",
   "id": "06510159",
   "metadata": {
    "papermill": {
     "duration": 0.031787,
     "end_time": "2022-01-12T13:06:19.570881",
     "exception": false,
     "start_time": "2022-01-12T13:06:19.539094",
     "status": "completed"
    },
    "tags": []
   },
   "source": [
    "0.043 is good.\n",
    "Before moving further, lets apply the most popular algorithm on Kaggle: \n",
    "\n",
    "### xgboost!\n",
    "\n",
    "XGBoost is an optimized distributed gradient boosting library designed to be highly efficient, flexible and portable. It implements machine learning algorithms under the Gradient Boosting framework. XGBoost provides a parallel tree boosting (also known as GBDT, GBM) that solve many data science problems in a fast and accurate way."
   ]
  },
  {
   "cell_type": "code",
   "execution_count": 19,
   "id": "6cb013be",
   "metadata": {
    "execution": {
     "iopub.execute_input": "2022-01-12T13:06:19.637864Z",
     "iopub.status.busy": "2022-01-12T13:06:19.637063Z",
     "iopub.status.idle": "2022-01-12T13:07:04.191946Z",
     "shell.execute_reply": "2022-01-12T13:07:04.192566Z",
     "shell.execute_reply.started": "2022-01-12T12:34:05.923101Z"
    },
    "papermill": {
     "duration": 44.590405,
     "end_time": "2022-01-12T13:07:04.192845",
     "exception": false,
     "start_time": "2022-01-12T13:06:19.602440",
     "status": "completed"
    },
    "tags": []
   },
   "outputs": [
    {
     "name": "stdout",
     "output_type": "stream",
     "text": [
      "CPU times: user 3 µs, sys: 1e+03 ns, total: 4 µs\n",
      "Wall time: 7.87 µs\n"
     ]
    },
    {
     "name": "stderr",
     "output_type": "stream",
     "text": [
      "/opt/conda/lib/python3.7/site-packages/xgboost/sklearn.py:1224: UserWarning: The use of label encoder in XGBClassifier is deprecated and will be removed in a future release. To remove this warning, do the following: 1) Pass option use_label_encoder=False when constructing XGBClassifier object; and 2) Encode your labels (y) as integers starting with 0, i.e. 0, 1, 2, ..., [num_class - 1].\n",
      "  warnings.warn(label_encoder_deprecation_msg, UserWarning)\n"
     ]
    },
    {
     "name": "stdout",
     "output_type": "stream",
     "text": [
      "[13:06:21] WARNING: ../src/learner.cc:1115: Starting in XGBoost 1.3.0, the default evaluation metric used with the objective 'binary:logistic' was changed from 'error' to 'logloss'. Explicitly set eval_metric if you'd like to restore the old behavior.\n",
      "logloss: 0.001 \n"
     ]
    }
   ],
   "source": [
    "%time\n",
    "# Fitting a simple xgboost on tf-idf\n",
    "clf = xgb.XGBClassifier(max_depth=7, n_estimators=200, colsample_bytree=0.8, \n",
    "                        subsample=0.8, nthread=10, learning_rate=0.1)\n",
    "clf.fit(xtrain_tfv.tocsc(), ytrain)\n",
    "predictions = clf.predict_proba(xvalid_tfv.tocsc())\n",
    "\n",
    "print (\"logloss: %0.3f \" % multiclass_logloss(yvalid, predictions))"
   ]
  },
  {
   "cell_type": "code",
   "execution_count": 20,
   "id": "353134f1",
   "metadata": {
    "execution": {
     "iopub.execute_input": "2022-01-12T13:07:04.271525Z",
     "iopub.status.busy": "2022-01-12T13:07:04.269085Z",
     "iopub.status.idle": "2022-01-12T13:11:15.196408Z",
     "shell.execute_reply": "2022-01-12T13:11:15.197176Z",
     "shell.execute_reply.started": "2022-01-12T12:34:50.779401Z"
    },
    "papermill": {
     "duration": 250.970988,
     "end_time": "2022-01-12T13:11:15.197445",
     "exception": false,
     "start_time": "2022-01-12T13:07:04.226457",
     "status": "completed"
    },
    "tags": []
   },
   "outputs": [
    {
     "name": "stdout",
     "output_type": "stream",
     "text": [
      "CPU times: user 3 µs, sys: 0 ns, total: 3 µs\n",
      "Wall time: 8.11 µs\n",
      "[13:07:11] WARNING: ../src/learner.cc:1115: Starting in XGBoost 1.3.0, the default evaluation metric used with the objective 'binary:logistic' was changed from 'error' to 'logloss'. Explicitly set eval_metric if you'd like to restore the old behavior.\n",
      "logloss: 0.001 \n"
     ]
    }
   ],
   "source": [
    "%time\n",
    "# Fitting a simple xgboost on tf-idf\n",
    "clf = xgb.XGBClassifier(max_depth=7, n_estimators=200, colsample_bytree=0.8, \n",
    "                        subsample=0.8, nthread=10, learning_rate=0.1)\n",
    "clf.fit(xtrain_ctv.tocsc(), ytrain)\n",
    "predictions = clf.predict_proba(xvalid_ctv.tocsc())\n",
    "\n",
    "print (\"logloss: %0.3f \" % multiclass_logloss(yvalid, predictions))"
   ]
  },
  {
   "cell_type": "code",
   "execution_count": 21,
   "id": "c6450507",
   "metadata": {
    "execution": {
     "iopub.execute_input": "2022-01-12T13:11:15.276924Z",
     "iopub.status.busy": "2022-01-12T13:11:15.275847Z",
     "iopub.status.idle": "2022-01-12T13:11:32.700711Z",
     "shell.execute_reply": "2022-01-12T13:11:32.699821Z",
     "shell.execute_reply.started": "2022-01-12T12:38:57.747775Z"
    },
    "papermill": {
     "duration": 17.467431,
     "end_time": "2022-01-12T13:11:32.700865",
     "exception": false,
     "start_time": "2022-01-12T13:11:15.233434",
     "status": "completed"
    },
    "tags": []
   },
   "outputs": [
    {
     "name": "stdout",
     "output_type": "stream",
     "text": [
      "CPU times: user 4 µs, sys: 0 ns, total: 4 µs\n",
      "Wall time: 7.15 µs\n",
      "[13:11:15] WARNING: ../src/learner.cc:1115: Starting in XGBoost 1.3.0, the default evaluation metric used with the objective 'binary:logistic' was changed from 'error' to 'logloss'. Explicitly set eval_metric if you'd like to restore the old behavior.\n",
      "logloss: 0.070 \n"
     ]
    }
   ],
   "source": [
    "%time\n",
    "# Fitting a simple xgboost on tf-idf svd features\n",
    "clf = xgb.XGBClassifier(max_depth=7, n_estimators=200, colsample_bytree=0.8, \n",
    "                        subsample=0.8, nthread=10, learning_rate=0.1)\n",
    "clf.fit(xtrain_svd, ytrain)\n",
    "predictions = clf.predict_proba(xvalid_svd)\n",
    "\n",
    "print (\"logloss: %0.3f \" % multiclass_logloss(yvalid, predictions))"
   ]
  },
  {
   "cell_type": "code",
   "execution_count": 22,
   "id": "f152873d",
   "metadata": {
    "execution": {
     "iopub.execute_input": "2022-01-12T13:11:32.774590Z",
     "iopub.status.busy": "2022-01-12T13:11:32.773620Z",
     "iopub.status.idle": "2022-01-12T13:11:42.930345Z",
     "shell.execute_reply": "2022-01-12T13:11:42.931336Z",
     "shell.execute_reply.started": "2022-01-12T12:39:15.470416Z"
    },
    "papermill": {
     "duration": 10.195632,
     "end_time": "2022-01-12T13:11:42.931606",
     "exception": false,
     "start_time": "2022-01-12T13:11:32.735974",
     "status": "completed"
    },
    "tags": []
   },
   "outputs": [
    {
     "name": "stdout",
     "output_type": "stream",
     "text": [
      "CPU times: user 4 µs, sys: 0 ns, total: 4 µs\n",
      "Wall time: 7.87 µs\n",
      "[13:11:32] WARNING: ../src/learner.cc:1115: Starting in XGBoost 1.3.0, the default evaluation metric used with the objective 'binary:logistic' was changed from 'error' to 'logloss'. Explicitly set eval_metric if you'd like to restore the old behavior.\n",
      "logloss: 0.081 \n"
     ]
    }
   ],
   "source": [
    "%time\n",
    "# Fitting a simple xgboost on tf-idf svd features\n",
    "clf = xgb.XGBClassifier(nthread=10)\n",
    "clf.fit(xtrain_svd, ytrain)\n",
    "predictions = clf.predict_proba(xvalid_svd)\n",
    "\n",
    "print (\"logloss: %0.3f \" % multiclass_logloss(yvalid, predictions))"
   ]
  },
  {
   "cell_type": "markdown",
   "id": "5ab790e6",
   "metadata": {
    "papermill": {
     "duration": 0.035201,
     "end_time": "2022-01-12T13:11:43.002779",
     "exception": false,
     "start_time": "2022-01-12T13:11:42.967578",
     "status": "completed"
    },
    "tags": []
   },
   "source": [
    "Xgboost also performs reasonably well."
   ]
  },
  {
   "cell_type": "markdown",
   "id": "743f164c",
   "metadata": {
    "papermill": {
     "duration": 0.035585,
     "end_time": "2022-01-12T13:11:43.074776",
     "exception": false,
     "start_time": "2022-01-12T13:11:43.039191",
     "status": "completed"
    },
    "tags": []
   },
   "source": [
    "These are the simple ways in which you can tackle from any NLP dataset."
   ]
  },
  {
   "cell_type": "markdown",
   "id": "fc371588",
   "metadata": {
    "papermill": {
     "duration": 0.035825,
     "end_time": "2022-01-12T13:11:43.146145",
     "exception": false,
     "start_time": "2022-01-12T13:11:43.110320",
     "status": "completed"
    },
    "tags": []
   },
   "source": [
    "## Things to try next\n",
    "\n",
    "1. grid search for finding right parameters\n",
    "2. neural networks"
   ]
  }
 ],
 "metadata": {
  "kernelspec": {
   "display_name": "Python 3",
   "language": "python",
   "name": "python3"
  },
  "language_info": {
   "codemirror_mode": {
    "name": "ipython",
    "version": 3
   },
   "file_extension": ".py",
   "mimetype": "text/x-python",
   "name": "python",
   "nbconvert_exporter": "python",
   "pygments_lexer": "ipython3",
   "version": "3.7.12"
  },
  "papermill": {
   "default_parameters": {},
   "duration": 577.209833,
   "end_time": "2022-01-12T13:11:45.200932",
   "environment_variables": {},
   "exception": null,
   "input_path": "__notebook__.ipynb",
   "output_path": "__notebook__.ipynb",
   "parameters": {},
   "start_time": "2022-01-12T13:02:07.991099",
   "version": "2.3.3"
  }
 },
 "nbformat": 4,
 "nbformat_minor": 5
}
