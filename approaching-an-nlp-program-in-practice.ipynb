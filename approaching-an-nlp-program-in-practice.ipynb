{
 "cells": [
  {
   "cell_type": "code",
   "execution_count": 1,
   "id": "2b1a0e07",
   "metadata": {
    "_cell_guid": "b1076dfc-b9ad-4769-8c92-a6c4dae69d19",
    "_uuid": "8f2839f25d086af736a60e9eeb907d3b93b6e0e5",
    "execution": {
     "iopub.execute_input": "2022-01-12T12:39:14.757232Z",
     "iopub.status.busy": "2022-01-12T12:39:14.755738Z",
     "iopub.status.idle": "2022-01-12T12:39:16.573782Z",
     "shell.execute_reply": "2022-01-12T12:39:16.573005Z",
     "shell.execute_reply.started": "2022-01-12T12:30:27.640339Z"
    },
    "papermill": {
     "duration": 1.848272,
     "end_time": "2022-01-12T12:39:16.573981",
     "exception": false,
     "start_time": "2022-01-12T12:39:14.725709",
     "status": "completed"
    },
    "tags": []
   },
   "outputs": [],
   "source": [
    "import pandas as pd\n",
    "import numpy as np\n",
    "import xgboost as xgb\n",
    "from tqdm import tqdm\n",
    "from sklearn.svm import SVC\n",
    "# from keras.models import Sequential\n",
    "# from keras.layers.recurrent import LSTM, GRU\n",
    "# from keras.layers.core import Dense, Activation, Dropout\n",
    "# from keras.layers.embeddings import Embedding\n",
    "# from keras.layers.normalization import BatchNormalization\n",
    "# from keras.utils import np_utils\n",
    "from sklearn import preprocessing, decomposition, model_selection, metrics, pipeline\n",
    "from sklearn.model_selection import GridSearchCV\n",
    "from sklearn.feature_extraction.text import TfidfVectorizer, CountVectorizer\n",
    "from sklearn.decomposition import TruncatedSVD\n",
    "from sklearn.linear_model import LogisticRegression\n",
    "from sklearn.model_selection import train_test_split\n",
    "from sklearn.naive_bayes import MultinomialNB\n",
    "# from keras.layers import GlobalMaxPooling1D, Conv1D, MaxPooling1D, Flatten, Bidirectional, SpatialDropout1D\n",
    "# from keras.preprocessing import sequence, text\n",
    "# from keras.callbacks import EarlyStopping\n",
    "from nltk import word_tokenize\n",
    "from nltk.corpus import stopwords\n",
    "stop_words = stopwords.words('english')"
   ]
  },
  {
   "cell_type": "markdown",
   "id": "e09f9075",
   "metadata": {
    "papermill": {
     "duration": 0.024697,
     "end_time": "2022-01-12T12:39:16.627522",
     "exception": false,
     "start_time": "2022-01-12T12:39:16.602825",
     "status": "completed"
    },
    "tags": []
   },
   "source": [
    "# Approaching an NLP program - in practice.\n",
    "\n",
    "**WARNING: some of the cells take along time to run so look at their time before starting the execution!\n",
    "**\n",
    "\n",
    "![](https://i.ytimg.com/vi/-BnqU5K9t5M/maxresdefault.jpg)\n",
    "\n",
    "In this I am using guidance from this detailed notebook : https://www.kaggle.com/abhishek/approaching-almost-any-nlp-problem-on-kaggle/data. This notebook is hugely popular but I want to apply it on a custom dataset.\n",
    "\n",
    "## Dataset source\n",
    "\n",
    "We will be trying from https://www.kaggle.com/clmentbisaillon/fake-and-real-news-dataset. I converted the dataset given into what we need using this notebook: https://www.kaggle.com/fanbyprinciple/fake-and-real-dataset.\n"
   ]
  },
  {
   "cell_type": "code",
   "execution_count": 2,
   "id": "aa7cbd3b",
   "metadata": {
    "execution": {
     "iopub.execute_input": "2022-01-12T12:39:16.681367Z",
     "iopub.status.busy": "2022-01-12T12:39:16.680655Z",
     "iopub.status.idle": "2022-01-12T12:39:19.758911Z",
     "shell.execute_reply": "2022-01-12T12:39:19.758169Z",
     "shell.execute_reply.started": "2022-01-12T12:30:27.653680Z"
    },
    "papermill": {
     "duration": 3.106303,
     "end_time": "2022-01-12T12:39:19.759068",
     "exception": false,
     "start_time": "2022-01-12T12:39:16.652765",
     "status": "completed"
    },
    "tags": []
   },
   "outputs": [],
   "source": [
    "train = pd.read_csv('../input/simplified-fake-news-dataset/test.csv')\n",
    "test = pd.read_csv('../input/simplified-fake-news-dataset/train.csv')"
   ]
  },
  {
   "cell_type": "code",
   "execution_count": 3,
   "id": "3dcacb68",
   "metadata": {
    "execution": {
     "iopub.execute_input": "2022-01-12T12:39:19.821514Z",
     "iopub.status.busy": "2022-01-12T12:39:19.820760Z",
     "iopub.status.idle": "2022-01-12T12:39:19.837144Z",
     "shell.execute_reply": "2022-01-12T12:39:19.837701Z",
     "shell.execute_reply.started": "2022-01-12T12:30:29.212866Z"
    },
    "papermill": {
     "duration": 0.052385,
     "end_time": "2022-01-12T12:39:19.837891",
     "exception": false,
     "start_time": "2022-01-12T12:39:19.785506",
     "status": "completed"
    },
    "tags": []
   },
   "outputs": [
    {
     "data": {
      "text/html": [
       "<div>\n",
       "<style scoped>\n",
       "    .dataframe tbody tr th:only-of-type {\n",
       "        vertical-align: middle;\n",
       "    }\n",
       "\n",
       "    .dataframe tbody tr th {\n",
       "        vertical-align: top;\n",
       "    }\n",
       "\n",
       "    .dataframe thead th {\n",
       "        text-align: right;\n",
       "    }\n",
       "</style>\n",
       "<table border=\"1\" class=\"dataframe\">\n",
       "  <thead>\n",
       "    <tr style=\"text-align: right;\">\n",
       "      <th></th>\n",
       "      <th>Unnamed: 0</th>\n",
       "      <th>title</th>\n",
       "      <th>text</th>\n",
       "      <th>subject</th>\n",
       "      <th>date</th>\n",
       "      <th>fake</th>\n",
       "    </tr>\n",
       "  </thead>\n",
       "  <tbody>\n",
       "    <tr>\n",
       "      <th>0</th>\n",
       "      <td>12</td>\n",
       "      <td>Bad News For Trump — Mitch McConnell Says No ...</td>\n",
       "      <td>Republicans have had seven years to come up wi...</td>\n",
       "      <td>News</td>\n",
       "      <td>December 21, 2017</td>\n",
       "      <td>1</td>\n",
       "    </tr>\n",
       "    <tr>\n",
       "      <th>1</th>\n",
       "      <td>17</td>\n",
       "      <td>Mueller Spokesman Just F-cked Up Donald Trump...</td>\n",
       "      <td>Trump supporters and the so-called president s...</td>\n",
       "      <td>News</td>\n",
       "      <td>December 17, 2017</td>\n",
       "      <td>1</td>\n",
       "    </tr>\n",
       "    <tr>\n",
       "      <th>2</th>\n",
       "      <td>18</td>\n",
       "      <td>SNL Hilariously Mocks Accused Child Molester ...</td>\n",
       "      <td>Right now, the whole world is looking at the s...</td>\n",
       "      <td>News</td>\n",
       "      <td>December 17, 2017</td>\n",
       "      <td>1</td>\n",
       "    </tr>\n",
       "    <tr>\n",
       "      <th>3</th>\n",
       "      <td>21</td>\n",
       "      <td>KY GOP State Rep. Commits Suicide Over Allega...</td>\n",
       "      <td>In this #METOO moment, many powerful men are b...</td>\n",
       "      <td>News</td>\n",
       "      <td>December 13, 2017</td>\n",
       "      <td>1</td>\n",
       "    </tr>\n",
       "    <tr>\n",
       "      <th>4</th>\n",
       "      <td>24</td>\n",
       "      <td>White House: It Wasn’t Sexist For Trump To Sl...</td>\n",
       "      <td>A backlash ensued after Donald Trump launched ...</td>\n",
       "      <td>News</td>\n",
       "      <td>December 12, 2017</td>\n",
       "      <td>1</td>\n",
       "    </tr>\n",
       "  </tbody>\n",
       "</table>\n",
       "</div>"
      ],
      "text/plain": [
       "   Unnamed: 0                                              title  \\\n",
       "0          12   Bad News For Trump — Mitch McConnell Says No ...   \n",
       "1          17   Mueller Spokesman Just F-cked Up Donald Trump...   \n",
       "2          18   SNL Hilariously Mocks Accused Child Molester ...   \n",
       "3          21   KY GOP State Rep. Commits Suicide Over Allega...   \n",
       "4          24   White House: It Wasn’t Sexist For Trump To Sl...   \n",
       "\n",
       "                                                text subject  \\\n",
       "0  Republicans have had seven years to come up wi...    News   \n",
       "1  Trump supporters and the so-called president s...    News   \n",
       "2  Right now, the whole world is looking at the s...    News   \n",
       "3  In this #METOO moment, many powerful men are b...    News   \n",
       "4  A backlash ensued after Donald Trump launched ...    News   \n",
       "\n",
       "                date  fake  \n",
       "0  December 21, 2017     1  \n",
       "1  December 17, 2017     1  \n",
       "2  December 17, 2017     1  \n",
       "3  December 13, 2017     1  \n",
       "4  December 12, 2017     1  "
      ]
     },
     "execution_count": 3,
     "metadata": {},
     "output_type": "execute_result"
    }
   ],
   "source": [
    "train.head()"
   ]
  },
  {
   "cell_type": "markdown",
   "id": "b4b7b178",
   "metadata": {
    "papermill": {
     "duration": 0.025154,
     "end_time": "2022-01-12T12:39:19.889057",
     "exception": false,
     "start_time": "2022-01-12T12:39:19.863903",
     "status": "completed"
    },
    "tags": []
   },
   "source": [
    "### Removing the label\n",
    "\n",
    "In test data we already have the label. So we need to remove it."
   ]
  },
  {
   "cell_type": "code",
   "execution_count": 4,
   "id": "29b86429",
   "metadata": {
    "execution": {
     "iopub.execute_input": "2022-01-12T12:39:19.951567Z",
     "iopub.status.busy": "2022-01-12T12:39:19.947058Z",
     "iopub.status.idle": "2022-01-12T12:39:19.954356Z",
     "shell.execute_reply": "2022-01-12T12:39:19.953821Z",
     "shell.execute_reply.started": "2022-01-12T12:30:29.229850Z"
    },
    "papermill": {
     "duration": 0.040182,
     "end_time": "2022-01-12T12:39:19.954540",
     "exception": false,
     "start_time": "2022-01-12T12:39:19.914358",
     "status": "completed"
    },
    "tags": []
   },
   "outputs": [],
   "source": [
    "test = test.iloc[:, :-1]"
   ]
  },
  {
   "cell_type": "code",
   "execution_count": 5,
   "id": "dd05da61",
   "metadata": {
    "execution": {
     "iopub.execute_input": "2022-01-12T12:39:20.019083Z",
     "iopub.status.busy": "2022-01-12T12:39:20.018331Z",
     "iopub.status.idle": "2022-01-12T12:39:20.021933Z",
     "shell.execute_reply": "2022-01-12T12:39:20.022389Z",
     "shell.execute_reply.started": "2022-01-12T12:30:29.242812Z"
    },
    "papermill": {
     "duration": 0.042402,
     "end_time": "2022-01-12T12:39:20.022614",
     "exception": false,
     "start_time": "2022-01-12T12:39:19.980212",
     "status": "completed"
    },
    "tags": []
   },
   "outputs": [
    {
     "data": {
      "text/html": [
       "<div>\n",
       "<style scoped>\n",
       "    .dataframe tbody tr th:only-of-type {\n",
       "        vertical-align: middle;\n",
       "    }\n",
       "\n",
       "    .dataframe tbody tr th {\n",
       "        vertical-align: top;\n",
       "    }\n",
       "\n",
       "    .dataframe thead th {\n",
       "        text-align: right;\n",
       "    }\n",
       "</style>\n",
       "<table border=\"1\" class=\"dataframe\">\n",
       "  <thead>\n",
       "    <tr style=\"text-align: right;\">\n",
       "      <th></th>\n",
       "      <th>Unnamed: 0</th>\n",
       "      <th>title</th>\n",
       "      <th>text</th>\n",
       "      <th>subject</th>\n",
       "      <th>date</th>\n",
       "    </tr>\n",
       "  </thead>\n",
       "  <tbody>\n",
       "    <tr>\n",
       "      <th>0</th>\n",
       "      <td>0</td>\n",
       "      <td>Donald Trump Sends Out Embarrassing New Year’...</td>\n",
       "      <td>Donald Trump just couldn t wish all Americans ...</td>\n",
       "      <td>News</td>\n",
       "      <td>December 31, 2017</td>\n",
       "    </tr>\n",
       "    <tr>\n",
       "      <th>1</th>\n",
       "      <td>1</td>\n",
       "      <td>Drunk Bragging Trump Staffer Started Russian ...</td>\n",
       "      <td>House Intelligence Committee Chairman Devin Nu...</td>\n",
       "      <td>News</td>\n",
       "      <td>December 31, 2017</td>\n",
       "    </tr>\n",
       "    <tr>\n",
       "      <th>2</th>\n",
       "      <td>2</td>\n",
       "      <td>Sheriff David Clarke Becomes An Internet Joke...</td>\n",
       "      <td>On Friday, it was revealed that former Milwauk...</td>\n",
       "      <td>News</td>\n",
       "      <td>December 30, 2017</td>\n",
       "    </tr>\n",
       "    <tr>\n",
       "      <th>3</th>\n",
       "      <td>3</td>\n",
       "      <td>Trump Is So Obsessed He Even Has Obama’s Name...</td>\n",
       "      <td>On Christmas day, Donald Trump announced that ...</td>\n",
       "      <td>News</td>\n",
       "      <td>December 29, 2017</td>\n",
       "    </tr>\n",
       "    <tr>\n",
       "      <th>4</th>\n",
       "      <td>4</td>\n",
       "      <td>Pope Francis Just Called Out Donald Trump Dur...</td>\n",
       "      <td>Pope Francis used his annual Christmas Day mes...</td>\n",
       "      <td>News</td>\n",
       "      <td>December 25, 2017</td>\n",
       "    </tr>\n",
       "  </tbody>\n",
       "</table>\n",
       "</div>"
      ],
      "text/plain": [
       "   Unnamed: 0                                              title  \\\n",
       "0           0   Donald Trump Sends Out Embarrassing New Year’...   \n",
       "1           1   Drunk Bragging Trump Staffer Started Russian ...   \n",
       "2           2   Sheriff David Clarke Becomes An Internet Joke...   \n",
       "3           3   Trump Is So Obsessed He Even Has Obama’s Name...   \n",
       "4           4   Pope Francis Just Called Out Donald Trump Dur...   \n",
       "\n",
       "                                                text subject  \\\n",
       "0  Donald Trump just couldn t wish all Americans ...    News   \n",
       "1  House Intelligence Committee Chairman Devin Nu...    News   \n",
       "2  On Friday, it was revealed that former Milwauk...    News   \n",
       "3  On Christmas day, Donald Trump announced that ...    News   \n",
       "4  Pope Francis used his annual Christmas Day mes...    News   \n",
       "\n",
       "                date  \n",
       "0  December 31, 2017  \n",
       "1  December 31, 2017  \n",
       "2  December 30, 2017  \n",
       "3  December 29, 2017  \n",
       "4  December 25, 2017  "
      ]
     },
     "execution_count": 5,
     "metadata": {},
     "output_type": "execute_result"
    }
   ],
   "source": [
    "test.head()"
   ]
  },
  {
   "cell_type": "markdown",
   "id": "88d07085",
   "metadata": {
    "papermill": {
     "duration": 0.027192,
     "end_time": "2022-01-12T12:39:20.076261",
     "exception": false,
     "start_time": "2022-01-12T12:39:20.049069",
     "status": "completed"
    },
    "tags": []
   },
   "source": [
    "### Parameter for judgement\n",
    "Lots of time in competettions kaggle implements a metric for judging the results. Think of multiclass logloss as a metric."
   ]
  },
  {
   "cell_type": "code",
   "execution_count": 6,
   "id": "c90a5d50",
   "metadata": {
    "execution": {
     "iopub.execute_input": "2022-01-12T12:39:20.133306Z",
     "iopub.status.busy": "2022-01-12T12:39:20.132270Z",
     "iopub.status.idle": "2022-01-12T12:39:20.139705Z",
     "shell.execute_reply": "2022-01-12T12:39:20.140217Z",
     "shell.execute_reply.started": "2022-01-12T12:30:29.258449Z"
    },
    "papermill": {
     "duration": 0.036828,
     "end_time": "2022-01-12T12:39:20.140428",
     "exception": false,
     "start_time": "2022-01-12T12:39:20.103600",
     "status": "completed"
    },
    "tags": []
   },
   "outputs": [],
   "source": [
    "def multiclass_logloss(actual, predicted, eps=1e-15):\n",
    "    \"\"\"Multi class version of Logarithmic Loss metric.\n",
    "    :param actual: Array containing the actual target classes\n",
    "    :param predicted: Matrix with class predictions, one probability per class\n",
    "    \"\"\"\n",
    "    # Convert 'actual' to a binary array if it's not already:\n",
    "    if len(actual.shape) == 1:\n",
    "        actual2 = np.zeros((actual.shape[0], predicted.shape[1]))\n",
    "        for i, val in enumerate(actual):\n",
    "            actual2[i, val] = 1\n",
    "        actual = actual2\n",
    "\n",
    "    clip = np.clip(predicted, eps, 1 - eps)\n",
    "    rows = actual.shape[0]\n",
    "    vsota = np.sum(actual * np.log(clip))\n",
    "    return -1.0 / rows * vsota"
   ]
  },
  {
   "cell_type": "markdown",
   "id": "49068a2a",
   "metadata": {
    "papermill": {
     "duration": 0.025655,
     "end_time": "2022-01-12T12:39:20.192181",
     "exception": false,
     "start_time": "2022-01-12T12:39:20.166526",
     "status": "completed"
    },
    "tags": []
   },
   "source": [
    "## Encoding labels\n",
    "\n",
    "We use the LabelEncoder from scikit-learn to convert text labels to integers, 0, 1 2. In this case its only 0 or 1. But this is an important step."
   ]
  },
  {
   "cell_type": "code",
   "execution_count": 7,
   "id": "a4fb7521",
   "metadata": {
    "execution": {
     "iopub.execute_input": "2022-01-12T12:39:20.255790Z",
     "iopub.status.busy": "2022-01-12T12:39:20.254717Z",
     "iopub.status.idle": "2022-01-12T12:39:20.259689Z",
     "shell.execute_reply": "2022-01-12T12:39:20.260282Z",
     "shell.execute_reply.started": "2022-01-12T12:30:29.270756Z"
    },
    "papermill": {
     "duration": 0.04041,
     "end_time": "2022-01-12T12:39:20.260471",
     "exception": false,
     "start_time": "2022-01-12T12:39:20.220061",
     "status": "completed"
    },
    "tags": []
   },
   "outputs": [
    {
     "data": {
      "text/plain": [
       "array([1, 1, 1, ..., 0, 0, 0])"
      ]
     },
     "execution_count": 7,
     "metadata": {},
     "output_type": "execute_result"
    }
   ],
   "source": [
    "lbl_enc = preprocessing.LabelEncoder()\n",
    "y = lbl_enc.fit_transform(train.fake.values)\n",
    "\n",
    "y"
   ]
  },
  {
   "cell_type": "markdown",
   "id": "2507e5ce",
   "metadata": {
    "papermill": {
     "duration": 0.026348,
     "end_time": "2022-01-12T12:39:20.315281",
     "exception": false,
     "start_time": "2022-01-12T12:39:20.288933",
     "status": "completed"
    },
    "tags": []
   },
   "source": [
    "### train_test_split\n",
    "splitting into train, test and validation sets."
   ]
  },
  {
   "cell_type": "code",
   "execution_count": 8,
   "id": "0b793acc",
   "metadata": {
    "execution": {
     "iopub.execute_input": "2022-01-12T12:39:20.373540Z",
     "iopub.status.busy": "2022-01-12T12:39:20.372487Z",
     "iopub.status.idle": "2022-01-12T12:39:20.389033Z",
     "shell.execute_reply": "2022-01-12T12:39:20.389544Z",
     "shell.execute_reply.started": "2022-01-12T12:30:29.285406Z"
    },
    "papermill": {
     "duration": 0.048233,
     "end_time": "2022-01-12T12:39:20.389746",
     "exception": false,
     "start_time": "2022-01-12T12:39:20.341513",
     "status": "completed"
    },
    "tags": []
   },
   "outputs": [],
   "source": [
    "xtrain, xvalid, ytrain, yvalid = train_test_split(train.text.values, y, \n",
    "                                                  stratify=y, \n",
    "                                                  random_state=42, \n",
    "                                                  test_size=0.1, shuffle=True)"
   ]
  },
  {
   "cell_type": "code",
   "execution_count": 9,
   "id": "2330bfc8",
   "metadata": {
    "execution": {
     "iopub.execute_input": "2022-01-12T12:39:20.447943Z",
     "iopub.status.busy": "2022-01-12T12:39:20.445995Z",
     "iopub.status.idle": "2022-01-12T12:39:20.452054Z",
     "shell.execute_reply": "2022-01-12T12:39:20.452723Z",
     "shell.execute_reply.started": "2022-01-12T12:30:29.324868Z"
    },
    "papermill": {
     "duration": 0.036923,
     "end_time": "2022-01-12T12:39:20.452906",
     "exception": false,
     "start_time": "2022-01-12T12:39:20.415983",
     "status": "completed"
    },
    "tags": []
   },
   "outputs": [
    {
     "name": "stdout",
     "output_type": "stream",
     "text": [
      "(9758,)\n",
      "(1085,)\n"
     ]
    }
   ],
   "source": [
    "print (xtrain.shape)\n",
    "print (xvalid.shape)"
   ]
  },
  {
   "cell_type": "markdown",
   "id": "c196a98f",
   "metadata": {
    "papermill": {
     "duration": 0.026359,
     "end_time": "2022-01-12T12:39:20.506899",
     "exception": false,
     "start_time": "2022-01-12T12:39:20.480540",
     "status": "completed"
    },
    "tags": []
   },
   "source": [
    "## Building Basic Models\n",
    "Let's start building our very first model.\n",
    "\n",
    "Our very first model is a simple TF-IDF (Term Frequency - Inverse Document Frequency) followed by a simple Logistic Regression."
   ]
  },
  {
   "cell_type": "code",
   "execution_count": 10,
   "id": "0ad2e3fc",
   "metadata": {
    "execution": {
     "iopub.execute_input": "2022-01-12T12:39:20.564045Z",
     "iopub.status.busy": "2022-01-12T12:39:20.563036Z",
     "iopub.status.idle": "2022-01-12T12:39:51.572707Z",
     "shell.execute_reply": "2022-01-12T12:39:51.571917Z",
     "shell.execute_reply.started": "2022-01-12T12:30:29.333074Z"
    },
    "papermill": {
     "duration": 31.039244,
     "end_time": "2022-01-12T12:39:51.572872",
     "exception": false,
     "start_time": "2022-01-12T12:39:20.533628",
     "status": "completed"
    },
    "tags": []
   },
   "outputs": [
    {
     "name": "stdout",
     "output_type": "stream",
     "text": [
      "CPU times: user 3 µs, sys: 0 ns, total: 3 µs\n",
      "Wall time: 7.39 µs\n"
     ]
    }
   ],
   "source": [
    "%time\n",
    "# Always start with these features. They work (almost) everytime!\n",
    "tfv = TfidfVectorizer(min_df=3,  max_features=None, \n",
    "            strip_accents='unicode', analyzer='word',token_pattern=r'\\w{1,}',\n",
    "            ngram_range=(1, 3), use_idf=1,smooth_idf=1,sublinear_tf=1,\n",
    "            stop_words = 'english')\n",
    "\n",
    "# Fitting TF-IDF to both training and test sets (semi-supervised learning)\n",
    "tfv.fit(list(xtrain) + list(xvalid))\n",
    "xtrain_tfv =  tfv.transform(xtrain) \n",
    "xvalid_tfv = tfv.transform(xvalid)"
   ]
  },
  {
   "cell_type": "code",
   "execution_count": 11,
   "id": "16ab50e6",
   "metadata": {
    "execution": {
     "iopub.execute_input": "2022-01-12T12:39:51.635758Z",
     "iopub.status.busy": "2022-01-12T12:39:51.634733Z",
     "iopub.status.idle": "2022-01-12T12:39:51.639203Z",
     "shell.execute_reply": "2022-01-12T12:39:51.638597Z",
     "shell.execute_reply.started": "2022-01-12T12:31:01.850930Z"
    },
    "papermill": {
     "duration": 0.039112,
     "end_time": "2022-01-12T12:39:51.639344",
     "exception": false,
     "start_time": "2022-01-12T12:39:51.600232",
     "status": "completed"
    },
    "tags": []
   },
   "outputs": [
    {
     "data": {
      "text/plain": [
       "<9758x193710 sparse matrix of type '<class 'numpy.float64'>'\n",
       "\twith 2555186 stored elements in Compressed Sparse Row format>"
      ]
     },
     "execution_count": 11,
     "metadata": {},
     "output_type": "execute_result"
    }
   ],
   "source": [
    "xtrain_tfv"
   ]
  },
  {
   "cell_type": "code",
   "execution_count": 12,
   "id": "fc344409",
   "metadata": {
    "execution": {
     "iopub.execute_input": "2022-01-12T12:39:51.701280Z",
     "iopub.status.busy": "2022-01-12T12:39:51.700338Z",
     "iopub.status.idle": "2022-01-12T12:39:55.066585Z",
     "shell.execute_reply": "2022-01-12T12:39:55.067472Z",
     "shell.execute_reply.started": "2022-01-12T12:31:01.860950Z"
    },
    "papermill": {
     "duration": 3.401187,
     "end_time": "2022-01-12T12:39:55.067750",
     "exception": false,
     "start_time": "2022-01-12T12:39:51.666563",
     "status": "completed"
    },
    "tags": []
   },
   "outputs": [
    {
     "name": "stdout",
     "output_type": "stream",
     "text": [
      "CPU times: user 3 µs, sys: 0 ns, total: 3 µs\n",
      "Wall time: 8.11 µs\n",
      "logloss: 0.163 \n"
     ]
    }
   ],
   "source": [
    "%time\n",
    "\n",
    "# Fitting a simple Logistic Regression on TFIDF\n",
    "clf = LogisticRegression(C=1.0)\n",
    "clf.fit(xtrain_tfv, ytrain)\n",
    "predictions = clf.predict_proba(xvalid_tfv)\n",
    "\n",
    "print (\"logloss: %0.3f \" % multiclass_logloss(yvalid, predictions))"
   ]
  },
  {
   "cell_type": "markdown",
   "id": "fe76eecf",
   "metadata": {
    "papermill": {
     "duration": 0.042571,
     "end_time": "2022-01-12T12:39:55.163250",
     "exception": false,
     "start_time": "2022-01-12T12:39:55.120679",
     "status": "completed"
    },
    "tags": []
   },
   "source": [
    "And there we go. We have our first model with a multiclass logloss of 0.163.\n",
    "\n",
    "But we are greedy and want a better score. Lets look at the same model with a different data.\n",
    "\n",
    "Instead of using TF-IDF, we can also use word counts as features. This can be done easily using CountVectorizer from scikit-learn."
   ]
  },
  {
   "cell_type": "code",
   "execution_count": 13,
   "id": "133cd585",
   "metadata": {
    "execution": {
     "iopub.execute_input": "2022-01-12T12:39:55.232118Z",
     "iopub.status.busy": "2022-01-12T12:39:55.227674Z",
     "iopub.status.idle": "2022-01-12T12:40:41.824041Z",
     "shell.execute_reply": "2022-01-12T12:40:41.823344Z",
     "shell.execute_reply.started": "2022-01-12T12:31:05.145171Z"
    },
    "papermill": {
     "duration": 46.630121,
     "end_time": "2022-01-12T12:40:41.824208",
     "exception": false,
     "start_time": "2022-01-12T12:39:55.194087",
     "status": "completed"
    },
    "tags": []
   },
   "outputs": [
    {
     "name": "stdout",
     "output_type": "stream",
     "text": [
      "CPU times: user 3 µs, sys: 0 ns, total: 3 µs\n",
      "Wall time: 7.87 µs\n"
     ]
    }
   ],
   "source": [
    "%time\n",
    "ctv = CountVectorizer(analyzer='word',token_pattern=r'\\w{1,}',\n",
    "            ngram_range=(1, 3), stop_words = 'english')\n",
    "\n",
    "# Fitting Count Vectorizer to both training and test sets (semi-supervised learning)\n",
    "ctv.fit(list(xtrain) + list(xvalid))\n",
    "xtrain_ctv =  ctv.transform(xtrain) \n",
    "xvalid_ctv = ctv.transform(xvalid)"
   ]
  },
  {
   "cell_type": "code",
   "execution_count": 14,
   "id": "a447d0af",
   "metadata": {
    "execution": {
     "iopub.execute_input": "2022-01-12T12:40:41.910066Z",
     "iopub.status.busy": "2022-01-12T12:40:41.908877Z",
     "iopub.status.idle": "2022-01-12T12:41:58.659210Z",
     "shell.execute_reply": "2022-01-12T12:41:58.659839Z",
     "shell.execute_reply.started": "2022-01-12T12:31:54.955713Z"
    },
    "papermill": {
     "duration": 76.796483,
     "end_time": "2022-01-12T12:41:58.660045",
     "exception": false,
     "start_time": "2022-01-12T12:40:41.863562",
     "status": "completed"
    },
    "tags": []
   },
   "outputs": [
    {
     "name": "stdout",
     "output_type": "stream",
     "text": [
      "CPU times: user 4 µs, sys: 0 ns, total: 4 µs\n",
      "Wall time: 8.11 µs\n",
      "logloss: 0.056 \n"
     ]
    }
   ],
   "source": [
    "%time\n",
    "# Fitting a simple Logistic Regression on Counts\n",
    "clf = LogisticRegression(C=1.0)\n",
    "clf.fit(xtrain_ctv, ytrain)\n",
    "predictions = clf.predict_proba(xvalid_ctv)\n",
    "\n",
    "print (\"logloss: %0.3f \" % multiclass_logloss(yvalid, predictions))"
   ]
  },
  {
   "cell_type": "markdown",
   "id": "4c274c7e",
   "metadata": {
    "papermill": {
     "duration": 0.030247,
     "end_time": "2022-01-12T12:41:58.719359",
     "exception": false,
     "start_time": "2022-01-12T12:41:58.689112",
     "status": "completed"
    },
    "tags": []
   },
   "source": [
    "More improvement!\n",
    "\n",
    "Next, let's try a very simple model which was quite famous in ancient times - Naive Bayes.\n",
    "\n",
    "Let's see what happens when we use naive bayes on these two datasets:"
   ]
  },
  {
   "cell_type": "code",
   "execution_count": 15,
   "id": "17d09603",
   "metadata": {
    "execution": {
     "iopub.execute_input": "2022-01-12T12:41:58.787083Z",
     "iopub.status.busy": "2022-01-12T12:41:58.786323Z",
     "iopub.status.idle": "2022-01-12T12:41:58.855951Z",
     "shell.execute_reply": "2022-01-12T12:41:58.856587Z",
     "shell.execute_reply.started": "2022-01-12T12:33:12.439955Z"
    },
    "papermill": {
     "duration": 0.105463,
     "end_time": "2022-01-12T12:41:58.856789",
     "exception": false,
     "start_time": "2022-01-12T12:41:58.751326",
     "status": "completed"
    },
    "tags": []
   },
   "outputs": [
    {
     "name": "stdout",
     "output_type": "stream",
     "text": [
      "CPU times: user 3 µs, sys: 1e+03 ns, total: 4 µs\n",
      "Wall time: 7.63 µs\n",
      "logloss: 0.125 \n"
     ]
    }
   ],
   "source": [
    "%time\n",
    "# Fitting a simple Naive Bayes on TFIDF\n",
    "clf = MultinomialNB()\n",
    "clf.fit(xtrain_tfv, ytrain)\n",
    "predictions = clf.predict_proba(xvalid_tfv)\n",
    "\n",
    "print (\"logloss: %0.3f \" % multiclass_logloss(yvalid, predictions))"
   ]
  },
  {
   "cell_type": "code",
   "execution_count": 16,
   "id": "5df8c4f5",
   "metadata": {
    "execution": {
     "iopub.execute_input": "2022-01-12T12:41:58.937749Z",
     "iopub.status.busy": "2022-01-12T12:41:58.936935Z",
     "iopub.status.idle": "2022-01-12T12:41:59.255058Z",
     "shell.execute_reply": "2022-01-12T12:41:59.255551Z",
     "shell.execute_reply.started": "2022-01-12T12:33:12.497060Z"
    },
    "papermill": {
     "duration": 0.360162,
     "end_time": "2022-01-12T12:41:59.255742",
     "exception": false,
     "start_time": "2022-01-12T12:41:58.895580",
     "status": "completed"
    },
    "tags": []
   },
   "outputs": [
    {
     "name": "stdout",
     "output_type": "stream",
     "text": [
      "CPU times: user 3 µs, sys: 1e+03 ns, total: 4 µs\n",
      "Wall time: 7.63 µs\n",
      "logloss: 0.866 \n"
     ]
    }
   ],
   "source": [
    "%time\n",
    "# Fitting a simple Naive Bayes on Counts\n",
    "clf = MultinomialNB()\n",
    "clf.fit(xtrain_ctv, ytrain)\n",
    "predictions = clf.predict_proba(xvalid_ctv)\n",
    "\n",
    "print (\"logloss: %0.3f \" % multiclass_logloss(yvalid, predictions))"
   ]
  },
  {
   "cell_type": "markdown",
   "id": "e31f947a",
   "metadata": {
    "papermill": {
     "duration": 0.031252,
     "end_time": "2022-01-12T12:41:59.319032",
     "exception": false,
     "start_time": "2022-01-12T12:41:59.287780",
     "status": "completed"
    },
    "tags": []
   },
   "source": [
    "Multinomial dont seem to work that well!\n",
    "One more ancient algorithms in the list is SVMs. Some people \"love\" SVMs. So, we must try SVM on this dataset.\n",
    "\n",
    "Since SVMs take a lot of time, we will reduce the number of features from the TF-IDF using Singular Value Decomposition before applying SVM.\n",
    "\n",
    "Also, note that before applying SVMs, we must standardize the data."
   ]
  },
  {
   "cell_type": "code",
   "execution_count": 17,
   "id": "b9974f81",
   "metadata": {
    "execution": {
     "iopub.execute_input": "2022-01-12T12:41:59.384103Z",
     "iopub.status.busy": "2022-01-12T12:41:59.383396Z",
     "iopub.status.idle": "2022-01-12T12:42:19.727614Z",
     "shell.execute_reply": "2022-01-12T12:42:19.726966Z",
     "shell.execute_reply.started": "2022-01-12T12:33:12.818655Z"
    },
    "papermill": {
     "duration": 20.378568,
     "end_time": "2022-01-12T12:42:19.727758",
     "exception": false,
     "start_time": "2022-01-12T12:41:59.349190",
     "status": "completed"
    },
    "tags": []
   },
   "outputs": [
    {
     "name": "stdout",
     "output_type": "stream",
     "text": [
      "CPU times: user 3 µs, sys: 1e+03 ns, total: 4 µs\n",
      "Wall time: 7.87 µs\n"
     ]
    }
   ],
   "source": [
    "%time\n",
    "# Apply SVD, I chose 120 components. 120-200 components are good enough for SVM model.\n",
    "svd = decomposition.TruncatedSVD(n_components=120)\n",
    "svd.fit(xtrain_tfv)\n",
    "xtrain_svd = svd.transform(xtrain_tfv)\n",
    "xvalid_svd = svd.transform(xvalid_tfv)\n",
    "\n",
    "# Scale the data obtained from SVD. Renaming variable to reuse without scaling.\n",
    "scl = preprocessing.StandardScaler()\n",
    "scl.fit(xtrain_svd)\n",
    "xtrain_svd_scl = scl.transform(xtrain_svd)\n",
    "xvalid_svd_scl = scl.transform(xvalid_svd)"
   ]
  },
  {
   "cell_type": "markdown",
   "id": "fae9fc77",
   "metadata": {
    "papermill": {
     "duration": 0.035607,
     "end_time": "2022-01-12T12:42:19.796158",
     "exception": false,
     "start_time": "2022-01-12T12:42:19.760551",
     "status": "completed"
    },
    "tags": []
   },
   "source": [
    "Now it's time to apply SVM. After running the following cell, feel free to go for a walk or talk to your girlfriend/boyfriend. :P"
   ]
  },
  {
   "cell_type": "code",
   "execution_count": 18,
   "id": "c034b6b9",
   "metadata": {
    "execution": {
     "iopub.execute_input": "2022-01-12T12:42:19.872220Z",
     "iopub.status.busy": "2022-01-12T12:42:19.870854Z",
     "iopub.status.idle": "2022-01-12T12:42:49.699203Z",
     "shell.execute_reply": "2022-01-12T12:42:49.699760Z",
     "shell.execute_reply.started": "2022-01-12T12:33:33.402031Z"
    },
    "papermill": {
     "duration": 29.870524,
     "end_time": "2022-01-12T12:42:49.699966",
     "exception": false,
     "start_time": "2022-01-12T12:42:19.829442",
     "status": "completed"
    },
    "tags": []
   },
   "outputs": [
    {
     "name": "stdout",
     "output_type": "stream",
     "text": [
      "CPU times: user 3 µs, sys: 1e+03 ns, total: 4 µs\n",
      "Wall time: 8.58 µs\n",
      "logloss: 0.049 \n"
     ]
    }
   ],
   "source": [
    "%time\n",
    "# Fitting a simple SVM\n",
    "clf = SVC(C=1.0, probability=True) # since we need probabilities\n",
    "clf.fit(xtrain_svd_scl, ytrain)\n",
    "predictions = clf.predict_proba(xvalid_svd_scl)\n",
    "\n",
    "print (\"logloss: %0.3f \" % multiclass_logloss(yvalid, predictions))"
   ]
  },
  {
   "cell_type": "markdown",
   "id": "7cfefe21",
   "metadata": {
    "papermill": {
     "duration": 0.03148,
     "end_time": "2022-01-12T12:42:49.762502",
     "exception": false,
     "start_time": "2022-01-12T12:42:49.731022",
     "status": "completed"
    },
    "tags": []
   },
   "source": [
    "0.043 is good.\n",
    "Before moving further, lets apply the most popular algorithm on Kaggle: xgboost!"
   ]
  },
  {
   "cell_type": "code",
   "execution_count": 19,
   "id": "70e6cd51",
   "metadata": {
    "execution": {
     "iopub.execute_input": "2022-01-12T12:42:49.837440Z",
     "iopub.status.busy": "2022-01-12T12:42:49.836223Z",
     "iopub.status.idle": "2022-01-12T12:43:35.707802Z",
     "shell.execute_reply": "2022-01-12T12:43:35.708347Z",
     "shell.execute_reply.started": "2022-01-12T12:34:05.923101Z"
    },
    "papermill": {
     "duration": 45.913442,
     "end_time": "2022-01-12T12:43:35.708604",
     "exception": false,
     "start_time": "2022-01-12T12:42:49.795162",
     "status": "completed"
    },
    "tags": []
   },
   "outputs": [
    {
     "name": "stdout",
     "output_type": "stream",
     "text": [
      "CPU times: user 2 µs, sys: 1e+03 ns, total: 3 µs\n",
      "Wall time: 7.63 µs\n"
     ]
    },
    {
     "name": "stderr",
     "output_type": "stream",
     "text": [
      "/opt/conda/lib/python3.7/site-packages/xgboost/sklearn.py:1224: UserWarning: The use of label encoder in XGBClassifier is deprecated and will be removed in a future release. To remove this warning, do the following: 1) Pass option use_label_encoder=False when constructing XGBClassifier object; and 2) Encode your labels (y) as integers starting with 0, i.e. 0, 1, 2, ..., [num_class - 1].\n",
      "  warnings.warn(label_encoder_deprecation_msg, UserWarning)\n"
     ]
    },
    {
     "name": "stdout",
     "output_type": "stream",
     "text": [
      "[12:42:51] WARNING: ../src/learner.cc:1115: Starting in XGBoost 1.3.0, the default evaluation metric used with the objective 'binary:logistic' was changed from 'error' to 'logloss'. Explicitly set eval_metric if you'd like to restore the old behavior.\n",
      "logloss: 0.001 \n"
     ]
    }
   ],
   "source": [
    "%time\n",
    "# Fitting a simple xgboost on tf-idf\n",
    "clf = xgb.XGBClassifier(max_depth=7, n_estimators=200, colsample_bytree=0.8, \n",
    "                        subsample=0.8, nthread=10, learning_rate=0.1)\n",
    "clf.fit(xtrain_tfv.tocsc(), ytrain)\n",
    "predictions = clf.predict_proba(xvalid_tfv.tocsc())\n",
    "\n",
    "print (\"logloss: %0.3f \" % multiclass_logloss(yvalid, predictions))"
   ]
  },
  {
   "cell_type": "code",
   "execution_count": 20,
   "id": "5966f8d5",
   "metadata": {
    "execution": {
     "iopub.execute_input": "2022-01-12T12:43:35.783553Z",
     "iopub.status.busy": "2022-01-12T12:43:35.782829Z",
     "iopub.status.idle": "2022-01-12T12:47:48.334529Z",
     "shell.execute_reply": "2022-01-12T12:47:48.335096Z"
    },
    "papermill": {
     "duration": 252.593578,
     "end_time": "2022-01-12T12:47:48.335301",
     "exception": false,
     "start_time": "2022-01-12T12:43:35.741723",
     "status": "completed"
    },
    "tags": []
   },
   "outputs": [
    {
     "name": "stdout",
     "output_type": "stream",
     "text": [
      "CPU times: user 3 µs, sys: 0 ns, total: 3 µs\n",
      "Wall time: 7.63 µs\n",
      "[12:43:43] WARNING: ../src/learner.cc:1115: Starting in XGBoost 1.3.0, the default evaluation metric used with the objective 'binary:logistic' was changed from 'error' to 'logloss'. Explicitly set eval_metric if you'd like to restore the old behavior.\n",
      "logloss: 0.001 \n"
     ]
    }
   ],
   "source": [
    "%time\n",
    "# Fitting a simple xgboost on tf-idf\n",
    "clf = xgb.XGBClassifier(max_depth=7, n_estimators=200, colsample_bytree=0.8, \n",
    "                        subsample=0.8, nthread=10, learning_rate=0.1)\n",
    "clf.fit(xtrain_ctv.tocsc(), ytrain)\n",
    "predictions = clf.predict_proba(xvalid_ctv.tocsc())\n",
    "\n",
    "print (\"logloss: %0.3f \" % multiclass_logloss(yvalid, predictions))"
   ]
  },
  {
   "cell_type": "code",
   "execution_count": 21,
   "id": "625fa1aa",
   "metadata": {
    "execution": {
     "iopub.execute_input": "2022-01-12T12:47:48.406739Z",
     "iopub.status.busy": "2022-01-12T12:47:48.405646Z",
     "iopub.status.idle": "2022-01-12T12:48:08.253429Z",
     "shell.execute_reply": "2022-01-12T12:48:08.254041Z"
    },
    "papermill": {
     "duration": 19.886179,
     "end_time": "2022-01-12T12:48:08.254454",
     "exception": false,
     "start_time": "2022-01-12T12:47:48.368275",
     "status": "completed"
    },
    "tags": []
   },
   "outputs": [
    {
     "name": "stdout",
     "output_type": "stream",
     "text": [
      "CPU times: user 10 µs, sys: 1e+03 ns, total: 11 µs\n",
      "Wall time: 15 µs\n",
      "[12:47:48] WARNING: ../src/learner.cc:1115: Starting in XGBoost 1.3.0, the default evaluation metric used with the objective 'binary:logistic' was changed from 'error' to 'logloss'. Explicitly set eval_metric if you'd like to restore the old behavior.\n",
      "logloss: 0.068 \n"
     ]
    }
   ],
   "source": [
    "%time\n",
    "# Fitting a simple xgboost on tf-idf svd features\n",
    "clf = xgb.XGBClassifier(max_depth=7, n_estimators=200, colsample_bytree=0.8, \n",
    "                        subsample=0.8, nthread=10, learning_rate=0.1)\n",
    "clf.fit(xtrain_svd, ytrain)\n",
    "predictions = clf.predict_proba(xvalid_svd)\n",
    "\n",
    "print (\"logloss: %0.3f \" % multiclass_logloss(yvalid, predictions))"
   ]
  },
  {
   "cell_type": "code",
   "execution_count": 22,
   "id": "73343600",
   "metadata": {
    "execution": {
     "iopub.execute_input": "2022-01-12T12:48:08.331607Z",
     "iopub.status.busy": "2022-01-12T12:48:08.330554Z",
     "iopub.status.idle": "2022-01-12T12:48:18.364902Z",
     "shell.execute_reply": "2022-01-12T12:48:18.365441Z"
    },
    "papermill": {
     "duration": 10.074977,
     "end_time": "2022-01-12T12:48:18.365646",
     "exception": false,
     "start_time": "2022-01-12T12:48:08.290669",
     "status": "completed"
    },
    "tags": []
   },
   "outputs": [
    {
     "name": "stdout",
     "output_type": "stream",
     "text": [
      "CPU times: user 4 µs, sys: 0 ns, total: 4 µs\n",
      "Wall time: 14.5 µs\n",
      "[12:48:08] WARNING: ../src/learner.cc:1115: Starting in XGBoost 1.3.0, the default evaluation metric used with the objective 'binary:logistic' was changed from 'error' to 'logloss'. Explicitly set eval_metric if you'd like to restore the old behavior.\n",
      "logloss: 0.076 \n"
     ]
    }
   ],
   "source": [
    "%time\n",
    "# Fitting a simple xgboost on tf-idf svd features\n",
    "clf = xgb.XGBClassifier(nthread=10)\n",
    "clf.fit(xtrain_svd, ytrain)\n",
    "predictions = clf.predict_proba(xvalid_svd)\n",
    "\n",
    "print (\"logloss: %0.3f \" % multiclass_logloss(yvalid, predictions))"
   ]
  },
  {
   "cell_type": "markdown",
   "id": "4ba7cfa2",
   "metadata": {
    "papermill": {
     "duration": 0.035806,
     "end_time": "2022-01-12T12:48:18.438104",
     "exception": false,
     "start_time": "2022-01-12T12:48:18.402298",
     "status": "completed"
    },
    "tags": []
   },
   "source": [
    "Xgboost also performs reasonably well."
   ]
  },
  {
   "cell_type": "markdown",
   "id": "2be568a4",
   "metadata": {
    "papermill": {
     "duration": 0.035568,
     "end_time": "2022-01-12T12:48:18.509568",
     "exception": false,
     "start_time": "2022-01-12T12:48:18.474000",
     "status": "completed"
    },
    "tags": []
   },
   "source": [
    "These are the simple ways in which you can tackle from any NLP dataset."
   ]
  },
  {
   "cell_type": "markdown",
   "id": "eb473a05",
   "metadata": {
    "papermill": {
     "duration": 0.035817,
     "end_time": "2022-01-12T12:48:18.581823",
     "exception": false,
     "start_time": "2022-01-12T12:48:18.546006",
     "status": "completed"
    },
    "tags": []
   },
   "source": [
    "## Things to try next\n",
    "\n",
    "1. grid search for finding right parameters\n",
    "2. neural networks"
   ]
  }
 ],
 "metadata": {
  "kernelspec": {
   "display_name": "Python 3",
   "language": "python",
   "name": "python3"
  },
  "language_info": {
   "codemirror_mode": {
    "name": "ipython",
    "version": 3
   },
   "file_extension": ".py",
   "mimetype": "text/x-python",
   "name": "python",
   "nbconvert_exporter": "python",
   "pygments_lexer": "ipython3",
   "version": "3.7.12"
  },
  "papermill": {
   "default_parameters": {},
   "duration": 557.565607,
   "end_time": "2022-01-12T12:48:21.129588",
   "environment_variables": {},
   "exception": null,
   "input_path": "__notebook__.ipynb",
   "output_path": "__notebook__.ipynb",
   "parameters": {},
   "start_time": "2022-01-12T12:39:03.563981",
   "version": "2.3.3"
  }
 },
 "nbformat": 4,
 "nbformat_minor": 5
}
