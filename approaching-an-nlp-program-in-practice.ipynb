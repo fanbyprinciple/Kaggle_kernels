{
 "cells": [
  {
   "cell_type": "code",
   "execution_count": 1,
   "id": "2c3ca843",
   "metadata": {
    "_cell_guid": "b1076dfc-b9ad-4769-8c92-a6c4dae69d19",
    "_uuid": "8f2839f25d086af736a60e9eeb907d3b93b6e0e5",
    "execution": {
     "iopub.execute_input": "2022-01-12T12:18:35.071965Z",
     "iopub.status.busy": "2022-01-12T12:18:35.070677Z",
     "iopub.status.idle": "2022-01-12T12:18:36.738467Z",
     "shell.execute_reply": "2022-01-12T12:18:36.737762Z",
     "shell.execute_reply.started": "2022-01-12T10:53:06.876200Z"
    },
    "papermill": {
     "duration": 1.696319,
     "end_time": "2022-01-12T12:18:36.738642",
     "exception": false,
     "start_time": "2022-01-12T12:18:35.042323",
     "status": "completed"
    },
    "tags": []
   },
   "outputs": [],
   "source": [
    "import pandas as pd\n",
    "import numpy as np\n",
    "import xgboost as xgb\n",
    "from tqdm import tqdm\n",
    "from sklearn.svm import SVC\n",
    "# from keras.models import Sequential\n",
    "# from keras.layers.recurrent import LSTM, GRU\n",
    "# from keras.layers.core import Dense, Activation, Dropout\n",
    "# from keras.layers.embeddings import Embedding\n",
    "# from keras.layers.normalization import BatchNormalization\n",
    "# from keras.utils import np_utils\n",
    "from sklearn import preprocessing, decomposition, model_selection, metrics, pipeline\n",
    "from sklearn.model_selection import GridSearchCV\n",
    "from sklearn.feature_extraction.text import TfidfVectorizer, CountVectorizer\n",
    "from sklearn.decomposition import TruncatedSVD\n",
    "from sklearn.linear_model import LogisticRegression\n",
    "from sklearn.model_selection import train_test_split\n",
    "from sklearn.naive_bayes import MultinomialNB\n",
    "# from keras.layers import GlobalMaxPooling1D, Conv1D, MaxPooling1D, Flatten, Bidirectional, SpatialDropout1D\n",
    "# from keras.preprocessing import sequence, text\n",
    "# from keras.callbacks import EarlyStopping\n",
    "from nltk import word_tokenize\n",
    "from nltk.corpus import stopwords\n",
    "stop_words = stopwords.words('english')"
   ]
  },
  {
   "cell_type": "markdown",
   "id": "621b379c",
   "metadata": {
    "papermill": {
     "duration": 0.023365,
     "end_time": "2022-01-12T12:18:36.788897",
     "exception": false,
     "start_time": "2022-01-12T12:18:36.765532",
     "status": "completed"
    },
    "tags": []
   },
   "source": [
    "# Approaching an NLP program - in practice.\n",
    "\n",
    "**WARNING: some of the cells take along time to run so look at their time before starting the execution!\n",
    "**\n",
    "\n",
    "![](https://i.ytimg.com/vi/-BnqU5K9t5M/maxresdefault.jpg)\n",
    "\n",
    "In this I am using guidance from this detailed notebook : https://www.kaggle.com/abhishek/approaching-almost-any-nlp-problem-on-kaggle/data. This notebook is hugely popular but I want to apply it on a custom dataset.\n",
    "\n",
    "## Dataset source\n",
    "\n",
    "This dataset here is generated from this notebook : https://www.kaggle.com/fanbyprinciple/fake-and-real-dataset.\n"
   ]
  },
  {
   "cell_type": "code",
   "execution_count": 2,
   "id": "ee659e7d",
   "metadata": {
    "execution": {
     "iopub.execute_input": "2022-01-12T12:18:36.841501Z",
     "iopub.status.busy": "2022-01-12T12:18:36.840705Z",
     "iopub.status.idle": "2022-01-12T12:18:39.644660Z",
     "shell.execute_reply": "2022-01-12T12:18:39.644082Z",
     "shell.execute_reply.started": "2022-01-12T10:53:10.018899Z"
    },
    "papermill": {
     "duration": 2.832515,
     "end_time": "2022-01-12T12:18:39.644812",
     "exception": false,
     "start_time": "2022-01-12T12:18:36.812297",
     "status": "completed"
    },
    "tags": []
   },
   "outputs": [],
   "source": [
    "train = pd.read_csv('../input/simplified-fake-news-dataset/test.csv')\n",
    "test = pd.read_csv('../input/simplified-fake-news-dataset/train.csv')"
   ]
  },
  {
   "cell_type": "code",
   "execution_count": 3,
   "id": "d7af3d3b",
   "metadata": {
    "execution": {
     "iopub.execute_input": "2022-01-12T12:18:39.700846Z",
     "iopub.status.busy": "2022-01-12T12:18:39.700213Z",
     "iopub.status.idle": "2022-01-12T12:18:39.714811Z",
     "shell.execute_reply": "2022-01-12T12:18:39.715318Z",
     "shell.execute_reply.started": "2022-01-12T10:53:43.093559Z"
    },
    "papermill": {
     "duration": 0.04704,
     "end_time": "2022-01-12T12:18:39.715488",
     "exception": false,
     "start_time": "2022-01-12T12:18:39.668448",
     "status": "completed"
    },
    "tags": []
   },
   "outputs": [
    {
     "data": {
      "text/html": [
       "<div>\n",
       "<style scoped>\n",
       "    .dataframe tbody tr th:only-of-type {\n",
       "        vertical-align: middle;\n",
       "    }\n",
       "\n",
       "    .dataframe tbody tr th {\n",
       "        vertical-align: top;\n",
       "    }\n",
       "\n",
       "    .dataframe thead th {\n",
       "        text-align: right;\n",
       "    }\n",
       "</style>\n",
       "<table border=\"1\" class=\"dataframe\">\n",
       "  <thead>\n",
       "    <tr style=\"text-align: right;\">\n",
       "      <th></th>\n",
       "      <th>Unnamed: 0</th>\n",
       "      <th>title</th>\n",
       "      <th>text</th>\n",
       "      <th>subject</th>\n",
       "      <th>date</th>\n",
       "      <th>fake</th>\n",
       "    </tr>\n",
       "  </thead>\n",
       "  <tbody>\n",
       "    <tr>\n",
       "      <th>0</th>\n",
       "      <td>12</td>\n",
       "      <td>Bad News For Trump — Mitch McConnell Says No ...</td>\n",
       "      <td>Republicans have had seven years to come up wi...</td>\n",
       "      <td>News</td>\n",
       "      <td>December 21, 2017</td>\n",
       "      <td>1</td>\n",
       "    </tr>\n",
       "    <tr>\n",
       "      <th>1</th>\n",
       "      <td>17</td>\n",
       "      <td>Mueller Spokesman Just F-cked Up Donald Trump...</td>\n",
       "      <td>Trump supporters and the so-called president s...</td>\n",
       "      <td>News</td>\n",
       "      <td>December 17, 2017</td>\n",
       "      <td>1</td>\n",
       "    </tr>\n",
       "    <tr>\n",
       "      <th>2</th>\n",
       "      <td>18</td>\n",
       "      <td>SNL Hilariously Mocks Accused Child Molester ...</td>\n",
       "      <td>Right now, the whole world is looking at the s...</td>\n",
       "      <td>News</td>\n",
       "      <td>December 17, 2017</td>\n",
       "      <td>1</td>\n",
       "    </tr>\n",
       "    <tr>\n",
       "      <th>3</th>\n",
       "      <td>21</td>\n",
       "      <td>KY GOP State Rep. Commits Suicide Over Allega...</td>\n",
       "      <td>In this #METOO moment, many powerful men are b...</td>\n",
       "      <td>News</td>\n",
       "      <td>December 13, 2017</td>\n",
       "      <td>1</td>\n",
       "    </tr>\n",
       "    <tr>\n",
       "      <th>4</th>\n",
       "      <td>24</td>\n",
       "      <td>White House: It Wasn’t Sexist For Trump To Sl...</td>\n",
       "      <td>A backlash ensued after Donald Trump launched ...</td>\n",
       "      <td>News</td>\n",
       "      <td>December 12, 2017</td>\n",
       "      <td>1</td>\n",
       "    </tr>\n",
       "  </tbody>\n",
       "</table>\n",
       "</div>"
      ],
      "text/plain": [
       "   Unnamed: 0                                              title  \\\n",
       "0          12   Bad News For Trump — Mitch McConnell Says No ...   \n",
       "1          17   Mueller Spokesman Just F-cked Up Donald Trump...   \n",
       "2          18   SNL Hilariously Mocks Accused Child Molester ...   \n",
       "3          21   KY GOP State Rep. Commits Suicide Over Allega...   \n",
       "4          24   White House: It Wasn’t Sexist For Trump To Sl...   \n",
       "\n",
       "                                                text subject  \\\n",
       "0  Republicans have had seven years to come up wi...    News   \n",
       "1  Trump supporters and the so-called president s...    News   \n",
       "2  Right now, the whole world is looking at the s...    News   \n",
       "3  In this #METOO moment, many powerful men are b...    News   \n",
       "4  A backlash ensued after Donald Trump launched ...    News   \n",
       "\n",
       "                date  fake  \n",
       "0  December 21, 2017     1  \n",
       "1  December 17, 2017     1  \n",
       "2  December 17, 2017     1  \n",
       "3  December 13, 2017     1  \n",
       "4  December 12, 2017     1  "
      ]
     },
     "execution_count": 3,
     "metadata": {},
     "output_type": "execute_result"
    }
   ],
   "source": [
    "train.head()"
   ]
  },
  {
   "cell_type": "markdown",
   "id": "f3779630",
   "metadata": {
    "papermill": {
     "duration": 0.023569,
     "end_time": "2022-01-12T12:18:39.763479",
     "exception": false,
     "start_time": "2022-01-12T12:18:39.739910",
     "status": "completed"
    },
    "tags": []
   },
   "source": [
    "### Removing the label\n",
    "\n",
    "In test data we already have the label. So we need to remove it."
   ]
  },
  {
   "cell_type": "code",
   "execution_count": 4,
   "id": "070569df",
   "metadata": {
    "execution": {
     "iopub.execute_input": "2022-01-12T12:18:39.818717Z",
     "iopub.status.busy": "2022-01-12T12:18:39.818090Z",
     "iopub.status.idle": "2022-01-12T12:18:39.825894Z",
     "shell.execute_reply": "2022-01-12T12:18:39.825354Z",
     "shell.execute_reply.started": "2022-01-12T11:05:09.115033Z"
    },
    "papermill": {
     "duration": 0.038611,
     "end_time": "2022-01-12T12:18:39.826043",
     "exception": false,
     "start_time": "2022-01-12T12:18:39.787432",
     "status": "completed"
    },
    "tags": []
   },
   "outputs": [],
   "source": [
    "test = test.iloc[:, :-1]"
   ]
  },
  {
   "cell_type": "code",
   "execution_count": 5,
   "id": "528b1146",
   "metadata": {
    "execution": {
     "iopub.execute_input": "2022-01-12T12:18:39.888708Z",
     "iopub.status.busy": "2022-01-12T12:18:39.887762Z",
     "iopub.status.idle": "2022-01-12T12:18:39.891003Z",
     "shell.execute_reply": "2022-01-12T12:18:39.891525Z",
     "shell.execute_reply.started": "2022-01-12T11:05:22.812454Z"
    },
    "papermill": {
     "duration": 0.03912,
     "end_time": "2022-01-12T12:18:39.891689",
     "exception": false,
     "start_time": "2022-01-12T12:18:39.852569",
     "status": "completed"
    },
    "tags": []
   },
   "outputs": [
    {
     "data": {
      "text/html": [
       "<div>\n",
       "<style scoped>\n",
       "    .dataframe tbody tr th:only-of-type {\n",
       "        vertical-align: middle;\n",
       "    }\n",
       "\n",
       "    .dataframe tbody tr th {\n",
       "        vertical-align: top;\n",
       "    }\n",
       "\n",
       "    .dataframe thead th {\n",
       "        text-align: right;\n",
       "    }\n",
       "</style>\n",
       "<table border=\"1\" class=\"dataframe\">\n",
       "  <thead>\n",
       "    <tr style=\"text-align: right;\">\n",
       "      <th></th>\n",
       "      <th>Unnamed: 0</th>\n",
       "      <th>title</th>\n",
       "      <th>text</th>\n",
       "      <th>subject</th>\n",
       "      <th>date</th>\n",
       "    </tr>\n",
       "  </thead>\n",
       "  <tbody>\n",
       "    <tr>\n",
       "      <th>0</th>\n",
       "      <td>0</td>\n",
       "      <td>Donald Trump Sends Out Embarrassing New Year’...</td>\n",
       "      <td>Donald Trump just couldn t wish all Americans ...</td>\n",
       "      <td>News</td>\n",
       "      <td>December 31, 2017</td>\n",
       "    </tr>\n",
       "    <tr>\n",
       "      <th>1</th>\n",
       "      <td>1</td>\n",
       "      <td>Drunk Bragging Trump Staffer Started Russian ...</td>\n",
       "      <td>House Intelligence Committee Chairman Devin Nu...</td>\n",
       "      <td>News</td>\n",
       "      <td>December 31, 2017</td>\n",
       "    </tr>\n",
       "    <tr>\n",
       "      <th>2</th>\n",
       "      <td>2</td>\n",
       "      <td>Sheriff David Clarke Becomes An Internet Joke...</td>\n",
       "      <td>On Friday, it was revealed that former Milwauk...</td>\n",
       "      <td>News</td>\n",
       "      <td>December 30, 2017</td>\n",
       "    </tr>\n",
       "    <tr>\n",
       "      <th>3</th>\n",
       "      <td>3</td>\n",
       "      <td>Trump Is So Obsessed He Even Has Obama’s Name...</td>\n",
       "      <td>On Christmas day, Donald Trump announced that ...</td>\n",
       "      <td>News</td>\n",
       "      <td>December 29, 2017</td>\n",
       "    </tr>\n",
       "    <tr>\n",
       "      <th>4</th>\n",
       "      <td>4</td>\n",
       "      <td>Pope Francis Just Called Out Donald Trump Dur...</td>\n",
       "      <td>Pope Francis used his annual Christmas Day mes...</td>\n",
       "      <td>News</td>\n",
       "      <td>December 25, 2017</td>\n",
       "    </tr>\n",
       "  </tbody>\n",
       "</table>\n",
       "</div>"
      ],
      "text/plain": [
       "   Unnamed: 0                                              title  \\\n",
       "0           0   Donald Trump Sends Out Embarrassing New Year’...   \n",
       "1           1   Drunk Bragging Trump Staffer Started Russian ...   \n",
       "2           2   Sheriff David Clarke Becomes An Internet Joke...   \n",
       "3           3   Trump Is So Obsessed He Even Has Obama’s Name...   \n",
       "4           4   Pope Francis Just Called Out Donald Trump Dur...   \n",
       "\n",
       "                                                text subject  \\\n",
       "0  Donald Trump just couldn t wish all Americans ...    News   \n",
       "1  House Intelligence Committee Chairman Devin Nu...    News   \n",
       "2  On Friday, it was revealed that former Milwauk...    News   \n",
       "3  On Christmas day, Donald Trump announced that ...    News   \n",
       "4  Pope Francis used his annual Christmas Day mes...    News   \n",
       "\n",
       "                date  \n",
       "0  December 31, 2017  \n",
       "1  December 31, 2017  \n",
       "2  December 30, 2017  \n",
       "3  December 29, 2017  \n",
       "4  December 25, 2017  "
      ]
     },
     "execution_count": 5,
     "metadata": {},
     "output_type": "execute_result"
    }
   ],
   "source": [
    "test.head()"
   ]
  },
  {
   "cell_type": "markdown",
   "id": "49f9ed00",
   "metadata": {
    "papermill": {
     "duration": 0.025567,
     "end_time": "2022-01-12T12:18:39.941939",
     "exception": false,
     "start_time": "2022-01-12T12:18:39.916372",
     "status": "completed"
    },
    "tags": []
   },
   "source": [
    "### Parameter for judgement\n",
    "Lots of time in competettions kaggle implements a metric for judging the results. Think of multiclass logloss as a metric."
   ]
  },
  {
   "cell_type": "code",
   "execution_count": 6,
   "id": "833c2413",
   "metadata": {
    "execution": {
     "iopub.execute_input": "2022-01-12T12:18:40.001115Z",
     "iopub.status.busy": "2022-01-12T12:18:40.000166Z",
     "iopub.status.idle": "2022-01-12T12:18:40.003340Z",
     "shell.execute_reply": "2022-01-12T12:18:40.002719Z",
     "shell.execute_reply.started": "2022-01-12T11:14:14.032337Z"
    },
    "papermill": {
     "duration": 0.036248,
     "end_time": "2022-01-12T12:18:40.003491",
     "exception": false,
     "start_time": "2022-01-12T12:18:39.967243",
     "status": "completed"
    },
    "tags": []
   },
   "outputs": [],
   "source": [
    "def multiclass_logloss(actual, predicted, eps=1e-15):\n",
    "    \"\"\"Multi class version of Logarithmic Loss metric.\n",
    "    :param actual: Array containing the actual target classes\n",
    "    :param predicted: Matrix with class predictions, one probability per class\n",
    "    \"\"\"\n",
    "    # Convert 'actual' to a binary array if it's not already:\n",
    "    if len(actual.shape) == 1:\n",
    "        actual2 = np.zeros((actual.shape[0], predicted.shape[1]))\n",
    "        for i, val in enumerate(actual):\n",
    "            actual2[i, val] = 1\n",
    "        actual = actual2\n",
    "\n",
    "    clip = np.clip(predicted, eps, 1 - eps)\n",
    "    rows = actual.shape[0]\n",
    "    vsota = np.sum(actual * np.log(clip))\n",
    "    return -1.0 / rows * vsota"
   ]
  },
  {
   "cell_type": "markdown",
   "id": "bf3f1d56",
   "metadata": {
    "papermill": {
     "duration": 0.02407,
     "end_time": "2022-01-12T12:18:40.052112",
     "exception": false,
     "start_time": "2022-01-12T12:18:40.028042",
     "status": "completed"
    },
    "tags": []
   },
   "source": [
    "## Encoding labels\n",
    "\n",
    "We use the LabelEncoder from scikit-learn to convert text labels to integers, 0, 1 2. In this case its only 0 or 1. But this is an important step."
   ]
  },
  {
   "cell_type": "code",
   "execution_count": 7,
   "id": "a0975e17",
   "metadata": {
    "execution": {
     "iopub.execute_input": "2022-01-12T12:18:40.104962Z",
     "iopub.status.busy": "2022-01-12T12:18:40.104330Z",
     "iopub.status.idle": "2022-01-12T12:18:40.114149Z",
     "shell.execute_reply": "2022-01-12T12:18:40.114673Z",
     "shell.execute_reply.started": "2022-01-12T11:19:35.759272Z"
    },
    "papermill": {
     "duration": 0.03848,
     "end_time": "2022-01-12T12:18:40.114983",
     "exception": false,
     "start_time": "2022-01-12T12:18:40.076503",
     "status": "completed"
    },
    "tags": []
   },
   "outputs": [
    {
     "data": {
      "text/plain": [
       "array([1, 1, 1, ..., 0, 0, 0])"
      ]
     },
     "execution_count": 7,
     "metadata": {},
     "output_type": "execute_result"
    }
   ],
   "source": [
    "lbl_enc = preprocessing.LabelEncoder()\n",
    "y = lbl_enc.fit_transform(train.fake.values)\n",
    "\n",
    "y"
   ]
  },
  {
   "cell_type": "markdown",
   "id": "e4782d1b",
   "metadata": {
    "papermill": {
     "duration": 0.024257,
     "end_time": "2022-01-12T12:18:40.164709",
     "exception": false,
     "start_time": "2022-01-12T12:18:40.140452",
     "status": "completed"
    },
    "tags": []
   },
   "source": [
    "### train_test_split\n",
    "splitting into train, test and validation sets."
   ]
  },
  {
   "cell_type": "code",
   "execution_count": 8,
   "id": "3e298eb1",
   "metadata": {
    "execution": {
     "iopub.execute_input": "2022-01-12T12:18:40.217220Z",
     "iopub.status.busy": "2022-01-12T12:18:40.216592Z",
     "iopub.status.idle": "2022-01-12T12:18:40.233009Z",
     "shell.execute_reply": "2022-01-12T12:18:40.233517Z",
     "shell.execute_reply.started": "2022-01-12T11:41:04.831489Z"
    },
    "papermill": {
     "duration": 0.04426,
     "end_time": "2022-01-12T12:18:40.233754",
     "exception": false,
     "start_time": "2022-01-12T12:18:40.189494",
     "status": "completed"
    },
    "tags": []
   },
   "outputs": [],
   "source": [
    "xtrain, xvalid, ytrain, yvalid = train_test_split(train.text.values, y, \n",
    "                                                  stratify=y, \n",
    "                                                  random_state=42, \n",
    "                                                  test_size=0.1, shuffle=True)"
   ]
  },
  {
   "cell_type": "code",
   "execution_count": 9,
   "id": "b7f1fccb",
   "metadata": {
    "execution": {
     "iopub.execute_input": "2022-01-12T12:18:40.286673Z",
     "iopub.status.busy": "2022-01-12T12:18:40.286039Z",
     "iopub.status.idle": "2022-01-12T12:18:40.290909Z",
     "shell.execute_reply": "2022-01-12T12:18:40.291449Z",
     "shell.execute_reply.started": "2022-01-12T11:47:16.271644Z"
    },
    "papermill": {
     "duration": 0.032602,
     "end_time": "2022-01-12T12:18:40.291612",
     "exception": false,
     "start_time": "2022-01-12T12:18:40.259010",
     "status": "completed"
    },
    "tags": []
   },
   "outputs": [
    {
     "name": "stdout",
     "output_type": "stream",
     "text": [
      "(9758,)\n",
      "(1085,)\n"
     ]
    }
   ],
   "source": [
    "print (xtrain.shape)\n",
    "print (xvalid.shape)"
   ]
  },
  {
   "cell_type": "markdown",
   "id": "dddc06ca",
   "metadata": {
    "papermill": {
     "duration": 0.024566,
     "end_time": "2022-01-12T12:18:40.341168",
     "exception": false,
     "start_time": "2022-01-12T12:18:40.316602",
     "status": "completed"
    },
    "tags": []
   },
   "source": [
    "## Building Basic Models\n",
    "Let's start building our very first model.\n",
    "\n",
    "Our very first model is a simple TF-IDF (Term Frequency - Inverse Document Frequency) followed by a simple Logistic Regression."
   ]
  },
  {
   "cell_type": "code",
   "execution_count": 10,
   "id": "76a5c171",
   "metadata": {
    "execution": {
     "iopub.execute_input": "2022-01-12T12:18:40.393720Z",
     "iopub.status.busy": "2022-01-12T12:18:40.393129Z",
     "iopub.status.idle": "2022-01-12T12:19:09.232545Z",
     "shell.execute_reply": "2022-01-12T12:19:09.231692Z",
     "shell.execute_reply.started": "2022-01-12T11:56:39.945395Z"
    },
    "papermill": {
     "duration": 28.866704,
     "end_time": "2022-01-12T12:19:09.232725",
     "exception": false,
     "start_time": "2022-01-12T12:18:40.366021",
     "status": "completed"
    },
    "tags": []
   },
   "outputs": [
    {
     "name": "stdout",
     "output_type": "stream",
     "text": [
      "CPU times: user 4 µs, sys: 0 ns, total: 4 µs\n",
      "Wall time: 6.91 µs\n"
     ]
    }
   ],
   "source": [
    "%time\n",
    "# Always start with these features. They work (almost) everytime!\n",
    "tfv = TfidfVectorizer(min_df=3,  max_features=None, \n",
    "            strip_accents='unicode', analyzer='word',token_pattern=r'\\w{1,}',\n",
    "            ngram_range=(1, 3), use_idf=1,smooth_idf=1,sublinear_tf=1,\n",
    "            stop_words = 'english')\n",
    "\n",
    "# Fitting TF-IDF to both training and test sets (semi-supervised learning)\n",
    "tfv.fit(list(xtrain) + list(xvalid))\n",
    "xtrain_tfv =  tfv.transform(xtrain) \n",
    "xvalid_tfv = tfv.transform(xvalid)"
   ]
  },
  {
   "cell_type": "code",
   "execution_count": 11,
   "id": "01c22e85",
   "metadata": {
    "execution": {
     "iopub.execute_input": "2022-01-12T12:19:09.289443Z",
     "iopub.status.busy": "2022-01-12T12:19:09.288282Z",
     "iopub.status.idle": "2022-01-12T12:19:09.292280Z",
     "shell.execute_reply": "2022-01-12T12:19:09.291625Z",
     "shell.execute_reply.started": "2022-01-12T12:14:25.035274Z"
    },
    "papermill": {
     "duration": 0.034104,
     "end_time": "2022-01-12T12:19:09.292446",
     "exception": false,
     "start_time": "2022-01-12T12:19:09.258342",
     "status": "completed"
    },
    "tags": []
   },
   "outputs": [
    {
     "data": {
      "text/plain": [
       "<9758x193710 sparse matrix of type '<class 'numpy.float64'>'\n",
       "\twith 2555186 stored elements in Compressed Sparse Row format>"
      ]
     },
     "execution_count": 11,
     "metadata": {},
     "output_type": "execute_result"
    }
   ],
   "source": [
    "xtrain_tfv"
   ]
  },
  {
   "cell_type": "code",
   "execution_count": 12,
   "id": "41419a03",
   "metadata": {
    "execution": {
     "iopub.execute_input": "2022-01-12T12:19:09.351175Z",
     "iopub.status.busy": "2022-01-12T12:19:09.350506Z",
     "iopub.status.idle": "2022-01-12T12:19:12.424501Z",
     "shell.execute_reply": "2022-01-12T12:19:12.425479Z",
     "shell.execute_reply.started": "2022-01-12T11:57:17.034706Z"
    },
    "papermill": {
     "duration": 3.107077,
     "end_time": "2022-01-12T12:19:12.425780",
     "exception": false,
     "start_time": "2022-01-12T12:19:09.318703",
     "status": "completed"
    },
    "tags": []
   },
   "outputs": [
    {
     "name": "stdout",
     "output_type": "stream",
     "text": [
      "CPU times: user 4 µs, sys: 0 ns, total: 4 µs\n",
      "Wall time: 6.91 µs\n",
      "logloss: 0.163 \n"
     ]
    }
   ],
   "source": [
    "%time\n",
    "\n",
    "# Fitting a simple Logistic Regression on TFIDF\n",
    "clf = LogisticRegression(C=1.0)\n",
    "clf.fit(xtrain_tfv, ytrain)\n",
    "predictions = clf.predict_proba(xvalid_tfv)\n",
    "\n",
    "print (\"logloss: %0.3f \" % multiclass_logloss(yvalid, predictions))"
   ]
  },
  {
   "cell_type": "markdown",
   "id": "95619fce",
   "metadata": {
    "papermill": {
     "duration": 0.043674,
     "end_time": "2022-01-12T12:19:12.518812",
     "exception": false,
     "start_time": "2022-01-12T12:19:12.475138",
     "status": "completed"
    },
    "tags": []
   },
   "source": [
    "And there we go. We have our first model with a multiclass logloss of 0.163.\n",
    "\n",
    "But we are greedy and want a better score. Lets look at the same model with a different data.\n",
    "\n",
    "Instead of using TF-IDF, we can also use word counts as features. This can be done easily using CountVectorizer from scikit-learn."
   ]
  },
  {
   "cell_type": "code",
   "execution_count": 13,
   "id": "16037f42",
   "metadata": {
    "execution": {
     "iopub.execute_input": "2022-01-12T12:19:12.599307Z",
     "iopub.status.busy": "2022-01-12T12:19:12.583161Z",
     "iopub.status.idle": "2022-01-12T12:19:55.767985Z",
     "shell.execute_reply": "2022-01-12T12:19:55.767186Z",
     "shell.execute_reply.started": "2022-01-12T11:59:10.379356Z"
    },
    "papermill": {
     "duration": 43.22308,
     "end_time": "2022-01-12T12:19:55.768172",
     "exception": false,
     "start_time": "2022-01-12T12:19:12.545092",
     "status": "completed"
    },
    "tags": []
   },
   "outputs": [
    {
     "name": "stdout",
     "output_type": "stream",
     "text": [
      "CPU times: user 3 µs, sys: 0 ns, total: 3 µs\n",
      "Wall time: 6.91 µs\n"
     ]
    }
   ],
   "source": [
    "%time\n",
    "ctv = CountVectorizer(analyzer='word',token_pattern=r'\\w{1,}',\n",
    "            ngram_range=(1, 3), stop_words = 'english')\n",
    "\n",
    "# Fitting Count Vectorizer to both training and test sets (semi-supervised learning)\n",
    "ctv.fit(list(xtrain) + list(xvalid))\n",
    "xtrain_ctv =  ctv.transform(xtrain) \n",
    "xvalid_ctv = ctv.transform(xvalid)"
   ]
  },
  {
   "cell_type": "code",
   "execution_count": 14,
   "id": "4fd426ad",
   "metadata": {
    "execution": {
     "iopub.execute_input": "2022-01-12T12:19:55.829083Z",
     "iopub.status.busy": "2022-01-12T12:19:55.828030Z",
     "iopub.status.idle": "2022-01-12T12:21:07.517467Z",
     "shell.execute_reply": "2022-01-12T12:21:07.517987Z",
     "shell.execute_reply.started": "2022-01-12T12:02:31.449376Z"
    },
    "papermill": {
     "duration": 71.723319,
     "end_time": "2022-01-12T12:21:07.518181",
     "exception": false,
     "start_time": "2022-01-12T12:19:55.794862",
     "status": "completed"
    },
    "tags": []
   },
   "outputs": [
    {
     "name": "stdout",
     "output_type": "stream",
     "text": [
      "CPU times: user 3 µs, sys: 0 ns, total: 3 µs\n",
      "Wall time: 7.15 µs\n",
      "logloss: 0.056 \n"
     ]
    }
   ],
   "source": [
    "%time\n",
    "# Fitting a simple Logistic Regression on Counts\n",
    "clf = LogisticRegression(C=1.0)\n",
    "clf.fit(xtrain_ctv, ytrain)\n",
    "predictions = clf.predict_proba(xvalid_ctv)\n",
    "\n",
    "print (\"logloss: %0.3f \" % multiclass_logloss(yvalid, predictions))"
   ]
  },
  {
   "cell_type": "markdown",
   "id": "4d421ca3",
   "metadata": {
    "papermill": {
     "duration": 0.026654,
     "end_time": "2022-01-12T12:21:07.571768",
     "exception": false,
     "start_time": "2022-01-12T12:21:07.545114",
     "status": "completed"
    },
    "tags": []
   },
   "source": [
    "Aaaaanddddddd Wallah! We just improved our first model by 0.1!!!\n",
    "\n",
    "Next, let's try a very simple model which was quite famous in ancient times - Naive Bayes.\n",
    "\n",
    "Let's see what happens when we use naive bayes on these two datasets:"
   ]
  },
  {
   "cell_type": "code",
   "execution_count": 15,
   "id": "0367ca8e",
   "metadata": {
    "execution": {
     "iopub.execute_input": "2022-01-12T12:21:07.632862Z",
     "iopub.status.busy": "2022-01-12T12:21:07.632154Z",
     "iopub.status.idle": "2022-01-12T12:21:07.671587Z",
     "shell.execute_reply": "2022-01-12T12:21:07.671082Z",
     "shell.execute_reply.started": "2022-01-12T12:03:16.493643Z"
    },
    "papermill": {
     "duration": 0.072945,
     "end_time": "2022-01-12T12:21:07.671738",
     "exception": false,
     "start_time": "2022-01-12T12:21:07.598793",
     "status": "completed"
    },
    "tags": []
   },
   "outputs": [
    {
     "name": "stdout",
     "output_type": "stream",
     "text": [
      "CPU times: user 3 µs, sys: 1e+03 ns, total: 4 µs\n",
      "Wall time: 7.39 µs\n",
      "logloss: 0.125 \n"
     ]
    }
   ],
   "source": [
    "%time\n",
    "# Fitting a simple Naive Bayes on TFIDF\n",
    "clf = MultinomialNB()\n",
    "clf.fit(xtrain_tfv, ytrain)\n",
    "predictions = clf.predict_proba(xvalid_tfv)\n",
    "\n",
    "print (\"logloss: %0.3f \" % multiclass_logloss(yvalid, predictions))"
   ]
  },
  {
   "cell_type": "code",
   "execution_count": 16,
   "id": "227c4488",
   "metadata": {
    "execution": {
     "iopub.execute_input": "2022-01-12T12:21:07.730296Z",
     "iopub.status.busy": "2022-01-12T12:21:07.729690Z",
     "iopub.status.idle": "2022-01-12T12:21:08.028328Z",
     "shell.execute_reply": "2022-01-12T12:21:08.027451Z",
     "shell.execute_reply.started": "2022-01-12T12:03:16.495469Z"
    },
    "papermill": {
     "duration": 0.328965,
     "end_time": "2022-01-12T12:21:08.028481",
     "exception": false,
     "start_time": "2022-01-12T12:21:07.699516",
     "status": "completed"
    },
    "tags": []
   },
   "outputs": [
    {
     "name": "stdout",
     "output_type": "stream",
     "text": [
      "CPU times: user 3 µs, sys: 1 µs, total: 4 µs\n",
      "Wall time: 6.68 µs\n",
      "logloss: 0.866 \n"
     ]
    }
   ],
   "source": [
    "%time\n",
    "# Fitting a simple Naive Bayes on Counts\n",
    "clf = MultinomialNB()\n",
    "clf.fit(xtrain_ctv, ytrain)\n",
    "predictions = clf.predict_proba(xvalid_ctv)\n",
    "\n",
    "print (\"logloss: %0.3f \" % multiclass_logloss(yvalid, predictions))"
   ]
  },
  {
   "cell_type": "markdown",
   "id": "a9f2ed1c",
   "metadata": {
    "papermill": {
     "duration": 0.027512,
     "end_time": "2022-01-12T12:21:08.084090",
     "exception": false,
     "start_time": "2022-01-12T12:21:08.056578",
     "status": "completed"
    },
    "tags": []
   },
   "source": [
    "Whoa! Seems like old stuff still works good!!!! One more ancient algorithms in the list is SVMs. Some people \"love\" SVMs. So, we must try SVM on this dataset.\n",
    "\n",
    "Since SVMs take a lot of time, we will reduce the number of features from the TF-IDF using Singular Value Decomposition before applying SVM.\n",
    "\n",
    "Also, note that before applying SVMs, we must standardize the data."
   ]
  },
  {
   "cell_type": "code",
   "execution_count": 17,
   "id": "719fb03d",
   "metadata": {
    "execution": {
     "iopub.execute_input": "2022-01-12T12:21:08.145511Z",
     "iopub.status.busy": "2022-01-12T12:21:08.144494Z",
     "iopub.status.idle": "2022-01-12T12:21:26.186333Z",
     "shell.execute_reply": "2022-01-12T12:21:26.186867Z",
     "shell.execute_reply.started": "2022-01-12T12:03:16.499154Z"
    },
    "papermill": {
     "duration": 18.073617,
     "end_time": "2022-01-12T12:21:26.187042",
     "exception": false,
     "start_time": "2022-01-12T12:21:08.113425",
     "status": "completed"
    },
    "tags": []
   },
   "outputs": [
    {
     "name": "stdout",
     "output_type": "stream",
     "text": [
      "CPU times: user 3 µs, sys: 1 µs, total: 4 µs\n",
      "Wall time: 6.91 µs\n"
     ]
    }
   ],
   "source": [
    "%time\n",
    "# Apply SVD, I chose 120 components. 120-200 components are good enough for SVM model.\n",
    "svd = decomposition.TruncatedSVD(n_components=120)\n",
    "svd.fit(xtrain_tfv)\n",
    "xtrain_svd = svd.transform(xtrain_tfv)\n",
    "xvalid_svd = svd.transform(xvalid_tfv)\n",
    "\n",
    "# Scale the data obtained from SVD. Renaming variable to reuse without scaling.\n",
    "scl = preprocessing.StandardScaler()\n",
    "scl.fit(xtrain_svd)\n",
    "xtrain_svd_scl = scl.transform(xtrain_svd)\n",
    "xvalid_svd_scl = scl.transform(xvalid_svd)"
   ]
  },
  {
   "cell_type": "markdown",
   "id": "cf00e3a1",
   "metadata": {
    "papermill": {
     "duration": 0.028603,
     "end_time": "2022-01-12T12:21:26.244399",
     "exception": false,
     "start_time": "2022-01-12T12:21:26.215796",
     "status": "completed"
    },
    "tags": []
   },
   "source": [
    "Now it's time to apply SVM. After running the following cell, feel free to go for a walk or talk to your girlfriend/boyfriend. :P"
   ]
  },
  {
   "cell_type": "code",
   "execution_count": 18,
   "id": "4e3d062c",
   "metadata": {
    "execution": {
     "iopub.execute_input": "2022-01-12T12:21:26.309092Z",
     "iopub.status.busy": "2022-01-12T12:21:26.307861Z",
     "iopub.status.idle": "2022-01-12T12:21:52.784785Z",
     "shell.execute_reply": "2022-01-12T12:21:52.785293Z",
     "shell.execute_reply.started": "2022-01-12T12:03:16.500615Z"
    },
    "papermill": {
     "duration": 26.5126,
     "end_time": "2022-01-12T12:21:52.785487",
     "exception": false,
     "start_time": "2022-01-12T12:21:26.272887",
     "status": "completed"
    },
    "tags": []
   },
   "outputs": [
    {
     "name": "stdout",
     "output_type": "stream",
     "text": [
      "CPU times: user 2 µs, sys: 1e+03 ns, total: 3 µs\n",
      "Wall time: 7.15 µs\n",
      "logloss: 0.051 \n"
     ]
    }
   ],
   "source": [
    "%time\n",
    "# Fitting a simple SVM\n",
    "clf = SVC(C=1.0, probability=True) # since we need probabilities\n",
    "clf.fit(xtrain_svd_scl, ytrain)\n",
    "predictions = clf.predict_proba(xvalid_svd_scl)\n",
    "\n",
    "print (\"logloss: %0.3f \" % multiclass_logloss(yvalid, predictions))"
   ]
  },
  {
   "cell_type": "markdown",
   "id": "ad3e94e4",
   "metadata": {
    "papermill": {
     "duration": 0.030117,
     "end_time": "2022-01-12T12:21:52.845614",
     "exception": false,
     "start_time": "2022-01-12T12:21:52.815497",
     "status": "completed"
    },
    "tags": []
   },
   "source": [
    "Oops! time to get up! Looks like SVM doesn't perform well on this data...!\n",
    "\n",
    "Before moving further, lets apply the most popular algorithm on Kaggle: xgboost!"
   ]
  },
  {
   "cell_type": "code",
   "execution_count": 19,
   "id": "72c74eb6",
   "metadata": {
    "execution": {
     "iopub.execute_input": "2022-01-12T12:21:52.918368Z",
     "iopub.status.busy": "2022-01-12T12:21:52.916745Z",
     "iopub.status.idle": "2022-01-12T12:22:36.470620Z",
     "shell.execute_reply": "2022-01-12T12:22:36.471139Z",
     "shell.execute_reply.started": "2022-01-12T12:03:16.503723Z"
    },
    "papermill": {
     "duration": 43.594222,
     "end_time": "2022-01-12T12:22:36.471321",
     "exception": false,
     "start_time": "2022-01-12T12:21:52.877099",
     "status": "completed"
    },
    "tags": []
   },
   "outputs": [
    {
     "name": "stdout",
     "output_type": "stream",
     "text": [
      "CPU times: user 3 µs, sys: 1e+03 ns, total: 4 µs\n",
      "Wall time: 7.15 µs\n"
     ]
    },
    {
     "name": "stderr",
     "output_type": "stream",
     "text": [
      "/opt/conda/lib/python3.7/site-packages/xgboost/sklearn.py:1224: UserWarning: The use of label encoder in XGBClassifier is deprecated and will be removed in a future release. To remove this warning, do the following: 1) Pass option use_label_encoder=False when constructing XGBClassifier object; and 2) Encode your labels (y) as integers starting with 0, i.e. 0, 1, 2, ..., [num_class - 1].\n",
      "  warnings.warn(label_encoder_deprecation_msg, UserWarning)\n"
     ]
    },
    {
     "name": "stdout",
     "output_type": "stream",
     "text": [
      "[12:21:54] WARNING: ../src/learner.cc:1115: Starting in XGBoost 1.3.0, the default evaluation metric used with the objective 'binary:logistic' was changed from 'error' to 'logloss'. Explicitly set eval_metric if you'd like to restore the old behavior.\n",
      "logloss: 0.001 \n"
     ]
    }
   ],
   "source": [
    "%time\n",
    "# Fitting a simple xgboost on tf-idf\n",
    "clf = xgb.XGBClassifier(max_depth=7, n_estimators=200, colsample_bytree=0.8, \n",
    "                        subsample=0.8, nthread=10, learning_rate=0.1)\n",
    "clf.fit(xtrain_tfv.tocsc(), ytrain)\n",
    "predictions = clf.predict_proba(xvalid_tfv.tocsc())\n",
    "\n",
    "print (\"logloss: %0.3f \" % multiclass_logloss(yvalid, predictions))"
   ]
  },
  {
   "cell_type": "code",
   "execution_count": 20,
   "id": "cd86a874",
   "metadata": {
    "execution": {
     "iopub.execute_input": "2022-01-12T12:22:36.539732Z",
     "iopub.status.busy": "2022-01-12T12:22:36.539041Z",
     "iopub.status.idle": "2022-01-12T12:26:33.586995Z",
     "shell.execute_reply": "2022-01-12T12:26:33.587576Z"
    },
    "papermill": {
     "duration": 237.086219,
     "end_time": "2022-01-12T12:26:33.587761",
     "exception": false,
     "start_time": "2022-01-12T12:22:36.501542",
     "status": "completed"
    },
    "tags": []
   },
   "outputs": [
    {
     "name": "stdout",
     "output_type": "stream",
     "text": [
      "CPU times: user 0 ns, sys: 4 µs, total: 4 µs\n",
      "Wall time: 7.39 µs\n",
      "[12:22:43] WARNING: ../src/learner.cc:1115: Starting in XGBoost 1.3.0, the default evaluation metric used with the objective 'binary:logistic' was changed from 'error' to 'logloss'. Explicitly set eval_metric if you'd like to restore the old behavior.\n",
      "logloss: 0.001 \n"
     ]
    }
   ],
   "source": [
    "%time\n",
    "# Fitting a simple xgboost on tf-idf\n",
    "clf = xgb.XGBClassifier(max_depth=7, n_estimators=200, colsample_bytree=0.8, \n",
    "                        subsample=0.8, nthread=10, learning_rate=0.1)\n",
    "clf.fit(xtrain_ctv.tocsc(), ytrain)\n",
    "predictions = clf.predict_proba(xvalid_ctv.tocsc())\n",
    "\n",
    "print (\"logloss: %0.3f \" % multiclass_logloss(yvalid, predictions))"
   ]
  },
  {
   "cell_type": "code",
   "execution_count": 21,
   "id": "3ae8b711",
   "metadata": {
    "execution": {
     "iopub.execute_input": "2022-01-12T12:26:33.661311Z",
     "iopub.status.busy": "2022-01-12T12:26:33.660668Z",
     "iopub.status.idle": "2022-01-12T12:26:52.139426Z",
     "shell.execute_reply": "2022-01-12T12:26:52.138750Z"
    },
    "papermill": {
     "duration": 18.520423,
     "end_time": "2022-01-12T12:26:52.139726",
     "exception": false,
     "start_time": "2022-01-12T12:26:33.619303",
     "status": "completed"
    },
    "tags": []
   },
   "outputs": [
    {
     "name": "stdout",
     "output_type": "stream",
     "text": [
      "CPU times: user 3 µs, sys: 1e+03 ns, total: 4 µs\n",
      "Wall time: 7.39 µs\n",
      "[12:26:33] WARNING: ../src/learner.cc:1115: Starting in XGBoost 1.3.0, the default evaluation metric used with the objective 'binary:logistic' was changed from 'error' to 'logloss'. Explicitly set eval_metric if you'd like to restore the old behavior.\n",
      "logloss: 0.067 \n"
     ]
    }
   ],
   "source": [
    "%time\n",
    "# Fitting a simple xgboost on tf-idf svd features\n",
    "clf = xgb.XGBClassifier(max_depth=7, n_estimators=200, colsample_bytree=0.8, \n",
    "                        subsample=0.8, nthread=10, learning_rate=0.1)\n",
    "clf.fit(xtrain_svd, ytrain)\n",
    "predictions = clf.predict_proba(xvalid_svd)\n",
    "\n",
    "print (\"logloss: %0.3f \" % multiclass_logloss(yvalid, predictions))"
   ]
  },
  {
   "cell_type": "code",
   "execution_count": 22,
   "id": "780b88b7",
   "metadata": {
    "execution": {
     "iopub.execute_input": "2022-01-12T12:26:52.215483Z",
     "iopub.status.busy": "2022-01-12T12:26:52.214769Z",
     "iopub.status.idle": "2022-01-12T12:27:01.680867Z",
     "shell.execute_reply": "2022-01-12T12:27:01.681341Z"
    },
    "papermill": {
     "duration": 9.50721,
     "end_time": "2022-01-12T12:27:01.681526",
     "exception": false,
     "start_time": "2022-01-12T12:26:52.174316",
     "status": "completed"
    },
    "tags": []
   },
   "outputs": [
    {
     "name": "stdout",
     "output_type": "stream",
     "text": [
      "CPU times: user 4 µs, sys: 0 ns, total: 4 µs\n",
      "Wall time: 14.1 µs\n",
      "[12:26:52] WARNING: ../src/learner.cc:1115: Starting in XGBoost 1.3.0, the default evaluation metric used with the objective 'binary:logistic' was changed from 'error' to 'logloss'. Explicitly set eval_metric if you'd like to restore the old behavior.\n",
      "logloss: 0.074 \n"
     ]
    }
   ],
   "source": [
    "%time\n",
    "# Fitting a simple xgboost on tf-idf svd features\n",
    "clf = xgb.XGBClassifier(nthread=10)\n",
    "clf.fit(xtrain_svd, ytrain)\n",
    "predictions = clf.predict_proba(xvalid_svd)\n",
    "\n",
    "print (\"logloss: %0.3f \" % multiclass_logloss(yvalid, predictions))"
   ]
  },
  {
   "cell_type": "markdown",
   "id": "15a17ab4",
   "metadata": {
    "papermill": {
     "duration": 0.033526,
     "end_time": "2022-01-12T12:27:01.748891",
     "exception": false,
     "start_time": "2022-01-12T12:27:01.715365",
     "status": "completed"
    },
    "tags": []
   },
   "source": [
    "Seems like no luck with XGBoost! But that is not correct. I haven't done any hyperparameter optimizations yet. And since I'm lazy, I'll just tell you how to do it and you can do it on your own! ;). This will be discussed in the next section. The grid search!"
   ]
  }
 ],
 "metadata": {
  "kernelspec": {
   "display_name": "Python 3",
   "language": "python",
   "name": "python3"
  },
  "language_info": {
   "codemirror_mode": {
    "name": "ipython",
    "version": 3
   },
   "file_extension": ".py",
   "mimetype": "text/x-python",
   "name": "python",
   "nbconvert_exporter": "python",
   "pygments_lexer": "ipython3",
   "version": "3.7.12"
  },
  "papermill": {
   "default_parameters": {},
   "duration": 519.076279,
   "end_time": "2022-01-12T12:27:04.294252",
   "environment_variables": {},
   "exception": null,
   "input_path": "__notebook__.ipynb",
   "output_path": "__notebook__.ipynb",
   "parameters": {},
   "start_time": "2022-01-12T12:18:25.217973",
   "version": "2.3.3"
  }
 },
 "nbformat": 4,
 "nbformat_minor": 5
}
