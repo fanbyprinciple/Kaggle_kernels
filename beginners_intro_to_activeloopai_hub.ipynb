{
  "nbformat": 4,
  "nbformat_minor": 0,
  "metadata": {
    "colab": {
      "name": "beginners intro to activeloopai/hub",
      "provenance": [],
      "authorship_tag": "ABX9TyPtef62lmA0DV8xPEwRisfR",
      "include_colab_link": true
    },
    "kernelspec": {
      "name": "python3",
      "display_name": "Python 3"
    },
    "language_info": {
      "name": "python"
    }
  },
  "cells": [
    {
      "cell_type": "markdown",
      "metadata": {
        "id": "view-in-github",
        "colab_type": "text"
      },
      "source": [
        "<a href=\"https://colab.research.google.com/github/fanbyprinciple/kaggle_kernels/blob/master/beginners_intro_to_activeloopai_hub.ipynb\" target=\"_parent\"><img src=\"https://colab.research.google.com/assets/colab-badge.svg\" alt=\"Open In Colab\"/></a>"
      ]
    },
    {
      "cell_type": "markdown",
      "source": [
        "### INSTALLING"
      ],
      "metadata": {
        "id": "oCkAgsgq_1cN"
      }
    },
    {
      "cell_type": "code",
      "execution_count": 1,
      "metadata": {
        "colab": {
          "base_uri": "https://localhost:8080/"
        },
        "id": "DDRCyr_cwNUs",
        "outputId": "e5ab364c-7d84-4e52-905a-e879a0d09a3e"
      },
      "outputs": [
        {
          "output_type": "stream",
          "name": "stdout",
          "text": [
            "Requirement already satisfied: hub in /usr/local/lib/python3.7/dist-packages (2.1.1)\n",
            "Requirement already satisfied: types-click in /usr/local/lib/python3.7/dist-packages (from hub) (7.1.8)\n",
            "Requirement already satisfied: pillow==8.3.2 in /usr/local/lib/python3.7/dist-packages (from hub) (8.3.2)\n",
            "Requirement already satisfied: typing-extensions>=3.10.0.0 in /usr/local/lib/python3.7/dist-packages (from hub) (3.10.0.2)\n",
            "Requirement already satisfied: types-requests in /usr/local/lib/python3.7/dist-packages (from hub) (2.26.1)\n",
            "Requirement already satisfied: google-cloud-storage~=1.42.0 in /usr/local/lib/python3.7/dist-packages (from hub) (1.42.3)\n",
            "Requirement already satisfied: google-auth-oauthlib~=0.4.5 in /usr/local/lib/python3.7/dist-packages (from hub) (0.4.6)\n",
            "Requirement already satisfied: google-auth~=2.0.1 in /usr/local/lib/python3.7/dist-packages (from hub) (2.0.2)\n",
            "Requirement already satisfied: humbug>=0.2.6 in /usr/local/lib/python3.7/dist-packages (from hub) (0.2.7)\n",
            "Requirement already satisfied: boto3 in /usr/local/lib/python3.7/dist-packages (from hub) (1.20.23)\n",
            "Requirement already satisfied: hub-shm in /usr/local/lib/python3.7/dist-packages (from hub) (1.0.1)\n",
            "Requirement already satisfied: numcodecs~=0.7.3 in /usr/local/lib/python3.7/dist-packages (from hub) (0.7.3)\n",
            "Requirement already satisfied: pickle5>=0.0.11 in /usr/local/lib/python3.7/dist-packages (from hub) (0.0.12)\n",
            "Requirement already satisfied: numpy in /usr/local/lib/python3.7/dist-packages (from hub) (1.19.5)\n",
            "Requirement already satisfied: lz4 in /usr/local/lib/python3.7/dist-packages (from hub) (3.1.10)\n",
            "Requirement already satisfied: tqdm in /usr/local/lib/python3.7/dist-packages (from hub) (4.62.3)\n",
            "Requirement already satisfied: boto3-stubs[essential] in /usr/local/lib/python3.7/dist-packages (from hub) (1.20.23)\n",
            "Requirement already satisfied: miniaudio~=1.44 in /usr/local/lib/python3.7/dist-packages (from hub) (1.45)\n",
            "Requirement already satisfied: pathos in /usr/local/lib/python3.7/dist-packages (from hub) (0.2.8)\n",
            "Requirement already satisfied: pyasn1-modules>=0.2.1 in /usr/local/lib/python3.7/dist-packages (from google-auth~=2.0.1->hub) (0.2.8)\n",
            "Requirement already satisfied: setuptools>=40.3.0 in /usr/local/lib/python3.7/dist-packages (from google-auth~=2.0.1->hub) (57.4.0)\n",
            "Requirement already satisfied: cachetools<5.0,>=2.0.0 in /usr/local/lib/python3.7/dist-packages (from google-auth~=2.0.1->hub) (4.2.4)\n",
            "Requirement already satisfied: rsa<5,>=3.1.4 in /usr/local/lib/python3.7/dist-packages (from google-auth~=2.0.1->hub) (4.8)\n",
            "Requirement already satisfied: requests-oauthlib>=0.7.0 in /usr/local/lib/python3.7/dist-packages (from google-auth-oauthlib~=0.4.5->hub) (1.3.0)\n",
            "Requirement already satisfied: google-resumable-media<3.0dev,>=1.3.0 in /usr/local/lib/python3.7/dist-packages (from google-cloud-storage~=1.42.0->hub) (2.1.0)\n",
            "Requirement already satisfied: google-cloud-core<3.0dev,>=1.6.0 in /usr/local/lib/python3.7/dist-packages (from google-cloud-storage~=1.42.0->hub) (2.2.1)\n",
            "Requirement already satisfied: google-api-core<3.0dev,>=1.29.0 in /usr/local/lib/python3.7/dist-packages (from google-cloud-storage~=1.42.0->hub) (2.3.0)\n",
            "Requirement already satisfied: protobuf in /usr/local/lib/python3.7/dist-packages (from google-cloud-storage~=1.42.0->hub) (3.17.3)\n",
            "Requirement already satisfied: requests<3.0.0dev,>=2.18.0 in /usr/local/lib/python3.7/dist-packages (from google-cloud-storage~=1.42.0->hub) (2.23.0)\n",
            "Requirement already satisfied: six in /usr/local/lib/python3.7/dist-packages (from google-cloud-storage~=1.42.0->hub) (1.15.0)\n",
            "Requirement already satisfied: googleapis-common-protos<2.0dev,>=1.52.0 in /usr/local/lib/python3.7/dist-packages (from google-api-core<3.0dev,>=1.29.0->google-cloud-storage~=1.42.0->hub) (1.53.0)\n",
            "Requirement already satisfied: google-crc32c<2.0dev,>=1.0 in /usr/local/lib/python3.7/dist-packages (from google-resumable-media<3.0dev,>=1.3.0->google-cloud-storage~=1.42.0->hub) (1.3.0)\n",
            "Requirement already satisfied: cffi>=1.12.0 in /usr/local/lib/python3.7/dist-packages (from miniaudio~=1.44->hub) (1.15.0)\n",
            "Requirement already satisfied: pycparser in /usr/local/lib/python3.7/dist-packages (from cffi>=1.12.0->miniaudio~=1.44->hub) (2.21)\n",
            "Requirement already satisfied: pyasn1<0.5.0,>=0.4.6 in /usr/local/lib/python3.7/dist-packages (from pyasn1-modules>=0.2.1->google-auth~=2.0.1->hub) (0.4.8)\n",
            "Requirement already satisfied: urllib3!=1.25.0,!=1.25.1,<1.26,>=1.21.1 in /usr/local/lib/python3.7/dist-packages (from requests<3.0.0dev,>=2.18.0->google-cloud-storage~=1.42.0->hub) (1.25.11)\n",
            "Requirement already satisfied: idna<3,>=2.5 in /usr/local/lib/python3.7/dist-packages (from requests<3.0.0dev,>=2.18.0->google-cloud-storage~=1.42.0->hub) (2.10)\n",
            "Requirement already satisfied: certifi>=2017.4.17 in /usr/local/lib/python3.7/dist-packages (from requests<3.0.0dev,>=2.18.0->google-cloud-storage~=1.42.0->hub) (2021.10.8)\n",
            "Requirement already satisfied: chardet<4,>=3.0.2 in /usr/local/lib/python3.7/dist-packages (from requests<3.0.0dev,>=2.18.0->google-cloud-storage~=1.42.0->hub) (3.0.4)\n",
            "Requirement already satisfied: oauthlib>=3.0.0 in /usr/local/lib/python3.7/dist-packages (from requests-oauthlib>=0.7.0->google-auth-oauthlib~=0.4.5->hub) (3.1.1)\n",
            "Requirement already satisfied: jmespath<1.0.0,>=0.7.1 in /usr/local/lib/python3.7/dist-packages (from boto3->hub) (0.10.0)\n",
            "Requirement already satisfied: botocore<1.24.0,>=1.23.23 in /usr/local/lib/python3.7/dist-packages (from boto3->hub) (1.23.23)\n",
            "Requirement already satisfied: s3transfer<0.6.0,>=0.5.0 in /usr/local/lib/python3.7/dist-packages (from boto3->hub) (0.5.0)\n",
            "Requirement already satisfied: python-dateutil<3.0.0,>=2.1 in /usr/local/lib/python3.7/dist-packages (from botocore<1.24.0,>=1.23.23->boto3->hub) (2.8.2)\n",
            "Requirement already satisfied: botocore-stubs in /usr/local/lib/python3.7/dist-packages (from boto3-stubs[essential]->hub) (1.23.23)\n",
            "Requirement already satisfied: mypy-boto3-ec2>=1.20.0 in /usr/local/lib/python3.7/dist-packages (from boto3-stubs[essential]->hub) (1.20.23)\n",
            "Requirement already satisfied: mypy-boto3-sqs>=1.20.0 in /usr/local/lib/python3.7/dist-packages (from boto3-stubs[essential]->hub) (1.20.12)\n",
            "Requirement already satisfied: mypy-boto3-cloudformation>=1.20.0 in /usr/local/lib/python3.7/dist-packages (from boto3-stubs[essential]->hub) (1.20.11)\n",
            "Requirement already satisfied: mypy-boto3-rds>=1.20.0 in /usr/local/lib/python3.7/dist-packages (from boto3-stubs[essential]->hub) (1.20.12)\n",
            "Requirement already satisfied: mypy-boto3-s3>=1.20.0 in /usr/local/lib/python3.7/dist-packages (from boto3-stubs[essential]->hub) (1.20.17)\n",
            "Requirement already satisfied: mypy-boto3-dynamodb>=1.20.0 in /usr/local/lib/python3.7/dist-packages (from boto3-stubs[essential]->hub) (1.20.18)\n",
            "Requirement already satisfied: mypy-boto3-lambda>=1.20.0 in /usr/local/lib/python3.7/dist-packages (from boto3-stubs[essential]->hub) (1.20.13)\n",
            "Requirement already satisfied: ppft>=1.6.6.4 in /usr/local/lib/python3.7/dist-packages (from pathos->hub) (1.6.6.4)\n",
            "Requirement already satisfied: dill>=0.3.4 in /usr/local/lib/python3.7/dist-packages (from pathos->hub) (0.3.4)\n",
            "Requirement already satisfied: pox>=0.3.0 in /usr/local/lib/python3.7/dist-packages (from pathos->hub) (0.3.0)\n",
            "Requirement already satisfied: multiprocess>=0.70.12 in /usr/local/lib/python3.7/dist-packages (from pathos->hub) (0.70.12.2)\n"
          ]
        }
      ],
      "source": [
        "!pip3 install hub"
      ]
    },
    {
      "cell_type": "markdown",
      "source": [
        "### IMPORTING"
      ],
      "metadata": {
        "id": "TrqLdjCd_43o"
      }
    },
    {
      "cell_type": "code",
      "source": [
        "import hub\n",
        "ds = hub.load('hub://activeloop/cifar10-train')"
      ],
      "metadata": {
        "colab": {
          "base_uri": "https://localhost:8080/"
        },
        "id": "iR2B-4FFwg4s",
        "outputId": "538dd86d-40cd-4be8-ddc5-252a5c32dfd3"
      },
      "execution_count": 2,
      "outputs": [
        {
          "output_type": "stream",
          "name": "stdout",
          "text": [
            "Opening dataset in read-only mode as you don't have write permissions.\n",
            "hub://activeloop/cifar10-train loaded successfully.\n"
          ]
        }
      ]
    },
    {
      "cell_type": "code",
      "source": [
        "print(list(ds.tensors.keys()))"
      ],
      "metadata": {
        "colab": {
          "base_uri": "https://localhost:8080/"
        },
        "id": "oShXM4kTwrba",
        "outputId": "12c0b364-e872-4aba-8c81-2b75dde8349c"
      },
      "execution_count": 4,
      "outputs": [
        {
          "output_type": "stream",
          "name": "stdout",
          "text": [
            "['images', 'labels']\n"
          ]
        }
      ]
    },
    {
      "cell_type": "code",
      "source": [
        "print(ds.images.shape)"
      ],
      "metadata": {
        "colab": {
          "base_uri": "https://localhost:8080/"
        },
        "id": "BxgF00Yrw_S1",
        "outputId": "8d7593fa-13c3-4d96-e9c8-0060722df9df"
      },
      "execution_count": 5,
      "outputs": [
        {
          "output_type": "stream",
          "name": "stdout",
          "text": [
            "(50000, 32, 32, 3)\n"
          ]
        }
      ]
    },
    {
      "cell_type": "code",
      "source": [
        "print(ds.labels.shape)"
      ],
      "metadata": {
        "colab": {
          "base_uri": "https://localhost:8080/"
        },
        "id": "gGB4E0jIxC-9",
        "outputId": "18be2290-4015-4793-a985-8deb7abb6275"
      },
      "execution_count": 6,
      "outputs": [
        {
          "output_type": "stream",
          "name": "stdout",
          "text": [
            "(50000, 1)\n"
          ]
        }
      ]
    },
    {
      "cell_type": "markdown",
      "source": [
        "### CREATING A CNN NETWORK"
      ],
      "metadata": {
        "id": "pfjH2uY1_7ub"
      }
    },
    {
      "cell_type": "code",
      "source": [
        "import torch\n",
        "import torch.nn as nn \n",
        "import torch.nn.functional as F\n",
        "import torch.optim as optim\n"
      ],
      "metadata": {
        "id": "lWDSSAQhxHeY"
      },
      "execution_count": 7,
      "outputs": []
    },
    {
      "cell_type": "code",
      "source": [
        "\n",
        "class Net(nn.Module):\n",
        "  def __init__(self):\n",
        "    super().__init__()\n",
        "    self.conv1 = nn.Conv2d(3,6,5)\n",
        "    self.pool = nn.MaxPool2d(2,2)\n",
        "    self.conv2 = nn.Conv2d(6,16,5)\n",
        "    self.fc1 = nn.Linear(16 * 5 * 5, 120)\n",
        "    self.fc2 = nn.Linear(120, 84)\n",
        "    self.fc3 = nn.Linear(84, 10)\n",
        "\n",
        "  def forward(self, x):\n",
        "    x =  torch.transpose(x, 1, 3)\n",
        "    x = x/ 255.\n",
        "    x = self.pool(F.relu(self.conv1(x)))\n",
        "    x = self.pool(F.relu(self.conv2(x)))\n",
        "    x = torch.flatten(x, 1)\n",
        "    x = F.relu(self.fc1(x))\n",
        "    x = F.relu(self.fc2(x))\n",
        "    x = self.fc3(x)\n",
        "    return x \n"
      ],
      "metadata": {
        "id": "ItaFskCXxVAA"
      },
      "execution_count": 8,
      "outputs": []
    },
    {
      "cell_type": "code",
      "source": [
        "net = Net()\n",
        "criterion = nn.CrossEntropyLoss()\n",
        "optimizer = optim.SGD(net.parameters(), lr = 0.001, momentum=0.9)"
      ],
      "metadata": {
        "id": "as7DwoC4y1xn"
      },
      "execution_count": 9,
      "outputs": []
    },
    {
      "cell_type": "markdown",
      "source": [
        "### TRAINING"
      ],
      "metadata": {
        "id": "5_itVU74AAVC"
      }
    },
    {
      "cell_type": "code",
      "source": [
        "for epoch in range(2):\n",
        "  running_loss = 0.0\n",
        "  for i, data in enumerate(ds.pytorch(num_workers=0, batch_size=4, shuffle=True)):\n",
        "    images, labels = data\n",
        "    optimizer.zero_grad()\n",
        "\n",
        "    outputs = net(images)\n",
        "    loss = criterion(outputs, labels.reshape(-1))\n",
        "    loss.backward()\n",
        "    optimizer.step()\n",
        "    running_loss += loss.item()\n",
        "    if i % 2000 == 1999:    # print every 2000 mini-batches\n",
        "      print('[%d, %5d] loss: %.3f' %(epoch + 1, i + 1, running_loss / 2000))\n",
        "      running_loss = 0.0"
      ],
      "metadata": {
        "colab": {
          "base_uri": "https://localhost:8080/"
        },
        "id": "DJRj6Uc0zPK5",
        "outputId": "b2468f40-00e3-4003-8037-164ed17fcbba"
      },
      "execution_count": 12,
      "outputs": [
        {
          "output_type": "stream",
          "name": "stdout",
          "text": [
            "[1,  2000] loss: 2.293\n",
            "[1,  4000] loss: 2.078\n",
            "[1,  6000] loss: 1.939\n",
            "[1,  8000] loss: 1.830\n",
            "[1, 10000] loss: 1.729\n",
            "[1, 12000] loss: 1.652\n",
            "[2,  2000] loss: 1.590\n",
            "[2,  4000] loss: 1.569\n",
            "[2,  6000] loss: 1.523\n",
            "[2,  8000] loss: 1.506\n",
            "[2, 10000] loss: 1.494\n",
            "[2, 12000] loss: 1.478\n"
          ]
        }
      ]
    },
    {
      "cell_type": "markdown",
      "source": [
        "### EXPLORING DATABASE"
      ],
      "metadata": {
        "id": "loFu5KYLAC3V"
      }
    },
    {
      "cell_type": "code",
      "source": [
        "for i,data in enumerate(ds.pytorch(num_workers=0, batch_size=1, shuffle=True)):\n",
        "    images, labels = data\n",
        "    break"
      ],
      "metadata": {
        "id": "GyHo5Ayg8eey"
      },
      "execution_count": 19,
      "outputs": []
    },
    {
      "cell_type": "code",
      "source": [
        "labels"
      ],
      "metadata": {
        "colab": {
          "base_uri": "https://localhost:8080/"
        },
        "id": "uoGmtON9-eXq",
        "outputId": "5051fc26-b543-4bad-bdb1-b838276c0fd2"
      },
      "execution_count": 23,
      "outputs": [
        {
          "output_type": "execute_result",
          "data": {
            "text/plain": [
              "tensor([[6]])"
            ]
          },
          "metadata": {},
          "execution_count": 23
        }
      ]
    },
    {
      "cell_type": "code",
      "source": [
        "images, len(images)"
      ],
      "metadata": {
        "colab": {
          "base_uri": "https://localhost:8080/"
        },
        "id": "UvYoqRLZ-fkl",
        "outputId": "91637c18-3c1b-4c6b-85fe-d0561770a720"
      },
      "execution_count": 25,
      "outputs": [
        {
          "output_type": "execute_result",
          "data": {
            "text/plain": [
              "(tensor([[[[ 59,  62,  63],\n",
              "           [ 43,  46,  45],\n",
              "           [ 50,  48,  43],\n",
              "           ...,\n",
              "           [158, 132, 108],\n",
              "           [152, 125, 102],\n",
              "           [148, 124, 103]],\n",
              " \n",
              "          [[ 16,  20,  20],\n",
              "           [  0,   0,   0],\n",
              "           [ 18,   8,   0],\n",
              "           ...,\n",
              "           [123,  88,  55],\n",
              "           [119,  83,  50],\n",
              "           [122,  87,  57]],\n",
              " \n",
              "          [[ 25,  24,  21],\n",
              "           [ 16,   7,   0],\n",
              "           [ 49,  27,   8],\n",
              "           ...,\n",
              "           [118,  84,  50],\n",
              "           [120,  84,  50],\n",
              "           [109,  73,  42]],\n",
              " \n",
              "          ...,\n",
              " \n",
              "          [[208, 170,  96],\n",
              "           [201, 153,  34],\n",
              "           [198, 161,  26],\n",
              "           ...,\n",
              "           [160, 133,  70],\n",
              "           [ 56,  31,   7],\n",
              "           [ 53,  34,  20]],\n",
              " \n",
              "          [[180, 139,  96],\n",
              "           [173, 123,  42],\n",
              "           [186, 144,  30],\n",
              "           ...,\n",
              "           [184, 148,  94],\n",
              "           [ 97,  62,  34],\n",
              "           [ 83,  53,  34]],\n",
              " \n",
              "          [[177, 144, 116],\n",
              "           [168, 129,  94],\n",
              "           [179, 142,  87],\n",
              "           ...,\n",
              "           [216, 184, 140],\n",
              "           [151, 118,  84],\n",
              "           [123,  92,  72]]]], dtype=torch.uint8), 1)"
            ]
          },
          "metadata": {},
          "execution_count": 25
        }
      ]
    },
    {
      "cell_type": "code",
      "source": [
        ""
      ],
      "metadata": {
        "id": "-1R5uaiv_v1s"
      },
      "execution_count": null,
      "outputs": []
    },
    {
      "cell_type": "markdown",
      "source": [
        "### TESTING"
      ],
      "metadata": {
        "id": "v0ikIRQV_w_1"
      }
    },
    {
      "cell_type": "code",
      "source": [
        "import matplotlib.pyplot as plt\n",
        "\n",
        "plt.imshow(images.squeeze())"
      ],
      "metadata": {
        "colab": {
          "base_uri": "https://localhost:8080/",
          "height": 283
        },
        "id": "1NKDW3dV-M5S",
        "outputId": "79f922c6-9f0b-4bb5-ea4d-5fe6888e43d4"
      },
      "execution_count": 31,
      "outputs": [
        {
          "output_type": "execute_result",
          "data": {
            "text/plain": [
              "<matplotlib.image.AxesImage at 0x7fb92bee21d0>"
            ]
          },
          "metadata": {},
          "execution_count": 31
        },
        {
          "output_type": "display_data",
          "data": {
            "image/png": "[encoded data removed]",
            "text/plain": [
              "<Figure size 432x288 with 1 Axes>"
            ]
          },
          "metadata": {
            "needs_background": "light"
          }
        }
      ]
    },
    {
      "cell_type": "code",
      "source": [
        "cifar_classes = [\"airplane\", \"automobile\", \"bird\", \"cat\", \"deer\", \"dog\", \"frog\", \"horse\", \"ship\", \"truck\"]"
      ],
      "metadata": {
        "id": "OYlCwEd3-OXo"
      },
      "execution_count": 32,
      "outputs": []
    },
    {
      "cell_type": "code",
      "source": [
        "cifar_classes[labels]"
      ],
      "metadata": {
        "colab": {
          "base_uri": "https://localhost:8080/",
          "height": 35
        },
        "id": "L5_Iz6Y4_eaK",
        "outputId": "8cc02137-3f78-4386-ab58-402d389c67b5"
      },
      "execution_count": 33,
      "outputs": [
        {
          "output_type": "execute_result",
          "data": {
            "application/vnd.google.colaboratory.intrinsic+json": {
              "type": "string"
            },
            "text/plain": [
              "'frog'"
            ]
          },
          "metadata": {},
          "execution_count": 33
        }
      ]
    },
    {
      "cell_type": "markdown",
      "source": [
        "### TESTING THE PREDICTION OF THE SAME IMAGE FROM OUR MODEL"
      ],
      "metadata": {
        "id": "xbYlc7nOAIAf"
      }
    },
    {
      "cell_type": "code",
      "source": [
        "cifar_classes[net(images).argmax()]"
      ],
      "metadata": {
        "colab": {
          "base_uri": "https://localhost:8080/",
          "height": 35
        },
        "id": "9eF6VRG7_ie4",
        "outputId": "ad45f672-c5d2-4629-ea7c-e30fbfd38585"
      },
      "execution_count": 37,
      "outputs": [
        {
          "output_type": "execute_result",
          "data": {
            "application/vnd.google.colaboratory.intrinsic+json": {
              "type": "string"
            },
            "text/plain": [
              "'frog'"
            ]
          },
          "metadata": {},
          "execution_count": 37
        }
      ]
    },
    {
      "cell_type": "markdown",
      "source": [
        "So it works."
      ],
      "metadata": {
        "id": "vGIyODPyASne"
      }
    },
    {
      "cell_type": "code",
      "source": [
        ""
      ],
      "metadata": {
        "id": "ALp8sJ39AR2H"
      },
      "execution_count": null,
      "outputs": []
    }
  ]
}