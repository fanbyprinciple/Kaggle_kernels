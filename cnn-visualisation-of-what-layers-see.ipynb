{
 "cells": [
  {
   "cell_type": "code",
   "execution_count": 1,
   "id": "db7f9cdb",
   "metadata": {
    "_cell_guid": "b1076dfc-b9ad-4769-8c92-a6c4dae69d19",
    "_uuid": "8f2839f25d086af736a60e9eeb907d3b93b6e0e5",
    "execution": {
     "iopub.execute_input": "2022-01-24T01:48:20.690777Z",
     "iopub.status.busy": "2022-01-24T01:48:20.690111Z",
     "iopub.status.idle": "2022-01-24T01:48:22.231884Z",
     "shell.execute_reply": "2022-01-24T01:48:22.230776Z",
     "shell.execute_reply.started": "2022-01-24T01:31:49.611561Z"
    },
    "papermill": {
     "duration": 1.568567,
     "end_time": "2022-01-24T01:48:22.232099",
     "exception": false,
     "start_time": "2022-01-24T01:48:20.663532",
     "status": "completed"
    },
    "tags": []
   },
   "outputs": [],
   "source": [
    "import torch\n",
    "from torch import nn\n",
    "from torch.utils.data import Dataset, DataLoader\n",
    "from torchvision import transforms\n",
    "import pandas as pd"
   ]
  },
  {
   "cell_type": "markdown",
   "id": "f34d1791",
   "metadata": {
    "papermill": {
     "duration": 0.015198,
     "end_time": "2022-01-24T01:48:22.264528",
     "exception": false,
     "start_time": "2022-01-24T01:48:22.249330",
     "status": "completed"
    },
    "tags": []
   },
   "source": [
    "from https://www.analyticsvidhya.com/blog/2018/03/essentials-of-deep-learning-visualizing-convolutional-neural-networks/"
   ]
  },
  {
   "cell_type": "code",
   "execution_count": 2,
   "id": "fb6e318e",
   "metadata": {
    "execution": {
     "iopub.execute_input": "2022-01-24T01:48:22.301184Z",
     "iopub.status.busy": "2022-01-24T01:48:22.300469Z",
     "iopub.status.idle": "2022-01-24T01:48:22.302396Z",
     "shell.execute_reply": "2022-01-24T01:48:22.302847Z",
     "shell.execute_reply.started": "2022-01-24T01:31:49.61962Z"
    },
    "papermill": {
     "duration": 0.02321,
     "end_time": "2022-01-24T01:48:22.303041",
     "exception": false,
     "start_time": "2022-01-24T01:48:22.279831",
     "status": "completed"
    },
    "tags": []
   },
   "outputs": [],
   "source": [
    "device = torch.device('cuda' if torch.cuda.is_available() else 'cpu')"
   ]
  },
  {
   "cell_type": "markdown",
   "id": "2cba7130",
   "metadata": {
    "papermill": {
     "duration": 0.01565,
     "end_time": "2022-01-24T01:48:22.334396",
     "exception": false,
     "start_time": "2022-01-24T01:48:22.318746",
     "status": "completed"
    },
    "tags": []
   },
   "source": [
    "### loading datasets"
   ]
  },
  {
   "cell_type": "code",
   "execution_count": 3,
   "id": "455b41c2",
   "metadata": {
    "execution": {
     "iopub.execute_input": "2022-01-24T01:48:22.370407Z",
     "iopub.status.busy": "2022-01-24T01:48:22.369721Z",
     "iopub.status.idle": "2022-01-24T01:48:29.359427Z",
     "shell.execute_reply": "2022-01-24T01:48:29.359934Z",
     "shell.execute_reply.started": "2022-01-24T01:31:49.635016Z"
    },
    "papermill": {
     "duration": 7.009743,
     "end_time": "2022-01-24T01:48:29.360113",
     "exception": false,
     "start_time": "2022-01-24T01:48:22.350370",
     "status": "completed"
    },
    "tags": []
   },
   "outputs": [
    {
     "data": {
      "text/html": [
       "<div>\n",
       "<style scoped>\n",
       "    .dataframe tbody tr th:only-of-type {\n",
       "        vertical-align: middle;\n",
       "    }\n",
       "\n",
       "    .dataframe tbody tr th {\n",
       "        vertical-align: top;\n",
       "    }\n",
       "\n",
       "    .dataframe thead th {\n",
       "        text-align: right;\n",
       "    }\n",
       "</style>\n",
       "<table border=\"1\" class=\"dataframe\">\n",
       "  <thead>\n",
       "    <tr style=\"text-align: right;\">\n",
       "      <th></th>\n",
       "      <th>label</th>\n",
       "      <th>pixel1</th>\n",
       "      <th>pixel2</th>\n",
       "      <th>pixel3</th>\n",
       "      <th>pixel4</th>\n",
       "      <th>pixel5</th>\n",
       "      <th>pixel6</th>\n",
       "      <th>pixel7</th>\n",
       "      <th>pixel8</th>\n",
       "      <th>pixel9</th>\n",
       "      <th>...</th>\n",
       "      <th>pixel775</th>\n",
       "      <th>pixel776</th>\n",
       "      <th>pixel777</th>\n",
       "      <th>pixel778</th>\n",
       "      <th>pixel779</th>\n",
       "      <th>pixel780</th>\n",
       "      <th>pixel781</th>\n",
       "      <th>pixel782</th>\n",
       "      <th>pixel783</th>\n",
       "      <th>pixel784</th>\n",
       "    </tr>\n",
       "  </thead>\n",
       "  <tbody>\n",
       "    <tr>\n",
       "      <th>0</th>\n",
       "      <td>2</td>\n",
       "      <td>0</td>\n",
       "      <td>0</td>\n",
       "      <td>0</td>\n",
       "      <td>0</td>\n",
       "      <td>0</td>\n",
       "      <td>0</td>\n",
       "      <td>0</td>\n",
       "      <td>0</td>\n",
       "      <td>0</td>\n",
       "      <td>...</td>\n",
       "      <td>0</td>\n",
       "      <td>0</td>\n",
       "      <td>0</td>\n",
       "      <td>0</td>\n",
       "      <td>0</td>\n",
       "      <td>0</td>\n",
       "      <td>0</td>\n",
       "      <td>0</td>\n",
       "      <td>0</td>\n",
       "      <td>0</td>\n",
       "    </tr>\n",
       "    <tr>\n",
       "      <th>1</th>\n",
       "      <td>9</td>\n",
       "      <td>0</td>\n",
       "      <td>0</td>\n",
       "      <td>0</td>\n",
       "      <td>0</td>\n",
       "      <td>0</td>\n",
       "      <td>0</td>\n",
       "      <td>0</td>\n",
       "      <td>0</td>\n",
       "      <td>0</td>\n",
       "      <td>...</td>\n",
       "      <td>0</td>\n",
       "      <td>0</td>\n",
       "      <td>0</td>\n",
       "      <td>0</td>\n",
       "      <td>0</td>\n",
       "      <td>0</td>\n",
       "      <td>0</td>\n",
       "      <td>0</td>\n",
       "      <td>0</td>\n",
       "      <td>0</td>\n",
       "    </tr>\n",
       "    <tr>\n",
       "      <th>2</th>\n",
       "      <td>6</td>\n",
       "      <td>0</td>\n",
       "      <td>0</td>\n",
       "      <td>0</td>\n",
       "      <td>0</td>\n",
       "      <td>0</td>\n",
       "      <td>0</td>\n",
       "      <td>0</td>\n",
       "      <td>5</td>\n",
       "      <td>0</td>\n",
       "      <td>...</td>\n",
       "      <td>0</td>\n",
       "      <td>0</td>\n",
       "      <td>0</td>\n",
       "      <td>30</td>\n",
       "      <td>43</td>\n",
       "      <td>0</td>\n",
       "      <td>0</td>\n",
       "      <td>0</td>\n",
       "      <td>0</td>\n",
       "      <td>0</td>\n",
       "    </tr>\n",
       "    <tr>\n",
       "      <th>3</th>\n",
       "      <td>0</td>\n",
       "      <td>0</td>\n",
       "      <td>0</td>\n",
       "      <td>0</td>\n",
       "      <td>1</td>\n",
       "      <td>2</td>\n",
       "      <td>0</td>\n",
       "      <td>0</td>\n",
       "      <td>0</td>\n",
       "      <td>0</td>\n",
       "      <td>...</td>\n",
       "      <td>3</td>\n",
       "      <td>0</td>\n",
       "      <td>0</td>\n",
       "      <td>0</td>\n",
       "      <td>0</td>\n",
       "      <td>1</td>\n",
       "      <td>0</td>\n",
       "      <td>0</td>\n",
       "      <td>0</td>\n",
       "      <td>0</td>\n",
       "    </tr>\n",
       "    <tr>\n",
       "      <th>4</th>\n",
       "      <td>3</td>\n",
       "      <td>0</td>\n",
       "      <td>0</td>\n",
       "      <td>0</td>\n",
       "      <td>0</td>\n",
       "      <td>0</td>\n",
       "      <td>0</td>\n",
       "      <td>0</td>\n",
       "      <td>0</td>\n",
       "      <td>0</td>\n",
       "      <td>...</td>\n",
       "      <td>0</td>\n",
       "      <td>0</td>\n",
       "      <td>0</td>\n",
       "      <td>0</td>\n",
       "      <td>0</td>\n",
       "      <td>0</td>\n",
       "      <td>0</td>\n",
       "      <td>0</td>\n",
       "      <td>0</td>\n",
       "      <td>0</td>\n",
       "    </tr>\n",
       "  </tbody>\n",
       "</table>\n",
       "<p>5 rows × 785 columns</p>\n",
       "</div>"
      ],
      "text/plain": [
       "   label  pixel1  pixel2  pixel3  pixel4  pixel5  pixel6  pixel7  pixel8  \\\n",
       "0      2       0       0       0       0       0       0       0       0   \n",
       "1      9       0       0       0       0       0       0       0       0   \n",
       "2      6       0       0       0       0       0       0       0       5   \n",
       "3      0       0       0       0       1       2       0       0       0   \n",
       "4      3       0       0       0       0       0       0       0       0   \n",
       "\n",
       "   pixel9  ...  pixel775  pixel776  pixel777  pixel778  pixel779  pixel780  \\\n",
       "0       0  ...         0         0         0         0         0         0   \n",
       "1       0  ...         0         0         0         0         0         0   \n",
       "2       0  ...         0         0         0        30        43         0   \n",
       "3       0  ...         3         0         0         0         0         1   \n",
       "4       0  ...         0         0         0         0         0         0   \n",
       "\n",
       "   pixel781  pixel782  pixel783  pixel784  \n",
       "0         0         0         0         0  \n",
       "1         0         0         0         0  \n",
       "2         0         0         0         0  \n",
       "3         0         0         0         0  \n",
       "4         0         0         0         0  \n",
       "\n",
       "[5 rows x 785 columns]"
      ]
     },
     "execution_count": 3,
     "metadata": {},
     "output_type": "execute_result"
    }
   ],
   "source": [
    "df = pd.read_csv('../input/fashionmnist/fashion-mnist_train.csv')\n",
    "df.head()"
   ]
  },
  {
   "cell_type": "code",
   "execution_count": 4,
   "id": "92ef81d0",
   "metadata": {
    "execution": {
     "iopub.execute_input": "2022-01-24T01:48:29.400759Z",
     "iopub.status.busy": "2022-01-24T01:48:29.399903Z",
     "iopub.status.idle": "2022-01-24T01:48:29.403976Z",
     "shell.execute_reply": "2022-01-24T01:48:29.403284Z",
     "shell.execute_reply.started": "2022-01-24T01:31:54.576371Z"
    },
    "papermill": {
     "duration": 0.02725,
     "end_time": "2022-01-24T01:48:29.404117",
     "exception": false,
     "start_time": "2022-01-24T01:48:29.376867",
     "status": "completed"
    },
    "tags": []
   },
   "outputs": [
    {
     "data": {
      "text/plain": [
       "((60000, 784), (60000,))"
      ]
     },
     "execution_count": 4,
     "metadata": {},
     "output_type": "execute_result"
    }
   ],
   "source": [
    "X = df.iloc[:, 1:]\n",
    "y = df.iloc[:,0]\n",
    "X.shape, y.shape"
   ]
  },
  {
   "cell_type": "markdown",
   "id": "dd836604",
   "metadata": {
    "papermill": {
     "duration": 0.01617,
     "end_time": "2022-01-24T01:48:29.436809",
     "exception": false,
     "start_time": "2022-01-24T01:48:29.420639",
     "status": "completed"
    },
    "tags": []
   },
   "source": [
    "### creating a dataset class"
   ]
  },
  {
   "cell_type": "code",
   "execution_count": 5,
   "id": "f750ce0c",
   "metadata": {
    "execution": {
     "iopub.execute_input": "2022-01-24T01:48:29.481222Z",
     "iopub.status.busy": "2022-01-24T01:48:29.480499Z",
     "iopub.status.idle": "2022-01-24T01:48:29.483564Z",
     "shell.execute_reply": "2022-01-24T01:48:29.482988Z",
     "shell.execute_reply.started": "2022-01-24T01:31:54.588393Z"
    },
    "papermill": {
     "duration": 0.030602,
     "end_time": "2022-01-24T01:48:29.483704",
     "exception": false,
     "start_time": "2022-01-24T01:48:29.453102",
     "status": "completed"
    },
    "tags": []
   },
   "outputs": [],
   "source": [
    "# my_transforms = transforms.ToTensor()\n",
    "my_transforms = \"\"\n",
    "class fashion_dataset(Dataset):\n",
    "    def __init__(self,data_path=\"../input/fashionmnist/fashion-mnist_train.csv\", transforms=my_transforms, subset_length=2000):\n",
    "        if subset_length:\n",
    "            self.input_df = pd.read_csv(data_path)[:subset_length]\n",
    "        else :\n",
    "            self.input_df = pd.read_csv(data_path)\n",
    "        self.len = len(self.input_df)\n",
    "        if transforms:\n",
    "            self.transform = transforms\n",
    "        else:\n",
    "            self.transform = \"\"\n",
    "        \n",
    "\n",
    "        self.x  = torch.from_numpy(self.input_df.iloc[:,1:].values)\n",
    "        self.x = self.x.reshape(self.x.size(0), 1, 28,28).float()\n",
    "        \n",
    "        self.y = torch.from_numpy(self.input_df.iloc[:,0].values).long()\n",
    "        \n",
    "    def __len__(self):\n",
    "        return self.len\n",
    "    \n",
    "    def __getitem__(self, index):\n",
    "        x_item = self.x[index]\n",
    "        y_item = self.y[index]\n",
    "        \n",
    "        if (self.transform):\n",
    "            x_item = self.transform(x_item)\n",
    "               \n",
    "        return x_item, y_item "
   ]
  },
  {
   "cell_type": "code",
   "execution_count": 6,
   "id": "57158414",
   "metadata": {
    "execution": {
     "iopub.execute_input": "2022-01-24T01:48:29.533243Z",
     "iopub.status.busy": "2022-01-24T01:48:29.532534Z",
     "iopub.status.idle": "2022-01-24T01:48:34.751164Z",
     "shell.execute_reply": "2022-01-24T01:48:34.751695Z",
     "shell.execute_reply.started": "2022-01-24T01:31:54.60266Z"
    },
    "papermill": {
     "duration": 5.251582,
     "end_time": "2022-01-24T01:48:34.751905",
     "exception": false,
     "start_time": "2022-01-24T01:48:29.500323",
     "status": "completed"
    },
    "tags": []
   },
   "outputs": [],
   "source": [
    "train_dataset = fashion_dataset()"
   ]
  },
  {
   "cell_type": "code",
   "execution_count": 7,
   "id": "2e420786",
   "metadata": {
    "execution": {
     "iopub.execute_input": "2022-01-24T01:48:34.797298Z",
     "iopub.status.busy": "2022-01-24T01:48:34.796650Z",
     "iopub.status.idle": "2022-01-24T01:48:35.041686Z",
     "shell.execute_reply": "2022-01-24T01:48:35.042223Z",
     "shell.execute_reply.started": "2022-01-24T01:31:59.819737Z"
    },
    "papermill": {
     "duration": 0.271481,
     "end_time": "2022-01-24T01:48:35.042423",
     "exception": false,
     "start_time": "2022-01-24T01:48:34.770942",
     "status": "completed"
    },
    "tags": []
   },
   "outputs": [
    {
     "name": "stdout",
     "output_type": "stream",
     "text": [
      "torch.Size([1, 28, 28]) tensor(2)\n",
      "tensor(2)\n"
     ]
    },
    {
     "data": {
      "text/plain": [
       "<matplotlib.image.AxesImage at 0x7f049ef2b8d0>"
      ]
     },
     "execution_count": 7,
     "metadata": {},
     "output_type": "execute_result"
    },
    {
     "data": {
      "image/png": "[encoded data removed]",
      "text/plain": [
       "<Figure size 432x288 with 1 Axes>"
      ]
     },
     "metadata": {
      "needs_background": "light"
     },
     "output_type": "display_data"
    }
   ],
   "source": [
    "X, y = train_dataset[0]\n",
    "\n",
    "print(X.shape, y)\n",
    "\n",
    "import matplotlib.pyplot as plt\n",
    "\n",
    "print(y)\n",
    "\n",
    "img = X.permute(1,2,0)\n",
    "plt.imshow(img)"
   ]
  },
  {
   "cell_type": "code",
   "execution_count": 8,
   "id": "dcc16b3c",
   "metadata": {
    "execution": {
     "iopub.execute_input": "2022-01-24T01:48:35.082938Z",
     "iopub.status.busy": "2022-01-24T01:48:35.081984Z",
     "iopub.status.idle": "2022-01-24T01:48:35.087573Z",
     "shell.execute_reply": "2022-01-24T01:48:35.086992Z",
     "shell.execute_reply.started": "2022-01-24T01:31:59.991102Z"
    },
    "papermill": {
     "duration": 0.027136,
     "end_time": "2022-01-24T01:48:35.087727",
     "exception": false,
     "start_time": "2022-01-24T01:48:35.060591",
     "status": "completed"
    },
    "tags": []
   },
   "outputs": [],
   "source": [
    "train_dataloader = DataLoader(train_dataset, batch_size=128,shuffle=True)"
   ]
  },
  {
   "cell_type": "code",
   "execution_count": 9,
   "id": "1e5a9182",
   "metadata": {
    "execution": {
     "iopub.execute_input": "2022-01-24T01:48:35.128579Z",
     "iopub.status.busy": "2022-01-24T01:48:35.127828Z",
     "iopub.status.idle": "2022-01-24T01:48:35.691182Z",
     "shell.execute_reply": "2022-01-24T01:48:35.690489Z",
     "shell.execute_reply.started": "2022-01-24T01:35:04.829893Z"
    },
    "papermill": {
     "duration": 0.585462,
     "end_time": "2022-01-24T01:48:35.691349",
     "exception": false,
     "start_time": "2022-01-24T01:48:35.105887",
     "status": "completed"
    },
    "tags": []
   },
   "outputs": [
    {
     "data": {
      "image/png": "[encoded data removed]",
      "text/plain": [
       "<Figure size 432x288 with 6 Axes>"
      ]
     },
     "metadata": {
      "needs_background": "light"
     },
     "output_type": "display_data"
    }
   ],
   "source": [
    "examples = iter(train_dataloader)\n",
    "example_data, example_targets = examples.next()\n",
    "for i in range(6):\n",
    "    plt.subplot(2,3,i+1)\n",
    "    plt.imshow(example_data[i][0], cmap='gray')\n",
    "plt.show() "
   ]
  },
  {
   "cell_type": "code",
   "execution_count": 10,
   "id": "e850bfc5",
   "metadata": {
    "execution": {
     "iopub.execute_input": "2022-01-24T01:48:35.734697Z",
     "iopub.status.busy": "2022-01-24T01:48:35.733700Z",
     "iopub.status.idle": "2022-01-24T01:48:35.739428Z",
     "shell.execute_reply": "2022-01-24T01:48:35.738865Z",
     "shell.execute_reply.started": "2022-01-24T01:34:05.167604Z"
    },
    "papermill": {
     "duration": 0.028961,
     "end_time": "2022-01-24T01:48:35.739596",
     "exception": false,
     "start_time": "2022-01-24T01:48:35.710635",
     "status": "completed"
    },
    "tags": []
   },
   "outputs": [],
   "source": [
    "input_size = 784 # 28x28\n",
    "hidden_size = 500 \n",
    "num_classes = 10\n",
    "num_epochs = 2\n",
    "batch_size = 100\n",
    "learning_rate = 0.001"
   ]
  },
  {
   "cell_type": "code",
   "execution_count": 11,
   "id": "eec8672b",
   "metadata": {
    "execution": {
     "iopub.execute_input": "2022-01-24T01:48:35.787532Z",
     "iopub.status.busy": "2022-01-24T01:48:35.786383Z",
     "iopub.status.idle": "2022-01-24T01:48:35.788418Z",
     "shell.execute_reply": "2022-01-24T01:48:35.788940Z",
     "shell.execute_reply.started": "2022-01-24T01:36:50.323645Z"
    },
    "papermill": {
     "duration": 0.030307,
     "end_time": "2022-01-24T01:48:35.789152",
     "exception": false,
     "start_time": "2022-01-24T01:48:35.758845",
     "status": "completed"
    },
    "tags": []
   },
   "outputs": [],
   "source": [
    " # Fully connected neural network with one hidden layer\n",
    "class NeuralNet(nn.Module):\n",
    "    def __init__(self, input_size, hidden_size, num_classes):\n",
    "        super(NeuralNet, self).__init__()\n",
    "        self.input_size = input_size\n",
    "        self.l1 = nn.Linear(input_size, hidden_size) \n",
    "        self.relu = nn.ReLU()\n",
    "        self.l2 = nn.Linear(hidden_size, num_classes)\n",
    "    \n",
    "    def forward(self, x):\n",
    "        out = self.l1(x)\n",
    "        out = self.relu(out)\n",
    "        out = self.l2(out)\n",
    "         # no activation and no softmax at the end\n",
    "        return out "
   ]
  },
  {
   "cell_type": "code",
   "execution_count": 12,
   "id": "12143245",
   "metadata": {
    "execution": {
     "iopub.execute_input": "2022-01-24T01:48:35.831781Z",
     "iopub.status.busy": "2022-01-24T01:48:35.830782Z",
     "iopub.status.idle": "2022-01-24T01:48:35.847038Z",
     "shell.execute_reply": "2022-01-24T01:48:35.846488Z",
     "shell.execute_reply.started": "2022-01-24T01:37:20.331079Z"
    },
    "papermill": {
     "duration": 0.03898,
     "end_time": "2022-01-24T01:48:35.847214",
     "exception": false,
     "start_time": "2022-01-24T01:48:35.808234",
     "status": "completed"
    },
    "tags": []
   },
   "outputs": [],
   "source": [
    "model = NeuralNet(input_size, hidden_size, num_classes).to(device)"
   ]
  },
  {
   "cell_type": "code",
   "execution_count": 13,
   "id": "037d70e1",
   "metadata": {
    "execution": {
     "iopub.execute_input": "2022-01-24T01:48:35.888979Z",
     "iopub.status.busy": "2022-01-24T01:48:35.888368Z",
     "iopub.status.idle": "2022-01-24T01:48:35.892578Z",
     "shell.execute_reply": "2022-01-24T01:48:35.893061Z",
     "shell.execute_reply.started": "2022-01-24T01:37:42.768831Z"
    },
    "papermill": {
     "duration": 0.026771,
     "end_time": "2022-01-24T01:48:35.893271",
     "exception": false,
     "start_time": "2022-01-24T01:48:35.866500",
     "status": "completed"
    },
    "tags": []
   },
   "outputs": [],
   "source": [
    "# Loss and optimizer\n",
    "criterion = nn.CrossEntropyLoss()\n",
    "optimizer = torch.optim.Adam(model.parameters(), lr=learning_rate) "
   ]
  },
  {
   "cell_type": "code",
   "execution_count": 14,
   "id": "bd0b5985",
   "metadata": {
    "execution": {
     "iopub.execute_input": "2022-01-24T01:48:35.935955Z",
     "iopub.status.busy": "2022-01-24T01:48:35.935315Z",
     "iopub.status.idle": "2022-01-24T01:48:35.940167Z",
     "shell.execute_reply": "2022-01-24T01:48:35.940766Z",
     "shell.execute_reply.started": "2022-01-24T01:40:59.468582Z"
    },
    "papermill": {
     "duration": 0.028515,
     "end_time": "2022-01-24T01:48:35.940942",
     "exception": false,
     "start_time": "2022-01-24T01:48:35.912427",
     "status": "completed"
    },
    "tags": []
   },
   "outputs": [
    {
     "data": {
      "text/plain": [
       "16"
      ]
     },
     "execution_count": 14,
     "metadata": {},
     "output_type": "execute_result"
    }
   ],
   "source": [
    "len(train_dataloader)"
   ]
  },
  {
   "cell_type": "code",
   "execution_count": 15,
   "id": "cb1b682e",
   "metadata": {
    "execution": {
     "iopub.execute_input": "2022-01-24T01:48:35.988237Z",
     "iopub.status.busy": "2022-01-24T01:48:35.987540Z",
     "iopub.status.idle": "2022-01-24T01:48:36.275352Z",
     "shell.execute_reply": "2022-01-24T01:48:36.275919Z",
     "shell.execute_reply.started": "2022-01-24T01:41:35.334927Z"
    },
    "papermill": {
     "duration": 0.315898,
     "end_time": "2022-01-24T01:48:36.276110",
     "exception": false,
     "start_time": "2022-01-24T01:48:35.960212",
     "status": "completed"
    },
    "tags": []
   },
   "outputs": [
    {
     "name": "stdout",
     "output_type": "stream",
     "text": [
      "Epoch [1/2], Step[10/16], Loss: 13.6471\n",
      "Epoch [2/2], Step[10/16], Loss: 3.1071\n"
     ]
    }
   ],
   "source": [
    "n_total_steps = len(train_dataloader)\n",
    "for epoch in range(num_epochs):\n",
    "    for i, (images, labels) in enumerate(train_dataloader):  \n",
    "         # origin shape: [100, 1, 28, 28]\n",
    "         # resized: [100, 784]\n",
    "        images = images.reshape(-1, 28*28).to(device)\n",
    "        labels = labels.to(device)\n",
    "         # Forward pass\n",
    "        outputs = model(images)\n",
    "        loss = criterion(outputs, labels)\n",
    "         # Backward and optimize\n",
    "        optimizer.zero_grad()\n",
    "        loss.backward()\n",
    "        optimizer.step() \n",
    "        #print(i)\n",
    "        if (i+1) % 10 == 0:\n",
    "             print (f'Epoch [{epoch+1}/{num_epochs}], Step[{i+1}/{n_total_steps}], Loss: {loss.item():.4f}')"
   ]
  },
  {
   "cell_type": "markdown",
   "id": "0114031d",
   "metadata": {
    "papermill": {
     "duration": 0.019249,
     "end_time": "2022-01-24T01:48:36.316272",
     "exception": false,
     "start_time": "2022-01-24T01:48:36.297023",
     "status": "completed"
    },
    "tags": []
   },
   "source": [
    "# need to visualise\n",
    "also how is the model trained here"
   ]
  },
  {
   "cell_type": "code",
   "execution_count": null,
   "id": "595aeabe",
   "metadata": {
    "papermill": {
     "duration": 0.020225,
     "end_time": "2022-01-24T01:48:36.357805",
     "exception": false,
     "start_time": "2022-01-24T01:48:36.337580",
     "status": "completed"
    },
    "tags": []
   },
   "outputs": [],
   "source": []
  }
 ],
 "metadata": {
  "kernelspec": {
   "display_name": "Python 3",
   "language": "python",
   "name": "python3"
  },
  "language_info": {
   "codemirror_mode": {
    "name": "ipython",
    "version": 3
   },
   "file_extension": ".py",
   "mimetype": "text/x-python",
   "name": "python",
   "nbconvert_exporter": "python",
   "pygments_lexer": "ipython3",
   "version": "3.7.12"
  },
  "papermill": {
   "default_parameters": {},
   "duration": 27.493061,
   "end_time": "2022-01-24T01:48:37.490006",
   "environment_variables": {},
   "exception": null,
   "input_path": "__notebook__.ipynb",
   "output_path": "__notebook__.ipynb",
   "parameters": {},
   "start_time": "2022-01-24T01:48:09.996945",
   "version": "2.3.3"
  }
 },
 "nbformat": 4,
 "nbformat_minor": 5
}
