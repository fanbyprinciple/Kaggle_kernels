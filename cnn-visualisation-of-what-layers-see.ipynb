{
 "cells": [
  {
   "cell_type": "code",
   "execution_count": 1,
   "id": "cec9333c",
   "metadata": {
    "_cell_guid": "b1076dfc-b9ad-4769-8c92-a6c4dae69d19",
    "_uuid": "8f2839f25d086af736a60e9eeb907d3b93b6e0e5",
    "execution": {
     "iopub.execute_input": "2022-01-24T01:32:29.838608Z",
     "iopub.status.busy": "2022-01-24T01:32:29.837840Z",
     "iopub.status.idle": "2022-01-24T01:32:31.147899Z",
     "shell.execute_reply": "2022-01-24T01:32:31.147155Z",
     "shell.execute_reply.started": "2022-01-24T01:31:49.611561Z"
    },
    "papermill": {
     "duration": 1.330529,
     "end_time": "2022-01-24T01:32:31.148066",
     "exception": false,
     "start_time": "2022-01-24T01:32:29.817537",
     "status": "completed"
    },
    "tags": []
   },
   "outputs": [],
   "source": [
    "import torch\n",
    "from torch import nn\n",
    "from torch.utils.data import Dataset, DataLoader\n",
    "from torchvision import transforms\n",
    "import pandas as pd"
   ]
  },
  {
   "cell_type": "markdown",
   "id": "93ac2166",
   "metadata": {
    "papermill": {
     "duration": 0.00948,
     "end_time": "2022-01-24T01:32:31.167620",
     "exception": false,
     "start_time": "2022-01-24T01:32:31.158140",
     "status": "completed"
    },
    "tags": []
   },
   "source": [
    "from https://analyticsindiamag.com/guide-to-feed-forward-network-using-pytorch-with-mnist-dataset/"
   ]
  },
  {
   "cell_type": "code",
   "execution_count": 2,
   "id": "bea9545e",
   "metadata": {
    "execution": {
     "iopub.execute_input": "2022-01-24T01:32:31.192559Z",
     "iopub.status.busy": "2022-01-24T01:32:31.191578Z",
     "iopub.status.idle": "2022-01-24T01:32:31.193465Z",
     "shell.execute_reply": "2022-01-24T01:32:31.194041Z",
     "shell.execute_reply.started": "2022-01-24T01:31:49.619620Z"
    },
    "papermill": {
     "duration": 0.017037,
     "end_time": "2022-01-24T01:32:31.194199",
     "exception": false,
     "start_time": "2022-01-24T01:32:31.177162",
     "status": "completed"
    },
    "tags": []
   },
   "outputs": [],
   "source": [
    "device = torch.device('cuda' if torch.cuda.is_available() else 'cpu')"
   ]
  },
  {
   "cell_type": "markdown",
   "id": "6d7f705e",
   "metadata": {
    "papermill": {
     "duration": 0.009263,
     "end_time": "2022-01-24T01:32:31.213012",
     "exception": false,
     "start_time": "2022-01-24T01:32:31.203749",
     "status": "completed"
    },
    "tags": []
   },
   "source": [
    "### loading datasets"
   ]
  },
  {
   "cell_type": "code",
   "execution_count": 3,
   "id": "aaae5f3d",
   "metadata": {
    "execution": {
     "iopub.execute_input": "2022-01-24T01:32:31.235274Z",
     "iopub.status.busy": "2022-01-24T01:32:31.234359Z",
     "iopub.status.idle": "2022-01-24T01:32:37.566950Z",
     "shell.execute_reply": "2022-01-24T01:32:37.566353Z",
     "shell.execute_reply.started": "2022-01-24T01:31:49.635016Z"
    },
    "papermill": {
     "duration": 6.344632,
     "end_time": "2022-01-24T01:32:37.567080",
     "exception": false,
     "start_time": "2022-01-24T01:32:31.222448",
     "status": "completed"
    },
    "tags": []
   },
   "outputs": [
    {
     "data": {
      "text/html": [
       "<div>\n",
       "<style scoped>\n",
       "    .dataframe tbody tr th:only-of-type {\n",
       "        vertical-align: middle;\n",
       "    }\n",
       "\n",
       "    .dataframe tbody tr th {\n",
       "        vertical-align: top;\n",
       "    }\n",
       "\n",
       "    .dataframe thead th {\n",
       "        text-align: right;\n",
       "    }\n",
       "</style>\n",
       "<table border=\"1\" class=\"dataframe\">\n",
       "  <thead>\n",
       "    <tr style=\"text-align: right;\">\n",
       "      <th></th>\n",
       "      <th>label</th>\n",
       "      <th>pixel1</th>\n",
       "      <th>pixel2</th>\n",
       "      <th>pixel3</th>\n",
       "      <th>pixel4</th>\n",
       "      <th>pixel5</th>\n",
       "      <th>pixel6</th>\n",
       "      <th>pixel7</th>\n",
       "      <th>pixel8</th>\n",
       "      <th>pixel9</th>\n",
       "      <th>...</th>\n",
       "      <th>pixel775</th>\n",
       "      <th>pixel776</th>\n",
       "      <th>pixel777</th>\n",
       "      <th>pixel778</th>\n",
       "      <th>pixel779</th>\n",
       "      <th>pixel780</th>\n",
       "      <th>pixel781</th>\n",
       "      <th>pixel782</th>\n",
       "      <th>pixel783</th>\n",
       "      <th>pixel784</th>\n",
       "    </tr>\n",
       "  </thead>\n",
       "  <tbody>\n",
       "    <tr>\n",
       "      <th>0</th>\n",
       "      <td>2</td>\n",
       "      <td>0</td>\n",
       "      <td>0</td>\n",
       "      <td>0</td>\n",
       "      <td>0</td>\n",
       "      <td>0</td>\n",
       "      <td>0</td>\n",
       "      <td>0</td>\n",
       "      <td>0</td>\n",
       "      <td>0</td>\n",
       "      <td>...</td>\n",
       "      <td>0</td>\n",
       "      <td>0</td>\n",
       "      <td>0</td>\n",
       "      <td>0</td>\n",
       "      <td>0</td>\n",
       "      <td>0</td>\n",
       "      <td>0</td>\n",
       "      <td>0</td>\n",
       "      <td>0</td>\n",
       "      <td>0</td>\n",
       "    </tr>\n",
       "    <tr>\n",
       "      <th>1</th>\n",
       "      <td>9</td>\n",
       "      <td>0</td>\n",
       "      <td>0</td>\n",
       "      <td>0</td>\n",
       "      <td>0</td>\n",
       "      <td>0</td>\n",
       "      <td>0</td>\n",
       "      <td>0</td>\n",
       "      <td>0</td>\n",
       "      <td>0</td>\n",
       "      <td>...</td>\n",
       "      <td>0</td>\n",
       "      <td>0</td>\n",
       "      <td>0</td>\n",
       "      <td>0</td>\n",
       "      <td>0</td>\n",
       "      <td>0</td>\n",
       "      <td>0</td>\n",
       "      <td>0</td>\n",
       "      <td>0</td>\n",
       "      <td>0</td>\n",
       "    </tr>\n",
       "    <tr>\n",
       "      <th>2</th>\n",
       "      <td>6</td>\n",
       "      <td>0</td>\n",
       "      <td>0</td>\n",
       "      <td>0</td>\n",
       "      <td>0</td>\n",
       "      <td>0</td>\n",
       "      <td>0</td>\n",
       "      <td>0</td>\n",
       "      <td>5</td>\n",
       "      <td>0</td>\n",
       "      <td>...</td>\n",
       "      <td>0</td>\n",
       "      <td>0</td>\n",
       "      <td>0</td>\n",
       "      <td>30</td>\n",
       "      <td>43</td>\n",
       "      <td>0</td>\n",
       "      <td>0</td>\n",
       "      <td>0</td>\n",
       "      <td>0</td>\n",
       "      <td>0</td>\n",
       "    </tr>\n",
       "    <tr>\n",
       "      <th>3</th>\n",
       "      <td>0</td>\n",
       "      <td>0</td>\n",
       "      <td>0</td>\n",
       "      <td>0</td>\n",
       "      <td>1</td>\n",
       "      <td>2</td>\n",
       "      <td>0</td>\n",
       "      <td>0</td>\n",
       "      <td>0</td>\n",
       "      <td>0</td>\n",
       "      <td>...</td>\n",
       "      <td>3</td>\n",
       "      <td>0</td>\n",
       "      <td>0</td>\n",
       "      <td>0</td>\n",
       "      <td>0</td>\n",
       "      <td>1</td>\n",
       "      <td>0</td>\n",
       "      <td>0</td>\n",
       "      <td>0</td>\n",
       "      <td>0</td>\n",
       "    </tr>\n",
       "    <tr>\n",
       "      <th>4</th>\n",
       "      <td>3</td>\n",
       "      <td>0</td>\n",
       "      <td>0</td>\n",
       "      <td>0</td>\n",
       "      <td>0</td>\n",
       "      <td>0</td>\n",
       "      <td>0</td>\n",
       "      <td>0</td>\n",
       "      <td>0</td>\n",
       "      <td>0</td>\n",
       "      <td>...</td>\n",
       "      <td>0</td>\n",
       "      <td>0</td>\n",
       "      <td>0</td>\n",
       "      <td>0</td>\n",
       "      <td>0</td>\n",
       "      <td>0</td>\n",
       "      <td>0</td>\n",
       "      <td>0</td>\n",
       "      <td>0</td>\n",
       "      <td>0</td>\n",
       "    </tr>\n",
       "  </tbody>\n",
       "</table>\n",
       "<p>5 rows × 785 columns</p>\n",
       "</div>"
      ],
      "text/plain": [
       "   label  pixel1  pixel2  pixel3  pixel4  pixel5  pixel6  pixel7  pixel8  \\\n",
       "0      2       0       0       0       0       0       0       0       0   \n",
       "1      9       0       0       0       0       0       0       0       0   \n",
       "2      6       0       0       0       0       0       0       0       5   \n",
       "3      0       0       0       0       1       2       0       0       0   \n",
       "4      3       0       0       0       0       0       0       0       0   \n",
       "\n",
       "   pixel9  ...  pixel775  pixel776  pixel777  pixel778  pixel779  pixel780  \\\n",
       "0       0  ...         0         0         0         0         0         0   \n",
       "1       0  ...         0         0         0         0         0         0   \n",
       "2       0  ...         0         0         0        30        43         0   \n",
       "3       0  ...         3         0         0         0         0         1   \n",
       "4       0  ...         0         0         0         0         0         0   \n",
       "\n",
       "   pixel781  pixel782  pixel783  pixel784  \n",
       "0         0         0         0         0  \n",
       "1         0         0         0         0  \n",
       "2         0         0         0         0  \n",
       "3         0         0         0         0  \n",
       "4         0         0         0         0  \n",
       "\n",
       "[5 rows x 785 columns]"
      ]
     },
     "execution_count": 3,
     "metadata": {},
     "output_type": "execute_result"
    }
   ],
   "source": [
    "df = pd.read_csv('../input/fashionmnist/fashion-mnist_train.csv')\n",
    "df.head()"
   ]
  },
  {
   "cell_type": "code",
   "execution_count": 4,
   "id": "8137b2d7",
   "metadata": {
    "execution": {
     "iopub.execute_input": "2022-01-24T01:32:37.593799Z",
     "iopub.status.busy": "2022-01-24T01:32:37.593037Z",
     "iopub.status.idle": "2022-01-24T01:32:37.595913Z",
     "shell.execute_reply": "2022-01-24T01:32:37.596468Z",
     "shell.execute_reply.started": "2022-01-24T01:31:54.576371Z"
    },
    "papermill": {
     "duration": 0.01918,
     "end_time": "2022-01-24T01:32:37.596631",
     "exception": false,
     "start_time": "2022-01-24T01:32:37.577451",
     "status": "completed"
    },
    "tags": []
   },
   "outputs": [
    {
     "data": {
      "text/plain": [
       "((60000, 784), (60000,))"
      ]
     },
     "execution_count": 4,
     "metadata": {},
     "output_type": "execute_result"
    }
   ],
   "source": [
    "X = df.iloc[:, 1:]\n",
    "y = df.iloc[:,0]\n",
    "X.shape, y.shape"
   ]
  },
  {
   "cell_type": "markdown",
   "id": "b27ede1b",
   "metadata": {
    "papermill": {
     "duration": 0.009982,
     "end_time": "2022-01-24T01:32:37.616824",
     "exception": false,
     "start_time": "2022-01-24T01:32:37.606842",
     "status": "completed"
    },
    "tags": []
   },
   "source": [
    "### creating a dataset class"
   ]
  },
  {
   "cell_type": "code",
   "execution_count": 5,
   "id": "687b8440",
   "metadata": {
    "execution": {
     "iopub.execute_input": "2022-01-24T01:32:37.646774Z",
     "iopub.status.busy": "2022-01-24T01:32:37.646140Z",
     "iopub.status.idle": "2022-01-24T01:32:37.648654Z",
     "shell.execute_reply": "2022-01-24T01:32:37.648202Z",
     "shell.execute_reply.started": "2022-01-24T01:31:54.588393Z"
    },
    "papermill": {
     "duration": 0.022124,
     "end_time": "2022-01-24T01:32:37.648805",
     "exception": false,
     "start_time": "2022-01-24T01:32:37.626681",
     "status": "completed"
    },
    "tags": []
   },
   "outputs": [],
   "source": [
    "# my_transforms = transforms.ToTensor()\n",
    "my_transforms = \"\"\n",
    "class fashion_dataset(Dataset):\n",
    "    def __init__(self,data_path=\"../input/fashionmnist/fashion-mnist_train.csv\", transforms=my_transforms, subset_length=2000):\n",
    "        if subset_length:\n",
    "            self.input_df = pd.read_csv(data_path)[:subset_length]\n",
    "        else :\n",
    "            self.input_df = pd.read_csv(data_path)\n",
    "        self.len = len(self.input_df)\n",
    "        if transforms:\n",
    "            self.transform = transforms\n",
    "        else:\n",
    "            self.transform = \"\"\n",
    "        \n",
    "\n",
    "        self.x  = torch.from_numpy(self.input_df.iloc[:,1:].values)\n",
    "        self.x = self.x.reshape(self.x.size(0), 1, 28,28).float()\n",
    "        \n",
    "        self.y = torch.from_numpy(self.input_df.iloc[:,0].values).long()\n",
    "        \n",
    "    def __len__(self):\n",
    "        return self.len\n",
    "    \n",
    "    def __getitem__(self, index):\n",
    "        x_item = self.x[index]\n",
    "        y_item = self.y[index]\n",
    "        \n",
    "        if (self.transform):\n",
    "            x_item = self.transform(x_item)\n",
    "               \n",
    "        return x_item, y_item "
   ]
  },
  {
   "cell_type": "code",
   "execution_count": 6,
   "id": "0e01d46f",
   "metadata": {
    "execution": {
     "iopub.execute_input": "2022-01-24T01:32:37.672603Z",
     "iopub.status.busy": "2022-01-24T01:32:37.672027Z",
     "iopub.status.idle": "2022-01-24T01:32:42.338688Z",
     "shell.execute_reply": "2022-01-24T01:32:42.337882Z",
     "shell.execute_reply.started": "2022-01-24T01:31:54.602660Z"
    },
    "papermill": {
     "duration": 4.680513,
     "end_time": "2022-01-24T01:32:42.338878",
     "exception": false,
     "start_time": "2022-01-24T01:32:37.658365",
     "status": "completed"
    },
    "tags": []
   },
   "outputs": [],
   "source": [
    "train_dataset = fashion_dataset()"
   ]
  },
  {
   "cell_type": "code",
   "execution_count": 7,
   "id": "aa3f58b9",
   "metadata": {
    "execution": {
     "iopub.execute_input": "2022-01-24T01:32:42.366201Z",
     "iopub.status.busy": "2022-01-24T01:32:42.365469Z",
     "iopub.status.idle": "2022-01-24T01:32:42.597581Z",
     "shell.execute_reply": "2022-01-24T01:32:42.597020Z",
     "shell.execute_reply.started": "2022-01-24T01:31:59.819737Z"
    },
    "papermill": {
     "duration": 0.245723,
     "end_time": "2022-01-24T01:32:42.597726",
     "exception": false,
     "start_time": "2022-01-24T01:32:42.352003",
     "status": "completed"
    },
    "tags": []
   },
   "outputs": [
    {
     "name": "stdout",
     "output_type": "stream",
     "text": [
      "torch.Size([1, 28, 28]) tensor(2)\n",
      "tensor(2)\n"
     ]
    },
    {
     "data": {
      "text/plain": [
       "<matplotlib.image.AxesImage at 0x7f535203b810>"
      ]
     },
     "execution_count": 7,
     "metadata": {},
     "output_type": "execute_result"
    },
    {
     "data": {
      "image/png": "[encoded data removed]",
      "text/plain": [
       "<Figure size 432x288 with 1 Axes>"
      ]
     },
     "metadata": {
      "needs_background": "light"
     },
     "output_type": "display_data"
    }
   ],
   "source": [
    "X, y = train_dataset[0]\n",
    "\n",
    "print(X.shape, y)\n",
    "\n",
    "import matplotlib.pyplot as plt\n",
    "\n",
    "print(y)\n",
    "\n",
    "img = X.permute(1,2,0)\n",
    "plt.imshow(img)"
   ]
  },
  {
   "cell_type": "code",
   "execution_count": 8,
   "id": "0693206a",
   "metadata": {
    "execution": {
     "iopub.execute_input": "2022-01-24T01:32:42.627660Z",
     "iopub.status.busy": "2022-01-24T01:32:42.627081Z",
     "iopub.status.idle": "2022-01-24T01:32:42.629190Z",
     "shell.execute_reply": "2022-01-24T01:32:42.629598Z",
     "shell.execute_reply.started": "2022-01-24T01:31:59.991102Z"
    },
    "papermill": {
     "duration": 0.019433,
     "end_time": "2022-01-24T01:32:42.629781",
     "exception": false,
     "start_time": "2022-01-24T01:32:42.610348",
     "status": "completed"
    },
    "tags": []
   },
   "outputs": [],
   "source": [
    "train_dataloader = DataLoader(train_dataset, batch_size=128,shuffle=True)"
   ]
  },
  {
   "cell_type": "code",
   "execution_count": null,
   "id": "e1f94599",
   "metadata": {
    "papermill": {
     "duration": 0.011749,
     "end_time": "2022-01-24T01:32:42.653307",
     "exception": false,
     "start_time": "2022-01-24T01:32:42.641558",
     "status": "completed"
    },
    "tags": []
   },
   "outputs": [],
   "source": []
  }
 ],
 "metadata": {
  "kernelspec": {
   "display_name": "Python 3",
   "language": "python",
   "name": "python3"
  },
  "language_info": {
   "codemirror_mode": {
    "name": "ipython",
    "version": 3
   },
   "file_extension": ".py",
   "mimetype": "text/x-python",
   "name": "python",
   "nbconvert_exporter": "python",
   "pygments_lexer": "ipython3",
   "version": "3.7.12"
  },
  "papermill": {
   "default_parameters": {},
   "duration": 23.099708,
   "end_time": "2022-01-24T01:32:43.475814",
   "environment_variables": {},
   "exception": null,
   "input_path": "__notebook__.ipynb",
   "output_path": "__notebook__.ipynb",
   "parameters": {},
   "start_time": "2022-01-24T01:32:20.376106",
   "version": "2.3.3"
  }
 },
 "nbformat": 4,
 "nbformat_minor": 5
}
