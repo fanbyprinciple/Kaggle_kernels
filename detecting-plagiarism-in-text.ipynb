{
 "cells": [
  {
   "cell_type": "markdown",
   "id": "ea95c474",
   "metadata": {
    "papermill": {
     "duration": 0.010189,
     "end_time": "2022-02-27T06:30:17.490095",
     "exception": false,
     "start_time": "2022-02-27T06:30:17.479906",
     "status": "completed"
    },
    "tags": []
   },
   "source": [
    "plagirism checker: https://towardsdatascience.com/simple-plagiarism-detection-in-python-2314ac3aee88"
   ]
  },
  {
   "cell_type": "markdown",
   "id": "c7eec05e",
   "metadata": {
    "papermill": {
     "duration": 0.008196,
     "end_time": "2022-02-27T06:30:17.507962",
     "exception": false,
     "start_time": "2022-02-27T06:30:17.499766",
     "status": "completed"
    },
    "tags": []
   },
   "source": [
    "I am trying to check the plagiarism from my para phraser here: https://www.kaggle.com/fanbyprinciple/paraphrasing-texts-using-parrot/"
   ]
  },
  {
   "cell_type": "code",
   "execution_count": 1,
   "id": "46d00af6",
   "metadata": {
    "execution": {
     "iopub.execute_input": "2022-02-27T06:30:17.531617Z",
     "iopub.status.busy": "2022-02-27T06:30:17.527360Z",
     "iopub.status.idle": "2022-02-27T06:30:27.152692Z",
     "shell.execute_reply": "2022-02-27T06:30:27.152154Z",
     "shell.execute_reply.started": "2022-02-27T06:06:34.395977Z"
    },
    "papermill": {
     "duration": 9.636453,
     "end_time": "2022-02-27T06:30:27.152825",
     "exception": false,
     "start_time": "2022-02-27T06:30:17.516372",
     "status": "completed"
    },
    "tags": []
   },
   "outputs": [
    {
     "name": "stdout",
     "output_type": "stream",
     "text": [
      "Requirement already satisfied: nltk in /opt/conda/lib/python3.7/site-packages (3.2.4)\r\n",
      "Collecting nltk\r\n",
      "  Downloading nltk-3.7-py3-none-any.whl (1.5 MB)\r\n",
      "     |████████████████████████████████| 1.5 MB 4.2 MB/s            \r\n",
      "\u001b[?25hRequirement already satisfied: joblib in /opt/conda/lib/python3.7/site-packages (from nltk) (1.1.0)\r\n",
      "Requirement already satisfied: click in /opt/conda/lib/python3.7/site-packages (from nltk) (8.0.3)\r\n",
      "Requirement already satisfied: tqdm in /opt/conda/lib/python3.7/site-packages (from nltk) (4.62.3)\r\n",
      "Requirement already satisfied: regex>=2021.8.3 in /opt/conda/lib/python3.7/site-packages (from nltk) (2021.11.10)\r\n",
      "Requirement already satisfied: importlib-metadata in /opt/conda/lib/python3.7/site-packages (from click->nltk) (4.10.1)\r\n",
      "Requirement already satisfied: typing-extensions>=3.6.4 in /opt/conda/lib/python3.7/site-packages (from importlib-metadata->click->nltk) (4.0.1)\r\n",
      "Requirement already satisfied: zipp>=0.5 in /opt/conda/lib/python3.7/site-packages (from importlib-metadata->click->nltk) (3.6.0)\r\n",
      "Installing collected packages: nltk\r\n",
      "  Attempting uninstall: nltk\r\n",
      "    Found existing installation: nltk 3.2.4\r\n",
      "    Uninstalling nltk-3.2.4:\r\n",
      "      Successfully uninstalled nltk-3.2.4\r\n",
      "\u001b[31mERROR: pip's dependency resolver does not currently take into account all the packages that are installed. This behaviour is the source of the following dependency conflicts.\r\n",
      "preprocessing 0.1.13 requires nltk==3.2.4, but you have nltk 3.7 which is incompatible.\r\n",
      "allennlp 2.9.0 requires nltk<3.6.6, but you have nltk 3.7 which is incompatible.\u001b[0m\r\n",
      "Successfully installed nltk-3.7\r\n",
      "\u001b[33mWARNING: Running pip as the 'root' user can result in broken permissions and conflicting behaviour with the system package manager. It is recommended to use a virtual environment instead: https://pip.pypa.io/warnings/venv\u001b[0m\r\n"
     ]
    }
   ],
   "source": [
    "!pip install -U nltk"
   ]
  },
  {
   "cell_type": "code",
   "execution_count": 2,
   "id": "7e21d918",
   "metadata": {
    "execution": {
     "iopub.execute_input": "2022-02-27T06:30:27.183408Z",
     "iopub.status.busy": "2022-02-27T06:30:27.182939Z",
     "iopub.status.idle": "2022-02-27T06:30:28.348855Z",
     "shell.execute_reply": "2022-02-27T06:30:28.348426Z",
     "shell.execute_reply.started": "2022-02-27T06:06:55.448265Z"
    },
    "papermill": {
     "duration": 1.183149,
     "end_time": "2022-02-27T06:30:28.348969",
     "exception": false,
     "start_time": "2022-02-27T06:30:27.165820",
     "status": "completed"
    },
    "tags": []
   },
   "outputs": [],
   "source": [
    "import re\n",
    "from nltk.util import ngrams, pad_sequence, everygrams\n",
    "from nltk.tokenize import word_tokenize\n",
    "from nltk.lm import MLE, WittenBellInterpolated\n",
    "import numpy as np\n",
    "import plotly.graph_objects as go\n",
    "from scipy.ndimage import gaussian_filter"
   ]
  },
  {
   "cell_type": "code",
   "execution_count": 3,
   "id": "4b2b39e9",
   "metadata": {
    "execution": {
     "iopub.execute_input": "2022-02-27T06:30:28.380034Z",
     "iopub.status.busy": "2022-02-27T06:30:28.375210Z",
     "iopub.status.idle": "2022-02-27T06:30:28.382869Z",
     "shell.execute_reply": "2022-02-27T06:30:28.382399Z",
     "shell.execute_reply.started": "2022-02-27T06:24:15.629148Z"
    },
    "papermill": {
     "duration": 0.022205,
     "end_time": "2022-02-27T06:30:28.382971",
     "exception": false,
     "start_time": "2022-02-27T06:30:28.360766",
     "status": "completed"
    },
    "tags": []
   },
   "outputs": [],
   "source": [
    "f1 = open('train.txt', 'w+')\n",
    "f2 = open('test.txt', 'w+')\n",
    "\n",
    "f1.write(\"\"\"\n",
    "“Wings of Fire: An Autobiography of Abdul Kalam”  is written by Dr. APJ Abdul Kalam and Arun Tiwari. This book is an autobiography of Dr. APJ Abdul Kalam, former president of India. This story sheds light on the journey of a young boy from Rameswaram to become a renowned scientist. It reflects how simple living, dedication, strong will and hard work led to success. It also shows how cultural unity impacts the lives of individuals.\n",
    "\n",
    "The story begins with Kalam as a boy  around 1930 in the village of Rameswaram where he lived with his parents and four brothers and one sister. In this book, the author tells us how the role of family, relatives, friends, and society contribute to an individual’s life. Kalam describes his village where everyone lives in harmony. Religious discrimination was unknown at that time. A passage that shows the closeness  they had: “The high priest of Rameswaram temple, Pakshi Lakshmana Sastry, was a very close friend of my father’s. One of the most vivid memories of my early childhood is of the two men, each in his traditional attire, discussing spiritual matters.”\n",
    "\n",
    "When he was very young, Kalam wanted to join the Indian Airforce but he was not able to clear the interview. Far from being demotivated, he focused more on studies, started his career in Aeronautical Development Establishment (ADE), and was involved in the design of a hovercraft. He went to NASA on a training program. He moved to Indian Space Research and there he met Vikram Sarabhai. He also met many geniuses who inspired him. The book also describes leadership and teamwork, while making the projects. It shows how a  man becomes a leader whenever there is a successful project or a failed one.\n",
    "\n",
    "The book reveals extensive and detailed project work by Dr. APJ Kalam, which I find distracting from the story of his life. Some readers may find this detailed descriptions boring and unappealing. It highlights the successful execution of “Agni” and other projects.\n",
    "\n",
    "The book narrates India’s technological achievements at a time, few nations can boast of. It speaks about some brilliant minds who worked behind Indian space research such as Vikram Sarabhai and Dr. Brahm Prakash and their contribution towards ISRO.\n",
    "\n",
    "As a reader, this book initially is very interesting particularly the portions from his younger days to a college student like how his family encouraged him. Later, the writing becomes a bit monotonous as it gives minute illustrations of the projects. At the end, he offers advice to the younger generation not to get demotivated and lead a positive life.\n",
    "\n",
    "This book demonstrates how Dr. APJ Abdul Kalam’s simple living and positive thinking became an inspiration for the Indian youth.\n",
    "\"\"\")\n",
    "\n",
    "f2.write(\"\"\"\n",
    "\"Wings of fire an autobiography of abdul kalam is a book by dr.APJ Abdul Kalam and Arun Tiwari.APJ Abdul Kalam, former president of India.This story sheds light on the journey of a boy from rameswaram to become a famous scientist.It reflects how simple living, dedication, strong will and hard work led to success.It also shows how cultural unity influences the lives of individual individuals.The story begins with kalam as a boy in the village of rameswaram around 1930 where he lived with his parents four brothers and one sister.The author tells us in this book how the role of family friends and society contribute to an individuals life.Kalam describes his village where everybody lives in harmony.Discrimination was never known at that time and was unknown today.A passage that shows the closeness they had the priest of the temple of rameswaram pakshi lakshmana sastry was a very close friend of.One of the most vivid memories of my early childhood is the conversation between two males each wearing his traditional clothes about religious matters.”\\n\\nWhen he was very young, Kalam wanted to join the Indian Airforce but he was not able to clear the interview.Far from being demotivated, he focused more on studies, started his career in Aeronautical Development Establishment (ADE), and was involved in the design of a hovercraft.He went to nasa on a training programme.He moved to indian space research and met vikram sarabhai there.He also met many great minds who inspired him.The book also describes leadership and teamwork, while making the projects.It shows how a man becomes a leader whenever there is a failed or a successful project.APJ Kalam, which I find distracting from the story of his life.Some readers might find these detailed descriptions boring and unappealing.This publication highlights the successful execution of agni and other projects.The book tells the story of india's technological achievements at a time when few nations can boast of its technological breakthroughs.It talks about some brilliant minds who worked behind the indian space research such as vikram sarabhai and vikram.Brahm Prakash and their contribution towards ISRO.As a reader, this book initially is very interesting particularly the portions from his younger days to a college student like how his family encouraged him.Later the writing becomes a little monotonous as he presents minute illustrations of the projects.He teaches the younger generation not to get demotivated and to live a positive life.This book demonstrates how dr.Apj abdul kalam's simple lifestyle and positive thinking became an inspiration to the indian youth\"\n",
    "\"\"\")\n",
    "\n",
    "f1.close()\n",
    "f2.close()"
   ]
  },
  {
   "cell_type": "code",
   "execution_count": 4,
   "id": "30965158",
   "metadata": {
    "execution": {
     "iopub.execute_input": "2022-02-27T06:30:28.411539Z",
     "iopub.status.busy": "2022-02-27T06:30:28.410950Z",
     "iopub.status.idle": "2022-02-27T06:30:28.412690Z",
     "shell.execute_reply": "2022-02-27T06:30:28.413069Z",
     "shell.execute_reply.started": "2022-02-27T06:24:27.017705Z"
    },
    "papermill": {
     "duration": 0.018027,
     "end_time": "2022-02-27T06:30:28.413217",
     "exception": false,
     "start_time": "2022-02-27T06:30:28.395190",
     "status": "completed"
    },
    "tags": []
   },
   "outputs": [],
   "source": [
    "# Training data file\n",
    "train_data_file = \"train.txt\"\n",
    "\n",
    "# read training data\n",
    "with open(train_data_file) as f:\n",
    "    train_text = f.read().lower()\n",
    "\n",
    "# apply preprocessing (remove text inside square and curly brackets and rem punc)\n",
    "train_text = re.sub(r\"\\[.*\\]|\\{.*\\}\", \"\", train_text)\n",
    "train_text = re.sub(r'[^\\w\\s]', \"\", train_text)"
   ]
  },
  {
   "cell_type": "code",
   "execution_count": 5,
   "id": "a79bfcd1",
   "metadata": {
    "execution": {
     "iopub.execute_input": "2022-02-27T06:30:28.440441Z",
     "iopub.status.busy": "2022-02-27T06:30:28.439925Z",
     "iopub.status.idle": "2022-02-27T06:30:28.477632Z",
     "shell.execute_reply": "2022-02-27T06:30:28.478146Z",
     "shell.execute_reply.started": "2022-02-27T06:24:31.989863Z"
    },
    "papermill": {
     "duration": 0.052715,
     "end_time": "2022-02-27T06:30:28.478358",
     "exception": false,
     "start_time": "2022-02-27T06:30:28.425643",
     "status": "completed"
    },
    "tags": []
   },
   "outputs": [
    {
     "name": "stdout",
     "output_type": "stream",
     "text": [
      "Number of ngrams: 1814\n",
      "<Vocabulary with cutoff=1 unk_label='<UNK>' and 244 items>\n"
     ]
    }
   ],
   "source": [
    "# set ngram number\n",
    "n = 4\n",
    "\n",
    "# pad the text and tokenize\n",
    "training_data = list(pad_sequence(word_tokenize(train_text), n, \n",
    "                                  pad_left=True, \n",
    "                                  left_pad_symbol=\"<s>\"))\n",
    "\n",
    "# generate ngrams\n",
    "ngrams = list(everygrams(training_data, max_len=n))\n",
    "print(\"Number of ngrams:\", len(ngrams))\n",
    "\n",
    "# build ngram language models\n",
    "model = WittenBellInterpolated(n)\n",
    "model.fit([ngrams], vocabulary_text=training_data)\n",
    "print(model.vocab)"
   ]
  },
  {
   "cell_type": "code",
   "execution_count": 6,
   "id": "3c6ef8de",
   "metadata": {
    "execution": {
     "iopub.execute_input": "2022-02-27T06:30:28.518926Z",
     "iopub.status.busy": "2022-02-27T06:30:28.518272Z",
     "iopub.status.idle": "2022-02-27T06:30:28.524051Z",
     "shell.execute_reply": "2022-02-27T06:30:28.524707Z",
     "shell.execute_reply.started": "2022-02-27T06:25:57.259411Z"
    },
    "papermill": {
     "duration": 0.027833,
     "end_time": "2022-02-27T06:30:28.524864",
     "exception": false,
     "start_time": "2022-02-27T06:30:28.497031",
     "status": "completed"
    },
    "tags": []
   },
   "outputs": [
    {
     "name": "stdout",
     "output_type": "stream",
     "text": [
      "Length of test data: 417\n"
     ]
    }
   ],
   "source": [
    "# testing data file\n",
    "test_data_file = \"test.txt\"\n",
    "\n",
    "# Read testing data\n",
    "with open(test_data_file) as f:\n",
    "    test_text = f.read().lower()\n",
    "test_text = re.sub(r'[^\\w\\s]', \"\", test_text)\n",
    "\n",
    "# Tokenize and pad the text\n",
    "testing_data = list(pad_sequence(word_tokenize(test_text), n, \n",
    "                                 pad_left=True,\n",
    "                                 left_pad_symbol=\"<s>\"))\n",
    "print(\"Length of test data:\", len(testing_data))\n"
   ]
  },
  {
   "cell_type": "code",
   "execution_count": 7,
   "id": "e44728f4",
   "metadata": {
    "execution": {
     "iopub.execute_input": "2022-02-27T06:30:28.566067Z",
     "iopub.status.busy": "2022-02-27T06:30:28.565425Z",
     "iopub.status.idle": "2022-02-27T06:30:28.593708Z",
     "shell.execute_reply": "2022-02-27T06:30:28.593293Z",
     "shell.execute_reply.started": "2022-02-27T06:26:13.066132Z"
    },
    "papermill": {
     "duration": 0.049632,
     "end_time": "2022-02-27T06:30:28.593815",
     "exception": false,
     "start_time": "2022-02-27T06:30:28.544183",
     "status": "completed"
    },
    "tags": []
   },
   "outputs": [
    {
     "name": "stdout",
     "output_type": "stream",
     "text": [
      "Width, Height: 8 , 53\n"
     ]
    }
   ],
   "source": [
    "# assign scores\n",
    "scores = []\n",
    "for i, item in enumerate(testing_data[n-1:]):\n",
    "    s = model.score(item, testing_data[i:i+n-1])\n",
    "    scores.append(s)\n",
    "\n",
    "scores_np = np.array(scores)\n",
    "\n",
    "# set width and height\n",
    "width = 8\n",
    "height = np.ceil(len(testing_data)/width).astype(\"int32\")\n",
    "print(\"Width, Height:\", width, \",\", height)\n",
    "\n",
    "# copy scores to rectangular blank array\n",
    "a = np.zeros(width*height)\n",
    "a[:len(scores_np)] = scores_np\n",
    "diff = len(a) - len(scores_np)\n",
    "\n",
    "# apply gaussian smoothing for aesthetics\n",
    "a = gaussian_filter(a, sigma=1.0)\n",
    "\n",
    "# reshape to fit rectangle\n",
    "a = a.reshape(-1, width)\n",
    "\n",
    "# format labels\n",
    "labels = [\" \".join(testing_data[i:i+width]) for i in range(n-1, len(testing_data), width)]\n",
    "labels_individual = [x.split() for x in labels]\n",
    "labels_individual[-1] += [\"\"]*diff\n",
    "labels = [f\"{x:60.60}\" for x in labels]"
   ]
  },
  {
   "cell_type": "code",
   "execution_count": 8,
   "id": "e2d1c1c0",
   "metadata": {
    "execution": {
     "iopub.execute_input": "2022-02-27T06:30:28.623672Z",
     "iopub.status.busy": "2022-02-27T06:30:28.623113Z",
     "iopub.status.idle": "2022-02-27T06:30:28.765595Z",
     "shell.execute_reply": "2022-02-27T06:30:28.765125Z",
     "shell.execute_reply.started": "2022-02-27T06:26:27.738590Z"
    },
    "papermill": {
     "duration": 0.158575,
     "end_time": "2022-02-27T06:30:28.765696",
     "exception": false,
     "start_time": "2022-02-27T06:30:28.607121",
     "status": "completed"
    },
    "tags": []
   },
   "outputs": [
    {
     "data": {
      "text/html": [
       "        <script type=\"text/javascript\">\n",
       "        window.PlotlyConfig = {MathJaxConfig: 'local'};\n",
       "        if (window.MathJax) {MathJax.Hub.Config({SVG: {font: \"STIX-Web\"}});}\n",
       "        if (typeof require !== 'undefined') {\n",
       "        require.undef(\"plotly\");\n",
       "        requirejs.config({\n",
       "            paths: {\n",
       "                'plotly': ['https://cdn.plot.ly/plotly-2.8.3.min']\n",
       "            }\n",
       "        });\n",
       "        require(['plotly'], function(Plotly) {\n",
       "            window._Plotly = Plotly;\n",
       "        });\n",
       "        }\n",
       "        </script>\n",
       "        "
      ]
     },
     "metadata": {},
     "output_type": "display_data"
    },
    {
     "data": {
      "text/html": [
       "<div>                            <div id=\"9ba2748f-b85e-4ca3-96fc-e586fac4a753\" class=\"plotly-graph-div\" style=\"height:1484px; width:1000px;\"></div>            <script type=\"text/javascript\">                require([\"plotly\"], function(Plotly) {                    window.PLOTLYENV=window.PLOTLYENV || {};                                    if (document.getElementById(\"9ba2748f-b85e-4ca3-96fc-e586fac4a753\")) {                    Plotly.newPlot(                        \"9ba2748f-b85e-4ca3-96fc-e586fac4a753\",                        [{\"colorscale\":[[0.0,\"rgb(255, 198, 196)\"],[0.16666666666666666,\"rgb(244, 163, 168)\"],[0.3333333333333333,\"rgb(227, 129, 145)\"],[0.5,\"rgb(204, 96, 125)\"],[0.6666666666666666,\"rgb(173, 70, 108)\"],[0.8333333333333334,\"rgb(139, 48, 88)\"],[1.0,\"rgb(103, 32, 68)\"]],\"customdata\":[[\"wings\",\"of\",\"fire\",\"an\",\"autobiography\",\"of\",\"abdul\",\"kalam\"],[\"is\",\"a\",\"book\",\"by\",\"drapj\",\"abdul\",\"kalam\",\"and\"],[\"arun\",\"tiwariapj\",\"abdul\",\"kalam\",\"former\",\"president\",\"of\",\"indiathis\"],[\"story\",\"sheds\",\"light\",\"on\",\"the\",\"journey\",\"of\",\"a\"],[\"boy\",\"from\",\"rameswaram\",\"to\",\"become\",\"a\",\"famous\",\"scientistit\"],[\"reflects\",\"how\",\"simple\",\"living\",\"dedication\",\"strong\",\"will\",\"and\"],[\"hard\",\"work\",\"led\",\"to\",\"successit\",\"also\",\"shows\",\"how\"],[\"cultural\",\"unity\",\"influences\",\"the\",\"lives\",\"of\",\"individual\",\"individualsthe\"],[\"story\",\"begins\",\"with\",\"kalam\",\"as\",\"a\",\"boy\",\"in\"],[\"the\",\"village\",\"of\",\"rameswaram\",\"around\",\"1930\",\"where\",\"he\"],[\"lived\",\"with\",\"his\",\"parents\",\"four\",\"brothers\",\"and\",\"one\"],[\"sisterthe\",\"author\",\"tells\",\"us\",\"in\",\"this\",\"book\",\"how\"],[\"the\",\"role\",\"of\",\"family\",\"friends\",\"and\",\"society\",\"contribute\"],[\"to\",\"an\",\"individuals\",\"lifekalam\",\"describes\",\"his\",\"village\",\"where\"],[\"everybody\",\"lives\",\"in\",\"harmonydiscrimination\",\"was\",\"never\",\"known\",\"at\"],[\"that\",\"time\",\"and\",\"was\",\"unknown\",\"todaya\",\"passage\",\"that\"],[\"shows\",\"the\",\"closeness\",\"they\",\"had\",\"the\",\"priest\",\"of\"],[\"the\",\"temple\",\"of\",\"rameswaram\",\"pakshi\",\"lakshmana\",\"sastry\",\"was\"],[\"a\",\"very\",\"close\",\"friend\",\"ofone\",\"of\",\"the\",\"most\"],[\"vivid\",\"memories\",\"of\",\"my\",\"early\",\"childhood\",\"is\",\"the\"],[\"conversation\",\"between\",\"two\",\"males\",\"each\",\"wearing\",\"his\",\"traditional\"],[\"clothes\",\"about\",\"religious\",\"matters\",\"when\",\"he\",\"was\",\"very\"],[\"young\",\"kalam\",\"wanted\",\"to\",\"join\",\"the\",\"indian\",\"airforce\"],[\"but\",\"he\",\"was\",\"not\",\"able\",\"to\",\"clear\",\"the\"],[\"interviewfar\",\"from\",\"being\",\"demotivated\",\"he\",\"focused\",\"more\",\"on\"],[\"studies\",\"started\",\"his\",\"career\",\"in\",\"aeronautical\",\"development\",\"establishment\"],[\"ade\",\"and\",\"was\",\"involved\",\"in\",\"the\",\"design\",\"of\"],[\"a\",\"hovercrafthe\",\"went\",\"to\",\"nasa\",\"on\",\"a\",\"training\"],[\"programmehe\",\"moved\",\"to\",\"indian\",\"space\",\"research\",\"and\",\"met\"],[\"vikram\",\"sarabhai\",\"therehe\",\"also\",\"met\",\"many\",\"great\",\"minds\"],[\"who\",\"inspired\",\"himthe\",\"book\",\"also\",\"describes\",\"leadership\",\"and\"],[\"teamwork\",\"while\",\"making\",\"the\",\"projectsit\",\"shows\",\"how\",\"a\"],[\"man\",\"becomes\",\"a\",\"leader\",\"whenever\",\"there\",\"is\",\"a\"],[\"failed\",\"or\",\"a\",\"successful\",\"projectapj\",\"kalam\",\"which\",\"i\"],[\"find\",\"distracting\",\"from\",\"the\",\"story\",\"of\",\"his\",\"lifesome\"],[\"readers\",\"might\",\"find\",\"these\",\"detailed\",\"descriptions\",\"boring\",\"and\"],[\"unappealingthis\",\"publication\",\"highlights\",\"the\",\"successful\",\"execution\",\"of\",\"agni\"],[\"and\",\"other\",\"projectsthe\",\"book\",\"tells\",\"the\",\"story\",\"of\"],[\"indias\",\"technological\",\"achievements\",\"at\",\"a\",\"time\",\"when\",\"few\"],[\"nations\",\"can\",\"boast\",\"of\",\"its\",\"technological\",\"breakthroughsit\",\"talks\"],[\"about\",\"some\",\"brilliant\",\"minds\",\"who\",\"worked\",\"behind\",\"the\"],[\"indian\",\"space\",\"research\",\"such\",\"as\",\"vikram\",\"sarabhai\",\"and\"],[\"vikrambrahm\",\"prakash\",\"and\",\"their\",\"contribution\",\"towards\",\"isroas\",\"a\"],[\"reader\",\"this\",\"book\",\"initially\",\"is\",\"very\",\"interesting\",\"particularly\"],[\"the\",\"portions\",\"from\",\"his\",\"younger\",\"days\",\"to\",\"a\"],[\"college\",\"student\",\"like\",\"how\",\"his\",\"family\",\"encouraged\",\"himlater\"],[\"the\",\"writing\",\"becomes\",\"a\",\"little\",\"monotonous\",\"as\",\"he\"],[\"presents\",\"minute\",\"illustrations\",\"of\",\"the\",\"projectshe\",\"teaches\",\"the\"],[\"younger\",\"generation\",\"not\",\"to\",\"get\",\"demotivated\",\"and\",\"to\"],[\"live\",\"a\",\"positive\",\"lifethis\",\"book\",\"demonstrates\",\"how\",\"drapj\"],[\"abdul\",\"kalams\",\"simple\",\"lifestyle\",\"and\",\"positive\",\"thinking\",\"became\"],[\"an\",\"inspiration\",\"to\",\"the\",\"indian\",\"youth\",\"\",\"\",\"\",\"\",\"\",\"\",\"\",\"\",\"\",\"\"]],\"dx\":1,\"hovertemplate\":\"%{customdata} <br><b>Score:%{z:.3f}<extra></extra>\",\"x0\":0,\"y\":[\"wings of fire an autobiography of abdul kalam               \",\"is a book by drapj abdul kalam and                          \",\"arun tiwariapj abdul kalam former president of indiathis    \",\"story sheds light on the journey of a                       \",\"boy from rameswaram to become a famous scientistit          \",\"reflects how simple living dedication strong will and       \",\"hard work led to successit also shows how                   \",\"cultural unity influences the lives of individual individual\",\"story begins with kalam as a boy in                         \",\"the village of rameswaram around 1930 where he              \",\"lived with his parents four brothers and one                \",\"sisterthe author tells us in this book how                  \",\"the role of family friends and society contribute           \",\"to an individuals lifekalam describes his village where     \",\"everybody lives in harmonydiscrimination was never known at \",\"that time and was unknown todaya passage that               \",\"shows the closeness they had the priest of                  \",\"the temple of rameswaram pakshi lakshmana sastry was        \",\"a very close friend ofone of the most                       \",\"vivid memories of my early childhood is the                 \",\"conversation between two males each wearing his traditional \",\"clothes about religious matters when he was very            \",\"young kalam wanted to join the indian airforce              \",\"but he was not able to clear the                            \",\"interviewfar from being demotivated he focused more on      \",\"studies started his career in aeronautical development estab\",\"ade and was involved in the design of                       \",\"a hovercrafthe went to nasa on a training                   \",\"programmehe moved to indian space research and met          \",\"vikram sarabhai therehe also met many great minds           \",\"who inspired himthe book also describes leadership and      \",\"teamwork while making the projectsit shows how a            \",\"man becomes a leader whenever there is a                    \",\"failed or a successful projectapj kalam which i             \",\"find distracting from the story of his lifesome             \",\"readers might find these detailed descriptions boring and   \",\"unappealingthis publication highlights the successful execut\",\"and other projectsthe book tells the story of               \",\"indias technological achievements at a time when few        \",\"nations can boast of its technological breakthroughsit talks\",\"about some brilliant minds who worked behind the            \",\"indian space research such as vikram sarabhai and           \",\"vikrambrahm prakash and their contribution towards isroas a \",\"reader this book initially is very interesting particularly \",\"the portions from his younger days to a                     \",\"college student like how his family encouraged himlater     \",\"the writing becomes a little monotonous as he               \",\"presents minute illustrations of the projectshe teaches the \",\"younger generation not to get demotivated and to            \",\"live a positive lifethis book demonstrates how drapj        \",\"abdul kalams simple lifestyle and positive thinking became  \",\"an inspiration to the indian youth                          \"],\"z\":[[0.7416010804044642,0.7894459171718942,0.8156174853653324,0.8353972734137601,0.8385701670221231,0.7702125090847661,0.6753078261802137,0.6447785161550377],[0.4847917730437365,0.20772090835996812,0.045753728411462705,0.008923807505128927,0.03138502082357533,0.14060724239053055,0.2955790378772567,0.3903961500172519],[0.38365827914989464,0.22758924188815494,0.18264625535760257,0.30729528073417783,0.4630621318899203,0.6385731514930357,0.5772360455027838,0.27524241902292407],[0.13915176479589728,0.30507974218860234,0.5990006272902201,0.7781348642040743,0.805566112817044,0.7999183893202673,0.7683901693560712,0.5759946495710031],[0.3054351064106508,0.28122954292245406,0.49712839951245724,0.6924909371095942,0.7403422472822654,0.5808849279432157,0.2600043783205134,0.08137793259501101],[0.16091811349390361,0.3867623004456763,0.6022583400253416,0.7422150355275097,0.790875225637654,0.8303273227678154,0.8599165033950573,0.8474919079942962],[0.8262227362252768,0.8283769078849453,0.7935222590387119,0.598794684669136,0.27422662511672663,0.1357833064939606,0.2821813985040261,0.5255164479503066],[0.6490227388871876,0.5473738135550938,0.2672264904967705,0.11226282791561466,0.18053164717787393,0.2622704794874171,0.15637408587853258,0.048483959472501295],[0.09030685076102218,0.2978438118644726,0.5829223156389768,0.7491662016228983,0.7790390255082345,0.7168909495428922,0.5104110623120872,0.2698971828374851],[0.23180469376048252,0.3968708504060666,0.5885736157188579,0.5459444462266845,0.3535158776043181,0.2617993893637664,0.22069945102670357,0.31031787360151675],[0.5358117033290919,0.7302338035107087,0.7547332249386822,0.5837469677898179,0.39945286721196666,0.4696364193834596,0.611046547487408,0.515932605929595],[0.257766857009543,0.20708696397342424,0.3861348881391849,0.42974182236261715,0.2719357174308805,0.2578279529307215,0.3248454326626364,0.23980985052962328],[0.25882925623390185,0.4881708105529874,0.6668421537089424,0.5740048131246871,0.39033837769917634,0.42743695068884513,0.5974799657538514,0.7594265273968727],[0.819393872295556,0.7569293349753589,0.551202700444125,0.2529337400199223,0.14264291149458766,0.2812462387424617,0.4736434063754902,0.4695613204589975],[0.24177939375186194,0.11020160234911217,0.1076983483821178,0.06509432136725232,0.018309062492833227,0.004984962233536681,0.014115583518861777,0.07736672299559602],[0.2208636556570206,0.29431195491281004,0.174413202408905,0.06334877314065111,0.035009673030350436,0.04496098630889206,0.16280062031056808,0.39969686595345416],[0.6113496084672888,0.7342378922030446,0.7954443730313515,0.8378762698564082,0.8211485149093685,0.6427096698035143,0.39373291810595656,0.27365032535497524],[0.15519484054269442,0.05136178132037565,0.03217850609480034,0.06262050415388601,0.18334035475928379,0.4362470347670918,0.6786149199218137,0.7914794483126437],[0.7959413835097644,0.7808439894826407,0.7575559721553371,0.5880342242188596,0.2749644483481215,0.10926374912639147,0.15574651172578313,0.365414097128624],[0.6617549515240848,0.8286136078875317,0.8375259509380926,0.7874714188071282,0.7705198820811547,0.7734411757785464,0.6037261281213989,0.26521491484824444],[0.05306838966152947,0.004913469115838728,0.0011452438247842446,0.0011424187999288524,0.002147525103698384,0.008180317499737796,0.02381601258711685,0.032790418557165905],[0.01904357308093736,0.00750789068360551,0.03206478695076302,0.16639170540574777,0.42806176081843955,0.6501634562469496,0.7251577736553376,0.7307185783987359],[0.7616258801856164,0.7920572628127807,0.8068529551759168,0.8192559064961769,0.8194607744009751,0.8113745136065702,0.7737741819121577,0.7619104019087958],[0.8117388275397804,0.8287860280932116,0.7793577430575765,0.7473413277961656,0.7853038126595957,0.8177250493720312,0.7770067620500705,0.5885989875325495],[0.27094208065505393,0.12939746250878306,0.2856970823752192,0.5732486852142966,0.7500637777030533,0.8061954955975819,0.8403103227888298,0.8490829583188624],[0.8412797752182369,0.8497318282335957,0.8451307812117483,0.82736959797219,0.8252219334106885,0.829019159719701,0.8501227233978317,0.8694254004968291],[0.869069562968519,0.8434284615638676,0.805618599645012,0.8029009873135741,0.8144067034414931,0.780855167659021,0.7509954423130403,0.7373089331956867],[0.5602160678196689,0.26725259743478397,0.20243205582405602,0.38600120243428915,0.5917954367095033,0.737725525391492,0.743661808443298,0.5471964189958687],[0.26093476871825294,0.20132975940003897,0.384041737700866,0.5860252854279597,0.7355243501663353,0.7146011503667284,0.46899543841025404,0.26785445675154607],[0.3307579114892447,0.3970712076357728,0.22898306878125932,0.1234151297951761,0.2241350644560312,0.2932479920727337,0.1887139576952953,0.1636983288028578],[0.2341328517930286,0.1730470608111505,0.0679593843280801,0.06849740991432812,0.22345362869421534,0.49969642822470295,0.7274462550832179,0.8140908702889365],[0.8248035052558839,0.843297099310499,0.8194100127314614,0.6165361085410263,0.289534295890753,0.17200356981170778,0.2849381718752113,0.45327224201047517],[0.6614775770000497,0.8114428577591672,0.8254763570891525,0.7885287713573097,0.8152611952643121,0.838510561693233,0.7758332518740199,0.5633873241098665],[0.26790916169557283,0.17412584234244677,0.2147434051931494,0.13333438182612542,0.04307706646143215,0.07139613784937758,0.26540317704067307,0.5775380634894006],[0.7824549246691688,0.8349642089145793,0.8317031929730907,0.7982411672481499,0.7491824987478302,0.6826524280729367,0.5104413348368539,0.22411446376707075],[0.04520899931665354,0.005105168973045204,0.0034245333109419623,0.019138059220106564,0.10716913264313827,0.33033362120549087,0.5731459218917132,0.545987994893959],[0.2568834650107958,0.0822135821589955,0.16387474985488082,0.3828757327201604,0.5797018924486528,0.7345108402468041,0.812015285426346,0.8153434193753435],[0.7690149360796892,0.5611528274843182,0.2384147010083636,0.05309838935321099,0.018367274529503458,0.04222051033837832,0.1110589271373653,0.18043450516184398],[0.25158462372396206,0.45123834411551844,0.6804840600701206,0.7916882403048915,0.7558408318398337,0.5482950685698083,0.26133808209802833,0.21086643830891544],[0.4364267617668674,0.680141478087934,0.7707877900895281,0.6057024445768342,0.2641041394549255,0.05244251718296376,0.006976789312435733,0.03077194348328046],[0.16017445927667195,0.4034918952751656,0.6339776943208973,0.7872948119822502,0.8410485654370938,0.7986016036032422,0.6021169021409671,0.2858753395620382],[0.156798970191542,0.3162539263438761,0.549202206389831,0.6564250249422995,0.7469163609476179,0.8124686568254982,0.7728708092217162,0.5466786548008045],[0.2512923623551001,0.19928314817335907,0.3860551237128352,0.5905787431968592,0.7141836004232366,0.5933337541758595,0.27511927241829004,0.11763272851934402],[0.2569389410046079,0.5543773233703522,0.7195818758393654,0.7387051508636371,0.7745065060492283,0.7997329115102618,0.8165436327549997,0.8448425832260033],[0.8436777402599946,0.823568517243326,0.8187062662819495,0.8030724055562946,0.7943845716842599,0.8137241248070461,0.822408168421019,0.8004196226208389],[0.8021334534990465,0.840675293469333,0.8627829594280101,0.8443182955861686,0.8014700445712288,0.7417781347498522,0.5590778158814479,0.2596969978732703],[0.11955318937804563,0.2576500382460054,0.5309282985130421,0.552462423178442,0.2909625547115149,0.17613722803097967,0.20703561210039598,0.126423194200711],[0.059327061882522916,0.16907694937527404,0.4265105277675667,0.6132579815455605,0.52234060935703,0.23513240276762315,0.0630353198216362,0.06909171351586797],[0.22539645572296851,0.5177470445997108,0.7446478557470458,0.8064452743498247,0.8075784612441101,0.7795965564417766,0.5833819174265769,0.25150327736984657],[0.059054264766314944,0.026084736610518917,0.023227011198340315,0.020969354198557357,0.06632141427353791,0.2151475981763208,0.32022454441231696,0.20075437787144124],[0.1255649554907184,0.254153626561177,0.342748419637932,0.2036064573835275,0.10081571155034194,0.2281132719887447,0.5226134818859596,0.7570624869742937],[0.7859137378864811,0.5805724261541085,0.2640158144578826,0.10123569476432985,0.11003021777395587,0.13856976272031346,0.07953948958980604,0.0174972305932318],[0.0014298496339191177,0.00004308001503493374,0.0,0.0,0.0,0.0,0.0,0.0]],\"zmax\":1,\"zmin\":0,\"type\":\"heatmap\"}],                        {\"template\":{\"data\":{\"bar\":[{\"error_x\":{\"color\":\"#2a3f5f\"},\"error_y\":{\"color\":\"#2a3f5f\"},\"marker\":{\"line\":{\"color\":\"#E5ECF6\",\"width\":0.5},\"pattern\":{\"fillmode\":\"overlay\",\"size\":10,\"solidity\":0.2}},\"type\":\"bar\"}],\"barpolar\":[{\"marker\":{\"line\":{\"color\":\"#E5ECF6\",\"width\":0.5},\"pattern\":{\"fillmode\":\"overlay\",\"size\":10,\"solidity\":0.2}},\"type\":\"barpolar\"}],\"carpet\":[{\"aaxis\":{\"endlinecolor\":\"#2a3f5f\",\"gridcolor\":\"white\",\"linecolor\":\"white\",\"minorgridcolor\":\"white\",\"startlinecolor\":\"#2a3f5f\"},\"baxis\":{\"endlinecolor\":\"#2a3f5f\",\"gridcolor\":\"white\",\"linecolor\":\"white\",\"minorgridcolor\":\"white\",\"startlinecolor\":\"#2a3f5f\"},\"type\":\"carpet\"}],\"choropleth\":[{\"colorbar\":{\"outlinewidth\":0,\"ticks\":\"\"},\"type\":\"choropleth\"}],\"contour\":[{\"colorbar\":{\"outlinewidth\":0,\"ticks\":\"\"},\"colorscale\":[[0.0,\"#0d0887\"],[0.1111111111111111,\"#46039f\"],[0.2222222222222222,\"#7201a8\"],[0.3333333333333333,\"#9c179e\"],[0.4444444444444444,\"#bd3786\"],[0.5555555555555556,\"#d8576b\"],[0.6666666666666666,\"#ed7953\"],[0.7777777777777778,\"#fb9f3a\"],[0.8888888888888888,\"#fdca26\"],[1.0,\"#f0f921\"]],\"type\":\"contour\"}],\"contourcarpet\":[{\"colorbar\":{\"outlinewidth\":0,\"ticks\":\"\"},\"type\":\"contourcarpet\"}],\"heatmap\":[{\"colorbar\":{\"outlinewidth\":0,\"ticks\":\"\"},\"colorscale\":[[0.0,\"#0d0887\"],[0.1111111111111111,\"#46039f\"],[0.2222222222222222,\"#7201a8\"],[0.3333333333333333,\"#9c179e\"],[0.4444444444444444,\"#bd3786\"],[0.5555555555555556,\"#d8576b\"],[0.6666666666666666,\"#ed7953\"],[0.7777777777777778,\"#fb9f3a\"],[0.8888888888888888,\"#fdca26\"],[1.0,\"#f0f921\"]],\"type\":\"heatmap\"}],\"heatmapgl\":[{\"colorbar\":{\"outlinewidth\":0,\"ticks\":\"\"},\"colorscale\":[[0.0,\"#0d0887\"],[0.1111111111111111,\"#46039f\"],[0.2222222222222222,\"#7201a8\"],[0.3333333333333333,\"#9c179e\"],[0.4444444444444444,\"#bd3786\"],[0.5555555555555556,\"#d8576b\"],[0.6666666666666666,\"#ed7953\"],[0.7777777777777778,\"#fb9f3a\"],[0.8888888888888888,\"#fdca26\"],[1.0,\"#f0f921\"]],\"type\":\"heatmapgl\"}],\"histogram\":[{\"marker\":{\"pattern\":{\"fillmode\":\"overlay\",\"size\":10,\"solidity\":0.2}},\"type\":\"histogram\"}],\"histogram2d\":[{\"colorbar\":{\"outlinewidth\":0,\"ticks\":\"\"},\"colorscale\":[[0.0,\"#0d0887\"],[0.1111111111111111,\"#46039f\"],[0.2222222222222222,\"#7201a8\"],[0.3333333333333333,\"#9c179e\"],[0.4444444444444444,\"#bd3786\"],[0.5555555555555556,\"#d8576b\"],[0.6666666666666666,\"#ed7953\"],[0.7777777777777778,\"#fb9f3a\"],[0.8888888888888888,\"#fdca26\"],[1.0,\"#f0f921\"]],\"type\":\"histogram2d\"}],\"histogram2dcontour\":[{\"colorbar\":{\"outlinewidth\":0,\"ticks\":\"\"},\"colorscale\":[[0.0,\"#0d0887\"],[0.1111111111111111,\"#46039f\"],[0.2222222222222222,\"#7201a8\"],[0.3333333333333333,\"#9c179e\"],[0.4444444444444444,\"#bd3786\"],[0.5555555555555556,\"#d8576b\"],[0.6666666666666666,\"#ed7953\"],[0.7777777777777778,\"#fb9f3a\"],[0.8888888888888888,\"#fdca26\"],[1.0,\"#f0f921\"]],\"type\":\"histogram2dcontour\"}],\"mesh3d\":[{\"colorbar\":{\"outlinewidth\":0,\"ticks\":\"\"},\"type\":\"mesh3d\"}],\"parcoords\":[{\"line\":{\"colorbar\":{\"outlinewidth\":0,\"ticks\":\"\"}},\"type\":\"parcoords\"}],\"pie\":[{\"automargin\":true,\"type\":\"pie\"}],\"scatter\":[{\"marker\":{\"colorbar\":{\"outlinewidth\":0,\"ticks\":\"\"}},\"type\":\"scatter\"}],\"scatter3d\":[{\"line\":{\"colorbar\":{\"outlinewidth\":0,\"ticks\":\"\"}},\"marker\":{\"colorbar\":{\"outlinewidth\":0,\"ticks\":\"\"}},\"type\":\"scatter3d\"}],\"scattercarpet\":[{\"marker\":{\"colorbar\":{\"outlinewidth\":0,\"ticks\":\"\"}},\"type\":\"scattercarpet\"}],\"scattergeo\":[{\"marker\":{\"colorbar\":{\"outlinewidth\":0,\"ticks\":\"\"}},\"type\":\"scattergeo\"}],\"scattergl\":[{\"marker\":{\"colorbar\":{\"outlinewidth\":0,\"ticks\":\"\"}},\"type\":\"scattergl\"}],\"scattermapbox\":[{\"marker\":{\"colorbar\":{\"outlinewidth\":0,\"ticks\":\"\"}},\"type\":\"scattermapbox\"}],\"scatterpolar\":[{\"marker\":{\"colorbar\":{\"outlinewidth\":0,\"ticks\":\"\"}},\"type\":\"scatterpolar\"}],\"scatterpolargl\":[{\"marker\":{\"colorbar\":{\"outlinewidth\":0,\"ticks\":\"\"}},\"type\":\"scatterpolargl\"}],\"scatterternary\":[{\"marker\":{\"colorbar\":{\"outlinewidth\":0,\"ticks\":\"\"}},\"type\":\"scatterternary\"}],\"surface\":[{\"colorbar\":{\"outlinewidth\":0,\"ticks\":\"\"},\"colorscale\":[[0.0,\"#0d0887\"],[0.1111111111111111,\"#46039f\"],[0.2222222222222222,\"#7201a8\"],[0.3333333333333333,\"#9c179e\"],[0.4444444444444444,\"#bd3786\"],[0.5555555555555556,\"#d8576b\"],[0.6666666666666666,\"#ed7953\"],[0.7777777777777778,\"#fb9f3a\"],[0.8888888888888888,\"#fdca26\"],[1.0,\"#f0f921\"]],\"type\":\"surface\"}],\"table\":[{\"cells\":{\"fill\":{\"color\":\"#EBF0F8\"},\"line\":{\"color\":\"white\"}},\"header\":{\"fill\":{\"color\":\"#C8D4E3\"},\"line\":{\"color\":\"white\"}},\"type\":\"table\"}]},\"layout\":{\"annotationdefaults\":{\"arrowcolor\":\"#2a3f5f\",\"arrowhead\":0,\"arrowwidth\":1},\"autotypenumbers\":\"strict\",\"coloraxis\":{\"colorbar\":{\"outlinewidth\":0,\"ticks\":\"\"}},\"colorscale\":{\"diverging\":[[0,\"#8e0152\"],[0.1,\"#c51b7d\"],[0.2,\"#de77ae\"],[0.3,\"#f1b6da\"],[0.4,\"#fde0ef\"],[0.5,\"#f7f7f7\"],[0.6,\"#e6f5d0\"],[0.7,\"#b8e186\"],[0.8,\"#7fbc41\"],[0.9,\"#4d9221\"],[1,\"#276419\"]],\"sequential\":[[0.0,\"#0d0887\"],[0.1111111111111111,\"#46039f\"],[0.2222222222222222,\"#7201a8\"],[0.3333333333333333,\"#9c179e\"],[0.4444444444444444,\"#bd3786\"],[0.5555555555555556,\"#d8576b\"],[0.6666666666666666,\"#ed7953\"],[0.7777777777777778,\"#fb9f3a\"],[0.8888888888888888,\"#fdca26\"],[1.0,\"#f0f921\"]],\"sequentialminus\":[[0.0,\"#0d0887\"],[0.1111111111111111,\"#46039f\"],[0.2222222222222222,\"#7201a8\"],[0.3333333333333333,\"#9c179e\"],[0.4444444444444444,\"#bd3786\"],[0.5555555555555556,\"#d8576b\"],[0.6666666666666666,\"#ed7953\"],[0.7777777777777778,\"#fb9f3a\"],[0.8888888888888888,\"#fdca26\"],[1.0,\"#f0f921\"]]},\"colorway\":[\"#636efa\",\"#EF553B\",\"#00cc96\",\"#ab63fa\",\"#FFA15A\",\"#19d3f3\",\"#FF6692\",\"#B6E880\",\"#FF97FF\",\"#FECB52\"],\"font\":{\"color\":\"#2a3f5f\"},\"geo\":{\"bgcolor\":\"white\",\"lakecolor\":\"white\",\"landcolor\":\"#E5ECF6\",\"showlakes\":true,\"showland\":true,\"subunitcolor\":\"white\"},\"hoverlabel\":{\"align\":\"left\"},\"hovermode\":\"closest\",\"mapbox\":{\"style\":\"light\"},\"paper_bgcolor\":\"white\",\"plot_bgcolor\":\"#E5ECF6\",\"polar\":{\"angularaxis\":{\"gridcolor\":\"white\",\"linecolor\":\"white\",\"ticks\":\"\"},\"bgcolor\":\"#E5ECF6\",\"radialaxis\":{\"gridcolor\":\"white\",\"linecolor\":\"white\",\"ticks\":\"\"}},\"scene\":{\"xaxis\":{\"backgroundcolor\":\"#E5ECF6\",\"gridcolor\":\"white\",\"gridwidth\":2,\"linecolor\":\"white\",\"showbackground\":true,\"ticks\":\"\",\"zerolinecolor\":\"white\"},\"yaxis\":{\"backgroundcolor\":\"#E5ECF6\",\"gridcolor\":\"white\",\"gridwidth\":2,\"linecolor\":\"white\",\"showbackground\":true,\"ticks\":\"\",\"zerolinecolor\":\"white\"},\"zaxis\":{\"backgroundcolor\":\"#E5ECF6\",\"gridcolor\":\"white\",\"gridwidth\":2,\"linecolor\":\"white\",\"showbackground\":true,\"ticks\":\"\",\"zerolinecolor\":\"white\"}},\"shapedefaults\":{\"line\":{\"color\":\"#2a3f5f\"}},\"ternary\":{\"aaxis\":{\"gridcolor\":\"white\",\"linecolor\":\"white\",\"ticks\":\"\"},\"baxis\":{\"gridcolor\":\"white\",\"linecolor\":\"white\",\"ticks\":\"\"},\"bgcolor\":\"#E5ECF6\",\"caxis\":{\"gridcolor\":\"white\",\"linecolor\":\"white\",\"ticks\":\"\"}},\"title\":{\"x\":0.05},\"xaxis\":{\"automargin\":true,\"gridcolor\":\"white\",\"linecolor\":\"white\",\"ticks\":\"\",\"title\":{\"standoff\":15},\"zerolinecolor\":\"white\",\"zerolinewidth\":2},\"yaxis\":{\"automargin\":true,\"gridcolor\":\"white\",\"linecolor\":\"white\",\"ticks\":\"\",\"title\":{\"standoff\":15},\"zerolinecolor\":\"white\",\"zerolinewidth\":2}}},\"font\":{\"family\":\"Courier New\"},\"height\":1484,\"width\":1000,\"yaxis\":{\"autorange\":\"reversed\"}},                        {\"responsive\": true}                    ).then(function(){\n",
       "                            \n",
       "var gd = document.getElementById('9ba2748f-b85e-4ca3-96fc-e586fac4a753');\n",
       "var x = new MutationObserver(function (mutations, observer) {{\n",
       "        var display = window.getComputedStyle(gd).display;\n",
       "        if (!display || display === 'none') {{\n",
       "            console.log([gd, 'removed!']);\n",
       "            Plotly.purge(gd);\n",
       "            observer.disconnect();\n",
       "        }}\n",
       "}});\n",
       "\n",
       "// Listen for the removal of the full notebook cells\n",
       "var notebookContainer = gd.closest('#notebook-container');\n",
       "if (notebookContainer) {{\n",
       "    x.observe(notebookContainer, {childList: true});\n",
       "}}\n",
       "\n",
       "// Listen for the clearing of the current output cell\n",
       "var outputEl = gd.closest('.output');\n",
       "if (outputEl) {{\n",
       "    x.observe(outputEl, {childList: true});\n",
       "}}\n",
       "\n",
       "                        })                };                });            </script>        </div>"
      ]
     },
     "metadata": {},
     "output_type": "display_data"
    }
   ],
   "source": [
    "# create heatmap\n",
    "fig = go.Figure(data=go.Heatmap(\n",
    "                z=a, x0=0, dx=1,\n",
    "                y=labels, zmin=0, zmax=1,\n",
    "                customdata=labels_individual,\n",
    "                hovertemplate='%{customdata} <br><b>Score:%{z:.3f}<extra></extra>',\n",
    "                colorscale=\"burg\"))\n",
    "fig.update_layout({\"height\":height*28, \"width\":1000, \"font\":{\"family\":\"Courier New\"}})\n",
    "fig['layout']['yaxis']['autorange'] = \"reversed\"\n",
    "fig.show()"
   ]
  }
 ],
 "metadata": {
  "kernelspec": {
   "display_name": "Python 3",
   "language": "python",
   "name": "python3"
  },
  "language_info": {
   "codemirror_mode": {
    "name": "ipython",
    "version": 3
   },
   "file_extension": ".py",
   "mimetype": "text/x-python",
   "name": "python",
   "nbconvert_exporter": "python",
   "pygments_lexer": "ipython3",
   "version": "3.7.12"
  },
  "papermill": {
   "default_parameters": {},
   "duration": 19.478607,
   "end_time": "2022-02-27T06:30:29.388646",
   "environment_variables": {},
   "exception": null,
   "input_path": "__notebook__.ipynb",
   "output_path": "__notebook__.ipynb",
   "parameters": {},
   "start_time": "2022-02-27T06:30:09.910039",
   "version": "2.3.3"
  }
 },
 "nbformat": 4,
 "nbformat_minor": 5
}
