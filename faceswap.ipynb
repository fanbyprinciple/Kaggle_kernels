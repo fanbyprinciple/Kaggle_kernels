{
 "cells": [
  {
   "cell_type": "markdown",
   "id": "77f74f74",
   "metadata": {
    "papermill": {
     "duration": 0.054307,
     "end_time": "2022-04-04T16:31:14.505821",
     "exception": false,
     "start_time": "2022-04-04T16:31:14.451514",
     "status": "completed"
    },
    "tags": []
   },
   "source": [
    "# FaceSwap"
   ]
  },
  {
   "cell_type": "markdown",
   "id": "8f290fec",
   "metadata": {
    "papermill": {
     "duration": 0.052546,
     "end_time": "2022-04-04T16:31:14.612902",
     "exception": false,
     "start_time": "2022-04-04T16:31:14.560356",
     "status": "completed"
    },
    "tags": []
   },
   "source": [
    "taken from http://matthewearl.github.io/2015/07/28/switching-eds-with-python/"
   ]
  },
  {
   "cell_type": "markdown",
   "id": "040faf86",
   "metadata": {
    "papermill": {
     "duration": 0.05328,
     "end_time": "2022-04-04T16:31:14.719653",
     "exception": false,
     "start_time": "2022-04-04T16:31:14.666373",
     "status": "completed"
    },
    "tags": []
   },
   "source": [
    "We need to install dlib with opnecv bindings first as mentioned in the blog and github feed."
   ]
  },
  {
   "cell_type": "code",
   "execution_count": 1,
   "id": "59c15252",
   "metadata": {
    "execution": {
     "iopub.execute_input": "2022-04-04T16:31:14.835054Z",
     "iopub.status.busy": "2022-04-04T16:31:14.834350Z",
     "iopub.status.idle": "2022-04-04T16:31:14.912809Z",
     "shell.execute_reply": "2022-04-04T16:31:14.911968Z",
     "shell.execute_reply.started": "2022-04-04T16:24:31.138879Z"
    },
    "papermill": {
     "duration": 0.139561,
     "end_time": "2022-04-04T16:31:14.913011",
     "exception": false,
     "start_time": "2022-04-04T16:31:14.773450",
     "status": "completed"
    },
    "tags": []
   },
   "outputs": [],
   "source": [
    "import dlib"
   ]
  },
  {
   "cell_type": "markdown",
   "id": "b19441f2",
   "metadata": {
    "papermill": {
     "duration": 0.052779,
     "end_time": "2022-04-04T16:31:15.022499",
     "exception": false,
     "start_time": "2022-04-04T16:31:14.969720",
     "status": "completed"
    },
    "tags": []
   },
   "source": [
    "Next we need to load the binaries needed. It turns out that the required binary for face file is already provided [here](https://www.kaggle.com/datasets/ellenfan2000/stats402emotiondetection)"
   ]
  },
  {
   "cell_type": "code",
   "execution_count": 2,
   "id": "bb607465",
   "metadata": {
    "execution": {
     "iopub.execute_input": "2022-04-04T16:31:15.134869Z",
     "iopub.status.busy": "2022-04-04T16:31:15.134115Z",
     "iopub.status.idle": "2022-04-04T16:31:15.135587Z",
     "shell.execute_reply": "2022-04-04T16:31:15.136109Z",
     "shell.execute_reply.started": "2022-04-04T16:24:31.203331Z"
    },
    "papermill": {
     "duration": 0.059515,
     "end_time": "2022-04-04T16:31:15.136315",
     "exception": false,
     "start_time": "2022-04-04T16:31:15.076800",
     "status": "completed"
    },
    "tags": []
   },
   "outputs": [],
   "source": [
    "#!wget --wait 1 \"https://sourceforge.net/projects/dclib/files/latest/download\" -O \"shape.bz2\""
   ]
  },
  {
   "cell_type": "code",
   "execution_count": 3,
   "id": "effa7f26",
   "metadata": {
    "execution": {
     "iopub.execute_input": "2022-04-04T16:31:15.246451Z",
     "iopub.status.busy": "2022-04-04T16:31:15.245734Z",
     "iopub.status.idle": "2022-04-04T16:31:15.248796Z",
     "shell.execute_reply": "2022-04-04T16:31:15.249470Z",
     "shell.execute_reply.started": "2022-04-04T16:24:31.265948Z"
    },
    "papermill": {
     "duration": 0.059981,
     "end_time": "2022-04-04T16:31:15.249651",
     "exception": false,
     "start_time": "2022-04-04T16:31:15.189670",
     "status": "completed"
    },
    "tags": []
   },
   "outputs": [],
   "source": [
    "#!du -sh shape.bz2"
   ]
  },
  {
   "cell_type": "code",
   "execution_count": 4,
   "id": "099cd317",
   "metadata": {
    "execution": {
     "iopub.execute_input": "2022-04-04T16:31:15.359886Z",
     "iopub.status.busy": "2022-04-04T16:31:15.359077Z",
     "iopub.status.idle": "2022-04-04T16:31:15.360956Z",
     "shell.execute_reply": "2022-04-04T16:31:15.361668Z",
     "shell.execute_reply.started": "2022-04-04T16:24:31.323298Z"
    },
    "papermill": {
     "duration": 0.058731,
     "end_time": "2022-04-04T16:31:15.361852",
     "exception": false,
     "start_time": "2022-04-04T16:31:15.303121",
     "status": "completed"
    },
    "tags": []
   },
   "outputs": [],
   "source": [
    "#!mv ./download.out ./download.bz2"
   ]
  },
  {
   "cell_type": "code",
   "execution_count": 5,
   "id": "8f6cf26e",
   "metadata": {
    "execution": {
     "iopub.execute_input": "2022-04-04T16:31:15.470742Z",
     "iopub.status.busy": "2022-04-04T16:31:15.470010Z",
     "iopub.status.idle": "2022-04-04T16:31:15.473562Z",
     "shell.execute_reply": "2022-04-04T16:31:15.474159Z",
     "shell.execute_reply.started": "2022-04-04T16:24:31.383927Z"
    },
    "papermill": {
     "duration": 0.059583,
     "end_time": "2022-04-04T16:31:15.474412",
     "exception": false,
     "start_time": "2022-04-04T16:31:15.414829",
     "status": "completed"
    },
    "tags": []
   },
   "outputs": [],
   "source": [
    "#!bunzip2 ./shape.bz2"
   ]
  },
  {
   "cell_type": "markdown",
   "id": "da4af4d2",
   "metadata": {
    "papermill": {
     "duration": 0.052918,
     "end_time": "2022-04-04T16:31:15.581341",
     "exception": false,
     "start_time": "2022-04-04T16:31:15.528423",
     "status": "completed"
    },
    "tags": []
   },
   "source": [
    "# Importing required libs"
   ]
  },
  {
   "cell_type": "code",
   "execution_count": 6,
   "id": "7c2cd113",
   "metadata": {
    "execution": {
     "iopub.execute_input": "2022-04-04T16:31:15.691828Z",
     "iopub.status.busy": "2022-04-04T16:31:15.691032Z",
     "iopub.status.idle": "2022-04-04T16:31:16.064087Z",
     "shell.execute_reply": "2022-04-04T16:31:16.063412Z",
     "shell.execute_reply.started": "2022-04-04T16:24:31.443217Z"
    },
    "papermill": {
     "duration": 0.429558,
     "end_time": "2022-04-04T16:31:16.064252",
     "exception": false,
     "start_time": "2022-04-04T16:31:15.634694",
     "status": "completed"
    },
    "tags": []
   },
   "outputs": [],
   "source": [
    "import cv2\n",
    "import dlib\n",
    "import numpy\n",
    "import sys"
   ]
  },
  {
   "cell_type": "code",
   "execution_count": 7,
   "id": "7bdbe79e",
   "metadata": {
    "execution": {
     "iopub.execute_input": "2022-04-04T16:31:16.175684Z",
     "iopub.status.busy": "2022-04-04T16:31:16.174769Z",
     "iopub.status.idle": "2022-04-04T16:31:16.178349Z",
     "shell.execute_reply": "2022-04-04T16:31:16.178802Z",
     "shell.execute_reply.started": "2022-04-04T16:24:31.491823Z"
    },
    "papermill": {
     "duration": 0.06121,
     "end_time": "2022-04-04T16:31:16.178958",
     "exception": false,
     "start_time": "2022-04-04T16:31:16.117748",
     "status": "completed"
    },
    "tags": []
   },
   "outputs": [],
   "source": [
    "PREDICTOR_PATH=\"../input/stats402emotiondetection/shape_predictor_68_face_landmarks.dat\""
   ]
  },
  {
   "cell_type": "markdown",
   "id": "b2c9844a",
   "metadata": {
    "papermill": {
     "duration": 0.033715,
     "end_time": "2022-04-04T16:31:16.246383",
     "exception": false,
     "start_time": "2022-04-04T16:31:16.212668",
     "status": "completed"
    },
    "tags": []
   },
   "source": [
    "Giving values to constants"
   ]
  },
  {
   "cell_type": "code",
   "execution_count": 8,
   "id": "38a43fec",
   "metadata": {
    "execution": {
     "iopub.execute_input": "2022-04-04T16:31:16.322930Z",
     "iopub.status.busy": "2022-04-04T16:31:16.316726Z",
     "iopub.status.idle": "2022-04-04T16:31:16.326736Z",
     "shell.execute_reply": "2022-04-04T16:31:16.326209Z",
     "shell.execute_reply.started": "2022-04-04T16:24:31.538502Z"
    },
    "papermill": {
     "duration": 0.046599,
     "end_time": "2022-04-04T16:31:16.326871",
     "exception": false,
     "start_time": "2022-04-04T16:31:16.280272",
     "status": "completed"
    },
    "tags": []
   },
   "outputs": [],
   "source": [
    "SCALE_FACTOR = 1 \n",
    "FEATHER_AMOUNT = 11\n",
    "\n",
    "FACE_POINTS = list(range(17, 68))\n",
    "MOUTH_POINTS = list(range(48, 61))\n",
    "RIGHT_BROW_POINTS = list(range(17, 22))\n",
    "LEFT_BROW_POINTS = list(range(22, 27))\n",
    "RIGHT_EYE_POINTS = list(range(36, 42))\n",
    "LEFT_EYE_POINTS = list(range(42, 48))\n",
    "NOSE_POINTS = list(range(27, 35))\n",
    "JAW_POINTS = list(range(0, 17))\n",
    "\n",
    "# Points used to line up the images.\n",
    "ALIGN_POINTS = (LEFT_BROW_POINTS + RIGHT_EYE_POINTS + LEFT_EYE_POINTS +\n",
    "                               RIGHT_BROW_POINTS + NOSE_POINTS + MOUTH_POINTS)\n",
    "\n",
    "# Points from the second image to overlay on the first. The convex hull of each\n",
    "# element will be overlaid.\n",
    "OVERLAY_POINTS = [\n",
    "    LEFT_EYE_POINTS + RIGHT_EYE_POINTS + LEFT_BROW_POINTS + RIGHT_BROW_POINTS,\n",
    "    NOSE_POINTS + MOUTH_POINTS,\n",
    "]\n",
    "\n",
    "# Amount of blur to use during colour correction, as a fraction of the\n",
    "# pupillary distance.\n",
    "COLOUR_CORRECT_BLUR_FRAC = 0.6\n"
   ]
  },
  {
   "cell_type": "markdown",
   "id": "1e7f58ef",
   "metadata": {
    "papermill": {
     "duration": 0.033409,
     "end_time": "2022-04-04T16:31:16.394257",
     "exception": false,
     "start_time": "2022-04-04T16:31:16.360848",
     "status": "completed"
    },
    "tags": []
   },
   "source": [
    "Initializing the detetctor and predictor."
   ]
  },
  {
   "cell_type": "code",
   "execution_count": 9,
   "id": "eb383fd3",
   "metadata": {
    "execution": {
     "iopub.execute_input": "2022-04-04T16:31:18.954563Z",
     "iopub.status.busy": "2022-04-04T16:31:18.953663Z",
     "iopub.status.idle": "2022-04-04T16:31:18.959186Z",
     "shell.execute_reply": "2022-04-04T16:31:18.958458Z",
     "shell.execute_reply.started": "2022-04-04T16:24:31.581964Z"
    },
    "papermill": {
     "duration": 2.531612,
     "end_time": "2022-04-04T16:31:18.959377",
     "exception": false,
     "start_time": "2022-04-04T16:31:16.427765",
     "status": "completed"
    },
    "tags": []
   },
   "outputs": [],
   "source": [
    "detector = dlib.get_frontal_face_detector()\n",
    "predictor = dlib.shape_predictor(PREDICTOR_PATH)"
   ]
  },
  {
   "cell_type": "code",
   "execution_count": 10,
   "id": "246db6bb",
   "metadata": {
    "execution": {
     "iopub.execute_input": "2022-04-04T16:31:19.073459Z",
     "iopub.status.busy": "2022-04-04T16:31:19.072522Z",
     "iopub.status.idle": "2022-04-04T16:31:19.075470Z",
     "shell.execute_reply": "2022-04-04T16:31:19.074779Z",
     "shell.execute_reply.started": "2022-04-04T16:24:33.094332Z"
    },
    "papermill": {
     "duration": 0.061742,
     "end_time": "2022-04-04T16:31:19.075617",
     "exception": false,
     "start_time": "2022-04-04T16:31:19.013875",
     "status": "completed"
    },
    "tags": []
   },
   "outputs": [],
   "source": [
    "class TooManyFaces(Exception):\n",
    "    pass\n",
    "\n",
    "class NoFaces(Exception):\n",
    "    pass"
   ]
  },
  {
   "cell_type": "code",
   "execution_count": 11,
   "id": "6a2b484b",
   "metadata": {
    "execution": {
     "iopub.execute_input": "2022-04-04T16:31:19.189095Z",
     "iopub.status.busy": "2022-04-04T16:31:19.188380Z",
     "iopub.status.idle": "2022-04-04T16:31:19.192650Z",
     "shell.execute_reply": "2022-04-04T16:31:19.191954Z",
     "shell.execute_reply.started": "2022-04-04T16:24:33.106955Z"
    },
    "papermill": {
     "duration": 0.064483,
     "end_time": "2022-04-04T16:31:19.192864",
     "exception": false,
     "start_time": "2022-04-04T16:31:19.128381",
     "status": "completed"
    },
    "tags": []
   },
   "outputs": [],
   "source": [
    "def get_landmarks(im):\n",
    "    rects = detector(im, 1)\n",
    "    \n",
    "    if len(rects) > 1:\n",
    "        raise TooManyFaces\n",
    "    \n",
    "    if len(rects) == 0:\n",
    "        raise NoFaces\n",
    "    \n",
    "    return numpy.matrix([[p.x, p.y] for p in predictor(im, rects[0]).parts()])"
   ]
  },
  {
   "cell_type": "code",
   "execution_count": 12,
   "id": "b4d5d64e",
   "metadata": {
    "execution": {
     "iopub.execute_input": "2022-04-04T16:31:19.310697Z",
     "iopub.status.busy": "2022-04-04T16:31:19.309954Z",
     "iopub.status.idle": "2022-04-04T16:31:19.313625Z",
     "shell.execute_reply": "2022-04-04T16:31:19.312939Z",
     "shell.execute_reply.started": "2022-04-04T16:24:33.120913Z"
    },
    "papermill": {
     "duration": 0.066585,
     "end_time": "2022-04-04T16:31:19.313781",
     "exception": false,
     "start_time": "2022-04-04T16:31:19.247196",
     "status": "completed"
    },
    "tags": []
   },
   "outputs": [],
   "source": [
    "def annotate_landmarks(im, landmarks):\n",
    "    im = im.copy()\n",
    "    for idx, point in enumerate(landmarks):\n",
    "        pos = (point[0, 0], point[0, 1])\n",
    "        cv2.putText(im, str(idx), pos,\n",
    "                    fontFace=cv2.FONT_HERSHEY_SCRIPT_SIMPLEX,\n",
    "                    fontScale=0.4,\n",
    "                    color=(0, 0, 255))\n",
    "        cv2.circle(im, pos, 3, color=(0, 255, 255))\n",
    "    return im"
   ]
  },
  {
   "cell_type": "code",
   "execution_count": 13,
   "id": "0ff80b77",
   "metadata": {
    "execution": {
     "iopub.execute_input": "2022-04-04T16:31:19.425624Z",
     "iopub.status.busy": "2022-04-04T16:31:19.424829Z",
     "iopub.status.idle": "2022-04-04T16:31:19.427009Z",
     "shell.execute_reply": "2022-04-04T16:31:19.427532Z",
     "shell.execute_reply.started": "2022-04-04T16:24:33.132891Z"
    },
    "papermill": {
     "duration": 0.061028,
     "end_time": "2022-04-04T16:31:19.427735",
     "exception": false,
     "start_time": "2022-04-04T16:31:19.366707",
     "status": "completed"
    },
    "tags": []
   },
   "outputs": [],
   "source": [
    "def draw_convex_hull(im, points, color):\n",
    "    points = cv2.convexHull(points)\n",
    "    cv2.fillConvexPoly(im, points, color=color)"
   ]
  },
  {
   "cell_type": "code",
   "execution_count": 14,
   "id": "bcdc3729",
   "metadata": {
    "execution": {
     "iopub.execute_input": "2022-04-04T16:31:19.543545Z",
     "iopub.status.busy": "2022-04-04T16:31:19.542827Z",
     "iopub.status.idle": "2022-04-04T16:31:19.546943Z",
     "shell.execute_reply": "2022-04-04T16:31:19.546377Z",
     "shell.execute_reply.started": "2022-04-04T16:24:33.152640Z"
    },
    "papermill": {
     "duration": 0.066354,
     "end_time": "2022-04-04T16:31:19.547127",
     "exception": false,
     "start_time": "2022-04-04T16:31:19.480773",
     "status": "completed"
    },
    "tags": []
   },
   "outputs": [],
   "source": [
    "def get_face_mask(im, landmarks):\n",
    "    im = numpy.zeros(im.shape[:2], dtype=numpy.float64)\n",
    "\n",
    "    for group in OVERLAY_POINTS:\n",
    "        draw_convex_hull(im,\n",
    "                         landmarks[group],\n",
    "                         color=1)\n",
    "\n",
    "    im = numpy.array([im, im, im]).transpose((1, 2, 0))\n",
    "\n",
    "    im = (cv2.GaussianBlur(im, (FEATHER_AMOUNT, FEATHER_AMOUNT), 0) > 0) * 1.0\n",
    "    im = cv2.GaussianBlur(im, (FEATHER_AMOUNT, FEATHER_AMOUNT), 0)\n",
    "\n",
    "    return im"
   ]
  },
  {
   "cell_type": "markdown",
   "id": "7f72c8ce",
   "metadata": {
    "papermill": {
     "duration": 0.033561,
     "end_time": "2022-04-04T16:31:19.616014",
     "exception": false,
     "start_time": "2022-04-04T16:31:19.582453",
     "status": "completed"
    },
    "tags": []
   },
   "source": [
    "The orthogonal Procrustes problem [1] is a matrix approximation problem in linear algebra. In its classical form, one is given two matrices {\\displaystyle A}A and {\\displaystyle B}B and asked to find an orthogonal matrix {\\displaystyle \\Omega }\\Omega  which most closely maps {\\displaystyle A}A to {\\displaystyle B}B. [2][3]"
   ]
  },
  {
   "cell_type": "code",
   "execution_count": 15,
   "id": "41f86d7a",
   "metadata": {
    "execution": {
     "iopub.execute_input": "2022-04-04T16:31:19.697345Z",
     "iopub.status.busy": "2022-04-04T16:31:19.696656Z",
     "iopub.status.idle": "2022-04-04T16:31:19.700447Z",
     "shell.execute_reply": "2022-04-04T16:31:19.699703Z",
     "shell.execute_reply.started": "2022-04-04T16:24:33.169877Z"
    },
    "papermill": {
     "duration": 0.050421,
     "end_time": "2022-04-04T16:31:19.700632",
     "exception": false,
     "start_time": "2022-04-04T16:31:19.650211",
     "status": "completed"
    },
    "tags": []
   },
   "outputs": [],
   "source": [
    "def transformation_from_points(points1, points2):\n",
    "    \"\"\"\n",
    "    Return an affine transformation [s * R | T] such that:\n",
    "        sum ||s*R*p1,i + T - p2,i||^2\n",
    "    is minimized.\n",
    "    \"\"\"\n",
    "    # Solve the procrustes problem by subtracting centroids, scaling by the\n",
    "    # standard deviation, and then using the SVD to calculate the rotation. See\n",
    "    # the following for more details:\n",
    "    #   https://en.wikipedia.org/wiki/Orthogonal_Procrustes_problem\n",
    "\n",
    "    points1 = points1.astype(numpy.float64)\n",
    "    points2 = points2.astype(numpy.float64)\n",
    "\n",
    "    c1 = numpy.mean(points1, axis=0)\n",
    "    c2 = numpy.mean(points2, axis=0)\n",
    "    points1 -= c1\n",
    "    points2 -= c2\n",
    "\n",
    "    s1 = numpy.std(points1)\n",
    "    s2 = numpy.std(points2)\n",
    "    points1 /= s1\n",
    "    points2 /= s2\n",
    "\n",
    "    U, S, Vt = numpy.linalg.svd(points1.T * points2)\n",
    "\n",
    "    # The R we seek is in fact the transpose of the one given by U * Vt. This\n",
    "    # is because the above formulation assumes the matrix goes on the right\n",
    "    # (with row vectors) where as our solution requires the matrix to be on the\n",
    "    # left (with column vectors).\n",
    "    R = (U * Vt).T\n",
    "\n",
    "    return numpy.vstack([numpy.hstack(((s2 / s1) * R,\n",
    "                                       c2.T - (s2 / s1) * R * c1.T)),\n",
    "                         numpy.matrix([0., 0., 1.])])\n"
   ]
  },
  {
   "cell_type": "code",
   "execution_count": 16,
   "id": "3b920e77",
   "metadata": {
    "execution": {
     "iopub.execute_input": "2022-04-04T16:31:19.810882Z",
     "iopub.status.busy": "2022-04-04T16:31:19.809886Z",
     "iopub.status.idle": "2022-04-04T16:31:19.818058Z",
     "shell.execute_reply": "2022-04-04T16:31:19.817325Z",
     "shell.execute_reply.started": "2022-04-04T16:24:33.186719Z"
    },
    "papermill": {
     "duration": 0.063797,
     "end_time": "2022-04-04T16:31:19.818236",
     "exception": false,
     "start_time": "2022-04-04T16:31:19.754439",
     "status": "completed"
    },
    "tags": []
   },
   "outputs": [],
   "source": [
    "def read_im_and_landmarks(fname):\n",
    "    im = cv2.imread(fname, cv2.IMREAD_COLOR)\n",
    "    im = cv2.resize(im, (im.shape[1] * SCALE_FACTOR,\n",
    "                         im.shape[0] * SCALE_FACTOR))\n",
    "    s = get_landmarks(im)\n",
    "\n",
    "    return im, s\n"
   ]
  },
  {
   "cell_type": "code",
   "execution_count": 17,
   "id": "e47ab5d9",
   "metadata": {
    "execution": {
     "iopub.execute_input": "2022-04-04T16:31:19.932951Z",
     "iopub.status.busy": "2022-04-04T16:31:19.932129Z",
     "iopub.status.idle": "2022-04-04T16:31:19.934838Z",
     "shell.execute_reply": "2022-04-04T16:31:19.935365Z",
     "shell.execute_reply.started": "2022-04-04T16:24:33.205496Z"
    },
    "papermill": {
     "duration": 0.063312,
     "end_time": "2022-04-04T16:31:19.935540",
     "exception": false,
     "start_time": "2022-04-04T16:31:19.872228",
     "status": "completed"
    },
    "tags": []
   },
   "outputs": [],
   "source": [
    "def warp_im(im, M, dshape):\n",
    "    output_im = numpy.zeros(dshape, dtype=im.dtype)\n",
    "    cv2.warpAffine(im,\n",
    "                   M[:2],\n",
    "                   (dshape[1], dshape[0]),\n",
    "                   dst=output_im,\n",
    "                   borderMode=cv2.BORDER_TRANSPARENT,\n",
    "                   flags=cv2.WARP_INVERSE_MAP)\n",
    "    return output_im"
   ]
  },
  {
   "cell_type": "code",
   "execution_count": 18,
   "id": "3ea32fec",
   "metadata": {
    "execution": {
     "iopub.execute_input": "2022-04-04T16:31:20.052265Z",
     "iopub.status.busy": "2022-04-04T16:31:20.051565Z",
     "iopub.status.idle": "2022-04-04T16:31:20.054590Z",
     "shell.execute_reply": "2022-04-04T16:31:20.053872Z",
     "shell.execute_reply.started": "2022-04-04T16:24:33.221512Z"
    },
    "papermill": {
     "duration": 0.066361,
     "end_time": "2022-04-04T16:31:20.054767",
     "exception": false,
     "start_time": "2022-04-04T16:31:19.988406",
     "status": "completed"
    },
    "tags": []
   },
   "outputs": [],
   "source": [
    "def correct_colours(im1, im2, landmarks1):\n",
    "    blur_amount = COLOUR_CORRECT_BLUR_FRAC * numpy.linalg.norm(\n",
    "                              numpy.mean(landmarks1[LEFT_EYE_POINTS], axis=0) -\n",
    "                              numpy.mean(landmarks1[RIGHT_EYE_POINTS], axis=0))\n",
    "    blur_amount = int(blur_amount)\n",
    "    if blur_amount % 2 == 0:\n",
    "        blur_amount += 1\n",
    "    im1_blur = cv2.GaussianBlur(im1, (blur_amount, blur_amount), 0)\n",
    "    im2_blur = cv2.GaussianBlur(im2, (blur_amount, blur_amount), 0)\n",
    "\n",
    "    # Avoid divide-by-zero errors.\n",
    "    im2_blur += (128 * (im2_blur <= 1.0)).astype(im2_blur.dtype)\n",
    "\n",
    "    return (im2.astype(numpy.float64) * im1_blur.astype(numpy.float64) /\n",
    "                                                im2_blur.astype(numpy.float64))"
   ]
  },
  {
   "cell_type": "code",
   "execution_count": 19,
   "id": "a0d5f250",
   "metadata": {
    "execution": {
     "iopub.execute_input": "2022-04-04T16:31:20.170704Z",
     "iopub.status.busy": "2022-04-04T16:31:20.166073Z",
     "iopub.status.idle": "2022-04-04T16:31:20.597891Z",
     "shell.execute_reply": "2022-04-04T16:31:20.597099Z",
     "shell.execute_reply.started": "2022-04-04T16:24:33.232279Z"
    },
    "papermill": {
     "duration": 0.490386,
     "end_time": "2022-04-04T16:31:20.598087",
     "exception": false,
     "start_time": "2022-04-04T16:31:20.107701",
     "status": "completed"
    },
    "tags": []
   },
   "outputs": [
    {
     "name": "stdout",
     "output_type": "stream",
     "text": [
      "--2022-04-04 16:31:20--  https://i.guim.co.uk/img/media/5ed54edd5d9d620487c523150e4672e3df43e442/0_197_3000_1800/master/3000.jpg?width=445&quality=45&auto=format&fit=max&dpr=2&s=6c6f3150304ee7cb339dbf5edf03eebb\r\n",
      "Resolving i.guim.co.uk (i.guim.co.uk)... 199.232.33.111, 2a04:4e42:45::367\r\n",
      "Connecting to i.guim.co.uk (i.guim.co.uk)|199.232.33.111|:443... connected.\r\n",
      "HTTP request sent, awaiting response... 200 OK\r\n",
      "Length: 12371 (12K) [image/jpeg]\r\n",
      "Saving to: ‘trump.jpg’\r\n",
      "\r\n",
      "trump.jpg           100%[===================>]  12.08K  --.-KB/s    in 0.001s  \r\n",
      "\r\n",
      "2022-04-04 16:31:20 (18.0 MB/s) - ‘trump.jpg’ saved [12371/12371]\r\n",
      "\r\n"
     ]
    }
   ],
   "source": [
    "!wget \"https://i.guim.co.uk/img/media/5ed54edd5d9d620487c523150e4672e3df43e442/0_197_3000_1800/master/3000.jpg?width=445&quality=45&auto=format&fit=max&dpr=2&s=6c6f3150304ee7cb339dbf5edf03eebb\" -O trump.jpg"
   ]
  },
  {
   "cell_type": "code",
   "execution_count": 20,
   "id": "2fb09766",
   "metadata": {
    "execution": {
     "iopub.execute_input": "2022-04-04T16:31:20.719061Z",
     "iopub.status.busy": "2022-04-04T16:31:20.718054Z",
     "iopub.status.idle": "2022-04-04T16:31:21.164250Z",
     "shell.execute_reply": "2022-04-04T16:31:21.165008Z",
     "shell.execute_reply.started": "2022-04-04T16:24:34.916068Z"
    },
    "papermill": {
     "duration": 0.511348,
     "end_time": "2022-04-04T16:31:21.165204",
     "exception": false,
     "start_time": "2022-04-04T16:31:20.653856",
     "status": "completed"
    },
    "tags": []
   },
   "outputs": [
    {
     "name": "stdout",
     "output_type": "stream",
     "text": [
      "--2022-04-04 16:31:20--  https://ca-times.brightspotcdn.com/dims4/default/be3a23e/2147483647/strip/true/crop/3648x2555+0+0/resize/840x588!/quality/90/?url=https%3A%2F%2Fcalifornia-times-brightspot.s3.amazonaws.com%2Fcd%2F77%2Fe2cb3f604c489a94c218e7dd143a%2Fpeople-will-smith-67445.jpg\r\n",
      "Resolving ca-times.brightspotcdn.com (ca-times.brightspotcdn.com)... 18.64.236.75, 18.64.236.82, 18.64.236.109, ...\r\n",
      "Connecting to ca-times.brightspotcdn.com (ca-times.brightspotcdn.com)|18.64.236.75|:443... connected.\r\n",
      "HTTP request sent, awaiting response... 200 OK\r\n",
      "Length: 92936 (91K) [image/jpeg]\r\n",
      "Saving to: ‘will.jpg’\r\n",
      "\r\n",
      "will.jpg            100%[===================>]  90.76K  --.-KB/s    in 0.02s   \r\n",
      "\r\n",
      "2022-04-04 16:31:21 (5.68 MB/s) - ‘will.jpg’ saved [92936/92936]\r\n",
      "\r\n"
     ]
    }
   ],
   "source": [
    "!wget \"https://ca-times.brightspotcdn.com/dims4/default/be3a23e/2147483647/strip/true/crop/3648x2555+0+0/resize/840x588!/quality/90/?url=https%3A%2F%2Fcalifornia-times-brightspot.s3.amazonaws.com%2Fcd%2F77%2Fe2cb3f604c489a94c218e7dd143a%2Fpeople-will-smith-67445.jpg\" -O will.jpg"
   ]
  },
  {
   "cell_type": "code",
   "execution_count": 21,
   "id": "bc01453c",
   "metadata": {
    "execution": {
     "iopub.execute_input": "2022-04-04T16:31:21.290765Z",
     "iopub.status.busy": "2022-04-04T16:31:21.290005Z",
     "iopub.status.idle": "2022-04-04T16:31:21.581659Z",
     "shell.execute_reply": "2022-04-04T16:31:21.582117Z",
     "shell.execute_reply.started": "2022-04-04T16:24:36.854452Z"
    },
    "papermill": {
     "duration": 0.360906,
     "end_time": "2022-04-04T16:31:21.582317",
     "exception": false,
     "start_time": "2022-04-04T16:31:21.221411",
     "status": "completed"
    },
    "tags": []
   },
   "outputs": [
    {
     "name": "stdout",
     "output_type": "stream",
     "text": [
      "__notebook__.ipynb  trump.jpg  will.jpg\r\n"
     ]
    }
   ],
   "source": [
    "!dir"
   ]
  },
  {
   "cell_type": "code",
   "execution_count": 22,
   "id": "5f02d7df",
   "metadata": {
    "execution": {
     "iopub.execute_input": "2022-04-04T16:31:21.659539Z",
     "iopub.status.busy": "2022-04-04T16:31:21.658863Z",
     "iopub.status.idle": "2022-04-04T16:31:22.177281Z",
     "shell.execute_reply": "2022-04-04T16:31:22.176762Z",
     "shell.execute_reply.started": "2022-04-04T16:24:37.615853Z"
    },
    "papermill": {
     "duration": 0.558258,
     "end_time": "2022-04-04T16:31:22.177446",
     "exception": false,
     "start_time": "2022-04-04T16:31:21.619188",
     "status": "completed"
    },
    "tags": []
   },
   "outputs": [],
   "source": [
    "im1, landmarks1 = read_im_and_landmarks('./trump.jpg')\n",
    "im2, landmarks2 = read_im_and_landmarks('./will.jpg')"
   ]
  },
  {
   "cell_type": "code",
   "execution_count": 23,
   "id": "14e4481c",
   "metadata": {
    "execution": {
     "iopub.execute_input": "2022-04-04T16:31:22.264835Z",
     "iopub.status.busy": "2022-04-04T16:31:22.263847Z",
     "iopub.status.idle": "2022-04-04T16:31:22.268332Z",
     "shell.execute_reply": "2022-04-04T16:31:22.269010Z",
     "shell.execute_reply.started": "2022-04-04T16:24:38.321882Z"
    },
    "papermill": {
     "duration": 0.054389,
     "end_time": "2022-04-04T16:31:22.269196",
     "exception": false,
     "start_time": "2022-04-04T16:31:22.214807",
     "status": "completed"
    },
    "tags": []
   },
   "outputs": [
    {
     "data": {
      "text/plain": [
       "((534, 890, 3), (588, 840, 3))"
      ]
     },
     "execution_count": 23,
     "metadata": {},
     "output_type": "execute_result"
    }
   ],
   "source": [
    "im1.shape, im2.shape"
   ]
  },
  {
   "cell_type": "code",
   "execution_count": 24,
   "id": "f6f1f8fd",
   "metadata": {
    "execution": {
     "iopub.execute_input": "2022-04-04T16:31:22.388410Z",
     "iopub.status.busy": "2022-04-04T16:31:22.387542Z",
     "iopub.status.idle": "2022-04-04T16:31:22.391059Z",
     "shell.execute_reply": "2022-04-04T16:31:22.391701Z",
     "shell.execute_reply.started": "2022-04-04T16:24:38.330659Z"
    },
    "papermill": {
     "duration": 0.064472,
     "end_time": "2022-04-04T16:31:22.391871",
     "exception": false,
     "start_time": "2022-04-04T16:31:22.327399",
     "status": "completed"
    },
    "tags": []
   },
   "outputs": [],
   "source": [
    "import matplotlib.pyplot as plt"
   ]
  },
  {
   "cell_type": "code",
   "execution_count": 25,
   "id": "bfa622f9",
   "metadata": {
    "execution": {
     "iopub.execute_input": "2022-04-04T16:31:22.514066Z",
     "iopub.status.busy": "2022-04-04T16:31:22.512018Z",
     "iopub.status.idle": "2022-04-04T16:31:23.055521Z",
     "shell.execute_reply": "2022-04-04T16:31:23.056197Z",
     "shell.execute_reply.started": "2022-04-04T16:24:38.342067Z"
    },
    "papermill": {
     "duration": 0.605357,
     "end_time": "2022-04-04T16:31:23.056450",
     "exception": false,
     "start_time": "2022-04-04T16:31:22.451093",
     "status": "completed"
    },
    "tags": []
   },
   "outputs": [
    {
     "data": {
      "text/plain": [
       "<matplotlib.image.AxesImage at 0x7f63954e3150>"
      ]
     },
     "execution_count": 25,
     "metadata": {},
     "output_type": "execute_result"
    },
    {
     "data": {
      "image/png": "[encoded data removed]",
      "text/plain": [
       "<Figure size 432x288 with 1 Axes>"
      ]
     },
     "metadata": {
      "needs_background": "light"
     },
     "output_type": "display_data"
    }
   ],
   "source": [
    "plt.imshow(im1)"
   ]
  },
  {
   "cell_type": "code",
   "execution_count": 26,
   "id": "68a825f0",
   "metadata": {
    "execution": {
     "iopub.execute_input": "2022-04-04T16:31:23.180236Z",
     "iopub.status.busy": "2022-04-04T16:31:23.179340Z",
     "iopub.status.idle": "2022-04-04T16:31:23.508464Z",
     "shell.execute_reply": "2022-04-04T16:31:23.509079Z",
     "shell.execute_reply.started": "2022-04-04T16:24:38.667407Z"
    },
    "papermill": {
     "duration": 0.392845,
     "end_time": "2022-04-04T16:31:23.509277",
     "exception": false,
     "start_time": "2022-04-04T16:31:23.116432",
     "status": "completed"
    },
    "tags": []
   },
   "outputs": [
    {
     "data": {
      "text/plain": [
       "<matplotlib.image.AxesImage at 0x7f638c049f50>"
      ]
     },
     "execution_count": 26,
     "metadata": {},
     "output_type": "execute_result"
    },
    {
     "data": {
      "image/png": "[encoded data removed]",
      "text/plain": [
       "<Figure size 432x288 with 1 Axes>"
      ]
     },
     "metadata": {
      "needs_background": "light"
     },
     "output_type": "display_data"
    }
   ],
   "source": [
    "plt.imshow(im2)"
   ]
  },
  {
   "cell_type": "code",
   "execution_count": 27,
   "id": "18e87116",
   "metadata": {
    "execution": {
     "iopub.execute_input": "2022-04-04T16:31:23.656816Z",
     "iopub.status.busy": "2022-04-04T16:31:23.656072Z",
     "iopub.status.idle": "2022-04-04T16:31:23.763549Z",
     "shell.execute_reply": "2022-04-04T16:31:23.764159Z",
     "shell.execute_reply.started": "2022-04-04T16:24:39.013843Z"
    },
    "papermill": {
     "duration": 0.190337,
     "end_time": "2022-04-04T16:31:23.764396",
     "exception": false,
     "start_time": "2022-04-04T16:31:23.574059",
     "status": "completed"
    },
    "tags": []
   },
   "outputs": [],
   "source": [
    "M = transformation_from_points(landmarks1[ALIGN_POINTS],\n",
    "                               landmarks2[ALIGN_POINTS])\n",
    "\n",
    "mask = get_face_mask(im2, landmarks2)\n",
    "warped_mask = warp_im(mask, M, im1.shape)\n",
    "combined_mask = numpy.max([get_face_mask(im1, landmarks1), warped_mask],\n",
    "                          axis=0)"
   ]
  },
  {
   "cell_type": "code",
   "execution_count": 28,
   "id": "731eca7e",
   "metadata": {
    "execution": {
     "iopub.execute_input": "2022-04-04T16:31:23.902779Z",
     "iopub.status.busy": "2022-04-04T16:31:23.901991Z",
     "iopub.status.idle": "2022-04-04T16:31:23.961811Z",
     "shell.execute_reply": "2022-04-04T16:31:23.961073Z",
     "shell.execute_reply.started": "2022-04-04T16:24:39.122959Z"
    },
    "papermill": {
     "duration": 0.131643,
     "end_time": "2022-04-04T16:31:23.962007",
     "exception": false,
     "start_time": "2022-04-04T16:31:23.830364",
     "status": "completed"
    },
    "tags": []
   },
   "outputs": [],
   "source": [
    "warped_im2 = warp_im(im2, M, im1.shape)\n",
    "warped_corrected_im2 = correct_colours(im1, warped_im2, landmarks1)\n",
    "\n",
    "output_im = im1 * (1.0 - combined_mask) + warped_corrected_im2 * combined_mask"
   ]
  },
  {
   "cell_type": "code",
   "execution_count": 29,
   "id": "599ac24e",
   "metadata": {
    "execution": {
     "iopub.execute_input": "2022-04-04T16:31:24.099028Z",
     "iopub.status.busy": "2022-04-04T16:31:24.098220Z",
     "iopub.status.idle": "2022-04-04T16:31:24.408058Z",
     "shell.execute_reply": "2022-04-04T16:31:24.408668Z",
     "shell.execute_reply.started": "2022-04-04T16:24:39.201225Z"
    },
    "papermill": {
     "duration": 0.382185,
     "end_time": "2022-04-04T16:31:24.408867",
     "exception": false,
     "start_time": "2022-04-04T16:31:24.026682",
     "status": "completed"
    },
    "tags": []
   },
   "outputs": [
    {
     "data": {
      "text/plain": [
       "<matplotlib.image.AxesImage at 0x7f6370143290>"
      ]
     },
     "execution_count": 29,
     "metadata": {},
     "output_type": "execute_result"
    },
    {
     "data": {
      "image/png": "[encoded data removed]",
      "text/plain": [
       "<Figure size 432x288 with 1 Axes>"
      ]
     },
     "metadata": {
      "needs_background": "light"
     },
     "output_type": "display_data"
    }
   ],
   "source": [
    "plt.imshow(output_im)"
   ]
  },
  {
   "cell_type": "markdown",
   "id": "14ac8eb2",
   "metadata": {
    "papermill": {
     "duration": 0.066522,
     "end_time": "2022-04-04T16:31:24.541972",
     "exception": false,
     "start_time": "2022-04-04T16:31:24.475450",
     "status": "completed"
    },
    "tags": []
   },
   "source": [
    "It didnt quite work lets try to get the github repo itself."
   ]
  },
  {
   "cell_type": "code",
   "execution_count": 30,
   "id": "8e08b4ac",
   "metadata": {
    "execution": {
     "iopub.execute_input": "2022-04-04T16:31:24.677736Z",
     "iopub.status.busy": "2022-04-04T16:31:24.676984Z",
     "iopub.status.idle": "2022-04-04T16:31:25.533331Z",
     "shell.execute_reply": "2022-04-04T16:31:25.533986Z",
     "shell.execute_reply.started": "2022-04-04T16:24:39.538977Z"
    },
    "papermill": {
     "duration": 0.925506,
     "end_time": "2022-04-04T16:31:25.534207",
     "exception": false,
     "start_time": "2022-04-04T16:31:24.608701",
     "status": "completed"
    },
    "tags": []
   },
   "outputs": [
    {
     "name": "stdout",
     "output_type": "stream",
     "text": [
      "Cloning into 'faceswap'...\r\n",
      "remote: Enumerating objects: 32, done.\u001b[K\r\n",
      "remote: Total 32 (delta 0), reused 0 (delta 0), pack-reused 32\u001b[K\r\n",
      "Unpacking objects: 100% (32/32), 7.98 KiB | 1.14 MiB/s, done.\r\n"
     ]
    }
   ],
   "source": [
    "!git clone https://github.com/matthewearl/faceswap"
   ]
  },
  {
   "cell_type": "code",
   "execution_count": 31,
   "id": "abf0eae5",
   "metadata": {
    "execution": {
     "iopub.execute_input": "2022-04-04T16:31:25.672409Z",
     "iopub.status.busy": "2022-04-04T16:31:25.671656Z",
     "iopub.status.idle": "2022-04-04T16:31:25.970270Z",
     "shell.execute_reply": "2022-04-04T16:31:25.969747Z",
     "shell.execute_reply.started": "2022-04-04T16:24:40.300997Z"
    },
    "papermill": {
     "duration": 0.369916,
     "end_time": "2022-04-04T16:31:25.970438",
     "exception": false,
     "start_time": "2022-04-04T16:31:25.600522",
     "status": "completed"
    },
    "tags": []
   },
   "outputs": [
    {
     "name": "stdout",
     "output_type": "stream",
     "text": [
      "__notebook__.ipynb  faceswap  trump.jpg  will.jpg\r\n"
     ]
    }
   ],
   "source": [
    "!dir"
   ]
  },
  {
   "cell_type": "code",
   "execution_count": 32,
   "id": "6aa38479",
   "metadata": {
    "execution": {
     "iopub.execute_input": "2022-04-04T16:31:26.064789Z",
     "iopub.status.busy": "2022-04-04T16:31:26.064079Z",
     "iopub.status.idle": "2022-04-04T16:31:26.077465Z",
     "shell.execute_reply": "2022-04-04T16:31:26.077966Z",
     "shell.execute_reply.started": "2022-04-04T16:24:41.068606Z"
    },
    "papermill": {
     "duration": 0.062808,
     "end_time": "2022-04-04T16:31:26.078124",
     "exception": false,
     "start_time": "2022-04-04T16:31:26.015316",
     "status": "completed"
    },
    "tags": []
   },
   "outputs": [],
   "source": [
    "new_code = '''\n",
    "#!/usr/bin/python\n",
    "\n",
    "# Copyright (c) 2015 Matthew Earl\n",
    "# \n",
    "# Permission is hereby granted, free of charge, to any person obtaining a copy\n",
    "# of this software and associated documentation files (the \"Software\"), to deal\n",
    "# in the Software without restriction, including without limitation the rights\n",
    "# to use, copy, modify, merge, publish, distribute, sublicense, and/or sell\n",
    "# copies of the Software, and to permit persons to whom the Software is\n",
    "# furnished to do so, subject to the following conditions:\n",
    "# \n",
    "#     The above copyright notice and this permission notice shall be included\n",
    "#     in all copies or substantial portions of the Software.\n",
    "# \n",
    "#     THE SOFTWARE IS PROVIDED \"AS IS\", WITHOUT WARRANTY OF ANY KIND, EXPRESS\n",
    "#     OR IMPLIED, INCLUDING BUT NOT LIMITED TO THE WARRANTIES OF\n",
    "#     MERCHANTABILITY, FITNESS FOR A PARTICULAR PURPOSE AND NONINFRINGEMENT. IN\n",
    "#     NO EVENT SHALL THE AUTHORS OR COPYRIGHT HOLDERS BE LIABLE FOR ANY CLAIM,\n",
    "#     DAMAGES OR OTHER LIABILITY, WHETHER IN AN ACTION OF CONTRACT, TORT OR\n",
    "#     OTHERWISE, ARISING FROM, OUT OF OR IN CONNECTION WITH THE SOFTWARE OR THE\n",
    "#     USE OR OTHER DEALINGS IN THE SOFTWARE.\n",
    "\n",
    "\"\"\"\n",
    "This is the code behind the Switching Eds blog post:\n",
    "\n",
    "    http://matthewearl.github.io/2015/07/28/switching-eds-with-python/\n",
    "\n",
    "See the above for an explanation of the code below.\n",
    "\n",
    "To run the script you'll need to install dlib (http://dlib.net) including its\n",
    "Python bindings, and OpenCV. You'll also need to obtain the trained model from\n",
    "sourceforge:\n",
    "\n",
    "    http://sourceforge.net/projects/dclib/files/dlib/v18.10/shape_predictor_68_face_landmarks.dat.bz2\n",
    "\n",
    "Unzip with `bunzip2` and change `PREDICTOR_PATH` to refer to this file. The\n",
    "script is run like so:\n",
    "\n",
    "    ./faceswap.py <head image> <face image>\n",
    "\n",
    "If successful, a file `output.jpg` will be produced with the facial features\n",
    "from `<head image>` replaced with the facial features from `<face image>`.\n",
    "\n",
    "\"\"\"\n",
    "\n",
    "import cv2\n",
    "import dlib\n",
    "import numpy\n",
    "\n",
    "import sys\n",
    "\n",
    "PREDICTOR_PATH = \"./shape_predictor_68_face_landmarks.dat\"\n",
    "SCALE_FACTOR = 1 \n",
    "FEATHER_AMOUNT = 11\n",
    "\n",
    "FACE_POINTS = list(range(17, 68))\n",
    "MOUTH_POINTS = list(range(48, 61))\n",
    "RIGHT_BROW_POINTS = list(range(17, 22))\n",
    "LEFT_BROW_POINTS = list(range(22, 27))\n",
    "RIGHT_EYE_POINTS = list(range(36, 42))\n",
    "LEFT_EYE_POINTS = list(range(42, 48))\n",
    "NOSE_POINTS = list(range(27, 35))\n",
    "JAW_POINTS = list(range(0, 17))\n",
    "\n",
    "# Points used to line up the images.\n",
    "ALIGN_POINTS = (LEFT_BROW_POINTS + RIGHT_EYE_POINTS + LEFT_EYE_POINTS +\n",
    "                               RIGHT_BROW_POINTS + NOSE_POINTS + MOUTH_POINTS)\n",
    "\n",
    "# Points from the second image to overlay on the first. The convex hull of each\n",
    "# element will be overlaid.\n",
    "OVERLAY_POINTS = [\n",
    "    LEFT_EYE_POINTS + RIGHT_EYE_POINTS + LEFT_BROW_POINTS + RIGHT_BROW_POINTS,\n",
    "    NOSE_POINTS + MOUTH_POINTS,\n",
    "]\n",
    "\n",
    "# Amount of blur to use during colour correction, as a fraction of the\n",
    "# pupillary distance.\n",
    "COLOUR_CORRECT_BLUR_FRAC = 0.6\n",
    "\n",
    "detector = dlib.get_frontal_face_detector()\n",
    "predictor = dlib.shape_predictor(PREDICTOR_PATH)\n",
    "\n",
    "class TooManyFaces(Exception):\n",
    "    pass\n",
    "\n",
    "class NoFaces(Exception):\n",
    "    pass\n",
    "\n",
    "def get_landmarks(im):\n",
    "    rects = detector(im, 1)\n",
    "    \n",
    "    if len(rects) > 1:\n",
    "        raise TooManyFaces\n",
    "    if len(rects) == 0:\n",
    "        raise NoFaces\n",
    "\n",
    "    return numpy.matrix([[p.x, p.y] for p in predictor(im, rects[0]).parts()])\n",
    "\n",
    "def annotate_landmarks(im, landmarks):\n",
    "    im = im.copy()\n",
    "    for idx, point in enumerate(landmarks):\n",
    "        pos = (point[0, 0], point[0, 1])\n",
    "        cv2.putText(im, str(idx), pos,\n",
    "                    fontFace=cv2.FONT_HERSHEY_SCRIPT_SIMPLEX,\n",
    "                    fontScale=0.4,\n",
    "                    color=(0, 0, 255))\n",
    "        cv2.circle(im, pos, 3, color=(0, 255, 255))\n",
    "    return im\n",
    "\n",
    "def draw_convex_hull(im, points, color):\n",
    "    points = cv2.convexHull(points)\n",
    "    cv2.fillConvexPoly(im, points, color=color)\n",
    "\n",
    "def get_face_mask(im, landmarks):\n",
    "    im = numpy.zeros(im.shape[:2], dtype=numpy.float64)\n",
    "\n",
    "    for group in OVERLAY_POINTS:\n",
    "        draw_convex_hull(im,\n",
    "                         landmarks[group],\n",
    "                         color=1)\n",
    "\n",
    "    im = numpy.array([im, im, im]).transpose((1, 2, 0))\n",
    "\n",
    "    im = (cv2.GaussianBlur(im, (FEATHER_AMOUNT, FEATHER_AMOUNT), 0) > 0) * 1.0\n",
    "    im = cv2.GaussianBlur(im, (FEATHER_AMOUNT, FEATHER_AMOUNT), 0)\n",
    "\n",
    "    return im\n",
    "    \n",
    "def transformation_from_points(points1, points2):\n",
    "    \"\"\"\n",
    "    Return an affine transformation [s * R | T] such that:\n",
    "\n",
    "        sum ||s*R*p1,i + T - p2,i||^2\n",
    "\n",
    "    is minimized.\n",
    "\n",
    "    \"\"\"\n",
    "    # Solve the procrustes problem by subtracting centroids, scaling by the\n",
    "    # standard deviation, and then using the SVD to calculate the rotation. See\n",
    "    # the following for more details:\n",
    "    #   https://en.wikipedia.org/wiki/Orthogonal_Procrustes_problem\n",
    "\n",
    "    points1 = points1.astype(numpy.float64)\n",
    "    points2 = points2.astype(numpy.float64)\n",
    "\n",
    "    c1 = numpy.mean(points1, axis=0)\n",
    "    c2 = numpy.mean(points2, axis=0)\n",
    "    points1 -= c1\n",
    "    points2 -= c2\n",
    "\n",
    "    s1 = numpy.std(points1)\n",
    "    s2 = numpy.std(points2)\n",
    "    points1 /= s1\n",
    "    points2 /= s2\n",
    "\n",
    "    U, S, Vt = numpy.linalg.svd(points1.T * points2)\n",
    "\n",
    "    # The R we seek is in fact the transpose of the one given by U * Vt. This\n",
    "    # is because the above formulation assumes the matrix goes on the right\n",
    "    # (with row vectors) where as our solution requires the matrix to be on the\n",
    "    # left (with column vectors).\n",
    "    R = (U * Vt).T\n",
    "\n",
    "    return numpy.vstack([numpy.hstack(((s2 / s1) * R,\n",
    "                                       c2.T - (s2 / s1) * R * c1.T)),\n",
    "                         numpy.matrix([0., 0., 1.])])\n",
    "\n",
    "def read_im_and_landmarks(fname):\n",
    "    im = cv2.imread(fname, cv2.IMREAD_COLOR)\n",
    "    im = cv2.resize(im, (im.shape[1] * SCALE_FACTOR,\n",
    "                         im.shape[0] * SCALE_FACTOR))\n",
    "    s = get_landmarks(im)\n",
    "\n",
    "    return im, s\n",
    "\n",
    "def warp_im(im, M, dshape):\n",
    "    output_im = numpy.zeros(dshape, dtype=im.dtype)\n",
    "    cv2.warpAffine(im,\n",
    "                   M[:2],\n",
    "                   (dshape[1], dshape[0]),\n",
    "                   dst=output_im,\n",
    "                   borderMode=cv2.BORDER_TRANSPARENT,\n",
    "                   flags=cv2.WARP_INVERSE_MAP)\n",
    "    return output_im\n",
    "\n",
    "def correct_colours(im1, im2, landmarks1):\n",
    "    blur_amount = COLOUR_CORRECT_BLUR_FRAC * numpy.linalg.norm(\n",
    "                              numpy.mean(landmarks1[LEFT_EYE_POINTS], axis=0) -\n",
    "                              numpy.mean(landmarks1[RIGHT_EYE_POINTS], axis=0))\n",
    "    blur_amount = int(blur_amount)\n",
    "    if blur_amount % 2 == 0:\n",
    "        blur_amount += 1\n",
    "    im1_blur = cv2.GaussianBlur(im1, (blur_amount, blur_amount), 0)\n",
    "    im2_blur = cv2.GaussianBlur(im2, (blur_amount, blur_amount), 0)\n",
    "\n",
    "    # Avoid divide-by-zero errors.\n",
    "    im2_blur += (128 * (im2_blur <= 1.0)).astype(im2_blur.dtype)\n",
    "\n",
    "    return (im2.astype(numpy.float64) * im1_blur.astype(numpy.float64) /\n",
    "                                                im2_blur.astype(numpy.float64))\n",
    "\n",
    "im1, landmarks1 = read_im_and_landmarks(sys.argv[1])\n",
    "im2, landmarks2 = read_im_and_landmarks(sys.argv[2])\n",
    "\n",
    "M = transformation_from_points(landmarks1[ALIGN_POINTS],\n",
    "                               landmarks2[ALIGN_POINTS])\n",
    "\n",
    "mask = get_face_mask(im2, landmarks2)\n",
    "warped_mask = warp_im(mask, M, im1.shape)\n",
    "combined_mask = numpy.max([get_face_mask(im1, landmarks1), warped_mask],\n",
    "                          axis=0)\n",
    "\n",
    "warped_im2 = warp_im(im2, M, im1.shape)\n",
    "warped_corrected_im2 = correct_colours(im1, warped_im2, landmarks1)\n",
    "\n",
    "output_im = im1 * (1.0 - combined_mask) + warped_corrected_im2 * combined_mask\n",
    "\n",
    "cv2.imwrite('output.jpg', output_im)\n",
    "\n",
    "'''\n"
   ]
  },
  {
   "cell_type": "code",
   "execution_count": 33,
   "id": "e4e33c0b",
   "metadata": {
    "execution": {
     "iopub.execute_input": "2022-04-04T16:31:26.169016Z",
     "iopub.status.busy": "2022-04-04T16:31:26.168389Z",
     "iopub.status.idle": "2022-04-04T16:31:26.747903Z",
     "shell.execute_reply": "2022-04-04T16:31:26.747407Z",
     "shell.execute_reply.started": "2022-04-04T16:25:30.852832Z"
    },
    "papermill": {
     "duration": 0.626448,
     "end_time": "2022-04-04T16:31:26.748035",
     "exception": false,
     "start_time": "2022-04-04T16:31:26.121587",
     "status": "completed"
    },
    "tags": []
   },
   "outputs": [
    {
     "name": "stdout",
     "output_type": "stream",
     "text": [
      "\r\n",
      "bunzip2: I won't read compressed data from a terminal.\r\n",
      "bunzip2: For help, type: `bunzip2 --help'.\r\n",
      "/bin/bash: line 44: PREDICTOR_PATH: command not found\r\n",
      "/bin/bash: line 44: output.jpg: command not found\r\n",
      "/bin/bash: command substitution: line 44: syntax error near unexpected token `newline'\r\n",
      "/bin/bash: command substitution: line 44: `<head image>'\r\n",
      "/bin/bash: command substitution: line 44: syntax error near unexpected token `newline'\r\n",
      "/bin/bash: command substitution: line 44: `<face image>'\r\n",
      "/bin/bash: line 44: \r\n",
      "This is the code behind the Switching Eds blog post:\r\n",
      "\r\n",
      "    http://matthewearl.github.io/2015/07/28/switching-eds-with-python/\r\n",
      "\r\n",
      "See the above for an explanation of the code below.\r\n",
      "\r\n",
      "To run the script you'll need to install dlib (http://dlib.net) including its\r\n",
      "Python bindings, and OpenCV. You'll also need to obtain the trained model from\r\n",
      "sourceforge:\r\n",
      "\r\n",
      "    http://sourceforge.net/projects/dclib/files/dlib/v18.10/shape_predictor_68_face_landmarks.dat.bz2\r\n",
      "\r\n",
      "Unzip with  and change  to refer to this file. The\r\n",
      "script is run like so:\r\n",
      "\r\n",
      "    ./faceswap.py <head image> <face image>\r\n",
      "\r\n",
      "If successful, a file  will be produced with the facial features\r\n",
      "from  replaced with the facial features from .\r\n",
      "\r\n",
      ": No such file or directory\r\n",
      "import: unable to open X server `' @ error/import.c/ImportImageCommand/347.\r\n",
      "import: unable to open X server `' @ error/import.c/ImportImageCommand/347.\r\n",
      "import: unable to open X server `' @ error/import.c/ImportImageCommand/347.\r\n",
      "import: unable to open X server `' @ error/import.c/ImportImageCommand/347.\r\n",
      "/bin/bash: line 52: PREDICTOR_PATH: command not found\r\n",
      "/bin/bash: line 53: SCALE_FACTOR: command not found\r\n",
      "/bin/bash: line 54: FEATHER_AMOUNT: command not found\r\n",
      "/bin/bash: -c: line 56: syntax error near unexpected token `('\r\n",
      "/bin/bash: -c: line 56: `FACE_POINTS = list(range(17, 68))'\r\n"
     ]
    }
   ],
   "source": [
    "!echo {new_code}"
   ]
  },
  {
   "cell_type": "code",
   "execution_count": 34,
   "id": "be1d58ff",
   "metadata": {
    "execution": {
     "iopub.execute_input": "2022-04-04T16:31:26.844881Z",
     "iopub.status.busy": "2022-04-04T16:31:26.844232Z",
     "iopub.status.idle": "2022-04-04T16:31:27.207228Z",
     "shell.execute_reply": "2022-04-04T16:31:27.206701Z",
     "shell.execute_reply.started": "2022-04-04T16:24:41.081891Z"
    },
    "papermill": {
     "duration": 0.41411,
     "end_time": "2022-04-04T16:31:27.207386",
     "exception": false,
     "start_time": "2022-04-04T16:31:26.793276",
     "status": "completed"
    },
    "tags": []
   },
   "outputs": [
    {
     "name": "stdout",
     "output_type": "stream",
     "text": [
      "\r\n",
      "bunzip2: I won't read compressed data from a terminal.\r\n",
      "bunzip2: For help, type: `bunzip2 --help'.\r\n",
      "/bin/bash: line 44: PREDICTOR_PATH: command not found\r\n",
      "/bin/bash: line 44: output.jpg: command not found\r\n",
      "/bin/bash: command substitution: line 44: syntax error near unexpected token `newline'\r\n",
      "/bin/bash: command substitution: line 44: `<head image>'\r\n",
      "/bin/bash: command substitution: line 44: syntax error near unexpected token `newline'\r\n",
      "/bin/bash: command substitution: line 44: `<face image>'\r\n",
      "/bin/bash: line 44: \r\n",
      "This is the code behind the Switching Eds blog post:\r\n",
      "\r\n",
      "    http://matthewearl.github.io/2015/07/28/switching-eds-with-python/\r\n",
      "\r\n",
      "See the above for an explanation of the code below.\r\n",
      "\r\n",
      "To run the script you'll need to install dlib (http://dlib.net) including its\r\n",
      "Python bindings, and OpenCV. You'll also need to obtain the trained model from\r\n",
      "sourceforge:\r\n",
      "\r\n",
      "    http://sourceforge.net/projects/dclib/files/dlib/v18.10/shape_predictor_68_face_landmarks.dat.bz2\r\n",
      "\r\n",
      "Unzip with  and change  to refer to this file. The\r\n",
      "script is run like so:\r\n",
      "\r\n",
      "    ./faceswap.py <head image> <face image>\r\n",
      "\r\n",
      "If successful, a file  will be produced with the facial features\r\n",
      "from  replaced with the facial features from .\r\n",
      "\r\n",
      ": No such file or directory\r\n",
      "import: unable to open X server `' @ error/import.c/ImportImageCommand/347.\r\n",
      "import: unable to open X server `' @ error/import.c/ImportImageCommand/347.\r\n",
      "import: unable to open X server `' @ error/import.c/ImportImageCommand/347.\r\n",
      "import: unable to open X server `' @ error/import.c/ImportImageCommand/347.\r\n",
      "/bin/bash: line 52: PREDICTOR_PATH: command not found\r\n",
      "/bin/bash: line 53: SCALE_FACTOR: command not found\r\n",
      "/bin/bash: line 54: FEATHER_AMOUNT: command not found\r\n",
      "/bin/bash: -c: line 56: syntax error near unexpected token `('\r\n",
      "/bin/bash: -c: line 56: `FACE_POINTS = list(range(17, 68))'\r\n"
     ]
    }
   ],
   "source": [
    "!echo {new_code} > new.py"
   ]
  },
  {
   "cell_type": "code",
   "execution_count": 35,
   "id": "32af3f20",
   "metadata": {
    "execution": {
     "iopub.execute_input": "2022-04-04T16:31:27.306264Z",
     "iopub.status.busy": "2022-04-04T16:31:27.305643Z",
     "iopub.status.idle": "2022-04-04T16:31:27.711451Z",
     "shell.execute_reply": "2022-04-04T16:31:27.711955Z",
     "shell.execute_reply.started": "2022-04-04T16:24:41.928847Z"
    },
    "papermill": {
     "duration": 0.458378,
     "end_time": "2022-04-04T16:31:27.712134",
     "exception": false,
     "start_time": "2022-04-04T16:31:27.253756",
     "status": "completed"
    },
    "tags": []
   },
   "outputs": [
    {
     "name": "stdout",
     "output_type": "stream",
     "text": [
      "python: can't open file '.new.py': [Errno 2] No such file or directory\r\n"
     ]
    }
   ],
   "source": [
    "!python .new.py trump.jpg will.jpg"
   ]
  }
 ],
 "metadata": {
  "kernelspec": {
   "display_name": "Python 3",
   "language": "python",
   "name": "python3"
  },
  "language_info": {
   "codemirror_mode": {
    "name": "ipython",
    "version": 3
   },
   "file_extension": ".py",
   "mimetype": "text/x-python",
   "name": "python",
   "nbconvert_exporter": "python",
   "pygments_lexer": "ipython3",
   "version": "3.7.12"
  },
  "papermill": {
   "default_parameters": {},
   "duration": 26.388728,
   "end_time": "2022-04-04T16:31:28.567922",
   "environment_variables": {},
   "exception": null,
   "input_path": "__notebook__.ipynb",
   "output_path": "__notebook__.ipynb",
   "parameters": {},
   "start_time": "2022-04-04T16:31:02.179194",
   "version": "2.3.3"
  }
 },
 "nbformat": 4,
 "nbformat_minor": 5
}
