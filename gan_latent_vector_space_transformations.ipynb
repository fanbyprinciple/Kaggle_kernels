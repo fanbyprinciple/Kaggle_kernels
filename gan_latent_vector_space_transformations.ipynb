{
  "nbformat": 4,
  "nbformat_minor": 0,
  "metadata": {
    "kernelspec": {
      "language": "python",
      "display_name": "Python 3",
      "name": "python3"
    },
    "language_info": {
      "name": "python",
      "version": "3.7.10",
      "mimetype": "text/x-python",
      "codemirror_mode": {
        "name": "ipython",
        "version": 3
      },
      "pygments_lexer": "ipython3",
      "nbconvert_exporter": "python",
      "file_extension": ".py"
    },
    "colab": {
      "name": "gan-latent-vector-space-transformations.ipynb",
      "provenance": [],
      "include_colab_link": true
    },
    "accelerator": "GPU"
  },
  "cells": [
    {
      "cell_type": "markdown",
      "metadata": {
        "id": "view-in-github",
        "colab_type": "text"
      },
      "source": [
        "<a href=\"https://colab.research.google.com/github/fanbyprinciple/kaggle_kernels/blob/master/gan_latent_vector_space_transformations.ipynb\" target=\"_parent\"><img src=\"https://colab.research.google.com/assets/colab-badge.svg\" alt=\"Open In Colab\"/></a>"
      ]
    },
    {
      "cell_type": "code",
      "metadata": {
        "colab": {
          "base_uri": "https://localhost:8080/"
        },
        "id": "tzyhrQ4Cqp-t",
        "outputId": "2fc39ce8-0177-48ab-910b-67c8cf0e99e6"
      },
      "source": [
        "from google.colab import drive\n",
        "drive.mount('/content/drive')"
      ],
      "execution_count": 10,
      "outputs": [
        {
          "output_type": "stream",
          "name": "stdout",
          "text": [
            "Mounted at /content/drive\n"
          ]
        }
      ]
    },
    {
      "cell_type": "code",
      "metadata": {
        "_uuid": "8f2839f25d086af736a60e9eeb907d3b93b6e0e5",
        "_cell_guid": "b1076dfc-b9ad-4769-8c92-a6c4dae69d19",
        "execution": {
          "iopub.status.busy": "2021-10-30T05:06:12.085882Z",
          "iopub.execute_input": "2021-10-30T05:06:12.086812Z",
          "iopub.status.idle": "2021-10-30T05:06:14.934170Z",
          "shell.execute_reply.started": "2021-10-30T05:06:12.086696Z",
          "shell.execute_reply": "2021-10-30T05:06:14.932946Z"
        },
        "trusted": true,
        "colab": {
          "base_uri": "https://localhost:8080/"
        },
        "id": "WWk45rVrmfRO",
        "outputId": "788acad2-cc86-4a6d-d6b9-9d2a8dafc635"
      },
      "source": [
        "!git clone https://github.com/spiorf/stylegan-encoder"
      ],
      "execution_count": 11,
      "outputs": [
        {
          "output_type": "stream",
          "name": "stdout",
          "text": [
            "Cloning into 'stylegan-encoder'...\n",
            "remote: Enumerating objects: 150, done.\u001b[K\n",
            "remote: Total 150 (delta 0), reused 0 (delta 0), pack-reused 150\u001b[K\n",
            "Receiving objects: 100% (150/150), 10.54 MiB | 20.48 MiB/s, done.\n",
            "Resolving deltas: 100% (41/41), done.\n"
          ]
        }
      ]
    },
    {
      "cell_type": "markdown",
      "metadata": {
        "id": "HTWIP9mnmfRS"
      },
      "source": [
        "Trying out code from this fork: https://github.com/spiorf/stylegan-encoder"
      ]
    },
    {
      "cell_type": "code",
      "metadata": {
        "execution": {
          "iopub.status.busy": "2021-10-30T05:06:14.937069Z",
          "iopub.execute_input": "2021-10-30T05:06:14.937756Z",
          "iopub.status.idle": "2021-10-30T05:06:14.947696Z",
          "shell.execute_reply.started": "2021-10-30T05:06:14.937711Z",
          "shell.execute_reply": "2021-10-30T05:06:14.946363Z"
        },
        "trusted": true,
        "colab": {
          "base_uri": "https://localhost:8080/"
        },
        "id": "2MVxiWz-mfRU",
        "outputId": "75db5a77-4343-422a-b784-1b8592e7f9f2"
      },
      "source": [
        "%cd stylegan-encoder"
      ],
      "execution_count": 12,
      "outputs": [
        {
          "output_type": "stream",
          "name": "stdout",
          "text": [
            "/content/stylegan-encoder/stylegan-encoder\n"
          ]
        }
      ]
    },
    {
      "cell_type": "markdown",
      "metadata": {
        "id": "L-RcYtWUmfRU"
      },
      "source": [
        "**restart the kernel after installing tensorflow 1.14**"
      ]
    },
    {
      "cell_type": "code",
      "metadata": {
        "execution": {
          "iopub.status.busy": "2021-10-30T05:06:14.950730Z",
          "iopub.execute_input": "2021-10-30T05:06:14.951803Z",
          "iopub.status.idle": "2021-10-30T05:07:47.031252Z",
          "shell.execute_reply.started": "2021-10-30T05:06:14.951761Z",
          "shell.execute_reply": "2021-10-30T05:07:47.030491Z"
        },
        "trusted": true,
        "colab": {
          "base_uri": "https://localhost:8080/"
        },
        "id": "_xumoS87mfRV",
        "outputId": "a9e1f493-6ea9-443c-c60e-3e2469114335"
      },
      "source": [
        "\n",
        "!pip install tensorflow-gpu==1.15.2\n",
        "import tensorflow\n",
        "if tensorflow.__version__ != '1.15.2':\n",
        "    print(f\"not {tensorflow.__version__}\")"
      ],
      "execution_count": 13,
      "outputs": [
        {
          "output_type": "stream",
          "name": "stdout",
          "text": [
            "Requirement already satisfied: tensorflow-gpu==1.15.2 in /usr/local/lib/python3.7/dist-packages (1.15.2)\n",
            "Requirement already satisfied: google-pasta>=0.1.6 in /usr/local/lib/python3.7/dist-packages (from tensorflow-gpu==1.15.2) (0.2.0)\n",
            "Requirement already satisfied: tensorboard<1.16.0,>=1.15.0 in /usr/local/lib/python3.7/dist-packages (from tensorflow-gpu==1.15.2) (1.15.0)\n",
            "Requirement already satisfied: six>=1.10.0 in /usr/local/lib/python3.7/dist-packages (from tensorflow-gpu==1.15.2) (1.15.0)\n",
            "Requirement already satisfied: numpy<2.0,>=1.16.0 in /usr/local/lib/python3.7/dist-packages (from tensorflow-gpu==1.15.2) (1.19.5)\n",
            "Requirement already satisfied: astor>=0.6.0 in /usr/local/lib/python3.7/dist-packages (from tensorflow-gpu==1.15.2) (0.8.1)\n",
            "Requirement already satisfied: keras-preprocessing>=1.0.5 in /usr/local/lib/python3.7/dist-packages (from tensorflow-gpu==1.15.2) (1.1.2)\n",
            "Requirement already satisfied: keras-applications>=1.0.8 in /usr/local/lib/python3.7/dist-packages (from tensorflow-gpu==1.15.2) (1.0.8)\n",
            "Requirement already satisfied: opt-einsum>=2.3.2 in /usr/local/lib/python3.7/dist-packages (from tensorflow-gpu==1.15.2) (3.3.0)\n",
            "Requirement already satisfied: gast==0.2.2 in /usr/local/lib/python3.7/dist-packages (from tensorflow-gpu==1.15.2) (0.2.2)\n",
            "Requirement already satisfied: grpcio>=1.8.6 in /usr/local/lib/python3.7/dist-packages (from tensorflow-gpu==1.15.2) (1.41.0)\n",
            "Requirement already satisfied: tensorflow-estimator==1.15.1 in /usr/local/lib/python3.7/dist-packages (from tensorflow-gpu==1.15.2) (1.15.1)\n",
            "Requirement already satisfied: wheel>=0.26 in /usr/local/lib/python3.7/dist-packages (from tensorflow-gpu==1.15.2) (0.37.0)\n",
            "Requirement already satisfied: absl-py>=0.7.0 in /usr/local/lib/python3.7/dist-packages (from tensorflow-gpu==1.15.2) (0.12.0)\n",
            "Requirement already satisfied: wrapt>=1.11.1 in /usr/local/lib/python3.7/dist-packages (from tensorflow-gpu==1.15.2) (1.12.1)\n",
            "Requirement already satisfied: protobuf>=3.6.1 in /usr/local/lib/python3.7/dist-packages (from tensorflow-gpu==1.15.2) (3.17.3)\n",
            "Requirement already satisfied: termcolor>=1.1.0 in /usr/local/lib/python3.7/dist-packages (from tensorflow-gpu==1.15.2) (1.1.0)\n",
            "Requirement already satisfied: h5py in /usr/local/lib/python3.7/dist-packages (from keras-applications>=1.0.8->tensorflow-gpu==1.15.2) (3.1.0)\n",
            "Requirement already satisfied: markdown>=2.6.8 in /usr/local/lib/python3.7/dist-packages (from tensorboard<1.16.0,>=1.15.0->tensorflow-gpu==1.15.2) (3.3.4)\n",
            "Requirement already satisfied: setuptools>=41.0.0 in /usr/local/lib/python3.7/dist-packages (from tensorboard<1.16.0,>=1.15.0->tensorflow-gpu==1.15.2) (57.4.0)\n",
            "Requirement already satisfied: werkzeug>=0.11.15 in /usr/local/lib/python3.7/dist-packages (from tensorboard<1.16.0,>=1.15.0->tensorflow-gpu==1.15.2) (1.0.1)\n",
            "Requirement already satisfied: importlib-metadata in /usr/local/lib/python3.7/dist-packages (from markdown>=2.6.8->tensorboard<1.16.0,>=1.15.0->tensorflow-gpu==1.15.2) (4.8.1)\n",
            "Requirement already satisfied: cached-property in /usr/local/lib/python3.7/dist-packages (from h5py->keras-applications>=1.0.8->tensorflow-gpu==1.15.2) (1.5.2)\n",
            "Requirement already satisfied: typing-extensions>=3.6.4 in /usr/local/lib/python3.7/dist-packages (from importlib-metadata->markdown>=2.6.8->tensorboard<1.16.0,>=1.15.0->tensorflow-gpu==1.15.2) (3.7.4.3)\n",
            "Requirement already satisfied: zipp>=0.5 in /usr/local/lib/python3.7/dist-packages (from importlib-metadata->markdown>=2.6.8->tensorboard<1.16.0,>=1.15.0->tensorflow-gpu==1.15.2) (3.6.0)\n"
          ]
        }
      ]
    },
    {
      "cell_type": "code",
      "metadata": {
        "execution": {
          "iopub.status.busy": "2021-10-30T05:07:47.033612Z",
          "iopub.execute_input": "2021-10-30T05:07:47.033900Z",
          "iopub.status.idle": "2021-10-30T05:07:47.243318Z",
          "shell.execute_reply.started": "2021-10-30T05:07:47.033844Z",
          "shell.execute_reply": "2021-10-30T05:07:47.241937Z"
        },
        "trusted": true,
        "id": "o02JbD1BmfRV"
      },
      "source": [
        "#sfd"
      ],
      "execution_count": 4,
      "outputs": []
    },
    {
      "cell_type": "code",
      "metadata": {
        "execution": {
          "iopub.status.busy": "2021-10-30T05:07:47.244299Z",
          "iopub.status.idle": "2021-10-30T05:07:47.245401Z",
          "shell.execute_reply.started": "2021-10-30T05:07:47.245145Z",
          "shell.execute_reply": "2021-10-30T05:07:47.245172Z"
        },
        "trusted": true,
        "id": "LzgL9UBvmfRW"
      },
      "source": [
        "import os\n",
        "import pickle\n",
        "import PIL.Image\n",
        "import numpy as np\n",
        "import dnnlib\n",
        "import dnnlib.tflib as tflib\n",
        "    \n",
        "import config\n",
        "from encoder.generator_model import Generator\n",
        "\n",
        "import matplotlib.pyplot as plt\n",
        "%matplotlib inline\n",
        "\n",
        "\n",
        "# if this cell does not execute then restart and run \n",
        "# so that tensorflow version is 1.15"
      ],
      "execution_count": 14,
      "outputs": []
    },
    {
      "cell_type": "code",
      "metadata": {
        "execution": {
          "iopub.status.busy": "2021-10-30T05:07:47.246590Z",
          "iopub.status.idle": "2021-10-30T05:07:47.247337Z",
          "shell.execute_reply.started": "2021-10-30T05:07:47.247092Z",
          "shell.execute_reply": "2021-10-30T05:07:47.247118Z"
        },
        "trusted": true,
        "colab": {
          "base_uri": "https://localhost:8080/"
        },
        "id": "uWszL84qmfRX",
        "outputId": "e29f65c5-557f-45a1-d2f5-05ff7a341a26"
      },
      "source": [
        "# URL_FFHQ = 'https://drive.google.com/u/0/uc?export=download&confirm=ONuU&id=1MEGjdvVpUsu1jB4zrXZN7Y4kBBOzizDQ'\n",
        "# # this is the pickle file\n",
        "\n",
        "# !wget {URL_FFHQ}\n"
      ],
      "execution_count": 17,
      "outputs": [
        {
          "output_type": "stream",
          "name": "stdout",
          "text": [
            "--2021-10-30 05:31:16--  https://drive.google.com/u/0/uc?export=download\n",
            "Resolving drive.google.com (drive.google.com)... 74.125.202.138, 74.125.202.139, 74.125.202.100, ...\n",
            "Connecting to drive.google.com (drive.google.com)|74.125.202.138|:443... connected.\n",
            "HTTP request sent, awaiting response... 400 Bad Request\n",
            "2021-10-30 05:31:16 ERROR 400: Bad Request.\n",
            "\n"
          ]
        }
      ]
    },
    {
      "cell_type": "code",
      "metadata": {
        "colab": {
          "base_uri": "https://localhost:8080/",
          "height": 239
        },
        "id": "uZy7_YHYrjOG",
        "outputId": "13b784a2-0b1a-46a7-fa4f-3395b60856c3"
      },
      "source": [
        "\n",
        "tflib.init_tf()\n",
        "\n",
        "\n",
        "generator_network,discriminator_network, Gs_network = pickle.load('/content/drive/MyDrive/data/karras2019stylegan-ffhq-1024x1024.pkl')\n",
        "\n",
        "\n",
        "\n",
        "# for this particular cell to work you need to enable your GPU\n",
        "\n",
        "\n",
        "generator = Generator(Gs_network, batch_size=1, randomize_noise=False)"
      ],
      "execution_count": 18,
      "outputs": [
        {
          "output_type": "error",
          "ename": "TypeError",
          "evalue": "ignored",
          "traceback": [
            "\u001b[0;31m---------------------------------------------------------------------------\u001b[0m",
            "\u001b[0;31mTypeError\u001b[0m                                 Traceback (most recent call last)",
            "\u001b[0;32m<ipython-input-18-ac5cad3bcc66>\u001b[0m in \u001b[0;36m<module>\u001b[0;34m()\u001b[0m\n\u001b[1;32m      3\u001b[0m \u001b[0;34m\u001b[0m\u001b[0m\n\u001b[1;32m      4\u001b[0m \u001b[0;34m\u001b[0m\u001b[0m\n\u001b[0;32m----> 5\u001b[0;31m \u001b[0mgenerator_network\u001b[0m\u001b[0;34m,\u001b[0m\u001b[0mdiscriminator_network\u001b[0m\u001b[0;34m,\u001b[0m \u001b[0mGs_network\u001b[0m \u001b[0;34m=\u001b[0m \u001b[0mpickle\u001b[0m\u001b[0;34m.\u001b[0m\u001b[0mload\u001b[0m\u001b[0;34m(\u001b[0m\u001b[0;34m'/content/drive/MyDrive/data/karras2019stylegan-ffhq-1024x1024.pkl'\u001b[0m\u001b[0;34m)\u001b[0m\u001b[0;34m\u001b[0m\u001b[0;34m\u001b[0m\u001b[0m\n\u001b[0m\u001b[1;32m      6\u001b[0m \u001b[0;34m\u001b[0m\u001b[0m\n\u001b[1;32m      7\u001b[0m \u001b[0;34m\u001b[0m\u001b[0m\n",
            "\u001b[0;31mTypeError\u001b[0m: file must have 'read' and 'readline' attributes"
          ]
        }
      ]
    },
    {
      "cell_type": "code",
      "metadata": {
        "execution": {
          "iopub.status.busy": "2021-10-30T05:07:47.248564Z",
          "iopub.status.idle": "2021-10-30T05:07:47.249352Z",
          "shell.execute_reply.started": "2021-10-30T05:07:47.249108Z",
          "shell.execute_reply": "2021-10-30T05:07:47.249133Z"
        },
        "trusted": true,
        "id": "Bzl2buVYmfRY"
      },
      "source": [
        "def generate_image(latent_vector):\n",
        "    latent_vector = latent_vector.reshape((1,18,512))\n",
        "    generator.set_dlatents(latent_vector)\n",
        "    img_array = generator.generate_images()[0]\n",
        "    img = PIL.Image.fromarray(img_array, 'RGB')\n",
        "    return Image.resize((256,256))\n",
        "\n",
        "def move_and_show(latent_vector, direction, coeffs):\n",
        "    fig, ax = plt.subplots(1, len(coeffs), figsize=(15,10), dpi=80)\n",
        "    for i, coeff in enumerate(coeffs):\n",
        "        new_latent_vector = latent_vector.copy()\n",
        "        new_latent_vector[:8] = (latent_vector + coeff*direction)[:8]\n",
        "        ax[i].imshow(generate_image(new_latent_vector))\n",
        "        ax[i].set_title('Coeff: %0.1f' % coeff)\n",
        "    [x.axis('off') for x in ax]\n",
        "    plt.show()"
      ],
      "execution_count": null,
      "outputs": []
    },
    {
      "cell_type": "code",
      "metadata": {
        "execution": {
          "iopub.status.busy": "2021-10-30T05:07:47.250588Z",
          "iopub.status.idle": "2021-10-30T05:07:47.251407Z",
          "shell.execute_reply.started": "2021-10-30T05:07:47.251162Z",
          "shell.execute_reply": "2021-10-30T05:07:47.251187Z"
        },
        "trusted": true,
        "id": "RNDN_A-ymfRY"
      },
      "source": [
        "# Loading already learned representations\n",
        "donald_trump = np.load('ffhq_dataset/latent_representations/donald_trump_01.npy')\n",
        "hillary_clinton = np.load('ffhq_dataset/latent_representations/hillary_clinton_01.npy')\n",
        "\n",
        "# Of course you can learn your own vectors using two scripts\n",
        "\n",
        "# 1) Extract and align faces from images\n",
        "# python align_images.py raw_images/ aligned_images/\n",
        "\n",
        "# 2) Find latent representation of aligned images\n",
        "# python encode_images.py aligned_images/ generated_images/ latent_representations/"
      ],
      "execution_count": null,
      "outputs": []
    },
    {
      "cell_type": "code",
      "metadata": {
        "execution": {
          "iopub.status.busy": "2021-10-30T05:07:47.252583Z",
          "iopub.status.idle": "2021-10-30T05:07:47.253462Z",
          "shell.execute_reply.started": "2021-10-30T05:07:47.253199Z",
          "shell.execute_reply": "2021-10-30T05:07:47.253224Z"
        },
        "trusted": true,
        "id": "t0kNjFM3mfRZ"
      },
      "source": [
        "# Loading already learned latent directions\n",
        "smile_direction = np.load('ffhq_dataset/latent_directions/smile.npy')\n",
        "gender_direction = np.load('ffhq_dataset/latent_directions/gender.npy')\n",
        "age_direction = np.load('ffhq_dataset/latent_directions/age.npy')\n",
        "\n",
        "# In general it's possible to find directions of almost any face attributes: position, hair style or color ... \n",
        "# Additional scripts for doing so will be realised soon\n"
      ],
      "execution_count": null,
      "outputs": []
    },
    {
      "cell_type": "code",
      "metadata": {
        "execution": {
          "iopub.status.busy": "2021-10-30T05:07:47.254565Z",
          "iopub.status.idle": "2021-10-30T05:07:47.255396Z",
          "shell.execute_reply.started": "2021-10-30T05:07:47.255153Z",
          "shell.execute_reply": "2021-10-30T05:07:47.255177Z"
        },
        "trusted": true,
        "id": "4k2cKWtEmfRZ"
      },
      "source": [
        "move_and_show(donald_trump, smile_direction, [-1, 0, 2])"
      ],
      "execution_count": null,
      "outputs": []
    }
  ]
}