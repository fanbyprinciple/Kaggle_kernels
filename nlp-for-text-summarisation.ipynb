{
 "cells": [
  {
   "cell_type": "markdown",
   "id": "078cc314",
   "metadata": {
    "id": "4hUhMXYd1NwN",
    "papermill": {
     "duration": 0.032906,
     "end_time": "2022-02-18T01:45:19.564139",
     "exception": false,
     "start_time": "2022-02-18T01:45:19.531233",
     "status": "completed"
    },
    "tags": []
   },
   "source": [
    "# Welcome!"
   ]
  },
  {
   "cell_type": "markdown",
   "id": "b5836ccb",
   "metadata": {
    "papermill": {
     "duration": 0.031428,
     "end_time": "2022-02-18T01:45:19.628471",
     "exception": false,
     "start_time": "2022-02-18T01:45:19.597043",
     "status": "completed"
    },
    "tags": []
   },
   "source": [
    "from : https://colab.research.google.com/github/rubenvangenugten/autobiographical_interview_scoring/blob/main/automated_autobiographical_interview_scoring_share.ipynb#scrollTo=8WKHko67Ht6s"
   ]
  },
  {
   "cell_type": "markdown",
   "id": "e919979f",
   "metadata": {
    "id": "l_o_Kw7uVuof",
    "papermill": {
     "duration": 0.030547,
     "end_time": "2022-02-18T01:45:19.690533",
     "exception": false,
     "start_time": "2022-02-18T01:45:19.659986",
     "status": "completed"
    },
    "tags": []
   },
   "source": [
    "Please read through the .readme file on github to ensure your data is in the correct format. \n",
    "\n",
    "Now, to run the code, click 'runtime' -> 'run all' in your menu bar. You'll be prompted for google drive login, which colab needs to access your data file. Once the code is done running, you should be able to find the results in the folder you created. \n"
   ]
  },
  {
   "cell_type": "markdown",
   "id": "1af2c23b",
   "metadata": {
    "id": "BUfGtuFLWFAs",
    "papermill": {
     "duration": 0.030495,
     "end_time": "2022-02-18T01:45:19.751817",
     "exception": false,
     "start_time": "2022-02-18T01:45:19.721322",
     "status": "completed"
    },
    "tags": []
   },
   "source": [
    "All code for model loading, use, data encoding, and related matters has been copied or adapted from the huggingface [documentation](https://huggingface.co/docs/transformers/index) and the example [library](https://github.com/huggingface/notebooks/blob/master/transformers_doc/training.ipynb)\n"
   ]
  },
  {
   "cell_type": "markdown",
   "id": "dce31f3e",
   "metadata": {
    "id": "BBhJIUn31-dU",
    "papermill": {
     "duration": 0.031693,
     "end_time": "2022-02-18T01:45:19.814220",
     "exception": false,
     "start_time": "2022-02-18T01:45:19.782527",
     "status": "completed"
    },
    "tags": []
   },
   "source": [
    "Edit the cell below to provide the data file location and the location where you want the results stored.\n"
   ]
  },
  {
   "cell_type": "code",
   "execution_count": 1,
   "id": "7981b4f2",
   "metadata": {
    "execution": {
     "iopub.execute_input": "2022-02-18T01:45:19.889757Z",
     "iopub.status.busy": "2022-02-18T01:45:19.887981Z",
     "iopub.status.idle": "2022-02-18T01:45:20.887421Z",
     "shell.execute_reply": "2022-02-18T01:45:20.886396Z",
     "shell.execute_reply.started": "2022-02-18T01:42:06.564701Z"
    },
    "papermill": {
     "duration": 1.038065,
     "end_time": "2022-02-18T01:45:20.887635",
     "exception": false,
     "start_time": "2022-02-18T01:45:19.849570",
     "status": "completed"
    },
    "tags": []
   },
   "outputs": [
    {
     "name": "stdout",
     "output_type": "stream",
     "text": [
      "--2022-02-18 01:45:20--  https://raw.githubusercontent.com/rubenvangenugten/autobiographical_interview_scoring/main/example_data.csv\r\n",
      "Resolving raw.githubusercontent.com (raw.githubusercontent.com)... 185.199.110.133, 185.199.108.133, 185.199.111.133, ...\r\n",
      "Connecting to raw.githubusercontent.com (raw.githubusercontent.com)|185.199.110.133|:443... connected.\r\n",
      "HTTP request sent, awaiting response... 200 OK\r\n",
      "Length: 673 [text/plain]\r\n",
      "Saving to: ‘example_data.csv’\r\n",
      "\r\n",
      "example_data.csv    100%[===================>]     673  --.-KB/s    in 0s      \r\n",
      "\r\n",
      "2022-02-18 01:45:20 (37.8 MB/s) - ‘example_data.csv’ saved [673/673]\r\n",
      "\r\n"
     ]
    }
   ],
   "source": [
    "!wget \"https://raw.githubusercontent.com/rubenvangenugten/autobiographical_interview_scoring/main/example_data.csv\""
   ]
  },
  {
   "cell_type": "code",
   "execution_count": 2,
   "id": "2492bff9",
   "metadata": {
    "execution": {
     "iopub.execute_input": "2022-02-18T01:45:20.957467Z",
     "iopub.status.busy": "2022-02-18T01:45:20.956433Z",
     "iopub.status.idle": "2022-02-18T01:45:20.960681Z",
     "shell.execute_reply": "2022-02-18T01:45:20.961292Z",
     "shell.execute_reply.started": "2022-02-18T01:42:07.635342Z"
    },
    "id": "U6ZpPMQFynH6",
    "papermill": {
     "duration": 0.040524,
     "end_time": "2022-02-18T01:45:20.961465",
     "exception": false,
     "start_time": "2022-02-18T01:45:20.920941",
     "status": "completed"
    },
    "tags": []
   },
   "outputs": [],
   "source": [
    "data_location = './example_data.csv'\n",
    "output_location = './'"
   ]
  },
  {
   "cell_type": "markdown",
   "id": "6285345b",
   "metadata": {
    "id": "FFmEQYm10Dr9",
    "papermill": {
     "duration": 0.032767,
     "end_time": "2022-02-18T01:45:21.026965",
     "exception": false,
     "start_time": "2022-02-18T01:45:20.994198",
     "status": "completed"
    },
    "tags": []
   },
   "source": [
    "The code below installs necessary libraries"
   ]
  },
  {
   "cell_type": "code",
   "execution_count": 3,
   "id": "7155202a",
   "metadata": {
    "execution": {
     "iopub.execute_input": "2022-02-18T01:45:21.095996Z",
     "iopub.status.busy": "2022-02-18T01:45:21.094969Z",
     "iopub.status.idle": "2022-02-18T01:45:37.233044Z",
     "shell.execute_reply": "2022-02-18T01:45:37.231934Z",
     "shell.execute_reply.started": "2022-02-18T01:42:07.643097Z"
    },
    "id": "sf7YZtJq1Pmd",
    "papermill": {
     "duration": 16.173845,
     "end_time": "2022-02-18T01:45:37.233314",
     "exception": false,
     "start_time": "2022-02-18T01:45:21.059469",
     "status": "completed"
    },
    "tags": []
   },
   "outputs": [
    {
     "name": "stdout",
     "output_type": "stream",
     "text": [
      "Collecting transformers==4.6.0\r\n",
      "  Downloading transformers-4.6.0-py3-none-any.whl (2.3 MB)\r\n",
      "     |████████████████████████████████| 2.3 MB 1.7 MB/s            \r\n",
      "\u001b[?25hRequirement already satisfied: sacremoses in /opt/conda/lib/python3.7/site-packages (from transformers==4.6.0) (0.0.47)\r\n",
      "Requirement already satisfied: tqdm>=4.27 in /opt/conda/lib/python3.7/site-packages (from transformers==4.6.0) (4.62.3)\r\n",
      "Requirement already satisfied: packaging in /opt/conda/lib/python3.7/site-packages (from transformers==4.6.0) (21.3)\r\n",
      "Requirement already satisfied: numpy>=1.17 in /opt/conda/lib/python3.7/site-packages (from transformers==4.6.0) (1.20.3)\r\n",
      "Requirement already satisfied: regex!=2019.12.17 in /opt/conda/lib/python3.7/site-packages (from transformers==4.6.0) (2021.11.10)\r\n",
      "Requirement already satisfied: tokenizers<0.11,>=0.10.1 in /opt/conda/lib/python3.7/site-packages (from transformers==4.6.0) (0.10.3)\r\n",
      "Requirement already satisfied: requests in /opt/conda/lib/python3.7/site-packages (from transformers==4.6.0) (2.26.0)\r\n",
      "Requirement already satisfied: importlib-metadata in /opt/conda/lib/python3.7/site-packages (from transformers==4.6.0) (4.10.1)\r\n",
      "Collecting huggingface-hub==0.0.8\r\n",
      "  Downloading huggingface_hub-0.0.8-py3-none-any.whl (34 kB)\r\n",
      "Requirement already satisfied: filelock in /opt/conda/lib/python3.7/site-packages (from transformers==4.6.0) (3.3.2)\r\n",
      "Requirement already satisfied: zipp>=0.5 in /opt/conda/lib/python3.7/site-packages (from importlib-metadata->transformers==4.6.0) (3.6.0)\r\n",
      "Requirement already satisfied: typing-extensions>=3.6.4 in /opt/conda/lib/python3.7/site-packages (from importlib-metadata->transformers==4.6.0) (3.10.0.2)\r\n",
      "Requirement already satisfied: pyparsing!=3.0.5,>=2.0.2 in /opt/conda/lib/python3.7/site-packages (from packaging->transformers==4.6.0) (3.0.6)\r\n",
      "Requirement already satisfied: certifi>=2017.4.17 in /opt/conda/lib/python3.7/site-packages (from requests->transformers==4.6.0) (2021.10.8)\r\n",
      "Requirement already satisfied: charset-normalizer~=2.0.0 in /opt/conda/lib/python3.7/site-packages (from requests->transformers==4.6.0) (2.0.9)\r\n",
      "Requirement already satisfied: idna<4,>=2.5 in /opt/conda/lib/python3.7/site-packages (from requests->transformers==4.6.0) (3.1)\r\n",
      "Requirement already satisfied: urllib3<1.27,>=1.21.1 in /opt/conda/lib/python3.7/site-packages (from requests->transformers==4.6.0) (1.26.7)\r\n",
      "Requirement already satisfied: click in /opt/conda/lib/python3.7/site-packages (from sacremoses->transformers==4.6.0) (8.0.3)\r\n",
      "Requirement already satisfied: six in /opt/conda/lib/python3.7/site-packages (from sacremoses->transformers==4.6.0) (1.16.0)\r\n",
      "Requirement already satisfied: joblib in /opt/conda/lib/python3.7/site-packages (from sacremoses->transformers==4.6.0) (1.1.0)\r\n",
      "Installing collected packages: huggingface-hub, transformers\r\n",
      "  Attempting uninstall: huggingface-hub\r\n",
      "    Found existing installation: huggingface-hub 0.1.2\r\n",
      "    Uninstalling huggingface-hub-0.1.2:\r\n",
      "      Successfully uninstalled huggingface-hub-0.1.2\r\n",
      "  Attempting uninstall: transformers\r\n",
      "    Found existing installation: transformers 4.12.5\r\n",
      "    Uninstalling transformers-4.12.5:\r\n",
      "      Successfully uninstalled transformers-4.12.5\r\n",
      "\u001b[31mERROR: pip's dependency resolver does not currently take into account all the packages that are installed. This behaviour is the source of the following dependency conflicts.\r\n",
      "datasets 1.18.0 requires huggingface-hub<1.0.0,>=0.1.0, but you have huggingface-hub 0.0.8 which is incompatible.\r\n",
      "cached-path 0.3.2 requires huggingface-hub<0.2.0,>=0.0.12, but you have huggingface-hub 0.0.8 which is incompatible.\r\n",
      "allennlp 2.8.0 requires huggingface-hub>=0.0.16, but you have huggingface-hub 0.0.8 which is incompatible.\u001b[0m\r\n",
      "Successfully installed huggingface-hub-0.0.8 transformers-4.6.0\r\n",
      "\u001b[33mWARNING: Running pip as the 'root' user can result in broken permissions and conflicting behaviour with the system package manager. It is recommended to use a virtual environment instead: https://pip.pypa.io/warnings/venv\u001b[0m\r\n",
      "Note: you may need to restart the kernel to use updated packages.\n"
     ]
    }
   ],
   "source": [
    "pip install transformers==4.6.0"
   ]
  },
  {
   "cell_type": "code",
   "execution_count": 4,
   "id": "5dc73f1c",
   "metadata": {
    "execution": {
     "iopub.execute_input": "2022-02-18T01:45:37.324305Z",
     "iopub.status.busy": "2022-02-18T01:45:37.322977Z",
     "iopub.status.idle": "2022-02-18T01:45:46.817593Z",
     "shell.execute_reply": "2022-02-18T01:45:46.816946Z",
     "shell.execute_reply.started": "2022-02-18T01:42:17.734004Z"
    },
    "id": "KhS3DLo8iH3k",
    "papermill": {
     "duration": 9.544363,
     "end_time": "2022-02-18T01:45:46.817752",
     "exception": false,
     "start_time": "2022-02-18T01:45:37.273389",
     "status": "completed"
    },
    "tags": []
   },
   "outputs": [
    {
     "name": "stdout",
     "output_type": "stream",
     "text": [
      "Collecting pysbd\r\n",
      "  Downloading pysbd-0.3.4-py3-none-any.whl (71 kB)\r\n",
      "     |████████████████████████████████| 71 kB 1.6 MB/s             \r\n",
      "\u001b[?25hInstalling collected packages: pysbd\r\n",
      "Successfully installed pysbd-0.3.4\r\n",
      "\u001b[33mWARNING: Running pip as the 'root' user can result in broken permissions and conflicting behaviour with the system package manager. It is recommended to use a virtual environment instead: https://pip.pypa.io/warnings/venv\u001b[0m\r\n",
      "Note: you may need to restart the kernel to use updated packages.\n"
     ]
    }
   ],
   "source": [
    "pip install pysbd"
   ]
  },
  {
   "cell_type": "code",
   "execution_count": 5,
   "id": "1a3a2631",
   "metadata": {
    "execution": {
     "iopub.execute_input": "2022-02-18T01:45:46.911034Z",
     "iopub.status.busy": "2022-02-18T01:45:46.906768Z",
     "iopub.status.idle": "2022-02-18T01:45:56.783651Z",
     "shell.execute_reply": "2022-02-18T01:45:56.783031Z",
     "shell.execute_reply.started": "2022-02-18T01:42:26.902938Z"
    },
    "papermill": {
     "duration": 9.924574,
     "end_time": "2022-02-18T01:45:56.783800",
     "exception": false,
     "start_time": "2022-02-18T01:45:46.859226",
     "status": "completed"
    },
    "tags": []
   },
   "outputs": [
    {
     "name": "stdout",
     "output_type": "stream",
     "text": [
      "\u001b[31mERROR: pip's dependency resolver does not currently take into account all the packages that are installed. This behaviour is the source of the following dependency conflicts.\r\n",
      "transformers 4.6.0 requires huggingface-hub==0.0.8, but you have huggingface-hub 0.4.0 which is incompatible.\r\n",
      "cached-path 0.3.2 requires huggingface-hub<0.2.0,>=0.0.12, but you have huggingface-hub 0.4.0 which is incompatible.\u001b[0m\r\n",
      "\u001b[33mWARNING: Running pip as the 'root' user can result in broken permissions and conflicting behaviour with the system package manager. It is recommended to use a virtual environment instead: https://pip.pypa.io/warnings/venv\u001b[0m\r\n"
     ]
    }
   ],
   "source": [
    "!pip -q install datasets"
   ]
  },
  {
   "cell_type": "code",
   "execution_count": 6,
   "id": "71b5d2ac",
   "metadata": {
    "execution": {
     "iopub.execute_input": "2022-02-18T01:45:56.877261Z",
     "iopub.status.busy": "2022-02-18T01:45:56.876219Z",
     "iopub.status.idle": "2022-02-18T01:46:07.858419Z",
     "shell.execute_reply": "2022-02-18T01:46:07.859030Z",
     "shell.execute_reply.started": "2022-02-18T01:42:36.592623Z"
    },
    "id": "GLEY26WHiKtS",
    "papermill": {
     "duration": 11.033131,
     "end_time": "2022-02-18T01:46:07.859251",
     "exception": false,
     "start_time": "2022-02-18T01:45:56.826120",
     "status": "completed"
    },
    "tags": []
   },
   "outputs": [],
   "source": [
    "import pandas as pd\n",
    "import os\n",
    "import numpy as np\n",
    "import tensorflow as tf\n",
    "import pysbd\n",
    "import re\n",
    "from transformers import AutoTokenizer, TFDistilBertForSequenceClassification\n",
    "from transformers import TextClassificationPipeline"
   ]
  },
  {
   "cell_type": "markdown",
   "id": "9aee93f5",
   "metadata": {
    "id": "fOriBIr83JKA",
    "papermill": {
     "duration": 0.043129,
     "end_time": "2022-02-18T01:46:07.948454",
     "exception": false,
     "start_time": "2022-02-18T01:46:07.905325",
     "status": "completed"
    },
    "tags": []
   },
   "source": [
    "define sentence segmenter so that it's easier to use later\n"
   ]
  },
  {
   "cell_type": "code",
   "execution_count": 7,
   "id": "fb84702f",
   "metadata": {
    "execution": {
     "iopub.execute_input": "2022-02-18T01:46:08.039819Z",
     "iopub.status.busy": "2022-02-18T01:46:08.038670Z",
     "iopub.status.idle": "2022-02-18T01:46:08.045162Z",
     "shell.execute_reply": "2022-02-18T01:46:08.044345Z",
     "shell.execute_reply.started": "2022-02-18T01:42:42.309285Z"
    },
    "id": "Seobe6pJs6hr",
    "papermill": {
     "duration": 0.055018,
     "end_time": "2022-02-18T01:46:08.045347",
     "exception": false,
     "start_time": "2022-02-18T01:46:07.990329",
     "status": "completed"
    },
    "tags": []
   },
   "outputs": [],
   "source": [
    "seg = pysbd.Segmenter(language=\"en\", clean=False)"
   ]
  },
  {
   "cell_type": "markdown",
   "id": "d3a5b30f",
   "metadata": {
    "id": "2L8qfiS7syWJ",
    "papermill": {
     "duration": 0.046172,
     "end_time": "2022-02-18T01:46:08.137157",
     "exception": false,
     "start_time": "2022-02-18T01:46:08.090985",
     "status": "completed"
    },
    "tags": []
   },
   "source": [
    "Reload model trained on all datasets. \n",
    "Reload tokenizer saved with it (just standard distilbert tokenizer). These are stored on the huggingface model hub and can be accessed directly with code below"
   ]
  },
  {
   "cell_type": "code",
   "execution_count": 8,
   "id": "b2521d5e",
   "metadata": {
    "execution": {
     "iopub.execute_input": "2022-02-18T01:46:08.226095Z",
     "iopub.status.busy": "2022-02-18T01:46:08.225363Z",
     "iopub.status.idle": "2022-02-18T01:46:20.228942Z",
     "shell.execute_reply": "2022-02-18T01:46:20.228206Z",
     "shell.execute_reply.started": "2022-02-18T01:42:42.315426Z"
    },
    "id": "t6lDKbVJlEQ-",
    "papermill": {
     "duration": 12.049318,
     "end_time": "2022-02-18T01:46:20.229114",
     "exception": false,
     "start_time": "2022-02-18T01:46:08.179796",
     "status": "completed"
    },
    "tags": []
   },
   "outputs": [
    {
     "data": {
      "application/vnd.jupyter.widget-view+json": {
       "model_id": "786fbef02f0b4acb935d88b105a8b1d9",
       "version_major": 2,
       "version_minor": 0
      },
      "text/plain": [
       "Downloading:   0%|          | 0.00/804 [00:00<?, ?B/s]"
      ]
     },
     "metadata": {},
     "output_type": "display_data"
    },
    {
     "data": {
      "application/vnd.jupyter.widget-view+json": {
       "model_id": "2af9437caec446b5b5337d26081245ed",
       "version_major": 2,
       "version_minor": 0
      },
      "text/plain": [
       "Downloading:   0%|          | 0.00/268M [00:00<?, ?B/s]"
      ]
     },
     "metadata": {},
     "output_type": "display_data"
    },
    {
     "name": "stderr",
     "output_type": "stream",
     "text": [
      "\n",
      "User settings:\n",
      "\n",
      "   KMP_AFFINITY=granularity=fine,noverbose,compact,1,0\n",
      "   KMP_BLOCKTIME=0\n",
      "   KMP_DUPLICATE_LIB_OK=True\n",
      "   KMP_INIT_AT_FORK=FALSE\n",
      "   KMP_SETTINGS=1\n",
      "   KMP_WARNINGS=0\n",
      "\n",
      "Effective settings:\n",
      "\n",
      "   KMP_ABORT_DELAY=0\n",
      "   KMP_ADAPTIVE_LOCK_PROPS='1,1024'\n",
      "   KMP_ALIGN_ALLOC=64\n",
      "   KMP_ALL_THREADPRIVATE=128\n",
      "   KMP_ATOMIC_MODE=2\n",
      "   KMP_BLOCKTIME=0\n",
      "   KMP_CPUINFO_FILE: value is not defined\n",
      "   KMP_DETERMINISTIC_REDUCTION=false\n",
      "   KMP_DEVICE_THREAD_LIMIT=2147483647\n",
      "   KMP_DISP_NUM_BUFFERS=7\n",
      "   KMP_DUPLICATE_LIB_OK=true\n",
      "   KMP_ENABLE_TASK_THROTTLING=true\n",
      "   KMP_FORCE_REDUCTION: value is not defined\n",
      "   KMP_FOREIGN_THREADS_THREADPRIVATE=true\n",
      "   KMP_FORKJOIN_BARRIER='2,2'\n",
      "   KMP_FORKJOIN_BARRIER_PATTERN='hyper,hyper'\n",
      "   KMP_GTID_MODE=3\n",
      "   KMP_HANDLE_SIGNALS=false\n",
      "   KMP_HOT_TEAMS_MAX_LEVEL=1\n",
      "   KMP_HOT_TEAMS_MODE=0\n",
      "   KMP_INIT_AT_FORK=true\n",
      "   KMP_LIBRARY=throughput\n",
      "   KMP_LOCK_KIND=queuing\n",
      "   KMP_MALLOC_POOL_INCR=1M\n",
      "   KMP_NUM_LOCKS_IN_BLOCK=1\n",
      "   KMP_PLAIN_BARRIER='2,2'\n",
      "   KMP_PLAIN_BARRIER_PATTERN='hyper,hyper'\n",
      "   KMP_REDUCTION_BARRIER='1,1'\n",
      "   KMP_REDUCTION_BARRIER_PATTERN='hyper,hyper'\n",
      "   KMP_SCHEDULE='static,balanced;guided,iterative'\n",
      "   KMP_SETTINGS=true\n",
      "   KMP_SPIN_BACKOFF_PARAMS='4096,100'\n",
      "   KMP_STACKOFFSET=64\n",
      "   KMP_STACKPAD=0\n",
      "   KMP_STACKSIZE=8M\n",
      "   KMP_STORAGE_MAP=false\n",
      "   KMP_TASKING=2\n",
      "   KMP_TASKLOOP_MIN_TASKS=0\n",
      "   KMP_TASK_STEALING_CONSTRAINT=1\n",
      "   KMP_TEAMS_THREAD_LIMIT=4\n",
      "   KMP_TOPOLOGY_METHOD=all\n",
      "   KMP_USE_YIELD=1\n",
      "   KMP_VERSION=false\n",
      "   KMP_WARNINGS=false\n",
      "   OMP_AFFINITY_FORMAT='OMP: pid %P tid %i thread %n bound to OS proc set {%A}'\n",
      "   OMP_ALLOCATOR=omp_default_mem_alloc\n",
      "   OMP_CANCELLATION=false\n",
      "   OMP_DEFAULT_DEVICE=0\n",
      "   OMP_DISPLAY_AFFINITY=false\n",
      "   OMP_DISPLAY_ENV=false\n",
      "   OMP_DYNAMIC=false\n",
      "   OMP_MAX_ACTIVE_LEVELS=1\n",
      "   OMP_MAX_TASK_PRIORITY=0\n",
      "   OMP_NESTED: deprecated; max-active-levels-var=1\n",
      "   OMP_NUM_THREADS: value is not defined\n",
      "   OMP_PLACES: value is not defined\n",
      "   OMP_PROC_BIND='intel'\n",
      "   OMP_SCHEDULE='static'\n",
      "   OMP_STACKSIZE=8M\n",
      "   OMP_TARGET_OFFLOAD=DEFAULT\n",
      "   OMP_THREAD_LIMIT=2147483647\n",
      "   OMP_WAIT_POLICY=PASSIVE\n",
      "   KMP_AFFINITY='noverbose,warnings,respect,granularity=fine,compact,1,0'\n",
      "\n",
      "2022-02-18 01:46:15.946150: I tensorflow/core/common_runtime/process_util.cc:146] Creating new thread pool with default inter op setting: 2. Tune using inter_op_parallelism_threads for best performance.\n",
      "2022-02-18 01:46:15.988037: W tensorflow/python/util/util.cc:348] Sets are not currently considered sequences, but this may change in the future, so consider avoiding using them.\n",
      "Some layers from the model checkpoint at vangenugtenr/autobiographical_interview_scoring were not used when initializing TFDistilBertForSequenceClassification: ['dropout_39']\n",
      "- This IS expected if you are initializing TFDistilBertForSequenceClassification from the checkpoint of a model trained on another task or with another architecture (e.g. initializing a BertForSequenceClassification model from a BertForPreTraining model).\n",
      "- This IS NOT expected if you are initializing TFDistilBertForSequenceClassification from the checkpoint of a model that you expect to be exactly identical (initializing a BertForSequenceClassification model from a BertForSequenceClassification model).\n",
      "Some layers of TFDistilBertForSequenceClassification were not initialized from the model checkpoint at vangenugtenr/autobiographical_interview_scoring and are newly initialized: ['dropout_19']\n",
      "You should probably TRAIN this model on a down-stream task to be able to use it for predictions and inference.\n"
     ]
    },
    {
     "data": {
      "application/vnd.jupyter.widget-view+json": {
       "model_id": "75ae2e2d35c34962848ecdcab84e44b3",
       "version_major": 2,
       "version_minor": 0
      },
      "text/plain": [
       "Downloading:   0%|          | 0.00/232k [00:00<?, ?B/s]"
      ]
     },
     "metadata": {},
     "output_type": "display_data"
    },
    {
     "data": {
      "application/vnd.jupyter.widget-view+json": {
       "model_id": "9b95c5e9a6b543fcb15f3b87f14291e3",
       "version_major": 2,
       "version_minor": 0
      },
      "text/plain": [
       "Downloading:   0%|          | 0.00/466k [00:00<?, ?B/s]"
      ]
     },
     "metadata": {},
     "output_type": "display_data"
    },
    {
     "data": {
      "application/vnd.jupyter.widget-view+json": {
       "model_id": "6b176a96251145f995c7f6d11948d16b",
       "version_major": 2,
       "version_minor": 0
      },
      "text/plain": [
       "Downloading:   0%|          | 0.00/112 [00:00<?, ?B/s]"
      ]
     },
     "metadata": {},
     "output_type": "display_data"
    },
    {
     "data": {
      "application/vnd.jupyter.widget-view+json": {
       "model_id": "bd283a7f11c4498a9485f96a39be6206",
       "version_major": 2,
       "version_minor": 0
      },
      "text/plain": [
       "Downloading:   0%|          | 0.00/291 [00:00<?, ?B/s]"
      ]
     },
     "metadata": {},
     "output_type": "display_data"
    }
   ],
   "source": [
    "model = TFDistilBertForSequenceClassification.from_pretrained(\"vangenugtenr/autobiographical_interview_scoring\")\n",
    "tokenizer = AutoTokenizer.from_pretrained(\"vangenugtenr/autobiographical_interview_scoring\")"
   ]
  },
  {
   "cell_type": "markdown",
   "id": "d7b56852",
   "metadata": {
    "id": "sGrJhywUs_ca",
    "papermill": {
     "duration": 0.045125,
     "end_time": "2022-02-18T01:46:20.324667",
     "exception": false,
     "start_time": "2022-02-18T01:46:20.279542",
     "status": "completed"
    },
    "tags": []
   },
   "source": [
    "Read in data from the location provided at the top of this notebook"
   ]
  },
  {
   "cell_type": "code",
   "execution_count": 9,
   "id": "0c3f4d51",
   "metadata": {
    "execution": {
     "iopub.execute_input": "2022-02-18T01:46:20.423815Z",
     "iopub.status.busy": "2022-02-18T01:46:20.423070Z",
     "iopub.status.idle": "2022-02-18T01:46:20.432479Z",
     "shell.execute_reply": "2022-02-18T01:46:20.433001Z",
     "shell.execute_reply.started": "2022-02-18T01:42:52.042538Z"
    },
    "id": "jONHybF0biWZ",
    "papermill": {
     "duration": 0.061999,
     "end_time": "2022-02-18T01:46:20.433194",
     "exception": false,
     "start_time": "2022-02-18T01:46:20.371195",
     "status": "completed"
    },
    "tags": []
   },
   "outputs": [],
   "source": [
    "allDat = pd.read_csv(data_location)"
   ]
  },
  {
   "cell_type": "code",
   "execution_count": 10,
   "id": "1faee40d",
   "metadata": {
    "execution": {
     "iopub.execute_input": "2022-02-18T01:46:20.529399Z",
     "iopub.status.busy": "2022-02-18T01:46:20.528757Z",
     "iopub.status.idle": "2022-02-18T01:46:20.540322Z",
     "shell.execute_reply": "2022-02-18T01:46:20.540810Z",
     "shell.execute_reply.started": "2022-02-18T01:42:52.064375Z"
    },
    "papermill": {
     "duration": 0.061955,
     "end_time": "2022-02-18T01:46:20.541000",
     "exception": false,
     "start_time": "2022-02-18T01:46:20.479045",
     "status": "completed"
    },
    "tags": []
   },
   "outputs": [
    {
     "data": {
      "text/plain": [
       "'We tend to go to the beach every year for my birthday. I don’t really remember the location. But I was probably ten years old, because I think we were with my childhood friend john. There are always people laying on the sand, so I assume there are in this memory too. This memory makes me want to go to the beach now.'"
      ]
     },
     "execution_count": 10,
     "metadata": {},
     "output_type": "execute_result"
    }
   ],
   "source": [
    "allDat.iloc[0].text"
   ]
  },
  {
   "cell_type": "code",
   "execution_count": 11,
   "id": "187f2685",
   "metadata": {
    "execution": {
     "iopub.execute_input": "2022-02-18T01:46:20.642044Z",
     "iopub.status.busy": "2022-02-18T01:46:20.641338Z",
     "iopub.status.idle": "2022-02-18T01:46:20.653301Z",
     "shell.execute_reply": "2022-02-18T01:46:20.653850Z",
     "shell.execute_reply.started": "2022-02-18T01:42:52.077940Z"
    },
    "papermill": {
     "duration": 0.064081,
     "end_time": "2022-02-18T01:46:20.654054",
     "exception": false,
     "start_time": "2022-02-18T01:46:20.589973",
     "status": "completed"
    },
    "tags": []
   },
   "outputs": [
    {
     "data": {
      "text/html": [
       "<div>\n",
       "<style scoped>\n",
       "    .dataframe tbody tr th:only-of-type {\n",
       "        vertical-align: middle;\n",
       "    }\n",
       "\n",
       "    .dataframe tbody tr th {\n",
       "        vertical-align: top;\n",
       "    }\n",
       "\n",
       "    .dataframe thead th {\n",
       "        text-align: right;\n",
       "    }\n",
       "</style>\n",
       "<table border=\"1\" class=\"dataframe\">\n",
       "  <thead>\n",
       "    <tr style=\"text-align: right;\">\n",
       "      <th></th>\n",
       "      <th>participantID</th>\n",
       "      <th>prompt</th>\n",
       "      <th>text</th>\n",
       "    </tr>\n",
       "  </thead>\n",
       "  <tbody>\n",
       "    <tr>\n",
       "      <th>0</th>\n",
       "      <td>1</td>\n",
       "      <td>1</td>\n",
       "      <td>We tend to go to the beach every year for my b...</td>\n",
       "    </tr>\n",
       "    <tr>\n",
       "      <th>1</th>\n",
       "      <td>2</td>\n",
       "      <td>1</td>\n",
       "      <td>I remember laying on the sand. I had a cold be...</td>\n",
       "    </tr>\n",
       "  </tbody>\n",
       "</table>\n",
       "</div>"
      ],
      "text/plain": [
       "   participantID  prompt                                               text\n",
       "0              1       1  We tend to go to the beach every year for my b...\n",
       "1              2       1  I remember laying on the sand. I had a cold be..."
      ]
     },
     "execution_count": 11,
     "metadata": {},
     "output_type": "execute_result"
    }
   ],
   "source": [
    "allDat.head()"
   ]
  },
  {
   "cell_type": "code",
   "execution_count": 12,
   "id": "1d91e0aa",
   "metadata": {
    "execution": {
     "iopub.execute_input": "2022-02-18T01:46:20.752961Z",
     "iopub.status.busy": "2022-02-18T01:46:20.750422Z",
     "iopub.status.idle": "2022-02-18T01:46:20.757319Z",
     "shell.execute_reply": "2022-02-18T01:46:20.756625Z",
     "shell.execute_reply.started": "2022-02-18T01:42:52.095193Z"
    },
    "papermill": {
     "duration": 0.056234,
     "end_time": "2022-02-18T01:46:20.757468",
     "exception": false,
     "start_time": "2022-02-18T01:46:20.701234",
     "status": "completed"
    },
    "tags": []
   },
   "outputs": [
    {
     "data": {
      "text/plain": [
       "Index(['participantID', 'prompt', 'text'], dtype='object')"
      ]
     },
     "execution_count": 12,
     "metadata": {},
     "output_type": "execute_result"
    }
   ],
   "source": [
    "allDat.columns"
   ]
  },
  {
   "cell_type": "markdown",
   "id": "163a2841",
   "metadata": {
    "id": "BXEeiaYIHlBd",
    "papermill": {
     "duration": 0.047109,
     "end_time": "2022-02-18T01:46:20.853399",
     "exception": false,
     "start_time": "2022-02-18T01:46:20.806290",
     "status": "completed"
    },
    "tags": []
   },
   "source": [
    "Sometimes CSV files that you read in have rows with NAs at the end. let's remove those empty rows (and any rows with missing data in participantID, prompt, and text)"
   ]
  },
  {
   "cell_type": "code",
   "execution_count": 13,
   "id": "864d1a55",
   "metadata": {
    "execution": {
     "iopub.execute_input": "2022-02-18T01:46:20.969533Z",
     "iopub.status.busy": "2022-02-18T01:46:20.955939Z",
     "iopub.status.idle": "2022-02-18T01:46:20.972245Z",
     "shell.execute_reply": "2022-02-18T01:46:20.971613Z",
     "shell.execute_reply.started": "2022-02-18T01:42:52.104719Z"
    },
    "id": "8WKHko67Ht6s",
    "papermill": {
     "duration": 0.068289,
     "end_time": "2022-02-18T01:46:20.972399",
     "exception": false,
     "start_time": "2022-02-18T01:46:20.904110",
     "status": "completed"
    },
    "tags": []
   },
   "outputs": [],
   "source": [
    "allDat.dropna(subset = [\"participantID\", \"prompt\", 'text'], inplace=True)\n",
    "#allDat.dropna(subset = [\"participantID\", 'text'], inplace=True)"
   ]
  },
  {
   "cell_type": "markdown",
   "id": "8e20a61f",
   "metadata": {
    "id": "SPXmED7a3Jgi",
    "papermill": {
     "duration": 0.048041,
     "end_time": "2022-02-18T01:46:21.070776",
     "exception": false,
     "start_time": "2022-02-18T01:46:21.022735",
     "status": "completed"
    },
    "tags": []
   },
   "source": [
    "Now, take each narrative and split it up into sentences. We do this because sentences are the level at which we classify content. We want to end up with a new dataframe in which each row contains participantID, prompt, text, and one  sentence. So let's say we start with two initial rows of data: two narratives. Let's say that each has ten sentences. After the code below, our resulting dataframe should be 20 rows long.\n",
    "\n",
    "This way, the sentences can easily be classified and are matched to the stories they came from.\n",
    "\n",
    "Approach:\n",
    "\n",
    "Loop through each narrative, create a new dataframe where each row contains the participantID, prompt, text, and one of the resulting sentences. Store this dataframe. At the end, bind all dataframes together. This way, we obtain a dataframe with all narratives in long format, where each row has a sentence that can be classified."
   ]
  },
  {
   "cell_type": "code",
   "execution_count": 14,
   "id": "c82f21aa",
   "metadata": {
    "execution": {
     "iopub.execute_input": "2022-02-18T01:46:21.193274Z",
     "iopub.status.busy": "2022-02-18T01:46:21.183011Z",
     "iopub.status.idle": "2022-02-18T01:46:21.233986Z",
     "shell.execute_reply": "2022-02-18T01:46:21.233401Z",
     "shell.execute_reply.started": "2022-02-18T01:42:52.124902Z"
    },
    "id": "mKWDRVhlxCdA",
    "papermill": {
     "duration": 0.11657,
     "end_time": "2022-02-18T01:46:21.234142",
     "exception": false,
     "start_time": "2022-02-18T01:46:21.117572",
     "status": "completed"
    },
    "tags": []
   },
   "outputs": [],
   "source": [
    "list_of_dataframes = []\n",
    "\n",
    "for row in range(allDat.shape[0]):\n",
    "    \n",
    "    # access some general info about this narrative\n",
    "    this_subID = allDat.iloc[row, allDat.columns.get_loc(\"participantID\")]\n",
    "    this_prompt = allDat.iloc[row, allDat.columns.get_loc(\"prompt\")]\n",
    "    narrative = allDat.iloc[row, allDat.columns.get_loc(\"text\")]\n",
    "\n",
    "    # store current row\n",
    "    currentRow = allDat.iloc[[row], :] # if don't have brackets around row, not returned as Df, which is needed for merge\n",
    "\n",
    "    # create new dataframe with each row a new sentence, and subID and prompt added\n",
    "    segmented_sentences = seg.segment(narrative)\n",
    "    sentences_df = pd.DataFrame(segmented_sentences, columns=['sentence'])\n",
    "    sentences_df[\"participantID\"] = this_subID\n",
    "    sentences_df[\"prompt\"] = this_prompt\n",
    "\n",
    "    # create a new merged dataframe \n",
    "    merged_thisNarrative = pd.merge(currentRow, sentences_df, on=[\"participantID\", \"prompt\"])\n",
    "\n",
    "    list_of_dataframes.append(merged_thisNarrative)\n",
    "  \n",
    "\n",
    "testData = pd.concat(list_of_dataframes)\n"
   ]
  },
  {
   "cell_type": "markdown",
   "id": "757cd1cc",
   "metadata": {
    "id": "lza9Gqu9nPif",
    "papermill": {
     "duration": 0.049502,
     "end_time": "2022-02-18T01:46:21.331046",
     "exception": false,
     "start_time": "2022-02-18T01:46:21.281544",
     "status": "completed"
    },
    "tags": []
   },
   "source": [
    "Now, prepare the data so that it can passed to our model"
   ]
  },
  {
   "cell_type": "code",
   "execution_count": 15,
   "id": "2754e67b",
   "metadata": {
    "execution": {
     "iopub.execute_input": "2022-02-18T01:46:21.451493Z",
     "iopub.status.busy": "2022-02-18T01:46:21.450528Z",
     "iopub.status.idle": "2022-02-18T01:46:21.466837Z",
     "shell.execute_reply": "2022-02-18T01:46:21.465827Z",
     "shell.execute_reply.started": "2022-02-18T01:42:52.187826Z"
    },
    "id": "Yak_reqzosQ4",
    "papermill": {
     "duration": 0.087445,
     "end_time": "2022-02-18T01:46:21.467113",
     "exception": false,
     "start_time": "2022-02-18T01:46:21.379668",
     "status": "completed"
    },
    "tags": []
   },
   "outputs": [],
   "source": [
    "# now, make sure data are character\n",
    "\n",
    "testData.loc[:,'sentence'] = testData.loc[:,'sentence'].astype('str')\n",
    "        \n",
    "# create list of texts to classify (put in list format to encode texts)\n",
    "    \n",
    "test_texts = []\n",
    "\n",
    "for row2 in range(testData.shape[0]):\n",
    "    temp_test = testData.iloc[row2, testData.columns.get_loc(\"sentence\")]\n",
    "    temp_test = str(temp_test) # strip name of dataframe, then turn into string\n",
    "    test_texts.append(temp_test)\n",
    "\n",
    "\n",
    "# encode text into something that bert can work with.\n",
    "\n",
    "test_encodings = tokenizer(test_texts, truncation=True, padding=True)\n",
    "\n",
    "test_dataset = tf.data.Dataset.from_tensor_slices((\n",
    "    dict(test_encodings)\n",
    "))"
   ]
  },
  {
   "cell_type": "markdown",
   "id": "c8c66fd5",
   "metadata": {
    "id": "E1z0ov7Cx-Tq",
    "papermill": {
     "duration": 0.048455,
     "end_time": "2022-02-18T01:46:21.562807",
     "exception": false,
     "start_time": "2022-02-18T01:46:21.514352",
     "status": "completed"
    },
    "tags": []
   },
   "source": [
    "Classify each sentence"
   ]
  },
  {
   "cell_type": "code",
   "execution_count": 16,
   "id": "e242eaa9",
   "metadata": {
    "execution": {
     "iopub.execute_input": "2022-02-18T01:46:21.666832Z",
     "iopub.status.busy": "2022-02-18T01:46:21.665698Z",
     "iopub.status.idle": "2022-02-18T01:46:22.122107Z",
     "shell.execute_reply": "2022-02-18T01:46:22.121537Z",
     "shell.execute_reply.started": "2022-02-18T01:42:52.210876Z"
    },
    "id": "VmV3-VMq6Tze",
    "papermill": {
     "duration": 0.512213,
     "end_time": "2022-02-18T01:46:22.122277",
     "exception": false,
     "start_time": "2022-02-18T01:46:21.610064",
     "status": "completed"
    },
    "tags": []
   },
   "outputs": [],
   "source": [
    "# set up text classification pipeline using our model and tokenizer\n",
    "\n",
    "pipe = TextClassificationPipeline(model=model, tokenizer=tokenizer, return_all_scores=True)\n",
    "\n",
    "# to keep amount of ram low, so that we can use the free version of\n",
    "# google colab, split classification up into batches rather than all\n",
    "# sentences at once.\n",
    "\n",
    "stored_test = []\n",
    "batch_size = 200  \n",
    "\n",
    "for i in range(0, len(test_texts), batch_size):\n",
    "   stored_test.extend(pipe(test_texts[i:i+batch_size]))"
   ]
  },
  {
   "cell_type": "markdown",
   "id": "f72d924c",
   "metadata": {
    "id": "CKl3ubKqtgPH",
    "papermill": {
     "duration": 0.046742,
     "end_time": "2022-02-18T01:46:22.218242",
     "exception": false,
     "start_time": "2022-02-18T01:46:22.171500",
     "status": "completed"
    },
    "tags": []
   },
   "source": [
    "After the step above, predicted labels are stored in a list format. We'd like to work with a dataframe of predictions. So just loop through each list and turn it into a dataframe, then put them all together"
   ]
  },
  {
   "cell_type": "code",
   "execution_count": 17,
   "id": "1e9b163d",
   "metadata": {
    "execution": {
     "iopub.execute_input": "2022-02-18T01:46:22.342463Z",
     "iopub.status.busy": "2022-02-18T01:46:22.341576Z",
     "iopub.status.idle": "2022-02-18T01:46:22.344503Z",
     "shell.execute_reply": "2022-02-18T01:46:22.343878Z",
     "shell.execute_reply.started": "2022-02-18T01:42:52.703269Z"
    },
    "id": "xCVdG5Vy8B3u",
    "papermill": {
     "duration": 0.080213,
     "end_time": "2022-02-18T01:46:22.344654",
     "exception": false,
     "start_time": "2022-02-18T01:46:22.264441",
     "status": "completed"
    },
    "tags": []
   },
   "outputs": [],
   "source": [
    "list_of_predictionDfs = []\n",
    "\n",
    "for row in range(len(stored_test)):\n",
    "    \n",
    "    thisTestLabels = pd.DataFrame(stored_test[row]) \n",
    "    thisTestLabels.index = thisTestLabels['label']\n",
    "    thisTestLabels = thisTestLabels.drop('label', axis = 1)\n",
    "    thisTestLabels = thisTestLabels.transpose()\n",
    "\n",
    "    list_of_predictionDfs.append(thisTestLabels)\n",
    "\n",
    "predictionsDf = pd.concat(list_of_predictionDfs)"
   ]
  },
  {
   "cell_type": "markdown",
   "id": "e3315be3",
   "metadata": {
    "id": "a-yx-HvGt7FP",
    "papermill": {
     "duration": 0.047523,
     "end_time": "2022-02-18T01:46:22.439322",
     "exception": false,
     "start_time": "2022-02-18T01:46:22.391799",
     "status": "completed"
    },
    "tags": []
   },
   "source": [
    "Identify which label was most likely for the text"
   ]
  },
  {
   "cell_type": "code",
   "execution_count": 18,
   "id": "a93fd15e",
   "metadata": {
    "execution": {
     "iopub.execute_input": "2022-02-18T01:46:22.540484Z",
     "iopub.status.busy": "2022-02-18T01:46:22.538986Z",
     "iopub.status.idle": "2022-02-18T01:46:22.544135Z",
     "shell.execute_reply": "2022-02-18T01:46:22.543572Z",
     "shell.execute_reply.started": "2022-02-18T01:42:52.756167Z"
    },
    "id": "mkHMdjCB_3Rs",
    "papermill": {
     "duration": 0.056466,
     "end_time": "2022-02-18T01:46:22.544279",
     "exception": false,
     "start_time": "2022-02-18T01:46:22.487813",
     "status": "completed"
    },
    "tags": []
   },
   "outputs": [],
   "source": [
    "predictionsDf['toplabel'] = predictionsDf.idxmax(axis=1)"
   ]
  },
  {
   "cell_type": "markdown",
   "id": "cba82291",
   "metadata": {
    "id": "CMlFm8dyt_gX",
    "papermill": {
     "duration": 0.046358,
     "end_time": "2022-02-18T01:46:22.638874",
     "exception": false,
     "start_time": "2022-02-18T01:46:22.592516",
     "status": "completed"
    },
    "tags": []
   },
   "source": [
    "Merge predictions dataframe with the long dataframe to obtain one large dataframe"
   ]
  },
  {
   "cell_type": "code",
   "execution_count": 19,
   "id": "d06eb3ab",
   "metadata": {
    "execution": {
     "iopub.execute_input": "2022-02-18T01:46:22.744905Z",
     "iopub.status.busy": "2022-02-18T01:46:22.744236Z",
     "iopub.status.idle": "2022-02-18T01:46:22.748943Z",
     "shell.execute_reply": "2022-02-18T01:46:22.749457Z",
     "shell.execute_reply.started": "2022-02-18T01:42:52.765449Z"
    },
    "id": "lwPS0kfcEtTo",
    "papermill": {
     "duration": 0.061293,
     "end_time": "2022-02-18T01:46:22.749637",
     "exception": false,
     "start_time": "2022-02-18T01:46:22.688344",
     "status": "completed"
    },
    "tags": []
   },
   "outputs": [],
   "source": [
    "testData2 = pd.concat([testData.reset_index(drop=True), predictionsDf.reset_index(drop=True)], axis=1)"
   ]
  },
  {
   "cell_type": "markdown",
   "id": "a1ba38e0",
   "metadata": {
    "id": "R5mslp0BuJRl",
    "papermill": {
     "duration": 0.045637,
     "end_time": "2022-02-18T01:46:22.842221",
     "exception": false,
     "start_time": "2022-02-18T01:46:22.796584",
     "status": "completed"
    },
    "tags": []
   },
   "source": [
    "Add a wordcount for each sentence. use for loop for readability (plus, takes no time)"
   ]
  },
  {
   "cell_type": "code",
   "execution_count": 20,
   "id": "dd31399e",
   "metadata": {
    "execution": {
     "iopub.execute_input": "2022-02-18T01:46:22.953220Z",
     "iopub.status.busy": "2022-02-18T01:46:22.944115Z",
     "iopub.status.idle": "2022-02-18T01:46:22.957959Z",
     "shell.execute_reply": "2022-02-18T01:46:22.957377Z",
     "shell.execute_reply.started": "2022-02-18T01:42:52.778783Z"
    },
    "id": "qYjijwlPJK72",
    "papermill": {
     "duration": 0.067428,
     "end_time": "2022-02-18T01:46:22.958124",
     "exception": false,
     "start_time": "2022-02-18T01:46:22.890696",
     "status": "completed"
    },
    "tags": []
   },
   "outputs": [],
   "source": [
    "testData2[['sentenceWordCount']] = 0\n",
    "\n",
    "for row in range(testData2.shape[0]):\n",
    "  line = testData2.iloc[row, testData2.columns.get_loc(\"sentence\")]\n",
    "  count = len(re.findall(r'\\w+', line))\n",
    "  testData2.iloc[row, testData2.columns.get_loc(\"sentenceWordCount\")] = count"
   ]
  },
  {
   "cell_type": "markdown",
   "id": "97d91556",
   "metadata": {
    "id": "K20VsSncuNOE",
    "papermill": {
     "duration": 0.049953,
     "end_time": "2022-02-18T01:46:23.054656",
     "exception": false,
     "start_time": "2022-02-18T01:46:23.004703",
     "status": "completed"
    },
    "tags": []
   },
   "source": [
    "Create two new columns: number of words classified as internal, and number of words classified as external. Fill in those columns. As a reminder from the paper, each sentence is classified as containing 0% internal data (i.e. 100% external data), 50% internal, 75% internal, and 100% internal data."
   ]
  },
  {
   "cell_type": "code",
   "execution_count": 21,
   "id": "0168ba20",
   "metadata": {
    "execution": {
     "iopub.execute_input": "2022-02-18T01:46:23.176605Z",
     "iopub.status.busy": "2022-02-18T01:46:23.165623Z",
     "iopub.status.idle": "2022-02-18T01:46:23.180679Z",
     "shell.execute_reply": "2022-02-18T01:46:23.179929Z",
     "shell.execute_reply.started": "2022-02-18T01:42:52.797263Z"
    },
    "id": "oeaY2X1ioBaM",
    "papermill": {
     "duration": 0.077566,
     "end_time": "2022-02-18T01:46:23.180879",
     "exception": false,
     "start_time": "2022-02-18T01:46:23.103313",
     "status": "completed"
    },
    "tags": []
   },
   "outputs": [],
   "source": [
    "testData2[['numInt_preds']] = 0\n",
    "testData2[['numExt_preds']] = 0\n",
    "\n",
    "# now loop through each row and add in the counts\n",
    "\n",
    "for row in range(testData2.shape[0]):\n",
    "    \n",
    "    predictionType_thisIter = testData2.iloc[row, testData2.columns.get_loc(\"toplabel\")]\n",
    "    numTotalWords = testData2.iloc[row, testData2.columns.get_loc(\"sentenceWordCount\")]\n",
    "\n",
    "    internalLocation = testData2.columns.get_loc(\"numInt_preds\")\n",
    "    externalLocation = testData2.columns.get_loc(\"numExt_preds\")\n",
    "    \n",
    "    if predictionType_thisIter == 'LABEL_0':\n",
    "        testData2.iloc[row, externalLocation] = numTotalWords\n",
    "\n",
    "    if predictionType_thisIter == 'LABEL_1':\n",
    "        halfDetails = numTotalWords/2\n",
    "        testData2.iloc[row, externalLocation] = halfDetails\n",
    "        testData2.iloc[row, internalLocation] = halfDetails\n",
    "\n",
    "    if predictionType_thisIter == 'LABEL_2':\n",
    "        testData2.iloc[row, externalLocation] = numTotalWords/4\n",
    "        testData2.iloc[row, internalLocation] = numTotalWords*(3/4)\n",
    "            \n",
    "    if predictionType_thisIter == 'LABEL_3':\n",
    "        testData2.iloc[row, internalLocation] = numTotalWords"
   ]
  },
  {
   "cell_type": "markdown",
   "id": "7d12467d",
   "metadata": {
    "id": "VHqs4mPWq-Ek",
    "papermill": {
     "duration": 0.048838,
     "end_time": "2022-02-18T01:46:23.282119",
     "exception": false,
     "start_time": "2022-02-18T01:46:23.233281",
     "status": "completed"
    },
    "tags": []
   },
   "source": [
    "We now have the predicted number of internal and exteranl words for each sentence. We are interested in a narrative-level summary. So, have to sum up all internal words per narrative and all external words per narrative. We do that below"
   ]
  },
  {
   "cell_type": "code",
   "execution_count": 22,
   "id": "1cb841bc",
   "metadata": {
    "execution": {
     "iopub.execute_input": "2022-02-18T01:46:23.400181Z",
     "iopub.status.busy": "2022-02-18T01:46:23.399466Z",
     "iopub.status.idle": "2022-02-18T01:46:23.404305Z",
     "shell.execute_reply": "2022-02-18T01:46:23.403577Z",
     "shell.execute_reply.started": "2022-02-18T01:42:52.820635Z"
    },
    "id": "xE9cei_Rn7jF",
    "papermill": {
     "duration": 0.071829,
     "end_time": "2022-02-18T01:46:23.404464",
     "exception": false,
     "start_time": "2022-02-18T01:46:23.332635",
     "status": "completed"
    },
    "tags": []
   },
   "outputs": [],
   "source": [
    "test_write_out_subset = testData2.loc[:,[\"participantID\",\"prompt\", \"text\",\"numInt_preds\", \"numExt_preds\", 'sentenceWordCount']]\n",
    "grouped = test_write_out_subset.groupby(by = [\"participantID\", \"prompt\"]).agg({'text': 'first', \n",
    "                                            'numInt_preds': 'sum', \n",
    "                                            'numExt_preds': 'sum',\n",
    "                                            'sentenceWordCount': 'sum'})"
   ]
  },
  {
   "cell_type": "markdown",
   "id": "72195ef3",
   "metadata": {
    "id": "D1zwn6kOu3WO",
    "papermill": {
     "duration": 0.047624,
     "end_time": "2022-02-18T01:46:23.503568",
     "exception": false,
     "start_time": "2022-02-18T01:46:23.455944",
     "status": "completed"
    },
    "tags": []
   },
   "source": [
    "Since we have summed across sentences, the sentenceWordCount column actually contains the wordcount of the whole narrative. so, just rename sentenceWordCount to totalWordCount, which is more appropriate"
   ]
  },
  {
   "cell_type": "code",
   "execution_count": 23,
   "id": "48f6e822",
   "metadata": {
    "execution": {
     "iopub.execute_input": "2022-02-18T01:46:23.609737Z",
     "iopub.status.busy": "2022-02-18T01:46:23.608096Z",
     "iopub.status.idle": "2022-02-18T01:46:23.612204Z",
     "shell.execute_reply": "2022-02-18T01:46:23.611227Z",
     "shell.execute_reply.started": "2022-02-18T01:42:52.852665Z"
    },
    "id": "mABWnBq9r5Hk",
    "papermill": {
     "duration": 0.060758,
     "end_time": "2022-02-18T01:46:23.612394",
     "exception": false,
     "start_time": "2022-02-18T01:46:23.551636",
     "status": "completed"
    },
    "tags": []
   },
   "outputs": [],
   "source": [
    "grouped.rename(columns = {\"sentenceWordCount\": \"totalWordCount\"}, \n",
    "          inplace = True)"
   ]
  },
  {
   "cell_type": "markdown",
   "id": "917b8b5f",
   "metadata": {
    "id": "HerHNIdTu82s",
    "papermill": {
     "duration": 0.055881,
     "end_time": "2022-02-18T01:46:23.736592",
     "exception": false,
     "start_time": "2022-02-18T01:46:23.680711",
     "status": "completed"
    },
    "tags": []
   },
   "source": [
    "Finally, write out data to location specified at the top"
   ]
  },
  {
   "cell_type": "code",
   "execution_count": 24,
   "id": "7253965a",
   "metadata": {
    "execution": {
     "iopub.execute_input": "2022-02-18T01:46:23.839266Z",
     "iopub.status.busy": "2022-02-18T01:46:23.837902Z",
     "iopub.status.idle": "2022-02-18T01:46:23.848422Z",
     "shell.execute_reply": "2022-02-18T01:46:23.847854Z",
     "shell.execute_reply.started": "2022-02-18T01:42:52.859450Z"
    },
    "id": "jzAXj5PzLaBf",
    "papermill": {
     "duration": 0.063637,
     "end_time": "2022-02-18T01:46:23.848584",
     "exception": false,
     "start_time": "2022-02-18T01:46:23.784947",
     "status": "completed"
    },
    "tags": []
   },
   "outputs": [],
   "source": [
    "grouped.to_csv(output_location + '/automated_autobio_scored.csv')"
   ]
  },
  {
   "cell_type": "markdown",
   "id": "28db3c9e",
   "metadata": {
    "papermill": {
     "duration": 0.048634,
     "end_time": "2022-02-18T01:46:23.948513",
     "exception": false,
     "start_time": "2022-02-18T01:46:23.899879",
     "status": "completed"
    },
    "tags": []
   },
   "source": [
    "### lets look at the auto scored csv"
   ]
  },
  {
   "cell_type": "code",
   "execution_count": 25,
   "id": "f4d7b870",
   "metadata": {
    "execution": {
     "iopub.execute_input": "2022-02-18T01:46:24.059644Z",
     "iopub.status.busy": "2022-02-18T01:46:24.049786Z",
     "iopub.status.idle": "2022-02-18T01:46:24.066560Z",
     "shell.execute_reply": "2022-02-18T01:46:24.065487Z",
     "shell.execute_reply.started": "2022-02-18T01:44:29.194840Z"
    },
    "papermill": {
     "duration": 0.071245,
     "end_time": "2022-02-18T01:46:24.066821",
     "exception": false,
     "start_time": "2022-02-18T01:46:23.995576",
     "status": "completed"
    },
    "tags": []
   },
   "outputs": [
    {
     "data": {
      "text/html": [
       "<div>\n",
       "<style scoped>\n",
       "    .dataframe tbody tr th:only-of-type {\n",
       "        vertical-align: middle;\n",
       "    }\n",
       "\n",
       "    .dataframe tbody tr th {\n",
       "        vertical-align: top;\n",
       "    }\n",
       "\n",
       "    .dataframe thead th {\n",
       "        text-align: right;\n",
       "    }\n",
       "</style>\n",
       "<table border=\"1\" class=\"dataframe\">\n",
       "  <thead>\n",
       "    <tr style=\"text-align: right;\">\n",
       "      <th></th>\n",
       "      <th>participantID</th>\n",
       "      <th>prompt</th>\n",
       "      <th>text</th>\n",
       "      <th>numInt_preds</th>\n",
       "      <th>numExt_preds</th>\n",
       "      <th>totalWordCount</th>\n",
       "    </tr>\n",
       "  </thead>\n",
       "  <tbody>\n",
       "    <tr>\n",
       "      <th>0</th>\n",
       "      <td>1</td>\n",
       "      <td>1</td>\n",
       "      <td>We tend to go to the beach every year for my b...</td>\n",
       "      <td>8.5</td>\n",
       "      <td>55.5</td>\n",
       "      <td>64</td>\n",
       "    </tr>\n",
       "    <tr>\n",
       "      <th>1</th>\n",
       "      <td>2</td>\n",
       "      <td>1</td>\n",
       "      <td>I remember laying on the sand. I had a cold be...</td>\n",
       "      <td>52.0</td>\n",
       "      <td>15.0</td>\n",
       "      <td>67</td>\n",
       "    </tr>\n",
       "  </tbody>\n",
       "</table>\n",
       "</div>"
      ],
      "text/plain": [
       "   participantID  prompt                                               text  \\\n",
       "0              1       1  We tend to go to the beach every year for my b...   \n",
       "1              2       1  I remember laying on the sand. I had a cold be...   \n",
       "\n",
       "   numInt_preds  numExt_preds  totalWordCount  \n",
       "0           8.5          55.5              64  \n",
       "1          52.0          15.0              67  "
      ]
     },
     "execution_count": 25,
     "metadata": {},
     "output_type": "execute_result"
    }
   ],
   "source": [
    "df = pd.read_csv('./automated_autobio_scored.csv')\n",
    "df.head()"
   ]
  }
 ],
 "metadata": {
  "kernelspec": {
   "display_name": "Python 3",
   "language": "python",
   "name": "python3"
  },
  "language_info": {
   "codemirror_mode": {
    "name": "ipython",
    "version": 3
   },
   "file_extension": ".py",
   "mimetype": "text/x-python",
   "name": "python",
   "nbconvert_exporter": "python",
   "pygments_lexer": "ipython3",
   "version": "3.7.12"
  },
  "papermill": {
   "default_parameters": {},
   "duration": 78.833247,
   "end_time": "2022-02-18T01:46:27.683479",
   "environment_variables": {},
   "exception": null,
   "input_path": "__notebook__.ipynb",
   "output_path": "__notebook__.ipynb",
   "parameters": {},
   "start_time": "2022-02-18T01:45:08.850232",
   "version": "2.3.3"
  },
  "widgets": {
   "application/vnd.jupyter.widget-state+json": {
    "state": {
     "09e1b2d1770149d983db8f6f698654c0": {
      "model_module": "@jupyter-widgets/controls",
      "model_module_version": "1.5.0",
      "model_name": "HTMLModel",
      "state": {
       "_dom_classes": [],
       "_model_module": "@jupyter-widgets/controls",
       "_model_module_version": "1.5.0",
       "_model_name": "HTMLModel",
       "_view_count": null,
       "_view_module": "@jupyter-widgets/controls",
       "_view_module_version": "1.5.0",
       "_view_name": "HTMLView",
       "description": "",
       "description_tooltip": null,
       "layout": "IPY_MODEL_eaf1c2cdefed49e7a0f3dbc5d64028a7",
       "placeholder": "​",
       "style": "IPY_MODEL_3a68bb42c529450f8b438228c52ee4f7",
       "value": "Downloading: 100%"
      }
     },
     "0fb311826dd34cad935a9ab2539f0752": {
      "model_module": "@jupyter-widgets/controls",
      "model_module_version": "1.5.0",
      "model_name": "DescriptionStyleModel",
      "state": {
       "_model_module": "@jupyter-widgets/controls",
       "_model_module_version": "1.5.0",
       "_model_name": "DescriptionStyleModel",
       "_view_count": null,
       "_view_module": "@jupyter-widgets/base",
       "_view_module_version": "1.2.0",
       "_view_name": "StyleView",
       "description_width": ""
      }
     },
     "0ffac5758ccf4259b46645365979030d": {
      "model_module": "@jupyter-widgets/base",
      "model_module_version": "1.2.0",
      "model_name": "LayoutModel",
      "state": {
       "_model_module": "@jupyter-widgets/base",
       "_model_module_version": "1.2.0",
       "_model_name": "LayoutModel",
       "_view_count": null,
       "_view_module": "@jupyter-widgets/base",
       "_view_module_version": "1.2.0",
       "_view_name": "LayoutView",
       "align_content": null,
       "align_items": null,
       "align_self": null,
       "border": null,
       "bottom": null,
       "display": null,
       "flex": null,
       "flex_flow": null,
       "grid_area": null,
       "grid_auto_columns": null,
       "grid_auto_flow": null,
       "grid_auto_rows": null,
       "grid_column": null,
       "grid_gap": null,
       "grid_row": null,
       "grid_template_areas": null,
       "grid_template_columns": null,
       "grid_template_rows": null,
       "height": null,
       "justify_content": null,
       "justify_items": null,
       "left": null,
       "margin": null,
       "max_height": null,
       "max_width": null,
       "min_height": null,
       "min_width": null,
       "object_fit": null,
       "object_position": null,
       "order": null,
       "overflow": null,
       "overflow_x": null,
       "overflow_y": null,
       "padding": null,
       "right": null,
       "top": null,
       "visibility": null,
       "width": null
      }
     },
     "12c47393414048dcba46fd90f5772ff3": {
      "model_module": "@jupyter-widgets/controls",
      "model_module_version": "1.5.0",
      "model_name": "ProgressStyleModel",
      "state": {
       "_model_module": "@jupyter-widgets/controls",
       "_model_module_version": "1.5.0",
       "_model_name": "ProgressStyleModel",
       "_view_count": null,
       "_view_module": "@jupyter-widgets/base",
       "_view_module_version": "1.2.0",
       "_view_name": "StyleView",
       "bar_color": null,
       "description_width": ""
      }
     },
     "1465fd44f53543f2ad745a20c64cf199": {
      "model_module": "@jupyter-widgets/controls",
      "model_module_version": "1.5.0",
      "model_name": "FloatProgressModel",
      "state": {
       "_dom_classes": [],
       "_model_module": "@jupyter-widgets/controls",
       "_model_module_version": "1.5.0",
       "_model_name": "FloatProgressModel",
       "_view_count": null,
       "_view_module": "@jupyter-widgets/controls",
       "_view_module_version": "1.5.0",
       "_view_name": "ProgressView",
       "bar_style": "success",
       "description": "",
       "description_tooltip": null,
       "layout": "IPY_MODEL_a623e0c9dd7041878878cd999130fa8d",
       "max": 291.0,
       "min": 0.0,
       "orientation": "horizontal",
       "style": "IPY_MODEL_f9b1e2c8ad2a4f79a26a00c434731596",
       "value": 291.0
      }
     },
     "17123fce41b94a46a43752e3d3d86ebe": {
      "model_module": "@jupyter-widgets/controls",
      "model_module_version": "1.5.0",
      "model_name": "ProgressStyleModel",
      "state": {
       "_model_module": "@jupyter-widgets/controls",
       "_model_module_version": "1.5.0",
       "_model_name": "ProgressStyleModel",
       "_view_count": null,
       "_view_module": "@jupyter-widgets/base",
       "_view_module_version": "1.2.0",
       "_view_name": "StyleView",
       "bar_color": null,
       "description_width": ""
      }
     },
     "1798f433040548b49662291014d6f181": {
      "model_module": "@jupyter-widgets/controls",
      "model_module_version": "1.5.0",
      "model_name": "DescriptionStyleModel",
      "state": {
       "_model_module": "@jupyter-widgets/controls",
       "_model_module_version": "1.5.0",
       "_model_name": "DescriptionStyleModel",
       "_view_count": null,
       "_view_module": "@jupyter-widgets/base",
       "_view_module_version": "1.2.0",
       "_view_name": "StyleView",
       "description_width": ""
      }
     },
     "1a28ff60bcfa4e059cbc898858e8ae38": {
      "model_module": "@jupyter-widgets/controls",
      "model_module_version": "1.5.0",
      "model_name": "HTMLModel",
      "state": {
       "_dom_classes": [],
       "_model_module": "@jupyter-widgets/controls",
       "_model_module_version": "1.5.0",
       "_model_name": "HTMLModel",
       "_view_count": null,
       "_view_module": "@jupyter-widgets/controls",
       "_view_module_version": "1.5.0",
       "_view_name": "HTMLView",
       "description": "",
       "description_tooltip": null,
       "layout": "IPY_MODEL_21f28078c11d45fdb93beacd476e371a",
       "placeholder": "​",
       "style": "IPY_MODEL_648fc07e579243ec90ce82a1eb892b8b",
       "value": " 112/112 [00:00&lt;00:00, 3.74kB/s]"
      }
     },
     "1d8c6cb448d048e594f8beee9fc56a4c": {
      "model_module": "@jupyter-widgets/controls",
      "model_module_version": "1.5.0",
      "model_name": "FloatProgressModel",
      "state": {
       "_dom_classes": [],
       "_model_module": "@jupyter-widgets/controls",
       "_model_module_version": "1.5.0",
       "_model_name": "FloatProgressModel",
       "_view_count": null,
       "_view_module": "@jupyter-widgets/controls",
       "_view_module_version": "1.5.0",
       "_view_name": "ProgressView",
       "bar_style": "success",
       "description": "",
       "description_tooltip": null,
       "layout": "IPY_MODEL_32d98238a57d4bd9b7747571ad3777fa",
       "max": 466081.0,
       "min": 0.0,
       "orientation": "horizontal",
       "style": "IPY_MODEL_ae268ac7d7c64778b3303286804a4395",
       "value": 466081.0
      }
     },
     "21f28078c11d45fdb93beacd476e371a": {
      "model_module": "@jupyter-widgets/base",
      "model_module_version": "1.2.0",
      "model_name": "LayoutModel",
      "state": {
       "_model_module": "@jupyter-widgets/base",
       "_model_module_version": "1.2.0",
       "_model_name": "LayoutModel",
       "_view_count": null,
       "_view_module": "@jupyter-widgets/base",
       "_view_module_version": "1.2.0",
       "_view_name": "LayoutView",
       "align_content": null,
       "align_items": null,
       "align_self": null,
       "border": null,
       "bottom": null,
       "display": null,
       "flex": null,
       "flex_flow": null,
       "grid_area": null,
       "grid_auto_columns": null,
       "grid_auto_flow": null,
       "grid_auto_rows": null,
       "grid_column": null,
       "grid_gap": null,
       "grid_row": null,
       "grid_template_areas": null,
       "grid_template_columns": null,
       "grid_template_rows": null,
       "height": null,
       "justify_content": null,
       "justify_items": null,
       "left": null,
       "margin": null,
       "max_height": null,
       "max_width": null,
       "min_height": null,
       "min_width": null,
       "object_fit": null,
       "object_position": null,
       "order": null,
       "overflow": null,
       "overflow_x": null,
       "overflow_y": null,
       "padding": null,
       "right": null,
       "top": null,
       "visibility": null,
       "width": null
      }
     },
     "2349f8c94010401aa2b15180de87c844": {
      "model_module": "@jupyter-widgets/controls",
      "model_module_version": "1.5.0",
      "model_name": "DescriptionStyleModel",
      "state": {
       "_model_module": "@jupyter-widgets/controls",
       "_model_module_version": "1.5.0",
       "_model_name": "DescriptionStyleModel",
       "_view_count": null,
       "_view_module": "@jupyter-widgets/base",
       "_view_module_version": "1.2.0",
       "_view_name": "StyleView",
       "description_width": ""
      }
     },
     "27615de220104dca9857226d24c05037": {
      "model_module": "@jupyter-widgets/base",
      "model_module_version": "1.2.0",
      "model_name": "LayoutModel",
      "state": {
       "_model_module": "@jupyter-widgets/base",
       "_model_module_version": "1.2.0",
       "_model_name": "LayoutModel",
       "_view_count": null,
       "_view_module": "@jupyter-widgets/base",
       "_view_module_version": "1.2.0",
       "_view_name": "LayoutView",
       "align_content": null,
       "align_items": null,
       "align_self": null,
       "border": null,
       "bottom": null,
       "display": null,
       "flex": null,
       "flex_flow": null,
       "grid_area": null,
       "grid_auto_columns": null,
       "grid_auto_flow": null,
       "grid_auto_rows": null,
       "grid_column": null,
       "grid_gap": null,
       "grid_row": null,
       "grid_template_areas": null,
       "grid_template_columns": null,
       "grid_template_rows": null,
       "height": null,
       "justify_content": null,
       "justify_items": null,
       "left": null,
       "margin": null,
       "max_height": null,
       "max_width": null,
       "min_height": null,
       "min_width": null,
       "object_fit": null,
       "object_position": null,
       "order": null,
       "overflow": null,
       "overflow_x": null,
       "overflow_y": null,
       "padding": null,
       "right": null,
       "top": null,
       "visibility": null,
       "width": null
      }
     },
     "27ca579935b44493b22680c0e6df1520": {
      "model_module": "@jupyter-widgets/controls",
      "model_module_version": "1.5.0",
      "model_name": "HTMLModel",
      "state": {
       "_dom_classes": [],
       "_model_module": "@jupyter-widgets/controls",
       "_model_module_version": "1.5.0",
       "_model_name": "HTMLModel",
       "_view_count": null,
       "_view_module": "@jupyter-widgets/controls",
       "_view_module_version": "1.5.0",
       "_view_name": "HTMLView",
       "description": "",
       "description_tooltip": null,
       "layout": "IPY_MODEL_6341d068db9646a3bb477dfb2dc4ec2f",
       "placeholder": "​",
       "style": "IPY_MODEL_d52b7abe69c845149cab7398d523f23b",
       "value": " 466k/466k [00:00&lt;00:00, 1.29MB/s]"
      }
     },
     "2af9437caec446b5b5337d26081245ed": {
      "model_module": "@jupyter-widgets/controls",
      "model_module_version": "1.5.0",
      "model_name": "HBoxModel",
      "state": {
       "_dom_classes": [],
       "_model_module": "@jupyter-widgets/controls",
       "_model_module_version": "1.5.0",
       "_model_name": "HBoxModel",
       "_view_count": null,
       "_view_module": "@jupyter-widgets/controls",
       "_view_module_version": "1.5.0",
       "_view_name": "HBoxView",
       "box_style": "",
       "children": [
        "IPY_MODEL_d25647e4b52f4b78be8a0b46ae67ccd2",
        "IPY_MODEL_da6c9136f021459581ceb4dd6ac2d3d4",
        "IPY_MODEL_5fdb0bec9670495684878b7e38f571be"
       ],
       "layout": "IPY_MODEL_48a6c751793440a58746ca98c5d4066d"
      }
     },
     "2cb0349ed6aa44b7b1c6398959c57f26": {
      "model_module": "@jupyter-widgets/base",
      "model_module_version": "1.2.0",
      "model_name": "LayoutModel",
      "state": {
       "_model_module": "@jupyter-widgets/base",
       "_model_module_version": "1.2.0",
       "_model_name": "LayoutModel",
       "_view_count": null,
       "_view_module": "@jupyter-widgets/base",
       "_view_module_version": "1.2.0",
       "_view_name": "LayoutView",
       "align_content": null,
       "align_items": null,
       "align_self": null,
       "border": null,
       "bottom": null,
       "display": null,
       "flex": null,
       "flex_flow": null,
       "grid_area": null,
       "grid_auto_columns": null,
       "grid_auto_flow": null,
       "grid_auto_rows": null,
       "grid_column": null,
       "grid_gap": null,
       "grid_row": null,
       "grid_template_areas": null,
       "grid_template_columns": null,
       "grid_template_rows": null,
       "height": null,
       "justify_content": null,
       "justify_items": null,
       "left": null,
       "margin": null,
       "max_height": null,
       "max_width": null,
       "min_height": null,
       "min_width": null,
       "object_fit": null,
       "object_position": null,
       "order": null,
       "overflow": null,
       "overflow_x": null,
       "overflow_y": null,
       "padding": null,
       "right": null,
       "top": null,
       "visibility": null,
       "width": null
      }
     },
     "3208e7209e90429081125f6047a0119f": {
      "model_module": "@jupyter-widgets/base",
      "model_module_version": "1.2.0",
      "model_name": "LayoutModel",
      "state": {
       "_model_module": "@jupyter-widgets/base",
       "_model_module_version": "1.2.0",
       "_model_name": "LayoutModel",
       "_view_count": null,
       "_view_module": "@jupyter-widgets/base",
       "_view_module_version": "1.2.0",
       "_view_name": "LayoutView",
       "align_content": null,
       "align_items": null,
       "align_self": null,
       "border": null,
       "bottom": null,
       "display": null,
       "flex": null,
       "flex_flow": null,
       "grid_area": null,
       "grid_auto_columns": null,
       "grid_auto_flow": null,
       "grid_auto_rows": null,
       "grid_column": null,
       "grid_gap": null,
       "grid_row": null,
       "grid_template_areas": null,
       "grid_template_columns": null,
       "grid_template_rows": null,
       "height": null,
       "justify_content": null,
       "justify_items": null,
       "left": null,
       "margin": null,
       "max_height": null,
       "max_width": null,
       "min_height": null,
       "min_width": null,
       "object_fit": null,
       "object_position": null,
       "order": null,
       "overflow": null,
       "overflow_x": null,
       "overflow_y": null,
       "padding": null,
       "right": null,
       "top": null,
       "visibility": null,
       "width": null
      }
     },
     "32d98238a57d4bd9b7747571ad3777fa": {
      "model_module": "@jupyter-widgets/base",
      "model_module_version": "1.2.0",
      "model_name": "LayoutModel",
      "state": {
       "_model_module": "@jupyter-widgets/base",
       "_model_module_version": "1.2.0",
       "_model_name": "LayoutModel",
       "_view_count": null,
       "_view_module": "@jupyter-widgets/base",
       "_view_module_version": "1.2.0",
       "_view_name": "LayoutView",
       "align_content": null,
       "align_items": null,
       "align_self": null,
       "border": null,
       "bottom": null,
       "display": null,
       "flex": null,
       "flex_flow": null,
       "grid_area": null,
       "grid_auto_columns": null,
       "grid_auto_flow": null,
       "grid_auto_rows": null,
       "grid_column": null,
       "grid_gap": null,
       "grid_row": null,
       "grid_template_areas": null,
       "grid_template_columns": null,
       "grid_template_rows": null,
       "height": null,
       "justify_content": null,
       "justify_items": null,
       "left": null,
       "margin": null,
       "max_height": null,
       "max_width": null,
       "min_height": null,
       "min_width": null,
       "object_fit": null,
       "object_position": null,
       "order": null,
       "overflow": null,
       "overflow_x": null,
       "overflow_y": null,
       "padding": null,
       "right": null,
       "top": null,
       "visibility": null,
       "width": null
      }
     },
     "3a68bb42c529450f8b438228c52ee4f7": {
      "model_module": "@jupyter-widgets/controls",
      "model_module_version": "1.5.0",
      "model_name": "DescriptionStyleModel",
      "state": {
       "_model_module": "@jupyter-widgets/controls",
       "_model_module_version": "1.5.0",
       "_model_name": "DescriptionStyleModel",
       "_view_count": null,
       "_view_module": "@jupyter-widgets/base",
       "_view_module_version": "1.2.0",
       "_view_name": "StyleView",
       "description_width": ""
      }
     },
     "401298a7cbf54709b39659558a923c04": {
      "model_module": "@jupyter-widgets/base",
      "model_module_version": "1.2.0",
      "model_name": "LayoutModel",
      "state": {
       "_model_module": "@jupyter-widgets/base",
       "_model_module_version": "1.2.0",
       "_model_name": "LayoutModel",
       "_view_count": null,
       "_view_module": "@jupyter-widgets/base",
       "_view_module_version": "1.2.0",
       "_view_name": "LayoutView",
       "align_content": null,
       "align_items": null,
       "align_self": null,
       "border": null,
       "bottom": null,
       "display": null,
       "flex": null,
       "flex_flow": null,
       "grid_area": null,
       "grid_auto_columns": null,
       "grid_auto_flow": null,
       "grid_auto_rows": null,
       "grid_column": null,
       "grid_gap": null,
       "grid_row": null,
       "grid_template_areas": null,
       "grid_template_columns": null,
       "grid_template_rows": null,
       "height": null,
       "justify_content": null,
       "justify_items": null,
       "left": null,
       "margin": null,
       "max_height": null,
       "max_width": null,
       "min_height": null,
       "min_width": null,
       "object_fit": null,
       "object_position": null,
       "order": null,
       "overflow": null,
       "overflow_x": null,
       "overflow_y": null,
       "padding": null,
       "right": null,
       "top": null,
       "visibility": null,
       "width": null
      }
     },
     "48a6c751793440a58746ca98c5d4066d": {
      "model_module": "@jupyter-widgets/base",
      "model_module_version": "1.2.0",
      "model_name": "LayoutModel",
      "state": {
       "_model_module": "@jupyter-widgets/base",
       "_model_module_version": "1.2.0",
       "_model_name": "LayoutModel",
       "_view_count": null,
       "_view_module": "@jupyter-widgets/base",
       "_view_module_version": "1.2.0",
       "_view_name": "LayoutView",
       "align_content": null,
       "align_items": null,
       "align_self": null,
       "border": null,
       "bottom": null,
       "display": null,
       "flex": null,
       "flex_flow": null,
       "grid_area": null,
       "grid_auto_columns": null,
       "grid_auto_flow": null,
       "grid_auto_rows": null,
       "grid_column": null,
       "grid_gap": null,
       "grid_row": null,
       "grid_template_areas": null,
       "grid_template_columns": null,
       "grid_template_rows": null,
       "height": null,
       "justify_content": null,
       "justify_items": null,
       "left": null,
       "margin": null,
       "max_height": null,
       "max_width": null,
       "min_height": null,
       "min_width": null,
       "object_fit": null,
       "object_position": null,
       "order": null,
       "overflow": null,
       "overflow_x": null,
       "overflow_y": null,
       "padding": null,
       "right": null,
       "top": null,
       "visibility": null,
       "width": null
      }
     },
     "515b62b569da4d0286661ee30371cb43": {
      "model_module": "@jupyter-widgets/controls",
      "model_module_version": "1.5.0",
      "model_name": "HTMLModel",
      "state": {
       "_dom_classes": [],
       "_model_module": "@jupyter-widgets/controls",
       "_model_module_version": "1.5.0",
       "_model_name": "HTMLModel",
       "_view_count": null,
       "_view_module": "@jupyter-widgets/controls",
       "_view_module_version": "1.5.0",
       "_view_name": "HTMLView",
       "description": "",
       "description_tooltip": null,
       "layout": "IPY_MODEL_d22f811ba52c4f6596ba61a55cd8aab1",
       "placeholder": "​",
       "style": "IPY_MODEL_cfaa14caf60e426984a484f85a332380",
       "value": " 232k/232k [00:00&lt;00:00, 1.66MB/s]"
      }
     },
     "5578c1433ecd4d7893331bda2782f268": {
      "model_module": "@jupyter-widgets/base",
      "model_module_version": "1.2.0",
      "model_name": "LayoutModel",
      "state": {
       "_model_module": "@jupyter-widgets/base",
       "_model_module_version": "1.2.0",
       "_model_name": "LayoutModel",
       "_view_count": null,
       "_view_module": "@jupyter-widgets/base",
       "_view_module_version": "1.2.0",
       "_view_name": "LayoutView",
       "align_content": null,
       "align_items": null,
       "align_self": null,
       "border": null,
       "bottom": null,
       "display": null,
       "flex": null,
       "flex_flow": null,
       "grid_area": null,
       "grid_auto_columns": null,
       "grid_auto_flow": null,
       "grid_auto_rows": null,
       "grid_column": null,
       "grid_gap": null,
       "grid_row": null,
       "grid_template_areas": null,
       "grid_template_columns": null,
       "grid_template_rows": null,
       "height": null,
       "justify_content": null,
       "justify_items": null,
       "left": null,
       "margin": null,
       "max_height": null,
       "max_width": null,
       "min_height": null,
       "min_width": null,
       "object_fit": null,
       "object_position": null,
       "order": null,
       "overflow": null,
       "overflow_x": null,
       "overflow_y": null,
       "padding": null,
       "right": null,
       "top": null,
       "visibility": null,
       "width": null
      }
     },
     "5fdb0bec9670495684878b7e38f571be": {
      "model_module": "@jupyter-widgets/controls",
      "model_module_version": "1.5.0",
      "model_name": "HTMLModel",
      "state": {
       "_dom_classes": [],
       "_model_module": "@jupyter-widgets/controls",
       "_model_module_version": "1.5.0",
       "_model_name": "HTMLModel",
       "_view_count": null,
       "_view_module": "@jupyter-widgets/controls",
       "_view_module_version": "1.5.0",
       "_view_name": "HTMLView",
       "description": "",
       "description_tooltip": null,
       "layout": "IPY_MODEL_2cb0349ed6aa44b7b1c6398959c57f26",
       "placeholder": "​",
       "style": "IPY_MODEL_efe68bb766bf43bf8e39a7ce1cd94844",
       "value": " 268M/268M [00:06&lt;00:00, 40.1MB/s]"
      }
     },
     "60615a81f5404422a59e9beb044021a5": {
      "model_module": "@jupyter-widgets/base",
      "model_module_version": "1.2.0",
      "model_name": "LayoutModel",
      "state": {
       "_model_module": "@jupyter-widgets/base",
       "_model_module_version": "1.2.0",
       "_model_name": "LayoutModel",
       "_view_count": null,
       "_view_module": "@jupyter-widgets/base",
       "_view_module_version": "1.2.0",
       "_view_name": "LayoutView",
       "align_content": null,
       "align_items": null,
       "align_self": null,
       "border": null,
       "bottom": null,
       "display": null,
       "flex": null,
       "flex_flow": null,
       "grid_area": null,
       "grid_auto_columns": null,
       "grid_auto_flow": null,
       "grid_auto_rows": null,
       "grid_column": null,
       "grid_gap": null,
       "grid_row": null,
       "grid_template_areas": null,
       "grid_template_columns": null,
       "grid_template_rows": null,
       "height": null,
       "justify_content": null,
       "justify_items": null,
       "left": null,
       "margin": null,
       "max_height": null,
       "max_width": null,
       "min_height": null,
       "min_width": null,
       "object_fit": null,
       "object_position": null,
       "order": null,
       "overflow": null,
       "overflow_x": null,
       "overflow_y": null,
       "padding": null,
       "right": null,
       "top": null,
       "visibility": null,
       "width": null
      }
     },
     "6341d068db9646a3bb477dfb2dc4ec2f": {
      "model_module": "@jupyter-widgets/base",
      "model_module_version": "1.2.0",
      "model_name": "LayoutModel",
      "state": {
       "_model_module": "@jupyter-widgets/base",
       "_model_module_version": "1.2.0",
       "_model_name": "LayoutModel",
       "_view_count": null,
       "_view_module": "@jupyter-widgets/base",
       "_view_module_version": "1.2.0",
       "_view_name": "LayoutView",
       "align_content": null,
       "align_items": null,
       "align_self": null,
       "border": null,
       "bottom": null,
       "display": null,
       "flex": null,
       "flex_flow": null,
       "grid_area": null,
       "grid_auto_columns": null,
       "grid_auto_flow": null,
       "grid_auto_rows": null,
       "grid_column": null,
       "grid_gap": null,
       "grid_row": null,
       "grid_template_areas": null,
       "grid_template_columns": null,
       "grid_template_rows": null,
       "height": null,
       "justify_content": null,
       "justify_items": null,
       "left": null,
       "margin": null,
       "max_height": null,
       "max_width": null,
       "min_height": null,
       "min_width": null,
       "object_fit": null,
       "object_position": null,
       "order": null,
       "overflow": null,
       "overflow_x": null,
       "overflow_y": null,
       "padding": null,
       "right": null,
       "top": null,
       "visibility": null,
       "width": null
      }
     },
     "648fc07e579243ec90ce82a1eb892b8b": {
      "model_module": "@jupyter-widgets/controls",
      "model_module_version": "1.5.0",
      "model_name": "DescriptionStyleModel",
      "state": {
       "_model_module": "@jupyter-widgets/controls",
       "_model_module_version": "1.5.0",
       "_model_name": "DescriptionStyleModel",
       "_view_count": null,
       "_view_module": "@jupyter-widgets/base",
       "_view_module_version": "1.2.0",
       "_view_name": "StyleView",
       "description_width": ""
      }
     },
     "6b176a96251145f995c7f6d11948d16b": {
      "model_module": "@jupyter-widgets/controls",
      "model_module_version": "1.5.0",
      "model_name": "HBoxModel",
      "state": {
       "_dom_classes": [],
       "_model_module": "@jupyter-widgets/controls",
       "_model_module_version": "1.5.0",
       "_model_name": "HBoxModel",
       "_view_count": null,
       "_view_module": "@jupyter-widgets/controls",
       "_view_module_version": "1.5.0",
       "_view_name": "HBoxView",
       "box_style": "",
       "children": [
        "IPY_MODEL_6c6ff2f9bc284fd6979d37ef551a7022",
        "IPY_MODEL_6cc4361ab65f49e193208118d4f7ff68",
        "IPY_MODEL_1a28ff60bcfa4e059cbc898858e8ae38"
       ],
       "layout": "IPY_MODEL_824790b52b9d4d898f3070458d6705c1"
      }
     },
     "6c6ff2f9bc284fd6979d37ef551a7022": {
      "model_module": "@jupyter-widgets/controls",
      "model_module_version": "1.5.0",
      "model_name": "HTMLModel",
      "state": {
       "_dom_classes": [],
       "_model_module": "@jupyter-widgets/controls",
       "_model_module_version": "1.5.0",
       "_model_name": "HTMLModel",
       "_view_count": null,
       "_view_module": "@jupyter-widgets/controls",
       "_view_module_version": "1.5.0",
       "_view_name": "HTMLView",
       "description": "",
       "description_tooltip": null,
       "layout": "IPY_MODEL_a77f0e297dca42ecb6f295de3ab827f9",
       "placeholder": "​",
       "style": "IPY_MODEL_8b547804da0c43e393aada144599be3c",
       "value": "Downloading: 100%"
      }
     },
     "6cc4361ab65f49e193208118d4f7ff68": {
      "model_module": "@jupyter-widgets/controls",
      "model_module_version": "1.5.0",
      "model_name": "FloatProgressModel",
      "state": {
       "_dom_classes": [],
       "_model_module": "@jupyter-widgets/controls",
       "_model_module_version": "1.5.0",
       "_model_name": "FloatProgressModel",
       "_view_count": null,
       "_view_module": "@jupyter-widgets/controls",
       "_view_module_version": "1.5.0",
       "_view_name": "ProgressView",
       "bar_style": "success",
       "description": "",
       "description_tooltip": null,
       "layout": "IPY_MODEL_83fb45b3b6d44ad6944983ee0a42f519",
       "max": 112.0,
       "min": 0.0,
       "orientation": "horizontal",
       "style": "IPY_MODEL_12c47393414048dcba46fd90f5772ff3",
       "value": 112.0
      }
     },
     "75ae2e2d35c34962848ecdcab84e44b3": {
      "model_module": "@jupyter-widgets/controls",
      "model_module_version": "1.5.0",
      "model_name": "HBoxModel",
      "state": {
       "_dom_classes": [],
       "_model_module": "@jupyter-widgets/controls",
       "_model_module_version": "1.5.0",
       "_model_name": "HBoxModel",
       "_view_count": null,
       "_view_module": "@jupyter-widgets/controls",
       "_view_module_version": "1.5.0",
       "_view_name": "HBoxView",
       "box_style": "",
       "children": [
        "IPY_MODEL_a3b77c3a652c48df909837a272521d12",
        "IPY_MODEL_f203590d1f9a4630add36c1ca83393e3",
        "IPY_MODEL_515b62b569da4d0286661ee30371cb43"
       ],
       "layout": "IPY_MODEL_ceb160a686424fada0115cf8aa4f31d9"
      }
     },
     "786fbef02f0b4acb935d88b105a8b1d9": {
      "model_module": "@jupyter-widgets/controls",
      "model_module_version": "1.5.0",
      "model_name": "HBoxModel",
      "state": {
       "_dom_classes": [],
       "_model_module": "@jupyter-widgets/controls",
       "_model_module_version": "1.5.0",
       "_model_name": "HBoxModel",
       "_view_count": null,
       "_view_module": "@jupyter-widgets/controls",
       "_view_module_version": "1.5.0",
       "_view_name": "HBoxView",
       "box_style": "",
       "children": [
        "IPY_MODEL_92fef237bb0f4de8ade31005e284fb21",
        "IPY_MODEL_ce193abb38764c8bbd17bba61b8e008c",
        "IPY_MODEL_c5b455761ebf4f6fa00ab069b32d6b1d"
       ],
       "layout": "IPY_MODEL_78dd6ffe3217449488c7da79bc92db96"
      }
     },
     "78dd6ffe3217449488c7da79bc92db96": {
      "model_module": "@jupyter-widgets/base",
      "model_module_version": "1.2.0",
      "model_name": "LayoutModel",
      "state": {
       "_model_module": "@jupyter-widgets/base",
       "_model_module_version": "1.2.0",
       "_model_name": "LayoutModel",
       "_view_count": null,
       "_view_module": "@jupyter-widgets/base",
       "_view_module_version": "1.2.0",
       "_view_name": "LayoutView",
       "align_content": null,
       "align_items": null,
       "align_self": null,
       "border": null,
       "bottom": null,
       "display": null,
       "flex": null,
       "flex_flow": null,
       "grid_area": null,
       "grid_auto_columns": null,
       "grid_auto_flow": null,
       "grid_auto_rows": null,
       "grid_column": null,
       "grid_gap": null,
       "grid_row": null,
       "grid_template_areas": null,
       "grid_template_columns": null,
       "grid_template_rows": null,
       "height": null,
       "justify_content": null,
       "justify_items": null,
       "left": null,
       "margin": null,
       "max_height": null,
       "max_width": null,
       "min_height": null,
       "min_width": null,
       "object_fit": null,
       "object_position": null,
       "order": null,
       "overflow": null,
       "overflow_x": null,
       "overflow_y": null,
       "padding": null,
       "right": null,
       "top": null,
       "visibility": null,
       "width": null
      }
     },
     "7fe877cef1ff43eb8292ab5e829aa88c": {
      "model_module": "@jupyter-widgets/base",
      "model_module_version": "1.2.0",
      "model_name": "LayoutModel",
      "state": {
       "_model_module": "@jupyter-widgets/base",
       "_model_module_version": "1.2.0",
       "_model_name": "LayoutModel",
       "_view_count": null,
       "_view_module": "@jupyter-widgets/base",
       "_view_module_version": "1.2.0",
       "_view_name": "LayoutView",
       "align_content": null,
       "align_items": null,
       "align_self": null,
       "border": null,
       "bottom": null,
       "display": null,
       "flex": null,
       "flex_flow": null,
       "grid_area": null,
       "grid_auto_columns": null,
       "grid_auto_flow": null,
       "grid_auto_rows": null,
       "grid_column": null,
       "grid_gap": null,
       "grid_row": null,
       "grid_template_areas": null,
       "grid_template_columns": null,
       "grid_template_rows": null,
       "height": null,
       "justify_content": null,
       "justify_items": null,
       "left": null,
       "margin": null,
       "max_height": null,
       "max_width": null,
       "min_height": null,
       "min_width": null,
       "object_fit": null,
       "object_position": null,
       "order": null,
       "overflow": null,
       "overflow_x": null,
       "overflow_y": null,
       "padding": null,
       "right": null,
       "top": null,
       "visibility": null,
       "width": null
      }
     },
     "8009f708fb58484494f08da3af5e51c4": {
      "model_module": "@jupyter-widgets/controls",
      "model_module_version": "1.5.0",
      "model_name": "ProgressStyleModel",
      "state": {
       "_model_module": "@jupyter-widgets/controls",
       "_model_module_version": "1.5.0",
       "_model_name": "ProgressStyleModel",
       "_view_count": null,
       "_view_module": "@jupyter-widgets/base",
       "_view_module_version": "1.2.0",
       "_view_name": "StyleView",
       "bar_color": null,
       "description_width": ""
      }
     },
     "824790b52b9d4d898f3070458d6705c1": {
      "model_module": "@jupyter-widgets/base",
      "model_module_version": "1.2.0",
      "model_name": "LayoutModel",
      "state": {
       "_model_module": "@jupyter-widgets/base",
       "_model_module_version": "1.2.0",
       "_model_name": "LayoutModel",
       "_view_count": null,
       "_view_module": "@jupyter-widgets/base",
       "_view_module_version": "1.2.0",
       "_view_name": "LayoutView",
       "align_content": null,
       "align_items": null,
       "align_self": null,
       "border": null,
       "bottom": null,
       "display": null,
       "flex": null,
       "flex_flow": null,
       "grid_area": null,
       "grid_auto_columns": null,
       "grid_auto_flow": null,
       "grid_auto_rows": null,
       "grid_column": null,
       "grid_gap": null,
       "grid_row": null,
       "grid_template_areas": null,
       "grid_template_columns": null,
       "grid_template_rows": null,
       "height": null,
       "justify_content": null,
       "justify_items": null,
       "left": null,
       "margin": null,
       "max_height": null,
       "max_width": null,
       "min_height": null,
       "min_width": null,
       "object_fit": null,
       "object_position": null,
       "order": null,
       "overflow": null,
       "overflow_x": null,
       "overflow_y": null,
       "padding": null,
       "right": null,
       "top": null,
       "visibility": null,
       "width": null
      }
     },
     "83a75addc56846889a26457ff22741f5": {
      "model_module": "@jupyter-widgets/controls",
      "model_module_version": "1.5.0",
      "model_name": "HTMLModel",
      "state": {
       "_dom_classes": [],
       "_model_module": "@jupyter-widgets/controls",
       "_model_module_version": "1.5.0",
       "_model_name": "HTMLModel",
       "_view_count": null,
       "_view_module": "@jupyter-widgets/controls",
       "_view_module_version": "1.5.0",
       "_view_name": "HTMLView",
       "description": "",
       "description_tooltip": null,
       "layout": "IPY_MODEL_27615de220104dca9857226d24c05037",
       "placeholder": "​",
       "style": "IPY_MODEL_1798f433040548b49662291014d6f181",
       "value": "Downloading: 100%"
      }
     },
     "83fb45b3b6d44ad6944983ee0a42f519": {
      "model_module": "@jupyter-widgets/base",
      "model_module_version": "1.2.0",
      "model_name": "LayoutModel",
      "state": {
       "_model_module": "@jupyter-widgets/base",
       "_model_module_version": "1.2.0",
       "_model_name": "LayoutModel",
       "_view_count": null,
       "_view_module": "@jupyter-widgets/base",
       "_view_module_version": "1.2.0",
       "_view_name": "LayoutView",
       "align_content": null,
       "align_items": null,
       "align_self": null,
       "border": null,
       "bottom": null,
       "display": null,
       "flex": null,
       "flex_flow": null,
       "grid_area": null,
       "grid_auto_columns": null,
       "grid_auto_flow": null,
       "grid_auto_rows": null,
       "grid_column": null,
       "grid_gap": null,
       "grid_row": null,
       "grid_template_areas": null,
       "grid_template_columns": null,
       "grid_template_rows": null,
       "height": null,
       "justify_content": null,
       "justify_items": null,
       "left": null,
       "margin": null,
       "max_height": null,
       "max_width": null,
       "min_height": null,
       "min_width": null,
       "object_fit": null,
       "object_position": null,
       "order": null,
       "overflow": null,
       "overflow_x": null,
       "overflow_y": null,
       "padding": null,
       "right": null,
       "top": null,
       "visibility": null,
       "width": null
      }
     },
     "8b547804da0c43e393aada144599be3c": {
      "model_module": "@jupyter-widgets/controls",
      "model_module_version": "1.5.0",
      "model_name": "DescriptionStyleModel",
      "state": {
       "_model_module": "@jupyter-widgets/controls",
       "_model_module_version": "1.5.0",
       "_model_name": "DescriptionStyleModel",
       "_view_count": null,
       "_view_module": "@jupyter-widgets/base",
       "_view_module_version": "1.2.0",
       "_view_name": "StyleView",
       "description_width": ""
      }
     },
     "92fef237bb0f4de8ade31005e284fb21": {
      "model_module": "@jupyter-widgets/controls",
      "model_module_version": "1.5.0",
      "model_name": "HTMLModel",
      "state": {
       "_dom_classes": [],
       "_model_module": "@jupyter-widgets/controls",
       "_model_module_version": "1.5.0",
       "_model_name": "HTMLModel",
       "_view_count": null,
       "_view_module": "@jupyter-widgets/controls",
       "_view_module_version": "1.5.0",
       "_view_name": "HTMLView",
       "description": "",
       "description_tooltip": null,
       "layout": "IPY_MODEL_60615a81f5404422a59e9beb044021a5",
       "placeholder": "​",
       "style": "IPY_MODEL_2349f8c94010401aa2b15180de87c844",
       "value": "Downloading: 100%"
      }
     },
     "961728b60db04dd7844b9b36ad03425c": {
      "model_module": "@jupyter-widgets/controls",
      "model_module_version": "1.5.0",
      "model_name": "HTMLModel",
      "state": {
       "_dom_classes": [],
       "_model_module": "@jupyter-widgets/controls",
       "_model_module_version": "1.5.0",
       "_model_name": "HTMLModel",
       "_view_count": null,
       "_view_module": "@jupyter-widgets/controls",
       "_view_module_version": "1.5.0",
       "_view_name": "HTMLView",
       "description": "",
       "description_tooltip": null,
       "layout": "IPY_MODEL_401298a7cbf54709b39659558a923c04",
       "placeholder": "​",
       "style": "IPY_MODEL_e76b41b2dfa6456190f027ee2157e331",
       "value": " 291/291 [00:00&lt;00:00, 9.69kB/s]"
      }
     },
     "98d196f6186d452bbe5cefae9132fc7b": {
      "model_module": "@jupyter-widgets/base",
      "model_module_version": "1.2.0",
      "model_name": "LayoutModel",
      "state": {
       "_model_module": "@jupyter-widgets/base",
       "_model_module_version": "1.2.0",
       "_model_name": "LayoutModel",
       "_view_count": null,
       "_view_module": "@jupyter-widgets/base",
       "_view_module_version": "1.2.0",
       "_view_name": "LayoutView",
       "align_content": null,
       "align_items": null,
       "align_self": null,
       "border": null,
       "bottom": null,
       "display": null,
       "flex": null,
       "flex_flow": null,
       "grid_area": null,
       "grid_auto_columns": null,
       "grid_auto_flow": null,
       "grid_auto_rows": null,
       "grid_column": null,
       "grid_gap": null,
       "grid_row": null,
       "grid_template_areas": null,
       "grid_template_columns": null,
       "grid_template_rows": null,
       "height": null,
       "justify_content": null,
       "justify_items": null,
       "left": null,
       "margin": null,
       "max_height": null,
       "max_width": null,
       "min_height": null,
       "min_width": null,
       "object_fit": null,
       "object_position": null,
       "order": null,
       "overflow": null,
       "overflow_x": null,
       "overflow_y": null,
       "padding": null,
       "right": null,
       "top": null,
       "visibility": null,
       "width": null
      }
     },
     "9978333ab0734a059e5fbb256750b286": {
      "model_module": "@jupyter-widgets/controls",
      "model_module_version": "1.5.0",
      "model_name": "DescriptionStyleModel",
      "state": {
       "_model_module": "@jupyter-widgets/controls",
       "_model_module_version": "1.5.0",
       "_model_name": "DescriptionStyleModel",
       "_view_count": null,
       "_view_module": "@jupyter-widgets/base",
       "_view_module_version": "1.2.0",
       "_view_name": "StyleView",
       "description_width": ""
      }
     },
     "9b95c5e9a6b543fcb15f3b87f14291e3": {
      "model_module": "@jupyter-widgets/controls",
      "model_module_version": "1.5.0",
      "model_name": "HBoxModel",
      "state": {
       "_dom_classes": [],
       "_model_module": "@jupyter-widgets/controls",
       "_model_module_version": "1.5.0",
       "_model_name": "HBoxModel",
       "_view_count": null,
       "_view_module": "@jupyter-widgets/controls",
       "_view_module_version": "1.5.0",
       "_view_name": "HBoxView",
       "box_style": "",
       "children": [
        "IPY_MODEL_09e1b2d1770149d983db8f6f698654c0",
        "IPY_MODEL_1d8c6cb448d048e594f8beee9fc56a4c",
        "IPY_MODEL_27ca579935b44493b22680c0e6df1520"
       ],
       "layout": "IPY_MODEL_98d196f6186d452bbe5cefae9132fc7b"
      }
     },
     "a3b77c3a652c48df909837a272521d12": {
      "model_module": "@jupyter-widgets/controls",
      "model_module_version": "1.5.0",
      "model_name": "HTMLModel",
      "state": {
       "_dom_classes": [],
       "_model_module": "@jupyter-widgets/controls",
       "_model_module_version": "1.5.0",
       "_model_name": "HTMLModel",
       "_view_count": null,
       "_view_module": "@jupyter-widgets/controls",
       "_view_module_version": "1.5.0",
       "_view_name": "HTMLView",
       "description": "",
       "description_tooltip": null,
       "layout": "IPY_MODEL_d3b449151abc4e6a8cfbaaa340879ef4",
       "placeholder": "​",
       "style": "IPY_MODEL_db110902ed9b4930b0f7ace9a9cf245a",
       "value": "Downloading: 100%"
      }
     },
     "a623e0c9dd7041878878cd999130fa8d": {
      "model_module": "@jupyter-widgets/base",
      "model_module_version": "1.2.0",
      "model_name": "LayoutModel",
      "state": {
       "_model_module": "@jupyter-widgets/base",
       "_model_module_version": "1.2.0",
       "_model_name": "LayoutModel",
       "_view_count": null,
       "_view_module": "@jupyter-widgets/base",
       "_view_module_version": "1.2.0",
       "_view_name": "LayoutView",
       "align_content": null,
       "align_items": null,
       "align_self": null,
       "border": null,
       "bottom": null,
       "display": null,
       "flex": null,
       "flex_flow": null,
       "grid_area": null,
       "grid_auto_columns": null,
       "grid_auto_flow": null,
       "grid_auto_rows": null,
       "grid_column": null,
       "grid_gap": null,
       "grid_row": null,
       "grid_template_areas": null,
       "grid_template_columns": null,
       "grid_template_rows": null,
       "height": null,
       "justify_content": null,
       "justify_items": null,
       "left": null,
       "margin": null,
       "max_height": null,
       "max_width": null,
       "min_height": null,
       "min_width": null,
       "object_fit": null,
       "object_position": null,
       "order": null,
       "overflow": null,
       "overflow_x": null,
       "overflow_y": null,
       "padding": null,
       "right": null,
       "top": null,
       "visibility": null,
       "width": null
      }
     },
     "a77f0e297dca42ecb6f295de3ab827f9": {
      "model_module": "@jupyter-widgets/base",
      "model_module_version": "1.2.0",
      "model_name": "LayoutModel",
      "state": {
       "_model_module": "@jupyter-widgets/base",
       "_model_module_version": "1.2.0",
       "_model_name": "LayoutModel",
       "_view_count": null,
       "_view_module": "@jupyter-widgets/base",
       "_view_module_version": "1.2.0",
       "_view_name": "LayoutView",
       "align_content": null,
       "align_items": null,
       "align_self": null,
       "border": null,
       "bottom": null,
       "display": null,
       "flex": null,
       "flex_flow": null,
       "grid_area": null,
       "grid_auto_columns": null,
       "grid_auto_flow": null,
       "grid_auto_rows": null,
       "grid_column": null,
       "grid_gap": null,
       "grid_row": null,
       "grid_template_areas": null,
       "grid_template_columns": null,
       "grid_template_rows": null,
       "height": null,
       "justify_content": null,
       "justify_items": null,
       "left": null,
       "margin": null,
       "max_height": null,
       "max_width": null,
       "min_height": null,
       "min_width": null,
       "object_fit": null,
       "object_position": null,
       "order": null,
       "overflow": null,
       "overflow_x": null,
       "overflow_y": null,
       "padding": null,
       "right": null,
       "top": null,
       "visibility": null,
       "width": null
      }
     },
     "ae268ac7d7c64778b3303286804a4395": {
      "model_module": "@jupyter-widgets/controls",
      "model_module_version": "1.5.0",
      "model_name": "ProgressStyleModel",
      "state": {
       "_model_module": "@jupyter-widgets/controls",
       "_model_module_version": "1.5.0",
       "_model_name": "ProgressStyleModel",
       "_view_count": null,
       "_view_module": "@jupyter-widgets/base",
       "_view_module_version": "1.2.0",
       "_view_name": "StyleView",
       "bar_color": null,
       "description_width": ""
      }
     },
     "bd283a7f11c4498a9485f96a39be6206": {
      "model_module": "@jupyter-widgets/controls",
      "model_module_version": "1.5.0",
      "model_name": "HBoxModel",
      "state": {
       "_dom_classes": [],
       "_model_module": "@jupyter-widgets/controls",
       "_model_module_version": "1.5.0",
       "_model_name": "HBoxModel",
       "_view_count": null,
       "_view_module": "@jupyter-widgets/controls",
       "_view_module_version": "1.5.0",
       "_view_name": "HBoxView",
       "box_style": "",
       "children": [
        "IPY_MODEL_83a75addc56846889a26457ff22741f5",
        "IPY_MODEL_1465fd44f53543f2ad745a20c64cf199",
        "IPY_MODEL_961728b60db04dd7844b9b36ad03425c"
       ],
       "layout": "IPY_MODEL_7fe877cef1ff43eb8292ab5e829aa88c"
      }
     },
     "c2a389e9e66549d1ac32489a09b5002f": {
      "model_module": "@jupyter-widgets/base",
      "model_module_version": "1.2.0",
      "model_name": "LayoutModel",
      "state": {
       "_model_module": "@jupyter-widgets/base",
       "_model_module_version": "1.2.0",
       "_model_name": "LayoutModel",
       "_view_count": null,
       "_view_module": "@jupyter-widgets/base",
       "_view_module_version": "1.2.0",
       "_view_name": "LayoutView",
       "align_content": null,
       "align_items": null,
       "align_self": null,
       "border": null,
       "bottom": null,
       "display": null,
       "flex": null,
       "flex_flow": null,
       "grid_area": null,
       "grid_auto_columns": null,
       "grid_auto_flow": null,
       "grid_auto_rows": null,
       "grid_column": null,
       "grid_gap": null,
       "grid_row": null,
       "grid_template_areas": null,
       "grid_template_columns": null,
       "grid_template_rows": null,
       "height": null,
       "justify_content": null,
       "justify_items": null,
       "left": null,
       "margin": null,
       "max_height": null,
       "max_width": null,
       "min_height": null,
       "min_width": null,
       "object_fit": null,
       "object_position": null,
       "order": null,
       "overflow": null,
       "overflow_x": null,
       "overflow_y": null,
       "padding": null,
       "right": null,
       "top": null,
       "visibility": null,
       "width": null
      }
     },
     "c5b455761ebf4f6fa00ab069b32d6b1d": {
      "model_module": "@jupyter-widgets/controls",
      "model_module_version": "1.5.0",
      "model_name": "HTMLModel",
      "state": {
       "_dom_classes": [],
       "_model_module": "@jupyter-widgets/controls",
       "_model_module_version": "1.5.0",
       "_model_name": "HTMLModel",
       "_view_count": null,
       "_view_module": "@jupyter-widgets/controls",
       "_view_module_version": "1.5.0",
       "_view_name": "HTMLView",
       "description": "",
       "description_tooltip": null,
       "layout": "IPY_MODEL_3208e7209e90429081125f6047a0119f",
       "placeholder": "​",
       "style": "IPY_MODEL_9978333ab0734a059e5fbb256750b286",
       "value": " 804/804 [00:00&lt;00:00, 24.5kB/s]"
      }
     },
     "c699f2303fdc48f483c228fe6bf89767": {
      "model_module": "@jupyter-widgets/base",
      "model_module_version": "1.2.0",
      "model_name": "LayoutModel",
      "state": {
       "_model_module": "@jupyter-widgets/base",
       "_model_module_version": "1.2.0",
       "_model_name": "LayoutModel",
       "_view_count": null,
       "_view_module": "@jupyter-widgets/base",
       "_view_module_version": "1.2.0",
       "_view_name": "LayoutView",
       "align_content": null,
       "align_items": null,
       "align_self": null,
       "border": null,
       "bottom": null,
       "display": null,
       "flex": null,
       "flex_flow": null,
       "grid_area": null,
       "grid_auto_columns": null,
       "grid_auto_flow": null,
       "grid_auto_rows": null,
       "grid_column": null,
       "grid_gap": null,
       "grid_row": null,
       "grid_template_areas": null,
       "grid_template_columns": null,
       "grid_template_rows": null,
       "height": null,
       "justify_content": null,
       "justify_items": null,
       "left": null,
       "margin": null,
       "max_height": null,
       "max_width": null,
       "min_height": null,
       "min_width": null,
       "object_fit": null,
       "object_position": null,
       "order": null,
       "overflow": null,
       "overflow_x": null,
       "overflow_y": null,
       "padding": null,
       "right": null,
       "top": null,
       "visibility": null,
       "width": null
      }
     },
     "c9830926af164af3a8f2cb79198e1baf": {
      "model_module": "@jupyter-widgets/controls",
      "model_module_version": "1.5.0",
      "model_name": "ProgressStyleModel",
      "state": {
       "_model_module": "@jupyter-widgets/controls",
       "_model_module_version": "1.5.0",
       "_model_name": "ProgressStyleModel",
       "_view_count": null,
       "_view_module": "@jupyter-widgets/base",
       "_view_module_version": "1.2.0",
       "_view_name": "StyleView",
       "bar_color": null,
       "description_width": ""
      }
     },
     "ce193abb38764c8bbd17bba61b8e008c": {
      "model_module": "@jupyter-widgets/controls",
      "model_module_version": "1.5.0",
      "model_name": "FloatProgressModel",
      "state": {
       "_dom_classes": [],
       "_model_module": "@jupyter-widgets/controls",
       "_model_module_version": "1.5.0",
       "_model_name": "FloatProgressModel",
       "_view_count": null,
       "_view_module": "@jupyter-widgets/controls",
       "_view_module_version": "1.5.0",
       "_view_name": "ProgressView",
       "bar_style": "success",
       "description": "",
       "description_tooltip": null,
       "layout": "IPY_MODEL_c2a389e9e66549d1ac32489a09b5002f",
       "max": 804.0,
       "min": 0.0,
       "orientation": "horizontal",
       "style": "IPY_MODEL_17123fce41b94a46a43752e3d3d86ebe",
       "value": 804.0
      }
     },
     "ceb160a686424fada0115cf8aa4f31d9": {
      "model_module": "@jupyter-widgets/base",
      "model_module_version": "1.2.0",
      "model_name": "LayoutModel",
      "state": {
       "_model_module": "@jupyter-widgets/base",
       "_model_module_version": "1.2.0",
       "_model_name": "LayoutModel",
       "_view_count": null,
       "_view_module": "@jupyter-widgets/base",
       "_view_module_version": "1.2.0",
       "_view_name": "LayoutView",
       "align_content": null,
       "align_items": null,
       "align_self": null,
       "border": null,
       "bottom": null,
       "display": null,
       "flex": null,
       "flex_flow": null,
       "grid_area": null,
       "grid_auto_columns": null,
       "grid_auto_flow": null,
       "grid_auto_rows": null,
       "grid_column": null,
       "grid_gap": null,
       "grid_row": null,
       "grid_template_areas": null,
       "grid_template_columns": null,
       "grid_template_rows": null,
       "height": null,
       "justify_content": null,
       "justify_items": null,
       "left": null,
       "margin": null,
       "max_height": null,
       "max_width": null,
       "min_height": null,
       "min_width": null,
       "object_fit": null,
       "object_position": null,
       "order": null,
       "overflow": null,
       "overflow_x": null,
       "overflow_y": null,
       "padding": null,
       "right": null,
       "top": null,
       "visibility": null,
       "width": null
      }
     },
     "cfaa14caf60e426984a484f85a332380": {
      "model_module": "@jupyter-widgets/controls",
      "model_module_version": "1.5.0",
      "model_name": "DescriptionStyleModel",
      "state": {
       "_model_module": "@jupyter-widgets/controls",
       "_model_module_version": "1.5.0",
       "_model_name": "DescriptionStyleModel",
       "_view_count": null,
       "_view_module": "@jupyter-widgets/base",
       "_view_module_version": "1.2.0",
       "_view_name": "StyleView",
       "description_width": ""
      }
     },
     "d22f811ba52c4f6596ba61a55cd8aab1": {
      "model_module": "@jupyter-widgets/base",
      "model_module_version": "1.2.0",
      "model_name": "LayoutModel",
      "state": {
       "_model_module": "@jupyter-widgets/base",
       "_model_module_version": "1.2.0",
       "_model_name": "LayoutModel",
       "_view_count": null,
       "_view_module": "@jupyter-widgets/base",
       "_view_module_version": "1.2.0",
       "_view_name": "LayoutView",
       "align_content": null,
       "align_items": null,
       "align_self": null,
       "border": null,
       "bottom": null,
       "display": null,
       "flex": null,
       "flex_flow": null,
       "grid_area": null,
       "grid_auto_columns": null,
       "grid_auto_flow": null,
       "grid_auto_rows": null,
       "grid_column": null,
       "grid_gap": null,
       "grid_row": null,
       "grid_template_areas": null,
       "grid_template_columns": null,
       "grid_template_rows": null,
       "height": null,
       "justify_content": null,
       "justify_items": null,
       "left": null,
       "margin": null,
       "max_height": null,
       "max_width": null,
       "min_height": null,
       "min_width": null,
       "object_fit": null,
       "object_position": null,
       "order": null,
       "overflow": null,
       "overflow_x": null,
       "overflow_y": null,
       "padding": null,
       "right": null,
       "top": null,
       "visibility": null,
       "width": null
      }
     },
     "d25647e4b52f4b78be8a0b46ae67ccd2": {
      "model_module": "@jupyter-widgets/controls",
      "model_module_version": "1.5.0",
      "model_name": "HTMLModel",
      "state": {
       "_dom_classes": [],
       "_model_module": "@jupyter-widgets/controls",
       "_model_module_version": "1.5.0",
       "_model_name": "HTMLModel",
       "_view_count": null,
       "_view_module": "@jupyter-widgets/controls",
       "_view_module_version": "1.5.0",
       "_view_name": "HTMLView",
       "description": "",
       "description_tooltip": null,
       "layout": "IPY_MODEL_c699f2303fdc48f483c228fe6bf89767",
       "placeholder": "​",
       "style": "IPY_MODEL_0fb311826dd34cad935a9ab2539f0752",
       "value": "Downloading: 100%"
      }
     },
     "d3b449151abc4e6a8cfbaaa340879ef4": {
      "model_module": "@jupyter-widgets/base",
      "model_module_version": "1.2.0",
      "model_name": "LayoutModel",
      "state": {
       "_model_module": "@jupyter-widgets/base",
       "_model_module_version": "1.2.0",
       "_model_name": "LayoutModel",
       "_view_count": null,
       "_view_module": "@jupyter-widgets/base",
       "_view_module_version": "1.2.0",
       "_view_name": "LayoutView",
       "align_content": null,
       "align_items": null,
       "align_self": null,
       "border": null,
       "bottom": null,
       "display": null,
       "flex": null,
       "flex_flow": null,
       "grid_area": null,
       "grid_auto_columns": null,
       "grid_auto_flow": null,
       "grid_auto_rows": null,
       "grid_column": null,
       "grid_gap": null,
       "grid_row": null,
       "grid_template_areas": null,
       "grid_template_columns": null,
       "grid_template_rows": null,
       "height": null,
       "justify_content": null,
       "justify_items": null,
       "left": null,
       "margin": null,
       "max_height": null,
       "max_width": null,
       "min_height": null,
       "min_width": null,
       "object_fit": null,
       "object_position": null,
       "order": null,
       "overflow": null,
       "overflow_x": null,
       "overflow_y": null,
       "padding": null,
       "right": null,
       "top": null,
       "visibility": null,
       "width": null
      }
     },
     "d52b7abe69c845149cab7398d523f23b": {
      "model_module": "@jupyter-widgets/controls",
      "model_module_version": "1.5.0",
      "model_name": "DescriptionStyleModel",
      "state": {
       "_model_module": "@jupyter-widgets/controls",
       "_model_module_version": "1.5.0",
       "_model_name": "DescriptionStyleModel",
       "_view_count": null,
       "_view_module": "@jupyter-widgets/base",
       "_view_module_version": "1.2.0",
       "_view_name": "StyleView",
       "description_width": ""
      }
     },
     "da6c9136f021459581ceb4dd6ac2d3d4": {
      "model_module": "@jupyter-widgets/controls",
      "model_module_version": "1.5.0",
      "model_name": "FloatProgressModel",
      "state": {
       "_dom_classes": [],
       "_model_module": "@jupyter-widgets/controls",
       "_model_module_version": "1.5.0",
       "_model_name": "FloatProgressModel",
       "_view_count": null,
       "_view_module": "@jupyter-widgets/controls",
       "_view_module_version": "1.5.0",
       "_view_name": "ProgressView",
       "bar_style": "success",
       "description": "",
       "description_tooltip": null,
       "layout": "IPY_MODEL_5578c1433ecd4d7893331bda2782f268",
       "max": 267962536.0,
       "min": 0.0,
       "orientation": "horizontal",
       "style": "IPY_MODEL_8009f708fb58484494f08da3af5e51c4",
       "value": 267962536.0
      }
     },
     "db110902ed9b4930b0f7ace9a9cf245a": {
      "model_module": "@jupyter-widgets/controls",
      "model_module_version": "1.5.0",
      "model_name": "DescriptionStyleModel",
      "state": {
       "_model_module": "@jupyter-widgets/controls",
       "_model_module_version": "1.5.0",
       "_model_name": "DescriptionStyleModel",
       "_view_count": null,
       "_view_module": "@jupyter-widgets/base",
       "_view_module_version": "1.2.0",
       "_view_name": "StyleView",
       "description_width": ""
      }
     },
     "e76b41b2dfa6456190f027ee2157e331": {
      "model_module": "@jupyter-widgets/controls",
      "model_module_version": "1.5.0",
      "model_name": "DescriptionStyleModel",
      "state": {
       "_model_module": "@jupyter-widgets/controls",
       "_model_module_version": "1.5.0",
       "_model_name": "DescriptionStyleModel",
       "_view_count": null,
       "_view_module": "@jupyter-widgets/base",
       "_view_module_version": "1.2.0",
       "_view_name": "StyleView",
       "description_width": ""
      }
     },
     "eaf1c2cdefed49e7a0f3dbc5d64028a7": {
      "model_module": "@jupyter-widgets/base",
      "model_module_version": "1.2.0",
      "model_name": "LayoutModel",
      "state": {
       "_model_module": "@jupyter-widgets/base",
       "_model_module_version": "1.2.0",
       "_model_name": "LayoutModel",
       "_view_count": null,
       "_view_module": "@jupyter-widgets/base",
       "_view_module_version": "1.2.0",
       "_view_name": "LayoutView",
       "align_content": null,
       "align_items": null,
       "align_self": null,
       "border": null,
       "bottom": null,
       "display": null,
       "flex": null,
       "flex_flow": null,
       "grid_area": null,
       "grid_auto_columns": null,
       "grid_auto_flow": null,
       "grid_auto_rows": null,
       "grid_column": null,
       "grid_gap": null,
       "grid_row": null,
       "grid_template_areas": null,
       "grid_template_columns": null,
       "grid_template_rows": null,
       "height": null,
       "justify_content": null,
       "justify_items": null,
       "left": null,
       "margin": null,
       "max_height": null,
       "max_width": null,
       "min_height": null,
       "min_width": null,
       "object_fit": null,
       "object_position": null,
       "order": null,
       "overflow": null,
       "overflow_x": null,
       "overflow_y": null,
       "padding": null,
       "right": null,
       "top": null,
       "visibility": null,
       "width": null
      }
     },
     "efe68bb766bf43bf8e39a7ce1cd94844": {
      "model_module": "@jupyter-widgets/controls",
      "model_module_version": "1.5.0",
      "model_name": "DescriptionStyleModel",
      "state": {
       "_model_module": "@jupyter-widgets/controls",
       "_model_module_version": "1.5.0",
       "_model_name": "DescriptionStyleModel",
       "_view_count": null,
       "_view_module": "@jupyter-widgets/base",
       "_view_module_version": "1.2.0",
       "_view_name": "StyleView",
       "description_width": ""
      }
     },
     "f203590d1f9a4630add36c1ca83393e3": {
      "model_module": "@jupyter-widgets/controls",
      "model_module_version": "1.5.0",
      "model_name": "FloatProgressModel",
      "state": {
       "_dom_classes": [],
       "_model_module": "@jupyter-widgets/controls",
       "_model_module_version": "1.5.0",
       "_model_name": "FloatProgressModel",
       "_view_count": null,
       "_view_module": "@jupyter-widgets/controls",
       "_view_module_version": "1.5.0",
       "_view_name": "ProgressView",
       "bar_style": "success",
       "description": "",
       "description_tooltip": null,
       "layout": "IPY_MODEL_0ffac5758ccf4259b46645365979030d",
       "max": 231508.0,
       "min": 0.0,
       "orientation": "horizontal",
       "style": "IPY_MODEL_c9830926af164af3a8f2cb79198e1baf",
       "value": 231508.0
      }
     },
     "f9b1e2c8ad2a4f79a26a00c434731596": {
      "model_module": "@jupyter-widgets/controls",
      "model_module_version": "1.5.0",
      "model_name": "ProgressStyleModel",
      "state": {
       "_model_module": "@jupyter-widgets/controls",
       "_model_module_version": "1.5.0",
       "_model_name": "ProgressStyleModel",
       "_view_count": null,
       "_view_module": "@jupyter-widgets/base",
       "_view_module_version": "1.2.0",
       "_view_name": "StyleView",
       "bar_color": null,
       "description_width": ""
      }
     }
    },
    "version_major": 2,
    "version_minor": 0
   }
  }
 },
 "nbformat": 4,
 "nbformat_minor": 5
}
