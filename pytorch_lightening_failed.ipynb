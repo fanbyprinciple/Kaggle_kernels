{
  "nbformat": 4,
  "nbformat_minor": 0,
  "metadata": {
    "kernelspec": {
      "language": "python",
      "display_name": "Python 3",
      "name": "python3"
    },
    "language_info": {
      "name": "python",
      "version": "3.7.10",
      "mimetype": "text/x-python",
      "codemirror_mode": {
        "name": "ipython",
        "version": 3
      },
      "pygments_lexer": "ipython3",
      "nbconvert_exporter": "python",
      "file_extension": ".py"
    },
    "colab": {
      "name": "pytorch-lightening-failed.ipynb",
      "provenance": [],
      "include_colab_link": true
    }
  },
  "cells": [
    {
      "cell_type": "markdown",
      "metadata": {
        "id": "view-in-github",
        "colab_type": "text"
      },
      "source": [
        "<a href=\"https://colab.research.google.com/github/fanbyprinciple/kaggle_kernels/blob/master/pytorch_lightening_failed.ipynb\" target=\"_parent\"><img src=\"https://colab.research.google.com/assets/colab-badge.svg\" alt=\"Open In Colab\"/></a>"
      ]
    },
    {
      "cell_type": "markdown",
      "metadata": {
        "id": "kLFMbaCN2jpW"
      },
      "source": [
        "https://www.kaggle.com/yerramvarun/petfinder-my-pytorch-starter-skfold"
      ]
    },
    {
      "cell_type": "code",
      "metadata": {
        "execution": {
          "iopub.status.busy": "2021-10-02T11:51:26.993439Z",
          "iopub.execute_input": "2021-10-02T11:51:26.993789Z",
          "iopub.status.idle": "2021-10-02T11:51:43.250093Z",
          "shell.execute_reply.started": "2021-10-02T11:51:26.993744Z",
          "shell.execute_reply": "2021-10-02T11:51:43.249104Z"
        },
        "trusted": true,
        "id": "ba-xgxhY2jpe"
      },
      "source": [
        "!pip install -q timm\n",
        "!pip install -q pytorch-lightning"
      ],
      "execution_count": null,
      "outputs": []
    },
    {
      "cell_type": "code",
      "metadata": {
        "execution": {
          "iopub.status.busy": "2021-10-02T11:51:43.254370Z",
          "iopub.execute_input": "2021-10-02T11:51:43.254665Z",
          "iopub.status.idle": "2021-10-02T11:51:43.260450Z",
          "shell.execute_reply.started": "2021-10-02T11:51:43.254630Z",
          "shell.execute_reply": "2021-10-02T11:51:43.259493Z"
        },
        "trusted": true,
        "id": "ZWu4XSa42jph"
      },
      "source": [
        "import pytorch_lightning as pl\n",
        "from pytorch_lightning import Callback\n",
        "from pytorch_lightning.callbacks import ModelCheckpoint, EarlyStopping\n",
        "from pytorch_lightning.loggers import WandbLogger"
      ],
      "execution_count": null,
      "outputs": []
    },
    {
      "cell_type": "code",
      "metadata": {
        "execution": {
          "iopub.status.busy": "2021-10-02T11:51:43.262021Z",
          "iopub.execute_input": "2021-10-02T11:51:43.262353Z",
          "iopub.status.idle": "2021-10-02T11:51:43.278414Z",
          "shell.execute_reply.started": "2021-10-02T11:51:43.262312Z",
          "shell.execute_reply": "2021-10-02T11:51:43.277256Z"
        },
        "trusted": true,
        "id": "Irdu1sGa2jpi"
      },
      "source": [
        "import torch\n",
        "from torch import nn\n",
        "import torch.nn.functional as F\n",
        "from torch.optim import Adam, SGD\n",
        "\n",
        "from torch.utils.data import Dataset, DataLoader, WeightedRandomSampler\n",
        "from torch.optim.lr_scheduler import CosineAnnealingLR\n",
        "from torch.optim.optimizer import Optimizer, required\n",
        "import timm\n"
      ],
      "execution_count": null,
      "outputs": []
    },
    {
      "cell_type": "code",
      "metadata": {
        "execution": {
          "iopub.status.busy": "2021-10-02T11:51:43.280322Z",
          "iopub.execute_input": "2021-10-02T11:51:43.281191Z",
          "iopub.status.idle": "2021-10-02T11:51:43.328894Z",
          "shell.execute_reply.started": "2021-10-02T11:51:43.281142Z",
          "shell.execute_reply": "2021-10-02T11:51:43.327870Z"
        },
        "trusted": true,
        "id": "1APIOpAl2jpj"
      },
      "source": [
        "from sklearn import model_selection\n",
        "from sklearn.metrics import mean_squared_error\n",
        "import cv2\n",
        "import numpy as np\n",
        "import pandas as pd\n",
        "from PIL import Image\n",
        "\n",
        "from matplotlib import pyplot as plt\n",
        "import plotly.graph_objects as go\n",
        "import plotly_express as px\n",
        "import plotly.io as pio\n",
        "pio.templates.default = \"plotly_dark\"\n",
        "\n",
        "import seaborn as sns\n",
        "from colorama import Fore, Back, Style\n",
        "r_ = Fore.RED\n",
        "g_ = Fore.GREEN\n",
        "b_ = Fore.BLUE\n",
        "c_ = Fore.CYAN\n",
        "y_ = Fore.YELLOW\n",
        "res = Style.RESET_ALL\n",
        "\n",
        "import albumentations as A\n",
        "from albumentations.pytorch import ToTensorV2\n",
        "\n",
        "import os\n",
        "import random\n",
        "\n",
        "import warnings\n",
        "warnings.filterwarnings('ignore', category=DeprecationWarning)\n",
        "warnings.filterwarnings('ignore', category=FutureWarning)\n",
        "warnings.filterwarnings('ignore', category=UserWarning)"
      ],
      "execution_count": null,
      "outputs": []
    },
    {
      "cell_type": "code",
      "metadata": {
        "execution": {
          "iopub.status.busy": "2021-10-02T11:51:43.332241Z",
          "iopub.execute_input": "2021-10-02T11:51:43.332634Z",
          "iopub.status.idle": "2021-10-02T11:51:43.391987Z",
          "shell.execute_reply.started": "2021-10-02T11:51:43.332585Z",
          "shell.execute_reply": "2021-10-02T11:51:43.391116Z"
        },
        "trusted": true,
        "id": "Kc92huyf2jpk"
      },
      "source": [
        "train =  pd.read_csv(\"../input/petfinder-pawpularity-score/train.csv\")\n",
        "test = pd.read_csv(\"../input/petfinder-pawpularity-score/test.csv\")\n",
        "\n",
        "def get_full_train_path(path):\n",
        "    return f\"../input/petfinder-pawpularity-score/train/{path}.jpg\"\n",
        "\n",
        "def get_full_test_path(path):\n",
        "    return f\"../input/petfinder-pawpularity-score/test/{path}.jpg\"\n",
        "\n",
        "train[\"full_path\"] = train[\"Id\"].apply(get_full_train_path)\n",
        "test[\"full_path\"] = test[\"Id\"].apply(get_full_test_path)\n",
        "\n",
        "train.head()"
      ],
      "execution_count": null,
      "outputs": []
    },
    {
      "cell_type": "code",
      "metadata": {
        "execution": {
          "iopub.status.busy": "2021-10-02T11:51:43.393235Z",
          "iopub.execute_input": "2021-10-02T11:51:43.393459Z",
          "iopub.status.idle": "2021-10-02T11:51:43.464251Z",
          "shell.execute_reply.started": "2021-10-02T11:51:43.393433Z",
          "shell.execute_reply": "2021-10-02T11:51:43.463580Z"
        },
        "trusted": true,
        "id": "Aqr9z0DF2jpl"
      },
      "source": [
        "counts, bins = np.histogram(train[\"Pawpularity\"], bins=range(0,110,10))\n",
        "bins = 0.5 * (bins[:-1] + bins[1:])\n",
        "\n",
        "fig = px.bar(x=bins, y=counts)\n",
        "\n",
        "fig.show()"
      ],
      "execution_count": null,
      "outputs": []
    },
    {
      "cell_type": "code",
      "metadata": {
        "execution": {
          "iopub.status.busy": "2021-10-02T11:51:43.465426Z",
          "iopub.execute_input": "2021-10-02T11:51:43.465684Z",
          "iopub.status.idle": "2021-10-02T11:51:43.471482Z",
          "shell.execute_reply.started": "2021-10-02T11:51:43.465654Z",
          "shell.execute_reply": "2021-10-02T11:51:43.470653Z"
        },
        "trusted": true,
        "id": "nEkok1Eg2jpm"
      },
      "source": [
        "Config = {\n",
        "    'seed' : 2021,  # setting the seed\n",
        "    'debug': False,  # debug mode\n",
        "    'num_folds': 5, # number of folds to split\n",
        "    'trn_folds': [0, ],  # folds to train\n",
        "    'batch_size': 12,  # batch size\n",
        "    'num_workers' : 8,  # number of cpu workers\n",
        "    'img_size': 512,  # image size\n",
        "    'model': 'efficientnet_b3',  # model to use\n",
        "    'img_ftr_len': 500, # length of vector to encode the images in\n",
        "    'epochs': 15,        # numbers of epochs\n",
        "    'precision': 16,\n",
        "    'weight_decay': 1e-6,\n",
        "    \n",
        "    # learning\n",
        "    'lr': 1e-4,\n",
        "    'T_max': 10,\n",
        "    'min_lr': 1e-6,\n",
        "    'patience_earlystop': 3,\n",
        "}   "
      ],
      "execution_count": null,
      "outputs": []
    },
    {
      "cell_type": "code",
      "metadata": {
        "execution": {
          "iopub.status.busy": "2021-10-02T11:51:43.472893Z",
          "iopub.execute_input": "2021-10-02T11:51:43.473157Z",
          "iopub.status.idle": "2021-10-02T11:51:43.492241Z",
          "shell.execute_reply.started": "2021-10-02T11:51:43.473128Z",
          "shell.execute_reply": "2021-10-02T11:51:43.491064Z"
        },
        "trusted": true,
        "id": "e0Hq1DTh2jpo"
      },
      "source": [
        "if Config['debug']:\n",
        "    train = train[:500].reset_index(drop=True)"
      ],
      "execution_count": null,
      "outputs": []
    },
    {
      "cell_type": "code",
      "metadata": {
        "execution": {
          "iopub.status.busy": "2021-10-02T11:51:43.493496Z",
          "iopub.execute_input": "2021-10-02T11:51:43.493748Z",
          "iopub.status.idle": "2021-10-02T11:51:43.509192Z",
          "shell.execute_reply.started": "2021-10-02T11:51:43.493720Z",
          "shell.execute_reply": "2021-10-02T11:51:43.508010Z"
        },
        "trusted": true,
        "id": "xdBA-8xq2jpp"
      },
      "source": [
        "def seed_everything(seed=42):\n",
        "    os.environ['PYTHONHASHSEED'] = str(seed)\n",
        "    np.random.seed(seed)\n",
        "    random.seed(seed)\n",
        "    torch.manual_seed(seed)\n",
        "    torch.cuda.manual_seed(seed)\n",
        "    torch.backends.cudnn.deterministic = True\n",
        "    torch.backends.cudnn.benchmark = True\n",
        "\n",
        "seed_everything(Config['seed'])"
      ],
      "execution_count": null,
      "outputs": []
    },
    {
      "cell_type": "code",
      "metadata": {
        "execution": {
          "iopub.status.busy": "2021-10-02T11:51:43.511010Z",
          "iopub.execute_input": "2021-10-02T11:51:43.512430Z",
          "iopub.status.idle": "2021-10-02T11:51:43.540354Z",
          "shell.execute_reply.started": "2021-10-02T11:51:43.512395Z",
          "shell.execute_reply": "2021-10-02T11:51:43.539396Z"
        },
        "trusted": true,
        "id": "ey4i-2OW2jpq"
      },
      "source": [
        "# https://www.kaggle.com/abhishek/same-old-creating-folds\n",
        "def create_folds(data, num_splits, seed):\n",
        "    data[\"kfold\"] = -1\n",
        "    num_bins = int(np.floor(1 + np.log2(len(data))))\n",
        "\n",
        "    data.loc[:, \"bins\"] = pd.cut(data[\"Pawpularity\"], bins=num_bins, labels=False)\n",
        "\n",
        "    kf = model_selection.StratifiedKFold(n_splits=num_splits, shuffle=True, random_state=seed)\n",
        "    \n",
        "    for f, (t_, v_) in enumerate(kf.split(X=data, y=data.bins.values)):\n",
        "        data.loc[v_, 'kfold'] = f\n",
        "    \n",
        "    data = data.drop(\"bins\", axis=1)\n",
        "\n",
        "    return data\n",
        "\n",
        "train = create_folds(train, Config['num_folds'], Config['seed'])"
      ],
      "execution_count": null,
      "outputs": []
    },
    {
      "cell_type": "code",
      "metadata": {
        "execution": {
          "iopub.status.busy": "2021-10-02T11:51:43.541708Z",
          "iopub.execute_input": "2021-10-02T11:51:43.541973Z",
          "iopub.status.idle": "2021-10-02T11:51:43.565098Z",
          "shell.execute_reply.started": "2021-10-02T11:51:43.541933Z",
          "shell.execute_reply": "2021-10-02T11:51:43.564165Z"
        },
        "trusted": true,
        "id": "sb9_8SNd2jpq"
      },
      "source": [
        "train"
      ],
      "execution_count": null,
      "outputs": []
    },
    {
      "cell_type": "code",
      "metadata": {
        "execution": {
          "iopub.status.busy": "2021-10-02T11:51:43.566628Z",
          "iopub.execute_input": "2021-10-02T11:51:43.566887Z",
          "iopub.status.idle": "2021-10-02T11:51:43.578216Z",
          "shell.execute_reply.started": "2021-10-02T11:51:43.566846Z",
          "shell.execute_reply": "2021-10-02T11:51:43.577109Z"
        },
        "trusted": true,
        "id": "_zkfc5-v2jpr"
      },
      "source": [
        "class PetPawpularityDs(Dataset):\n",
        "    def __init__(self, df, split='train', transform=None):\n",
        "        self.df = df\n",
        "        self.transforms = transform\n",
        "        self.ftrcols = [col for col in df.columns if col not in ['Id', 'Pawpularity', 'file_path', 'kfold']]\n",
        "        self.split = split\n",
        "        \n",
        "    def __len__(self):\n",
        "        return len(self.df)\n",
        "    \n",
        "    def __getitem__(self, idx):\n",
        "        img_path = self.df.loc[idx, 'file_path']\n",
        "        img = cv2.imread(img_path)\n",
        "        \n",
        "        img = cv2.cvtColor(img, cv2.COLOR_BGR2RGB)\n",
        "        \n",
        "        ftrs = torch.Tensor(np.array(self.df.loc[idx, self.ftrcols].values).astype(np.float32))\n",
        "        \n",
        "        if self.split == 'train':\n",
        "            score = torch.Tensor([self.df.loc[idx, 'Pawpularity']])\n",
        "        \n",
        "        if self.transforms:\n",
        "            img = self.transforms(image=img)[\"image\"]\n",
        "        \n",
        "        if self.split=='train':\n",
        "            return img, ftrs, score\n",
        "        else:\n",
        "            return img, ftrs"
      ],
      "execution_count": null,
      "outputs": []
    },
    {
      "cell_type": "code",
      "metadata": {
        "execution": {
          "iopub.status.busy": "2021-10-02T11:51:43.579643Z",
          "iopub.execute_input": "2021-10-02T11:51:43.580414Z",
          "iopub.status.idle": "2021-10-02T11:51:43.597396Z",
          "shell.execute_reply.started": "2021-10-02T11:51:43.580371Z",
          "shell.execute_reply": "2021-10-02T11:51:43.596652Z"
        },
        "trusted": true,
        "id": "iMnpVNpL2jpr"
      },
      "source": [
        "def get_train_transforms():\n",
        "    return A.Compose([\n",
        "                        A.Resize(Config['img_size'], Config['img_size']),\n",
        "                        A.HorizontalFlip(p=0.5),\n",
        "                        A.Normalize(\n",
        "                                mean=[0.485, 0.456, 0.406], \n",
        "                                std=[0.229, 0.224, 0.225], \n",
        "                            ),\n",
        "                        ToTensorV2()\n",
        "                    ])\n",
        "\n",
        "\n",
        "def get_valid_transforms():\n",
        "    return A.Compose([\n",
        "                        A.Resize(Config['img_size'], Config['img_size']),\n",
        "                        A.Normalize(\n",
        "                            mean=[0.485, 0.456, 0.406],\n",
        "                            std=[0.229, 0.224, 0.225],\n",
        "                        ),\n",
        "                        ToTensorV2(),\n",
        "                ])\n",
        "\n",
        "def get_test_transforms():\n",
        "    return A.Compose([\n",
        "                    A.Resize(Config['img_size'], Config['img_size']),\n",
        "                    A.Normalize(\n",
        "                            mean=[0.485, 0.456, 0.406],\n",
        "                            std=[0.229, 0.224, 0.225],\n",
        "                        ),\n",
        "                    ToTensorV2(),\n",
        "                ])"
      ],
      "execution_count": null,
      "outputs": []
    },
    {
      "cell_type": "code",
      "metadata": {
        "execution": {
          "iopub.status.busy": "2021-10-02T11:51:43.600496Z",
          "iopub.execute_input": "2021-10-02T11:51:43.600780Z",
          "iopub.status.idle": "2021-10-02T11:51:43.616137Z",
          "shell.execute_reply.started": "2021-10-02T11:51:43.600749Z",
          "shell.execute_reply": "2021-10-02T11:51:43.615351Z"
        },
        "trusted": true,
        "id": "IcC2M9Jw2jps"
      },
      "source": [
        "def train_collate_fn(data):\n",
        "    \n",
        "    images = torch.zeros((len(data), 3, Config['img_size'], Config['img_size']))\n",
        "    datafeatures = torch.zeros((len(data), 12))\n",
        "    scores = torch.zeros((len(data), 1))\n",
        "    \n",
        "    for i in range(len(data)):\n",
        "        images[i, ...] = data[i][0]\n",
        "        datafeatures[i, ...] = data[i][1]\n",
        "        scores[i, ...] = data[i][2]\n",
        "        \n",
        "    return images.float(), datafeatures.float(), scores.float()\n",
        "\n",
        "def test_collate_fn(data):\n",
        "    \n",
        "    images = torch.zeros((len(data), 3, Config['img_size'], Config['img_size']))\n",
        "    datafeatures = torch.zeros((len(data), 12))\n",
        "    \n",
        "    for i in range(len(data)):\n",
        "        images[i, ...] = data[i][0]\n",
        "        datafeatures[i, ...] = data[i][1]\n",
        "        \n",
        "    return images.float(), datafeatures.float()"
      ],
      "execution_count": null,
      "outputs": []
    },
    {
      "cell_type": "code",
      "metadata": {
        "execution": {
          "iopub.status.busy": "2021-10-02T11:51:43.617716Z",
          "iopub.execute_input": "2021-10-02T11:51:43.618072Z",
          "iopub.status.idle": "2021-10-02T11:51:43.631695Z",
          "shell.execute_reply.started": "2021-10-02T11:51:43.618031Z",
          "shell.execute_reply": "2021-10-02T11:51:43.631005Z"
        },
        "trusted": true,
        "id": "8SIwB9Ky2jps"
      },
      "source": [
        "class PawpularityDModule(pl.LightningDataModule):\n",
        "    \n",
        "    def __init__(self, df, fld):\n",
        "        super().__init__()\n",
        "        self.fold = fld\n",
        "        \n",
        "        self.train_data = df[df['kfold'] != self.fold].reset_index(drop=True)\n",
        "        self.val_data = df[df['kfold'] == self.fold].reset_index(drop=True)\n",
        "        self.test_data = test\n",
        "        \n",
        "    def setup(self, stage=None):\n",
        "        self.train_dataset = PawDataset(\n",
        "                df = self.train_data,\n",
        "                transform = get_train_transforms()    \n",
        "            )\n",
        "        \n",
        "        self.val_dataset = PawDataset(\n",
        "                df = self.val_data,\n",
        "                transform = get_valid_transforms(),\n",
        "        )\n",
        "\n",
        "        self.test_dataset = PawDataset(\n",
        "                df = self.test_data,\n",
        "                transform = get_test_transforms(),\n",
        "                split='test'\n",
        "        )\n",
        "    \n",
        "    def train_dataloader(self):\n",
        "        return DataLoader(\n",
        "                self.train_dataset,\n",
        "                batch_size=Config['batch_size'],\n",
        "                shuffle=True,\n",
        "                num_workers=Config['num_workers'],\n",
        "                pin_memory=True, \n",
        "                collate_fn = train_collate_fn\n",
        "            )\n",
        "    \n",
        "    def val_dataloader(self):\n",
        "        return DataLoader(\n",
        "                self.val_dataset,\n",
        "                batch_size = Config['batch_size'],\n",
        "                shuffle=False,\n",
        "                num_workers = Config['num_workers'],\n",
        "                pin_memory=True,\n",
        "                collate_fn = train_collate_fn\n",
        "            )\n",
        "\n",
        "    def test_dataloader(self):\n",
        "        return DataLoader(\n",
        "                self.test_dataset, \n",
        "                batch_size = Config['batch_size'],\n",
        "                shuffle=False, \n",
        "                num_workers = Config['num_workers'],\n",
        "                pin_memory=True,\n",
        "                collate_fn = test_collate_fn\n",
        "            )\n",
        "        "
      ],
      "execution_count": null,
      "outputs": []
    },
    {
      "cell_type": "code",
      "metadata": {
        "execution": {
          "iopub.status.busy": "2021-10-02T11:51:43.632863Z",
          "iopub.execute_input": "2021-10-02T11:51:43.633204Z",
          "iopub.status.idle": "2021-10-02T11:51:43.947697Z",
          "shell.execute_reply.started": "2021-10-02T11:51:43.633176Z",
          "shell.execute_reply": "2021-10-02T11:51:43.945729Z"
        },
        "trusted": true,
        "id": "LsR4NQvP2jps"
      },
      "source": [
        "dm = PawpularityDModule(train,0)\n",
        "dm.setup()\n",
        "\n",
        "import torchvision.utils as vutils\n",
        "img, ftrs, targets = next(iter(dm.train_dataloader()))\n",
        "\n",
        "plt.figure(figsize=(16, 8))\n",
        "plt.axis(\"off\")\n",
        "plt.title(\"Training Images\", fontsize=30)\n",
        "_ = plt.imshow(vutils.make_grid(\n",
        "    img[:12], nrow=4, padding=7, normalize=True).cpu().numpy().transpose((1, 2, 0)))\n",
        "\n",
        "print(f\"{g_} {targets[:12].reshape((3,4))} {res}\\n\\n\")"
      ],
      "execution_count": null,
      "outputs": []
    },
    {
      "cell_type": "code",
      "metadata": {
        "execution": {
          "iopub.status.busy": "2021-10-02T11:51:43.950608Z",
          "iopub.status.idle": "2021-10-02T11:51:43.951927Z",
          "shell.execute_reply.started": "2021-10-02T11:51:43.951582Z",
          "shell.execute_reply": "2021-10-02T11:51:43.951638Z"
        },
        "trusted": true,
        "id": "NTKEUp6Y2jpt"
      },
      "source": [
        "class Trainer(pl.LightningModule):\n",
        "\n",
        "    def __init__(self, model_name = Config['model'],out_features=Config['img_ftr_len'],\n",
        "                 pretrained=True):\n",
        "        super().__init__()\n",
        "        \n",
        "        # feature extractor\n",
        "        self.model = timm.create_model(model_name, pretrained=pretrained,\n",
        "                                       num_classes = out_features)\n",
        "        \n",
        "        # final fc layer\n",
        "        self.finalfc = nn.Sequential(\n",
        "            nn.Linear(out_features+12, 120),\n",
        "            nn.ReLU(),\n",
        "            nn.Dropout(0.2),\n",
        "            nn.Linear(120, 1)\n",
        "        )\n",
        "        \n",
        "        self.criterion = nn.MSELoss()\n",
        "                \n",
        "    def forward(self, img, ftrs):\n",
        "        \n",
        "        # feature extractor extracts features from the image\n",
        "        imgouts = self.model(img)\n",
        " \n",
        "        # we combine the meta features with the image features given\n",
        "        ftrout = torch.cat([imgouts, ftrs], dim=-1)\n",
        "        \n",
        "        # we then pass the combined feature into final layer\n",
        "        output = self.finalfc(ftrout)\n",
        "    \n",
        "        return output\n",
        "\n",
        "\n",
        "    def training_step(self, batch, batch_idx):\n",
        "\n",
        "        img, ftrs, score = batch\n",
        "        output = self.forward(img, ftrs)\n",
        "        \n",
        "        loss = self.criterion(output, score)\n",
        "        \n",
        "        try:\n",
        "            rmse = mean_squared_error(score.detach().cpu(), output.detach().cpu(), squared=False) \n",
        "\n",
        "            self.log(\"RMSE\", rmse, on_step= True, prog_bar=True, logger=True)\n",
        "            self.log(\"Train Loss\", loss, on_step= True,prog_bar=False, logger=True)\n",
        "        \n",
        "        except:\n",
        "            pass\n",
        "\n",
        "        return {\"loss\": loss, \"predictions\": output.detach(), \"labels\": score.detach()}\n",
        "\n",
        "    def training_epoch_end(self, outputs):\n",
        "\n",
        "        preds = []\n",
        "        labels = []\n",
        "        \n",
        "        for output in outputs:\n",
        "            \n",
        "            preds += output['predictions']\n",
        "            labels += output['labels']\n",
        "\n",
        "        labels = torch.stack(labels)\n",
        "        preds = torch.stack(preds)\n",
        "\n",
        "        train_rmse = mean_squared_error(labels.detach().cpu(), preds.detach().cpu(), squared=False)\n",
        "        \n",
        "        self.print(f'Epoch {self.current_epoch}: Training RMSE: {train_rmse:.4f}')\n",
        "        \n",
        "        self.log(\"mean_train_rmse\", train_rmse, prog_bar=False, logger=True)\n",
        "\n",
        "    def validation_step(self, batch, batch_idx):\n",
        "        \n",
        "        img, ftrs, score = batch\n",
        "        \n",
        "        with torch.no_grad():\n",
        "            output = self.forward(img, ftrs)\n",
        "\n",
        "            loss = self.criterion(output, score)\n",
        "        \n",
        "        self.log('val_loss', loss, on_step= True, prog_bar=False, logger=True)\n",
        "        return {\"predictions\": output.detach(), \"labels\": score}\n",
        "      \n",
        "\n",
        "    def validation_epoch_end(self, outputs):\n",
        "\n",
        "        preds = []\n",
        "        labels = []\n",
        "        \n",
        "        for output in outputs:\n",
        "            preds += output['predictions']\n",
        "            labels += output['labels']\n",
        "\n",
        "        labels = torch.stack(labels)\n",
        "        preds = torch.stack(preds)\n",
        "\n",
        "        val_rmse = mean_squared_error(labels.detach().cpu(), preds.detach().cpu(), squared=False)\n",
        "        \n",
        "        self.print(f'Epoch {self.current_epoch}: Validation RMSE: {val_rmse:.4f}')\n",
        "\n",
        "        \n",
        "        self.log(\"val_rmse\", val_rmse, prog_bar=True, logger=True)\n",
        "        \n",
        "\n",
        "    def test_step(self, batch, batch_idx):\n",
        "        img, ftrs = batch\n",
        "        output = self.forward(img, ftrs)\n",
        "        \n",
        "        return output   \n",
        "\n",
        "    def configure_optimizers(self):\n",
        "\n",
        "        param_optimizer = list(self.model.named_parameters())\n",
        "        \n",
        "        # configuring parameters\n",
        "        no_decay = [\"bias\", \"LayerNorm.bias\", \"LayerNorm.weight\"]\n",
        "        optimizer_parameters = [\n",
        "            {\n",
        "                \"params\": [\n",
        "                    p for n, p in param_optimizer if not any(nd in n for nd in no_decay)\n",
        "                ],\n",
        "                \"weight_decay\": Config['weight_decay'],\n",
        "            },\n",
        "            {\n",
        "                \"params\": [\n",
        "                    p for n, p in param_optimizer if any(nd in n for nd in no_decay)\n",
        "                ],\n",
        "                \"weight_decay\": 0.0,\n",
        "            },\n",
        "        ]\n",
        "    \n",
        "        # we use adam optimizer with Cosine annealing LR\n",
        "        optimizer = Adam(optimizer_parameters, lr=Config['lr'])\n",
        "        \n",
        "        \n",
        "        scheduler = CosineAnnealingLR(optimizer,\n",
        "                              T_max=Config['T_max'],\n",
        "                              eta_min=Config['min_lr'],\n",
        "                              last_epoch=-1)\n",
        "\n",
        "        return dict(\n",
        "          optimizer=optimizer,\n",
        "          lr_scheduler=scheduler\n",
        "        )"
      ],
      "execution_count": null,
      "outputs": []
    },
    {
      "cell_type": "code",
      "metadata": {
        "execution": {
          "iopub.status.busy": "2021-10-02T11:51:43.953350Z",
          "iopub.status.idle": "2021-10-02T11:51:43.954358Z",
          "shell.execute_reply.started": "2021-10-02T11:51:43.954025Z",
          "shell.execute_reply": "2021-10-02T11:51:43.954055Z"
        },
        "trusted": true,
        "id": "fQVXzQeo2jpt"
      },
      "source": [
        "model = Trainer()\n",
        "Training_metrics = []\n",
        "\n",
        "for fold in Config['trn_folds']:\n",
        "      \n",
        "    print(f\"{'='*38} Fold: {fold} {'='*38}\")\n",
        "    \n",
        "    # create data module\n",
        "    data_module = PawpularityDModule(train, fold)\n",
        "    \n",
        "    # stop the training early\n",
        "    early_stopping_callback = EarlyStopping(monitor='val_rmse',mode=\"min\", patience=Config['patience_earlystop'])\n",
        "    \n",
        "    # store model checkpoints\n",
        "    checkpoint_callback = ModelCheckpoint(\n",
        "      dirpath=\"checkpoints\",\n",
        "      filename=\"best-checkpoint-{fold}-{val_rmse:.3f}\",\n",
        "      save_top_k = Config['epochs'],\n",
        "      verbose=True,\n",
        "      monitor=\"val_rmse\",\n",
        "      mode=\"min\"\n",
        "    )\n",
        "    \n",
        "    # define trainer\n",
        "    trainer = pl.Trainer(\n",
        "      gpus = 1,\n",
        "      checkpoint_callback=True,\n",
        "      callbacks=[early_stopping_callback,checkpoint_callback],\n",
        "      max_epochs = Config['epochs'],\n",
        "      precision = Config['precision'],\n",
        "      progress_bar_refresh_rate=1, \n",
        "      num_sanity_val_steps=1 if Config['debug'] else 0,\n",
        "      stochastic_weight_avg = True,\n",
        "    )\n",
        "    \n",
        "    # fit\n",
        "    trainer.fit(model, data_module) \n"
      ],
      "execution_count": null,
      "outputs": []
    }
  ]
}