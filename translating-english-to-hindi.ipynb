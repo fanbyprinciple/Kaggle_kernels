{
 "cells": [
  {
   "cell_type": "code",
   "execution_count": 1,
   "id": "6fda1e06",
   "metadata": {
    "_cell_guid": "b1076dfc-b9ad-4769-8c92-a6c4dae69d19",
    "_uuid": "8f2839f25d086af736a60e9eeb907d3b93b6e0e5",
    "execution": {
     "iopub.execute_input": "2022-03-25T16:45:02.859268Z",
     "iopub.status.busy": "2022-03-25T16:45:02.857785Z",
     "iopub.status.idle": "2022-03-25T16:45:02.861732Z",
     "shell.execute_reply": "2022-03-25T16:45:02.862236Z",
     "shell.execute_reply.started": "2022-03-25T16:38:45.291252Z"
    },
    "papermill": {
     "duration": 0.024275,
     "end_time": "2022-03-25T16:45:02.862551",
     "exception": false,
     "start_time": "2022-03-25T16:45:02.838276",
     "status": "completed"
    },
    "tags": []
   },
   "outputs": [],
   "source": [
    "# !pip uninstall googletrans -y\n",
    "# !git clone https://github.com/alainrouillon/py-googletrans.git"
   ]
  },
  {
   "cell_type": "code",
   "execution_count": 2,
   "id": "8c9e0c6f",
   "metadata": {
    "execution": {
     "iopub.execute_input": "2022-03-25T16:45:02.893720Z",
     "iopub.status.busy": "2022-03-25T16:45:02.893035Z",
     "iopub.status.idle": "2022-03-25T16:45:02.895837Z",
     "shell.execute_reply": "2022-03-25T16:45:02.896372Z",
     "shell.execute_reply.started": "2022-03-25T16:38:45.333032Z"
    },
    "papermill": {
     "duration": 0.019944,
     "end_time": "2022-03-25T16:45:02.896560",
     "exception": false,
     "start_time": "2022-03-25T16:45:02.876616",
     "status": "completed"
    },
    "tags": []
   },
   "outputs": [],
   "source": [
    "# %cd ./py-googletrans\n",
    "# !git checkout origin/feature/enhance-use-of-direct-api\n",
    "# !python setup.py install"
   ]
  },
  {
   "cell_type": "markdown",
   "id": "364bd8c0",
   "metadata": {
    "papermill": {
     "duration": 0.01321,
     "end_time": "2022-03-25T16:45:02.923521",
     "exception": false,
     "start_time": "2022-03-25T16:45:02.910311",
     "status": "completed"
    },
    "tags": []
   },
   "source": [
    "from : https://stackoverflow.com/questions/52455774/googletrans-stopped-working-with-error-nonetype-object-has-no-attribute-group"
   ]
  },
  {
   "cell_type": "code",
   "execution_count": 3,
   "id": "5b2606da",
   "metadata": {
    "execution": {
     "iopub.execute_input": "2022-03-25T16:45:02.955514Z",
     "iopub.status.busy": "2022-03-25T16:45:02.954769Z",
     "iopub.status.idle": "2022-03-25T16:45:02.957752Z",
     "shell.execute_reply": "2022-03-25T16:45:02.957177Z",
     "shell.execute_reply.started": "2022-03-25T16:38:45.346317Z"
    },
    "papermill": {
     "duration": 0.020789,
     "end_time": "2022-03-25T16:45:02.957895",
     "exception": false,
     "start_time": "2022-03-25T16:45:02.937106",
     "status": "completed"
    },
    "tags": []
   },
   "outputs": [],
   "source": [
    "# !pip install httpcore"
   ]
  },
  {
   "cell_type": "code",
   "execution_count": 4,
   "id": "ba29b08d",
   "metadata": {
    "execution": {
     "iopub.execute_input": "2022-03-25T16:45:02.995529Z",
     "iopub.status.busy": "2022-03-25T16:45:02.994745Z",
     "iopub.status.idle": "2022-03-25T16:45:17.756195Z",
     "shell.execute_reply": "2022-03-25T16:45:17.755314Z",
     "shell.execute_reply.started": "2022-03-25T16:38:45.353412Z"
    },
    "papermill": {
     "duration": 14.784676,
     "end_time": "2022-03-25T16:45:17.756368",
     "exception": false,
     "start_time": "2022-03-25T16:45:02.971692",
     "status": "completed"
    },
    "tags": []
   },
   "outputs": [
    {
     "name": "stdout",
     "output_type": "stream",
     "text": [
      "\u001b[31mERROR: pip's dependency resolver does not currently take into account all the packages that are installed. This behaviour is the source of the following dependency conflicts.\r\n",
      "explainable-ai-sdk 1.3.2 requires xai-image-widget, which is not installed.\r\n",
      "beatrix-jupyterlab 3.1.6 requires google-cloud-bigquery-storage, which is not installed.\r\n",
      "gcsfs 2021.11.1 requires fsspec==2021.11.1, but you have fsspec 2022.2.0 which is incompatible.\r\n",
      "apache-beam 2.34.0 requires dill<0.3.2,>=0.3.1.1, but you have dill 0.3.4 which is incompatible.\r\n",
      "apache-beam 2.34.0 requires httplib2<0.20.0,>=0.8, but you have httplib2 0.20.2 which is incompatible.\r\n",
      "apache-beam 2.34.0 requires pyarrow<6.0.0,>=0.15.1, but you have pyarrow 6.0.1 which is incompatible.\r\n",
      "apache-beam 2.34.0 requires typing-extensions<4,>=3.7.0, but you have typing-extensions 4.1.1 which is incompatible.\r\n",
      "aiobotocore 2.1.2 requires botocore<1.23.25,>=1.23.24, but you have botocore 1.24.20 which is incompatible.\u001b[0m\r\n",
      "\u001b[33mWARNING: Running pip as the 'root' user can result in broken permissions and conflicting behaviour with the system package manager. It is recommended to use a virtual environment instead: https://pip.pypa.io/warnings/venv\u001b[0m\r\n"
     ]
    }
   ],
   "source": [
    "!pip -q install googletrans==4.0.0-rc1"
   ]
  },
  {
   "cell_type": "code",
   "execution_count": 5,
   "id": "ef83ea80",
   "metadata": {
    "execution": {
     "iopub.execute_input": "2022-03-25T16:45:17.790637Z",
     "iopub.status.busy": "2022-03-25T16:45:17.789973Z",
     "iopub.status.idle": "2022-03-25T16:45:18.013302Z",
     "shell.execute_reply": "2022-03-25T16:45:18.012098Z",
     "shell.execute_reply.started": "2022-03-25T16:39:03.542396Z"
    },
    "papermill": {
     "duration": 0.242512,
     "end_time": "2022-03-25T16:45:18.013483",
     "exception": false,
     "start_time": "2022-03-25T16:45:17.770971",
     "status": "completed"
    },
    "tags": []
   },
   "outputs": [],
   "source": [
    "import googletrans"
   ]
  },
  {
   "cell_type": "code",
   "execution_count": 6,
   "id": "826893a4",
   "metadata": {
    "execution": {
     "iopub.execute_input": "2022-03-25T16:45:18.047724Z",
     "iopub.status.busy": "2022-03-25T16:45:18.046684Z",
     "iopub.status.idle": "2022-03-25T16:45:18.048513Z",
     "shell.execute_reply": "2022-03-25T16:45:18.049012Z",
     "shell.execute_reply.started": "2022-03-25T16:39:03.761300Z"
    },
    "papermill": {
     "duration": 0.021286,
     "end_time": "2022-03-25T16:45:18.049180",
     "exception": false,
     "start_time": "2022-03-25T16:45:18.027894",
     "status": "completed"
    },
    "tags": []
   },
   "outputs": [],
   "source": [
    "from googletrans import Translator"
   ]
  },
  {
   "cell_type": "code",
   "execution_count": 7,
   "id": "c54c489e",
   "metadata": {
    "execution": {
     "iopub.execute_input": "2022-03-25T16:45:18.083703Z",
     "iopub.status.busy": "2022-03-25T16:45:18.082956Z",
     "iopub.status.idle": "2022-03-25T16:45:18.093657Z",
     "shell.execute_reply": "2022-03-25T16:45:18.094144Z",
     "shell.execute_reply.started": "2022-03-25T16:39:03.770050Z"
    },
    "papermill": {
     "duration": 0.030457,
     "end_time": "2022-03-25T16:45:18.094325",
     "exception": false,
     "start_time": "2022-03-25T16:45:18.063868",
     "status": "completed"
    },
    "tags": []
   },
   "outputs": [],
   "source": [
    "translator = Translator()"
   ]
  },
  {
   "cell_type": "code",
   "execution_count": 8,
   "id": "b45efb7c",
   "metadata": {
    "execution": {
     "iopub.execute_input": "2022-03-25T16:45:18.129226Z",
     "iopub.status.busy": "2022-03-25T16:45:18.128503Z",
     "iopub.status.idle": "2022-03-25T16:45:18.184668Z",
     "shell.execute_reply": "2022-03-25T16:45:18.184045Z",
     "shell.execute_reply.started": "2022-03-25T16:39:03.789945Z"
    },
    "papermill": {
     "duration": 0.076223,
     "end_time": "2022-03-25T16:45:18.184832",
     "exception": false,
     "start_time": "2022-03-25T16:45:18.108609",
     "status": "completed"
    },
    "tags": []
   },
   "outputs": [],
   "source": [
    "result = translator.translate('Mitä sinä teet')"
   ]
  },
  {
   "cell_type": "code",
   "execution_count": 9,
   "id": "ecf1d337",
   "metadata": {
    "execution": {
     "iopub.execute_input": "2022-03-25T16:45:18.221547Z",
     "iopub.status.busy": "2022-03-25T16:45:18.220759Z",
     "iopub.status.idle": "2022-03-25T16:45:18.224074Z",
     "shell.execute_reply": "2022-03-25T16:45:18.224627Z",
     "shell.execute_reply.started": "2022-03-25T16:39:18.908208Z"
    },
    "papermill": {
     "duration": 0.025687,
     "end_time": "2022-03-25T16:45:18.224797",
     "exception": false,
     "start_time": "2022-03-25T16:45:18.199110",
     "status": "completed"
    },
    "tags": []
   },
   "outputs": [
    {
     "data": {
      "text/plain": [
       "'What are you doing'"
      ]
     },
     "execution_count": 9,
     "metadata": {},
     "output_type": "execute_result"
    }
   ],
   "source": [
    "result.text"
   ]
  },
  {
   "cell_type": "code",
   "execution_count": 10,
   "id": "f440cd02",
   "metadata": {
    "execution": {
     "iopub.execute_input": "2022-03-25T16:45:18.258429Z",
     "iopub.status.busy": "2022-03-25T16:45:18.257759Z",
     "iopub.status.idle": "2022-03-25T16:45:19.381512Z",
     "shell.execute_reply": "2022-03-25T16:45:19.380952Z",
     "shell.execute_reply.started": "2022-03-25T16:39:38.872765Z"
    },
    "papermill": {
     "duration": 1.141784,
     "end_time": "2022-03-25T16:45:19.381663",
     "exception": false,
     "start_time": "2022-03-25T16:45:18.239879",
     "status": "completed"
    },
    "tags": []
   },
   "outputs": [],
   "source": [
    "result = translator.translate('Hi there.', src='en', dest='hi')"
   ]
  },
  {
   "cell_type": "code",
   "execution_count": 11,
   "id": "e10e40ed",
   "metadata": {
    "execution": {
     "iopub.execute_input": "2022-03-25T16:45:19.416677Z",
     "iopub.status.busy": "2022-03-25T16:45:19.414986Z",
     "iopub.status.idle": "2022-03-25T16:45:19.420004Z",
     "shell.execute_reply": "2022-03-25T16:45:19.420575Z",
     "shell.execute_reply.started": "2022-03-25T16:39:51.680219Z"
    },
    "papermill": {
     "duration": 0.023727,
     "end_time": "2022-03-25T16:45:19.420739",
     "exception": false,
     "start_time": "2022-03-25T16:45:19.397012",
     "status": "completed"
    },
    "tags": []
   },
   "outputs": [
    {
     "data": {
      "text/plain": [
       "'नमस्ते।'"
      ]
     },
     "execution_count": 11,
     "metadata": {},
     "output_type": "execute_result"
    }
   ],
   "source": [
    "result.text"
   ]
  },
  {
   "cell_type": "code",
   "execution_count": null,
   "id": "9f2d0526",
   "metadata": {
    "papermill": {
     "duration": 0.014835,
     "end_time": "2022-03-25T16:45:19.450583",
     "exception": false,
     "start_time": "2022-03-25T16:45:19.435748",
     "status": "completed"
    },
    "tags": []
   },
   "outputs": [],
   "source": []
  }
 ],
 "metadata": {
  "kernelspec": {
   "display_name": "Python 3",
   "language": "python",
   "name": "python3"
  },
  "language_info": {
   "codemirror_mode": {
    "name": "ipython",
    "version": 3
   },
   "file_extension": ".py",
   "mimetype": "text/x-python",
   "name": "python",
   "nbconvert_exporter": "python",
   "pygments_lexer": "ipython3",
   "version": "3.7.12"
  },
  "papermill": {
   "default_parameters": {},
   "duration": 26.919268,
   "end_time": "2022-03-25T16:45:20.075753",
   "environment_variables": {},
   "exception": null,
   "input_path": "__notebook__.ipynb",
   "output_path": "__notebook__.ipynb",
   "parameters": {},
   "start_time": "2022-03-25T16:44:53.156485",
   "version": "2.3.3"
  }
 },
 "nbformat": 4,
 "nbformat_minor": 5
}
